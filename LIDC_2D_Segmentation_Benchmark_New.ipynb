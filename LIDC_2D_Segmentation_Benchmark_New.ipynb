{
 "cells": [
  {
   "cell_type": "markdown",
   "metadata": {},
   "source": [
    "# LIDC IDRI 2D SEGMENTATION"
   ]
  },
  {
   "cell_type": "markdown",
   "metadata": {},
   "source": [
    "## Import Libraries"
   ]
  },
  {
   "cell_type": "code",
   "execution_count": 1,
   "metadata": {
    "scrolled": true
   },
   "outputs": [
    {
     "name": "stdout",
     "output_type": "stream",
     "text": [
      "Package                            Version\r\n",
      "---------------------------------- --------------------\r\n",
      "absl-py                            1.1.0\r\n",
      "alabaster                          0.7.12\r\n",
      "albumentations                     1.2.1\r\n",
      "anaconda-client                    1.9.0\r\n",
      "anaconda-navigator                 2.1.1\r\n",
      "anaconda-project                   0.10.1\r\n",
      "anyio                              3.6.1\r\n",
      "appdirs                            1.4.4\r\n",
      "argh                               0.26.2\r\n",
      "argon2-cffi                        20.1.0\r\n",
      "arrow                              0.13.1\r\n",
      "asn1crypto                         1.4.0\r\n",
      "astroid                            2.6.6\r\n",
      "astropy                            4.3.1\r\n",
      "async-generator                    1.10\r\n",
      "atomicwrites                       1.4.0\r\n",
      "attrs                              21.2.0\r\n",
      "autopep8                           1.5.7\r\n",
      "Babel                              2.9.1\r\n",
      "backcall                           0.2.0\r\n",
      "backports.functools-lru-cache      1.6.4\r\n",
      "backports.shutil-get-terminal-size 1.0.0\r\n",
      "backports.tempfile                 1.0\r\n",
      "backports.weakref                  1.0.post1\r\n",
      "beautifulsoup4                     4.10.0\r\n",
      "binaryornot                        0.4.4\r\n",
      "biopython                          1.79\r\n",
      "bitarray                           2.3.0\r\n",
      "bkcharts                           0.2\r\n",
      "black                              19.10b0\r\n",
      "bleach                             4.0.0\r\n",
      "bokeh                              2.4.1\r\n",
      "boto                               2.49.0\r\n",
      "Bottleneck                         1.3.2\r\n",
      "brotlipy                           0.7.0\r\n",
      "cached-property                    1.5.2\r\n",
      "cachetools                         5.2.0\r\n",
      "certifi                            2021.10.8\r\n",
      "cffi                               1.14.6\r\n",
      "chardet                            4.0.0\r\n",
      "charset-normalizer                 2.0.4\r\n",
      "click                              8.0.3\r\n",
      "cloudpickle                        2.0.0\r\n",
      "clyent                             1.2.2\r\n",
      "colorama                           0.4.4\r\n",
      "conda                              4.12.0\r\n",
      "conda-build                        3.21.5\r\n",
      "conda-content-trust                0+unknown\r\n",
      "conda-pack                         0.6.0\r\n",
      "conda-package-handling             1.7.3\r\n",
      "conda-repo-cli                     1.0.4\r\n",
      "conda-token                        0.3.0\r\n",
      "conda-verify                       3.4.2\r\n",
      "contextlib2                        0.6.0.post1\r\n",
      "cookiecutter                       1.7.2\r\n",
      "cryptography                       3.4.8\r\n",
      "cycler                             0.10.0\r\n",
      "Cython                             0.29.24\r\n",
      "cytoolz                            0.11.0\r\n",
      "daal4py                            2021.3.0\r\n",
      "dask                               2021.10.0\r\n",
      "debugpy                            1.4.1\r\n",
      "decorator                          5.1.0\r\n",
      "defusedxml                         0.7.1\r\n",
      "diff-match-patch                   20200713\r\n",
      "distributed                        2021.10.0\r\n",
      "docutils                           0.17.1\r\n",
      "efficientnet-pytorch               0.7.1\r\n",
      "entrypoints                        0.3\r\n",
      "et-xmlfile                         1.1.0\r\n",
      "fastcache                          1.1.0\r\n",
      "fastjsonschema                     2.16.2\r\n",
      "filelock                           3.3.1\r\n",
      "flake8                             3.9.2\r\n",
      "Flask                              1.1.2\r\n",
      "fonttools                          4.25.0\r\n",
      "fsspec                             2021.8.1\r\n",
      "future                             0.18.2\r\n",
      "gevent                             21.8.0\r\n",
      "gitdb                              4.0.9\r\n",
      "githubcommit                       0.1.0\r\n",
      "GitPython                          3.1.27\r\n",
      "glob2                              0.7\r\n",
      "gmpy2                              2.0.8\r\n",
      "google-auth                        2.9.1\r\n",
      "google-auth-oauthlib               0.4.6\r\n",
      "greenlet                           1.1.1\r\n",
      "grpcio                             1.47.0\r\n",
      "h5py                               3.3.0\r\n",
      "HeapDict                           1.0.1\r\n",
      "html5lib                           1.1\r\n",
      "idna                               3.2\r\n",
      "ignite                             1.1.0\r\n",
      "imagecodecs                        2021.8.26\r\n",
      "imageio                            2.9.0\r\n",
      "imagesize                          1.2.0\r\n",
      "importlib-metadata                 4.8.1\r\n",
      "inflection                         0.5.1\r\n",
      "iniconfig                          1.1.1\r\n",
      "intervaltree                       3.1.0\r\n",
      "ipykernel                          6.4.1\r\n",
      "ipython                            7.29.0\r\n",
      "ipython-genutils                   0.2.0\r\n",
      "ipywidgets                         7.6.5\r\n",
      "isort                              5.9.3\r\n",
      "itsdangerous                       2.0.1\r\n",
      "jdcal                              1.4.1\r\n",
      "jedi                               0.18.0\r\n",
      "jeepney                            0.7.1\r\n",
      "Jinja2                             3.1.2\r\n",
      "jinja2-time                        0.2.0\r\n",
      "joblib                             1.1.0\r\n",
      "json5                              0.9.6\r\n",
      "jsonschema                         3.2.0\r\n",
      "jupyter                            1.0.0\r\n",
      "jupyter-client                     6.1.12\r\n",
      "jupyter-console                    6.4.0\r\n",
      "jupyter-core                       4.8.1\r\n",
      "jupyter-server                     1.18.1\r\n",
      "jupyter-server-mathjax             0.2.6\r\n",
      "jupyterlab                         3.4.7\r\n",
      "jupyterlab-git                     0.39.2\r\n",
      "jupyterlab-pygments                0.1.2\r\n",
      "jupyterlab_server                  2.15.1\r\n",
      "jupyterlab-widgets                 1.0.0\r\n",
      "keyring                            23.1.0\r\n",
      "kiwisolver                         1.3.1\r\n",
      "kneed                              0.8.1\r\n",
      "lazy-object-proxy                  1.6.0\r\n",
      "libarchive-c                       2.9\r\n",
      "llvmlite                           0.37.0\r\n",
      "locket                             0.2.1\r\n",
      "lxml                               4.6.3\r\n",
      "Mako                               1.2.1\r\n",
      "mamba                              0.7.6\r\n",
      "Markdown                           3.4.1\r\n",
      "MarkupSafe                         2.1.1\r\n",
      "matplotlib                         3.4.3\r\n",
      "matplotlib-inline                  0.1.2\r\n",
      "mccabe                             0.6.1\r\n",
      "medcam                             0.1.21\r\n",
      "MetaBCC-LR                         2.0\r\n",
      "mistune                            2.0.4\r\n",
      "mkl-fft                            1.3.1\r\n",
      "mkl-random                         1.2.2\r\n",
      "mkl-service                        2.4.0\r\n",
      "mock                               4.0.3\r\n",
      "monai                              0.9.0\r\n",
      "more-itertools                     8.10.0\r\n",
      "mpmath                             1.2.1\r\n",
      "msgpack                            1.0.2\r\n",
      "multipledispatch                   0.6.0\r\n",
      "munch                              2.5.0\r\n",
      "munkres                            1.1.4\r\n",
      "mypy-extensions                    0.4.3\r\n",
      "navigator-updater                  0.2.1\r\n",
      "nbclassic                          0.2.6\r\n",
      "nbclient                           0.5.3\r\n",
      "nbconvert                          7.0.0\r\n",
      "nbdime                             3.1.1\r\n",
      "nbformat                           5.6.0\r\n",
      "nest-asyncio                       1.5.1\r\n",
      "networkx                           2.6.3\r\n",
      "nibabel                            4.0.1\r\n",
      "nltk                               3.6.5\r\n",
      "nose                               1.3.7\r\n",
      "notebook                           6.4.5\r\n",
      "numba                              0.54.1\r\n",
      "numexpr                            2.7.3\r\n",
      "numpy                              1.20.3\r\n",
      "numpydoc                           1.1.0\r\n",
      "oauthlib                           3.2.0\r\n",
      "olefile                            0.46\r\n",
      "opencv-python                      4.6.0.66\r\n",
      "opencv-python-headless             4.6.0.66\r\n",
      "openpyxl                           3.0.9\r\n",
      "packaging                          21.0\r\n",
      "pandas                             1.3.4\r\n",
      "pandocfilters                      1.4.3\r\n",
      "parso                              0.8.2\r\n",
      "partd                              1.2.0\r\n",
      "path                               16.0.0\r\n",
      "pathlib2                           2.3.6\r\n",
      "pathspec                           0.7.0\r\n",
      "patsy                              0.5.2\r\n",
      "pep8                               1.7.1\r\n",
      "pexpect                            4.8.0\r\n",
      "pickleshare                        0.7.5\r\n",
      "Pillow                             8.4.0\r\n",
      "pip                                21.2.4\r\n",
      "pkginfo                            1.7.1\r\n",
      "pluggy                             0.13.1\r\n",
      "ply                                3.11\r\n",
      "poyo                               0.5.0\r\n",
      "pretrainedmodels                   0.7.4\r\n",
      "prometheus-client                  0.11.0\r\n",
      "prompt-toolkit                     3.0.20\r\n",
      "protobuf                           3.19.4\r\n",
      "psutil                             5.8.0\r\n",
      "ptyprocess                         0.7.0\r\n",
      "py                                 1.10.0\r\n",
      "pyasn1                             0.4.8\r\n",
      "pyasn1-modules                     0.2.8\r\n",
      "pycodestyle                        2.7.0\r\n",
      "pycosat                            0.6.3\r\n",
      "pycparser                          2.20\r\n",
      "pycurl                             7.44.1\r\n",
      "pydocstyle                         6.1.1\r\n",
      "pyerfa                             2.0.0\r\n",
      "pyflakes                           2.3.1\r\n",
      "Pygments                           2.10.0\r\n",
      "PyJWT                              2.1.0\r\n",
      "pylint                             2.9.6\r\n",
      "pyls-spyder                        0.4.0\r\n",
      "pynndescent                        0.5.7\r\n",
      "pyodbc                             4.0.0-unsupported\r\n",
      "pyOpenSSL                          21.0.0\r\n",
      "pyparsing                          3.0.4\r\n",
      "PyQt5                              5.15.7\r\n",
      "PyQt5-Qt5                          5.15.2\r\n",
      "PyQt5-sip                          12.11.0\r\n",
      "pyrsistent                         0.18.0\r\n",
      "PySocks                            1.7.1\r\n",
      "pytest                             6.2.4\r\n",
      "python-dateutil                    2.8.2\r\n",
      "python-lsp-black                   1.0.0\r\n",
      "python-lsp-jsonrpc                 1.0.0\r\n",
      "python-lsp-server                  1.2.4\r\n",
      "python-slugify                     5.0.2\r\n",
      "pytz                               2021.3\r\n",
      "PyWavelets                         1.1.1\r\n",
      "pyxdg                              0.27\r\n",
      "PyYAML                             6.0\r\n",
      "pyzmq                              22.2.1\r\n",
      "QDarkStyle                         3.0.2\r\n",
      "qstylizer                          0.1.10\r\n",
      "QtAwesome                          1.0.2\r\n",
      "qtconsole                          5.1.1\r\n",
      "QtPy                               1.10.0\r\n",
      "qudida                             0.0.4\r\n",
      "regex                              2021.8.3\r\n",
      "requests                           2.26.0\r\n",
      "requests-oauthlib                  1.3.1\r\n",
      "rope                               0.19.0\r\n",
      "rsa                                4.8\r\n",
      "Rtree                              0.9.7\r\n",
      "ruamel-yaml-conda                  0.15.100\r\n",
      "scikit-image                       0.18.3\r\n",
      "scikit-learn                       0.24.2\r\n",
      "scikit-learn-intelex               2021.20210714.170444\r\n",
      "scipy                              1.7.1\r\n",
      "seaborn                            0.11.2\r\n",
      "SecretStorage                      3.3.1\r\n",
      "segmentation-models-pytorch        0.3.0\r\n",
      "Send2Trash                         1.8.0\r\n",
      "setuptools                         58.0.4\r\n",
      "simplegeneric                      0.8.1\r\n",
      "SimpleITK                          2.1.1.2\r\n",
      "singledispatch                     3.7.0\r\n",
      "sip                                4.19.13\r\n",
      "six                                1.16.0\r\n",
      "sklearn                            0.0\r\n",
      "smmap                              5.0.0\r\n",
      "sniffio                            1.2.0\r\n",
      "snowballstemmer                    2.1.0\r\n",
      "song-vis                           1.3.5.0\r\n",
      "sortedcollections                  2.1.0\r\n",
      "sortedcontainers                   2.4.0\r\n",
      "soupsieve                          2.2.1\r\n",
      "Sphinx                             4.2.0\r\n",
      "sphinxcontrib-applehelp            1.0.2\r\n",
      "sphinxcontrib-devhelp              1.0.2\r\n",
      "sphinxcontrib-htmlhelp             2.0.0\r\n",
      "sphinxcontrib-jsmath               1.0.1\r\n",
      "sphinxcontrib-qthelp               1.0.3\r\n",
      "sphinxcontrib-serializinghtml      1.1.5\r\n",
      "sphinxcontrib-websupport           1.2.4\r\n",
      "spyder                             5.1.5\r\n",
      "spyder-kernels                     2.1.3\r\n",
      "SQLAlchemy                         1.4.22\r\n",
      "statsmodels                        0.12.2\r\n",
      "sympy                              1.9\r\n",
      "tables                             3.6.1\r\n",
      "tabulate                           0.8.10\r\n",
      "TBB                                0.2\r\n",
      "tblib                              1.7.0\r\n",
      "tensorboard                        2.9.1\r\n",
      "tensorboard-data-server            0.6.1\r\n",
      "tensorboard-plugin-wit             1.8.1\r\n",
      "terminado                          0.9.4\r\n",
      "testpath                           0.5.0\r\n",
      "text-unidecode                     1.3\r\n",
      "textdistance                       4.2.1\r\n",
      "threadpoolctl                      2.2.0\r\n",
      "three-merge                        0.1.1\r\n",
      "tifffile                           2021.7.2\r\n",
      "timm                               0.4.12\r\n",
      "tinycss                            0.4\r\n",
      "tinycss2                           1.1.1\r\n",
      "toml                               0.10.2\r\n",
      "tomli                              2.0.1\r\n",
      "toolz                              0.11.1\r\n",
      "torch                              1.10.0+cu102\r\n",
      "torch-summary                      1.4.5\r\n",
      "torchaudio                         0.10.0+cu102\r\n",
      "torchvision                        0.11.1+cu102\r\n",
      "tornado                            6.1\r\n",
      "tqdm                               4.62.3\r\n",
      "traitlets                          5.1.0\r\n",
      "typed-ast                          1.4.3\r\n",
      "typing-extensions                  3.10.0.2\r\n",
      "ujson                              4.0.2\r\n",
      "umap-learn                         0.5.3\r\n",
      "unicodecsv                         0.14.1\r\n",
      "Unidecode                          1.2.0\r\n",
      "urllib3                            1.26.7\r\n",
      "watchdog                           2.1.3\r\n",
      "wcwidth                            0.2.5\r\n",
      "webencodings                       0.5.1\r\n",
      "websocket-client                   1.4.1\r\n",
      "Werkzeug                           2.0.2\r\n",
      "wheel                              0.37.0\r\n",
      "whichcraft                         0.6.1\r\n",
      "widgetsnbextension                 3.5.1\r\n",
      "wrapt                              1.12.1\r\n",
      "wurlitzer                          2.1.1\r\n",
      "xlrd                               2.0.1\r\n",
      "XlsxWriter                         3.0.1\r\n",
      "xlwt                               1.3.0\r\n",
      "xmltodict                          0.12.0\r\n",
      "yapf                               0.31.0\r\n",
      "zict                               2.0.0\r\n",
      "zipp                               3.6.0\r\n",
      "zope.event                         4.5.0\r\n",
      "zope.interface                     5.4.0\r\n"
     ]
    }
   ],
   "source": [
    "!pip list"
   ]
  },
  {
   "cell_type": "code",
   "execution_count": 2,
   "metadata": {},
   "outputs": [],
   "source": [
    "import pandas as pd\n",
    "import argparse\n",
    "import os\n",
    "from collections import OrderedDict\n",
    "from glob import glob\n",
    "import yaml\n",
    "import numpy as np\n",
    "\n",
    "import torch\n",
    "import torch.backends.cudnn as cudnn\n",
    "import torch.nn as nn\n",
    "import torch.nn.functional as F\n",
    "import torch.optim as optim\n",
    "from torch.optim import lr_scheduler\n",
    "from torch.utils.data.dataset import Dataset\n",
    "from torch.utils.data import DataLoader\n",
    "import torchvision\n",
    "import torchvision.transforms.functional as TF\n",
    "from torchvision import transforms\n",
    "import torchsummary as summary\n",
    "\n",
    "import albumentations as albu\n",
    "from albumentations.pytorch import ToTensorV2\n",
    "from sklearn.model_selection import train_test_split\n",
    "from sklearn.metrics import confusion_matrix\n",
    "from tqdm import tqdm\n",
    "\n",
    "from Unet.unet_model import UNet\n",
    "from UnetNested.Nested_Unet import NestedUNet"
   ]
  },
  {
   "cell_type": "markdown",
   "metadata": {},
   "source": [
    "## Define Parameters"
   ]
  },
  {
   "cell_type": "code",
   "execution_count": 3,
   "metadata": {},
   "outputs": [],
   "source": [
    "name = \"UNet\"           #default = \"UNet\"; can be NestedUNet\n",
    "epochs = 100            #default = 400\n",
    "batch_size = 12         #default = 12\n",
    "early_stopping = 50     #default = 50\n",
    "num_workers = 8         #default = 8\n",
    "optimizer = 'Adam'      #default = 'Adam'; can be SGD\n",
    "lr = 1e-5               #default = 1e-5\n",
    "momentum = 0.9          #default = 0.9\n",
    "weight_decay = 1e-4     #default = 1e-4\n",
    "nesterov = False        #default = False\n",
    "augmentation = True     #default = False"
   ]
  },
  {
   "cell_type": "markdown",
   "metadata": {},
   "source": [
    "## Define Functions"
   ]
  },
  {
   "cell_type": "markdown",
   "metadata": {},
   "source": [
    "### Loss Function"
   ]
  },
  {
   "cell_type": "code",
   "execution_count": 4,
   "metadata": {},
   "outputs": [],
   "source": [
    "class BCEDiceLoss(nn.Module):\n",
    "    def __init__(self):\n",
    "        super().__init__()\n",
    "    \n",
    "    #Let x be the input and y be the target\n",
    "    def forward(self, x, y):\n",
    "        bce = F.binary_cross_entropy_with_logits(x, y)\n",
    "        smooth = 1e-5\n",
    "        x = torch.sigmoid(x)\n",
    "        num = y.size(0)\n",
    "        x = x.view(num, -1)\n",
    "        y = y.view(num, -1)\n",
    "        intersection = (x*y)\n",
    "        dice = (2. * intersection.sum(1) + smooth) / (x.sum(1) + y.sum(1) + smooth)\n",
    "        dice = 1 - dice.sum() / num\n",
    "\n",
    "        return 0.5 * bce + dice"
   ]
  },
  {
   "cell_type": "markdown",
   "metadata": {},
   "source": [
    "### Dataset"
   ]
  },
  {
   "cell_type": "code",
   "execution_count": 5,
   "metadata": {},
   "outputs": [],
   "source": [
    "class LidcDataset(Dataset):\n",
    "    def __init__(self, IMAGES_PATHS, MASK_PATHS, Albumentation=False):\n",
    "        self.image_paths = IMAGES_PATHS\n",
    "        self.mask_paths = MASK_PATHS\n",
    "        self.albumentation = Albumentation\n",
    "\n",
    "        self.albu_transformations = albu.Compose([\n",
    "            albu.ElasticTransform(alpha=1.1,alpha_affine=0.5,sigma=5,p=0.15),\n",
    "            albu.HorizontalFlip(p=0.5),\n",
    "            ToTensorV2()\n",
    "        ])\n",
    "        self.transformations = transforms.Compose([transforms.ToTensor()])\n",
    "    \n",
    "    def transform(self, image, mask):\n",
    "        #Transform to tensor\n",
    "        if self.albumentation:\n",
    "            #Make image and mask 3 dimensional\n",
    "            image = image.reshape(512,512,1)\n",
    "            mask = mask.reshape(512,512,1)\n",
    "            #Convert datatype\n",
    "            mask = mask.astype('uint8')\n",
    "            #Apply augmentation\n",
    "            augmented = self.albu_transformations(image=image,mask=mask)\n",
    "            image = augmented['image']\n",
    "            mask = augmented['mask']\n",
    "            mask = mask.reshape([1,512,512])\n",
    "        else:\n",
    "            image = self.transformations(image)\n",
    "            mask = self.transformations(mask)\n",
    "        \n",
    "        image, mask = image.type(torch.FloatTensor), mask.type(torch.FloatTensor)\n",
    "        return image, mask\n",
    "\n",
    "    def __getitem__(self, index):\n",
    "        image = np.load(self.image_paths[index])\n",
    "        mask = np.load(self.mask_paths[index])\n",
    "        image, mask = self.transform(image, mask)\n",
    "        return image, mask\n",
    "    \n",
    "    def __len__(self):\n",
    "        return len(self.image_paths)"
   ]
  },
  {
   "cell_type": "markdown",
   "metadata": {},
   "source": [
    "### Metrics"
   ]
  },
  {
   "cell_type": "code",
   "execution_count": 6,
   "metadata": {},
   "outputs": [],
   "source": [
    "def iou_score(output, target):\n",
    "    smooth = 1e-5\n",
    "    if torch.is_tensor(output):\n",
    "        output = torch.sigmoid(output).data.cpu().numpy()\n",
    "    if torch.is_tensor(target):\n",
    "        target = target.data.cpu().numpy()\n",
    "    output_ = output > 0.5\n",
    "    target_ = target > 0.5\n",
    "    intersection = (output_ & target_).sum()\n",
    "    union = (output_ | target_).sum()\n",
    "\n",
    "    return (intersection + smooth) / (union + smooth)\n",
    "\n",
    "\n",
    "def dice_coef(output, target):\n",
    "    smooth = 1e-5\n",
    "    #Sigmoid is used because the U-Net output is logit\n",
    "    output = torch.sigmoid(output).view(-1).data.cpu().numpy()\n",
    "    target = target.view(-1).data.cpu().numpy()\n",
    "    intersection = (output*target).sum()\n",
    "\n",
    "    return (2. * intersection + smooth) / \\\n",
    "        (output.sum() + target.sum() + smooth)\n",
    "\n",
    "\n",
    "def sensitivity_metric(output, target):\n",
    "    eps = 1e-5\n",
    "    output = torch.sigmoid(output).view(-1).data.cpu()\n",
    "    target = target.view(-1).data.cpu()\n",
    "    # elements of confusion matrix\n",
    "    tp = torch.sum(output * target) # True Positive\n",
    "    fp = torch.sum(output * (1 - target)) # False Positive\n",
    "    fn = torch.sum((1 - output) * target) # False Negative\n",
    "    tn = torch.sum((1 - output) * (1 - target)) # True Negative\n",
    "    # compute sensitivity\n",
    "    sensitivity = (tp + eps) / (tp + fn + eps)\n",
    "    \n",
    "    return sensitivity.item()\n",
    "\n",
    "\n",
    "def dice_coef2(output, target):\n",
    "    \"This metric is for validation\"\n",
    "    smooth = 1e-5\n",
    "    output = output.view(-1)\n",
    "    output = (output>0.5).float().cpu().numpy()\n",
    "    target = target.view(-1).data.cpu().numpy()\n",
    "    intersection = (output*target).sum()\n",
    "\n",
    "    return (2. * intersection + smooth) / \\\n",
    "        (output.sum() + target.sum() + smooth)"
   ]
  },
  {
   "cell_type": "markdown",
   "metadata": {},
   "source": [
    "### Utilities"
   ]
  },
  {
   "cell_type": "code",
   "execution_count": 7,
   "metadata": {},
   "outputs": [],
   "source": [
    "def str_to_bool(v):\n",
    "    if v.lower() in ['true', 1]:\n",
    "        return True\n",
    "    elif v.lower() in ['false', 0]:\n",
    "        return False\n",
    "    else:\n",
    "        raise argparse.ArgumentTypeError('Boolean value expected.')\n",
    "\n",
    "def count_params(model):\n",
    "    return sum(p.numel() for p in model.parameters() if p.requires_grad)\n",
    "\n",
    "class AverageMeter(object):\n",
    "    #Computes and stores the average and current value\n",
    "    def __init__(self):\n",
    "        self.reset()\n",
    "    \n",
    "    def reset(self):\n",
    "        self.val = 0\n",
    "        self.avg = 0\n",
    "        self.sum = 0\n",
    "        self.count = 0\n",
    "    \n",
    "    def update(self, val, n=1):\n",
    "        self.val = val\n",
    "        self.sum += val * n\n",
    "        self.count += n\n",
    "        self.avg = self.sum / self.count"
   ]
  },
  {
   "cell_type": "markdown",
   "metadata": {},
   "source": [
    "## Get Configuration"
   ]
  },
  {
   "cell_type": "code",
   "execution_count": 8,
   "metadata": {},
   "outputs": [
    {
     "name": "stdout",
     "output_type": "stream",
     "text": [
      "Creating directory called  UNet_with_augmentation\n",
      "--------------------\n",
      "Configuration Setting: \n",
      "Model:  UNet\n",
      "Max Epochs:  100\n",
      "Batch Size:  12\n",
      "Number of Workers:  8\n",
      "Optimizer:  Adam\n",
      "Learning Rate:  1e-05\n",
      "Augmentation:  True\n"
     ]
    }
   ],
   "source": [
    "if augmentation == True:\n",
    "    file_name = name + '_with_augmentation'\n",
    "else:\n",
    "    file_name = name + '_base'\n",
    "os.makedirs('model_outputs/{}'.format(file_name), exist_ok=True)\n",
    "print(\"Creating directory called \", file_name)\n",
    "\n",
    "print('-' * 20)\n",
    "print(\"Configuration Setting: \")\n",
    "print(\"Model: \", name)\n",
    "print(\"Max Epochs: \", epochs)\n",
    "print(\"Batch Size: \", batch_size)\n",
    "print(\"Number of Workers: \", num_workers)\n",
    "print(\"Optimizer: \", optimizer)\n",
    "print(\"Learning Rate: \", lr)\n",
    "print(\"Augmentation: \", augmentation)"
   ]
  },
  {
   "cell_type": "markdown",
   "metadata": {},
   "source": [
    "## Create Model"
   ]
  },
  {
   "cell_type": "code",
   "execution_count": 9,
   "metadata": {},
   "outputs": [
    {
     "name": "stdout",
     "output_type": "stream",
     "text": [
      "Creating model...\n"
     ]
    },
    {
     "name": "stderr",
     "output_type": "stream",
     "text": [
      "/scratch1/joseph.portugal/LIDC-IDRI-Segmentation-master/Unet/unet_parts.py:63: UserWarning: __floordiv__ is deprecated, and its behavior will change in a future version of pytorch. It currently rounds toward 0 (like the 'trunc' function NOT 'floor'). This results in incorrect rounding for negative values. To keep the current behavior, use torch.div(a, b, rounding_mode='trunc'), or for actual floor division, use torch.div(a, b, rounding_mode='floor').\n",
      "  x1 = F.pad(x1, [diffX // 2, diffX - diffX // 2,\n",
      "/scratch1/joseph.portugal/LIDC-IDRI-Segmentation-master/Unet/unet_parts.py:64: UserWarning: __floordiv__ is deprecated, and its behavior will change in a future version of pytorch. It currently rounds toward 0 (like the 'trunc' function NOT 'floor'). This results in incorrect rounding for negative values. To keep the current behavior, use torch.div(a, b, rounding_mode='trunc'), or for actual floor division, use torch.div(a, b, rounding_mode='floor').\n",
      "  diffY // 2, diffY - diffY // 2])\n"
     ]
    },
    {
     "name": "stdout",
     "output_type": "stream",
     "text": [
      "==========================================================================================\n",
      "Layer (type:depth-idx)                   Output Shape              Param #\n",
      "==========================================================================================\n",
      "├─DoubleConv: 1-1                        [-1, 64, 512, 512]        --\n",
      "|    └─Sequential: 2-1                   [-1, 64, 512, 512]        --\n",
      "|    |    └─Conv2d: 3-1                  [-1, 64, 512, 512]        640\n",
      "|    |    └─BatchNorm2d: 3-2             [-1, 64, 512, 512]        128\n",
      "|    |    └─ReLU: 3-3                    [-1, 64, 512, 512]        --\n",
      "|    |    └─Conv2d: 3-4                  [-1, 64, 512, 512]        36,928\n",
      "|    |    └─BatchNorm2d: 3-5             [-1, 64, 512, 512]        128\n",
      "|    |    └─ReLU: 3-6                    [-1, 64, 512, 512]        --\n",
      "├─Down: 1-2                              [-1, 128, 256, 256]       --\n",
      "|    └─Sequential: 2-2                   [-1, 128, 256, 256]       --\n",
      "|    |    └─MaxPool2d: 3-7               [-1, 64, 256, 256]        --\n",
      "|    |    └─DoubleConv: 3-8              [-1, 128, 256, 256]       221,952\n",
      "├─Down: 1-3                              [-1, 256, 128, 128]       --\n",
      "|    └─Sequential: 2-3                   [-1, 256, 128, 128]       --\n",
      "|    |    └─MaxPool2d: 3-9               [-1, 128, 128, 128]       --\n",
      "|    |    └─DoubleConv: 3-10             [-1, 256, 128, 128]       886,272\n",
      "├─Down: 1-4                              [-1, 512, 64, 64]         --\n",
      "|    └─Sequential: 2-4                   [-1, 512, 64, 64]         --\n",
      "|    |    └─MaxPool2d: 3-11              [-1, 256, 64, 64]         --\n",
      "|    |    └─DoubleConv: 3-12             [-1, 512, 64, 64]         3,542,016\n",
      "├─Down: 1-5                              [-1, 512, 32, 32]         --\n",
      "|    └─Sequential: 2-5                   [-1, 512, 32, 32]         --\n",
      "|    |    └─MaxPool2d: 3-13              [-1, 512, 32, 32]         --\n",
      "|    |    └─DoubleConv: 3-14             [-1, 512, 32, 32]         4,721,664\n",
      "├─Up: 1-6                                [-1, 256, 64, 64]         --\n",
      "|    └─Upsample: 2-6                     [-1, 512, 64, 64]         --\n",
      "|    └─DoubleConv: 2-7                   [-1, 256, 64, 64]         --\n",
      "|    |    └─Sequential: 3-15             [-1, 256, 64, 64]         5,900,544\n",
      "├─Up: 1-7                                [-1, 128, 128, 128]       --\n",
      "|    └─Upsample: 2-8                     [-1, 256, 128, 128]       --\n",
      "|    └─DoubleConv: 2-9                   [-1, 128, 128, 128]       --\n",
      "|    |    └─Sequential: 3-16             [-1, 128, 128, 128]       1,475,712\n",
      "├─Up: 1-8                                [-1, 64, 256, 256]        --\n",
      "|    └─Upsample: 2-10                    [-1, 128, 256, 256]       --\n",
      "|    └─DoubleConv: 2-11                  [-1, 64, 256, 256]        --\n",
      "|    |    └─Sequential: 3-17             [-1, 64, 256, 256]        369,216\n",
      "├─Up: 1-9                                [-1, 64, 512, 512]        --\n",
      "|    └─Upsample: 2-12                    [-1, 64, 512, 512]        --\n",
      "|    └─DoubleConv: 2-13                  [-1, 64, 512, 512]        --\n",
      "|    |    └─Sequential: 3-18             [-1, 64, 512, 512]        110,976\n",
      "├─OutConv: 1-10                          [-1, 1, 512, 512]         --\n",
      "|    └─Conv2d: 2-14                      [-1, 1, 512, 512]         65\n",
      "==========================================================================================\n",
      "Total params: 17,266,241\n",
      "Trainable params: 17,266,241\n",
      "Non-trainable params: 0\n",
      "Total mult-adds (G): 111.36\n",
      "==========================================================================================\n",
      "Input size (MB): 1.00\n",
      "Forward/backward pass size (MB): 1362.00\n",
      "Params size (MB): 65.87\n",
      "Estimated Total Size (MB): 1428.87\n",
      "==========================================================================================\n"
     ]
    },
    {
     "data": {
      "text/plain": [
       "==========================================================================================\n",
       "Layer (type:depth-idx)                   Output Shape              Param #\n",
       "==========================================================================================\n",
       "├─DoubleConv: 1-1                        [-1, 64, 512, 512]        --\n",
       "|    └─Sequential: 2-1                   [-1, 64, 512, 512]        --\n",
       "|    |    └─Conv2d: 3-1                  [-1, 64, 512, 512]        640\n",
       "|    |    └─BatchNorm2d: 3-2             [-1, 64, 512, 512]        128\n",
       "|    |    └─ReLU: 3-3                    [-1, 64, 512, 512]        --\n",
       "|    |    └─Conv2d: 3-4                  [-1, 64, 512, 512]        36,928\n",
       "|    |    └─BatchNorm2d: 3-5             [-1, 64, 512, 512]        128\n",
       "|    |    └─ReLU: 3-6                    [-1, 64, 512, 512]        --\n",
       "├─Down: 1-2                              [-1, 128, 256, 256]       --\n",
       "|    └─Sequential: 2-2                   [-1, 128, 256, 256]       --\n",
       "|    |    └─MaxPool2d: 3-7               [-1, 64, 256, 256]        --\n",
       "|    |    └─DoubleConv: 3-8              [-1, 128, 256, 256]       221,952\n",
       "├─Down: 1-3                              [-1, 256, 128, 128]       --\n",
       "|    └─Sequential: 2-3                   [-1, 256, 128, 128]       --\n",
       "|    |    └─MaxPool2d: 3-9               [-1, 128, 128, 128]       --\n",
       "|    |    └─DoubleConv: 3-10             [-1, 256, 128, 128]       886,272\n",
       "├─Down: 1-4                              [-1, 512, 64, 64]         --\n",
       "|    └─Sequential: 2-4                   [-1, 512, 64, 64]         --\n",
       "|    |    └─MaxPool2d: 3-11              [-1, 256, 64, 64]         --\n",
       "|    |    └─DoubleConv: 3-12             [-1, 512, 64, 64]         3,542,016\n",
       "├─Down: 1-5                              [-1, 512, 32, 32]         --\n",
       "|    └─Sequential: 2-5                   [-1, 512, 32, 32]         --\n",
       "|    |    └─MaxPool2d: 3-13              [-1, 512, 32, 32]         --\n",
       "|    |    └─DoubleConv: 3-14             [-1, 512, 32, 32]         4,721,664\n",
       "├─Up: 1-6                                [-1, 256, 64, 64]         --\n",
       "|    └─Upsample: 2-6                     [-1, 512, 64, 64]         --\n",
       "|    └─DoubleConv: 2-7                   [-1, 256, 64, 64]         --\n",
       "|    |    └─Sequential: 3-15             [-1, 256, 64, 64]         5,900,544\n",
       "├─Up: 1-7                                [-1, 128, 128, 128]       --\n",
       "|    └─Upsample: 2-8                     [-1, 256, 128, 128]       --\n",
       "|    └─DoubleConv: 2-9                   [-1, 128, 128, 128]       --\n",
       "|    |    └─Sequential: 3-16             [-1, 128, 128, 128]       1,475,712\n",
       "├─Up: 1-8                                [-1, 64, 256, 256]        --\n",
       "|    └─Upsample: 2-10                    [-1, 128, 256, 256]       --\n",
       "|    └─DoubleConv: 2-11                  [-1, 64, 256, 256]        --\n",
       "|    |    └─Sequential: 3-17             [-1, 64, 256, 256]        369,216\n",
       "├─Up: 1-9                                [-1, 64, 512, 512]        --\n",
       "|    └─Upsample: 2-12                    [-1, 64, 512, 512]        --\n",
       "|    └─DoubleConv: 2-13                  [-1, 64, 512, 512]        --\n",
       "|    |    └─Sequential: 3-18             [-1, 64, 512, 512]        110,976\n",
       "├─OutConv: 1-10                          [-1, 1, 512, 512]         --\n",
       "|    └─Conv2d: 2-14                      [-1, 1, 512, 512]         65\n",
       "==========================================================================================\n",
       "Total params: 17,266,241\n",
       "Trainable params: 17,266,241\n",
       "Non-trainable params: 0\n",
       "Total mult-adds (G): 111.36\n",
       "==========================================================================================\n",
       "Input size (MB): 1.00\n",
       "Forward/backward pass size (MB): 1362.00\n",
       "Params size (MB): 65.87\n",
       "Estimated Total Size (MB): 1428.87\n",
       "=========================================================================================="
      ]
     },
     "execution_count": 9,
     "metadata": {},
     "output_type": "execute_result"
    }
   ],
   "source": [
    "criterion = BCEDiceLoss().cuda()\n",
    "cudnn.benchmark = True\n",
    "\n",
    "#Creating the model\n",
    "print(\"Creating model...\")\n",
    "if name == 'NestedUNet':\n",
    "    model = NestedUNet(num_classes=1)\n",
    "else:\n",
    "    model = UNet(n_channels=1, n_classes=1, bilinear=True)\n",
    "model = model.cuda()\n",
    "\n",
    "if torch.cuda.device_count() > 1:\n",
    "    print(\"We can use \", torch.cuda.device_count(), \" GPUs.\")\n",
    "    model = nn.DataParallel(model)\n",
    "\n",
    "params = filter(lambda p: p.requires_grad, model.parameters())\n",
    "\n",
    "if optimizer == 'Adam':\n",
    "    optimizer = optim.Adam(params, lr=lr, weight_decay=weight_decay)\n",
    "elif optimizer == 'SGD':\n",
    "    optimizer = optim.SGD(params, lr=lr, momentum=momentum, nesterov=nesterov, weight_decay=weight_decay)\n",
    "else:\n",
    "    raise NotImplementedError\n",
    "    \n",
    "summary.summary(model,(1,512,512))"
   ]
  },
  {
   "cell_type": "markdown",
   "metadata": {},
   "source": [
    "## Load Dataset"
   ]
  },
  {
   "cell_type": "code",
   "execution_count": 10,
   "metadata": {},
   "outputs": [
    {
     "name": "stdout",
     "output_type": "stream",
     "text": [
      "**************************************************\n",
      "Original images: 3587, masks: 3587 for training.\n",
      "Original images: 1192, masks: 1192 for validation.\n",
      "Ratio between Validation and Training is 0.332311\n",
      "**************************************************\n"
     ]
    }
   ],
   "source": [
    "#directory of Images and Masks folders (generated from preprocessing)                                         \n",
    "IMAGE_DIR = '/scratch1/joseph.portugal/LIDC-IDRI Preprocessed/Image/'\n",
    "MASK_DIR = '/scratch1/joseph.portugal/LIDC-IDRI Preprocessed/Mask/'                                                                 \n",
    "\n",
    "#meta information\n",
    "meta = pd.read_csv('/scratch1/joseph.portugal/LIDC-IDRI Preprocessed/Meta/meta.csv')     \n",
    "\n",
    "#Get train/test label from metadata file\n",
    "meta['original_image'] = meta['original_image'].apply(lambda x: IMAGE_DIR + \"LIDC-IDRI-\" + x[:4] + \"/\" + x + \".npy\")\n",
    "meta['mask_image'] = meta['mask_image'].apply(lambda x: MASK_DIR + \"LIDC-IDRI-\" + x[:4] + \"/\" + x + \".npy\")\n",
    "\n",
    "\n",
    "#Split into training and validation\n",
    "train_meta = meta[meta['data_split']=='Train']\n",
    "val_meta = meta[meta['data_split']=='Validation']\n",
    "\n",
    "#Get training images into list\n",
    "train_image_paths = list(train_meta['original_image'])\n",
    "train_mask_paths = list(train_meta['mask_image'])\n",
    "\n",
    "#Get validation images into list\n",
    "val_image_paths = list(val_meta['original_image'])\n",
    "val_mask_paths = list(val_meta['mask_image'])\n",
    "\n",
    "print(\"*\"*50)\n",
    "print(\"Original images: {}, masks: {} for training.\".format(len(train_image_paths),len(train_mask_paths)))\n",
    "print(\"Original images: {}, masks: {} for validation.\".format(len(val_image_paths),len(val_mask_paths)))\n",
    "print(\"Ratio between Validation and Training is {:2f}\".format(len(val_image_paths)/len(train_image_paths)))\n",
    "print(\"*\"*50)\n",
    "\n",
    "\n",
    "#Creating custom LIDC dataset\n",
    "train_dataset = LidcDataset(train_image_paths, train_mask_paths, augmentation)\n",
    "val_dataset = LidcDataset(val_image_paths, val_mask_paths, augmentation)\n",
    "\n",
    "#Creating Dataloader\n",
    "train_loader = DataLoader(\n",
    "  train_dataset,\n",
    "  batch_size=batch_size,\n",
    "  shuffle=True,\n",
    "  pin_memory=True,\n",
    "  drop_last=True,\n",
    "  num_workers=6\n",
    ")\n",
    "val_loader = DataLoader(\n",
    "  val_dataset,\n",
    "  batch_size=batch_size,\n",
    "  shuffle=False,\n",
    "  pin_memory=True,\n",
    "  drop_last=False,\n",
    "  num_workers=6\n",
    ")"
   ]
  },
  {
   "cell_type": "markdown",
   "metadata": {},
   "source": [
    "## Train the Model"
   ]
  },
  {
   "cell_type": "code",
   "execution_count": 11,
   "metadata": {},
   "outputs": [
    {
     "name": "stderr",
     "output_type": "stream",
     "text": [
      "100%|██████████| 298/298 [07:09<00:00,  1.44s/it, loss=1.2, iou=0.00323, dice=0.00159, sensitivity=0.404]   \n",
      "100%|██████████| 100/100 [00:50<00:00,  1.99it/s, val_loss=1.16, val_iou=0.00285, val_dice=0.00192, val_sensitivity=0.36]\n"
     ]
    },
    {
     "name": "stdout",
     "output_type": "stream",
     "text": [
      "Training Epoch 1/100,  Training BCE Loss: 1.1973,  Training DICE: 0.0016,  Training IOU: 0.0032,  Training Sensitivity: 0.4042,  Validation BCE Loss: 1.1550,  Validation DICE: 0.0019,  Validation IOU: 0.0029,  Validation Sensitivity: 0.3604\n",
      "Saved new best model based on DICE metric!\n"
     ]
    },
    {
     "name": "stderr",
     "output_type": "stream",
     "text": [
      "100%|██████████| 298/298 [06:57<00:00,  1.40s/it, loss=1.15, iou=0.0383, dice=0.00193, sensitivity=0.389] \n",
      "100%|██████████| 100/100 [00:47<00:00,  2.09it/s, val_loss=1.14, val_iou=0.127, val_dice=0.00235, val_sensitivity=0.394] \n"
     ]
    },
    {
     "name": "stdout",
     "output_type": "stream",
     "text": [
      "Training Epoch 2/100,  Training BCE Loss: 1.1471,  Training DICE: 0.0019,  Training IOU: 0.0383,  Training Sensitivity: 0.3894,  Validation BCE Loss: 1.1418,  Validation DICE: 0.0024,  Validation IOU: 0.1268,  Validation Sensitivity: 0.3936\n",
      "Saved new best model based on DICE metric!\n"
     ]
    },
    {
     "name": "stderr",
     "output_type": "stream",
     "text": [
      "100%|██████████| 298/298 [06:58<00:00,  1.40s/it, loss=1.14, iou=0.14, dice=0.00232, sensitivity=0.437] \n",
      "100%|██████████| 100/100 [00:48<00:00,  2.08it/s, val_loss=1.13, val_iou=0.208, val_dice=0.00272, val_sensitivity=0.425] \n"
     ]
    },
    {
     "name": "stdout",
     "output_type": "stream",
     "text": [
      "Training Epoch 3/100,  Training BCE Loss: 1.1354,  Training DICE: 0.0023,  Training IOU: 0.1403,  Training Sensitivity: 0.4369,  Validation BCE Loss: 1.1334,  Validation DICE: 0.0027,  Validation IOU: 0.2079,  Validation Sensitivity: 0.4254\n",
      "Saved new best model based on DICE metric!\n"
     ]
    },
    {
     "name": "stderr",
     "output_type": "stream",
     "text": [
      "100%|██████████| 298/298 [06:57<00:00,  1.40s/it, loss=1.12, iou=0.222, dice=0.00329, sensitivity=0.579]\n",
      "100%|██████████| 100/100 [00:47<00:00,  2.09it/s, val_loss=1.12, val_iou=0.26, val_dice=0.00397, val_sensitivity=0.564] \n"
     ]
    },
    {
     "name": "stdout",
     "output_type": "stream",
     "text": [
      "Training Epoch 4/100,  Training BCE Loss: 1.1249,  Training DICE: 0.0033,  Training IOU: 0.2221,  Training Sensitivity: 0.5787,  Validation BCE Loss: 1.1213,  Validation DICE: 0.0040,  Validation IOU: 0.2603,  Validation Sensitivity: 0.5636\n",
      "Saved new best model based on DICE metric!\n"
     ]
    },
    {
     "name": "stderr",
     "output_type": "stream",
     "text": [
      "100%|██████████| 298/298 [06:58<00:00,  1.40s/it, loss=1.12, iou=0.258, dice=0.00427, sensitivity=0.714]\n",
      "100%|██████████| 100/100 [00:47<00:00,  2.08it/s, val_loss=1.11, val_iou=0.258, val_dice=0.00462, val_sensitivity=0.637]\n"
     ]
    },
    {
     "name": "stdout",
     "output_type": "stream",
     "text": [
      "Training Epoch 5/100,  Training BCE Loss: 1.1162,  Training DICE: 0.0043,  Training IOU: 0.2581,  Training Sensitivity: 0.7143,  Validation BCE Loss: 1.1136,  Validation DICE: 0.0046,  Validation IOU: 0.2578,  Validation Sensitivity: 0.6375\n",
      "Saved new best model based on DICE metric!\n"
     ]
    },
    {
     "name": "stderr",
     "output_type": "stream",
     "text": [
      "100%|██████████| 298/298 [06:58<00:00,  1.40s/it, loss=1.11, iou=0.302, dice=0.00489, sensitivity=0.778]\n",
      "100%|██████████| 100/100 [00:48<00:00,  2.08it/s, val_loss=1.11, val_iou=0.278, val_dice=0.00498, val_sensitivity=0.657]\n"
     ]
    },
    {
     "name": "stdout",
     "output_type": "stream",
     "text": [
      "Training Epoch 6/100,  Training BCE Loss: 1.1083,  Training DICE: 0.0049,  Training IOU: 0.3022,  Training Sensitivity: 0.7778,  Validation BCE Loss: 1.1068,  Validation DICE: 0.0050,  Validation IOU: 0.2777,  Validation Sensitivity: 0.6574\n",
      "Saved new best model based on DICE metric!\n"
     ]
    },
    {
     "name": "stderr",
     "output_type": "stream",
     "text": [
      "100%|██████████| 298/298 [06:58<00:00,  1.41s/it, loss=1.1, iou=0.342, dice=0.00538, sensitivity=0.807]\n",
      "100%|██████████| 100/100 [00:48<00:00,  2.08it/s, val_loss=1.1, val_iou=0.324, val_dice=0.00482, val_sensitivity=0.613]\n"
     ]
    },
    {
     "name": "stdout",
     "output_type": "stream",
     "text": [
      "Training Epoch 7/100,  Training BCE Loss: 1.1012,  Training DICE: 0.0054,  Training IOU: 0.3417,  Training Sensitivity: 0.8074,  Validation BCE Loss: 1.0996,  Validation DICE: 0.0048,  Validation IOU: 0.3236,  Validation Sensitivity: 0.6128\n"
     ]
    },
    {
     "name": "stderr",
     "output_type": "stream",
     "text": [
      "100%|██████████| 298/298 [06:58<00:00,  1.40s/it, loss=1.09, iou=0.364, dice=0.00576, sensitivity=0.827]\n",
      "100%|██████████| 100/100 [00:48<00:00,  2.08it/s, val_loss=1.09, val_iou=0.287, val_dice=0.00557, val_sensitivity=0.674]\n"
     ]
    },
    {
     "name": "stdout",
     "output_type": "stream",
     "text": [
      "Training Epoch 8/100,  Training BCE Loss: 1.0949,  Training DICE: 0.0058,  Training IOU: 0.3637,  Training Sensitivity: 0.8267,  Validation BCE Loss: 1.0931,  Validation DICE: 0.0056,  Validation IOU: 0.2869,  Validation Sensitivity: 0.6737\n",
      "Saved new best model based on DICE metric!\n"
     ]
    },
    {
     "name": "stderr",
     "output_type": "stream",
     "text": [
      "100%|██████████| 298/298 [06:58<00:00,  1.40s/it, loss=1.09, iou=0.392, dice=0.00621, sensitivity=0.847]\n",
      "100%|██████████| 100/100 [00:48<00:00,  2.08it/s, val_loss=1.09, val_iou=0.33, val_dice=0.00592, val_sensitivity=0.668]\n"
     ]
    },
    {
     "name": "stdout",
     "output_type": "stream",
     "text": [
      "Training Epoch 9/100,  Training BCE Loss: 1.0887,  Training DICE: 0.0062,  Training IOU: 0.3920,  Training Sensitivity: 0.8467,  Validation BCE Loss: 1.0875,  Validation DICE: 0.0059,  Validation IOU: 0.3297,  Validation Sensitivity: 0.6685\n",
      "Saved new best model based on DICE metric!\n"
     ]
    },
    {
     "name": "stderr",
     "output_type": "stream",
     "text": [
      "100%|██████████| 298/298 [06:58<00:00,  1.40s/it, loss=1.08, iou=0.401, dice=0.00662, sensitivity=0.855]\n",
      "100%|██████████| 100/100 [00:48<00:00,  2.08it/s, val_loss=1.08, val_iou=0.296, val_dice=0.00564, val_sensitivity=0.65]\n"
     ]
    },
    {
     "name": "stdout",
     "output_type": "stream",
     "text": [
      "Training Epoch 10/100,  Training BCE Loss: 1.0831,  Training DICE: 0.0066,  Training IOU: 0.4013,  Training Sensitivity: 0.8548,  Validation BCE Loss: 1.0834,  Validation DICE: 0.0056,  Validation IOU: 0.2955,  Validation Sensitivity: 0.6496\n"
     ]
    },
    {
     "name": "stderr",
     "output_type": "stream",
     "text": [
      "100%|██████████| 298/298 [06:58<00:00,  1.40s/it, loss=1.08, iou=0.432, dice=0.00715, sensitivity=0.873]\n",
      "100%|██████████| 100/100 [00:47<00:00,  2.08it/s, val_loss=1.08, val_iou=0.333, val_dice=0.00645, val_sensitivity=0.676]\n"
     ]
    },
    {
     "name": "stdout",
     "output_type": "stream",
     "text": [
      "Training Epoch 11/100,  Training BCE Loss: 1.0772,  Training DICE: 0.0072,  Training IOU: 0.4317,  Training Sensitivity: 0.8730,  Validation BCE Loss: 1.0758,  Validation DICE: 0.0064,  Validation IOU: 0.3329,  Validation Sensitivity: 0.6763\n",
      "Saved new best model based on DICE metric!\n"
     ]
    },
    {
     "name": "stderr",
     "output_type": "stream",
     "text": [
      "100%|██████████| 298/298 [06:58<00:00,  1.40s/it, loss=1.07, iou=0.451, dice=0.00769, sensitivity=0.89] \n",
      "100%|██████████| 100/100 [00:48<00:00,  2.06it/s, val_loss=1.07, val_iou=0.307, val_dice=0.00691, val_sensitivity=0.691]\n"
     ]
    },
    {
     "name": "stdout",
     "output_type": "stream",
     "text": [
      "Training Epoch 12/100,  Training BCE Loss: 1.0716,  Training DICE: 0.0077,  Training IOU: 0.4510,  Training Sensitivity: 0.8897,  Validation BCE Loss: 1.0714,  Validation DICE: 0.0069,  Validation IOU: 0.3066,  Validation Sensitivity: 0.6907\n",
      "Saved new best model based on DICE metric!\n"
     ]
    },
    {
     "name": "stderr",
     "output_type": "stream",
     "text": [
      "100%|██████████| 298/298 [06:58<00:00,  1.40s/it, loss=1.07, iou=0.473, dice=0.00824, sensitivity=0.9]  \n",
      "100%|██████████| 100/100 [00:47<00:00,  2.09it/s, val_loss=1.06, val_iou=0.319, val_dice=0.00787, val_sensitivity=0.742]\n"
     ]
    },
    {
     "name": "stdout",
     "output_type": "stream",
     "text": [
      "Training Epoch 13/100,  Training BCE Loss: 1.0664,  Training DICE: 0.0082,  Training IOU: 0.4732,  Training Sensitivity: 0.9001,  Validation BCE Loss: 1.0648,  Validation DICE: 0.0079,  Validation IOU: 0.3192,  Validation Sensitivity: 0.7422\n",
      "Saved new best model based on DICE metric!\n"
     ]
    },
    {
     "name": "stderr",
     "output_type": "stream",
     "text": [
      "100%|██████████| 298/298 [06:58<00:00,  1.40s/it, loss=1.06, iou=0.48, dice=0.00874, sensitivity=0.908] \n",
      "100%|██████████| 100/100 [00:47<00:00,  2.09it/s, val_loss=1.06, val_iou=0.311, val_dice=0.00804, val_sensitivity=0.734]\n"
     ]
    },
    {
     "name": "stdout",
     "output_type": "stream",
     "text": [
      "Training Epoch 14/100,  Training BCE Loss: 1.0616,  Training DICE: 0.0087,  Training IOU: 0.4797,  Training Sensitivity: 0.9076,  Validation BCE Loss: 1.0614,  Validation DICE: 0.0080,  Validation IOU: 0.3114,  Validation Sensitivity: 0.7335\n",
      "Saved new best model based on DICE metric!\n"
     ]
    },
    {
     "name": "stderr",
     "output_type": "stream",
     "text": [
      "100%|██████████| 298/298 [06:58<00:00,  1.40s/it, loss=1.06, iou=0.449, dice=0.00908, sensitivity=0.892]\n",
      "100%|██████████| 100/100 [00:48<00:00,  2.07it/s, val_loss=1.06, val_iou=0.356, val_dice=0.00785, val_sensitivity=0.677]\n"
     ]
    },
    {
     "name": "stdout",
     "output_type": "stream",
     "text": [
      "Training Epoch 15/100,  Training BCE Loss: 1.0575,  Training DICE: 0.0091,  Training IOU: 0.4486,  Training Sensitivity: 0.8915,  Validation BCE Loss: 1.0569,  Validation DICE: 0.0079,  Validation IOU: 0.3556,  Validation Sensitivity: 0.6770\n"
     ]
    },
    {
     "name": "stderr",
     "output_type": "stream",
     "text": [
      "100%|██████████| 298/298 [06:58<00:00,  1.40s/it, loss=1.05, iou=0.5, dice=0.00995, sensitivity=0.921]  \n",
      "100%|██████████| 100/100 [00:48<00:00,  2.08it/s, val_loss=1.05, val_iou=0.366, val_dice=0.0079, val_sensitivity=0.661]\n"
     ]
    },
    {
     "name": "stdout",
     "output_type": "stream",
     "text": [
      "Training Epoch 16/100,  Training BCE Loss: 1.0524,  Training DICE: 0.0100,  Training IOU: 0.4995,  Training Sensitivity: 0.9205,  Validation BCE Loss: 1.0530,  Validation DICE: 0.0079,  Validation IOU: 0.3656,  Validation Sensitivity: 0.6611\n"
     ]
    },
    {
     "name": "stderr",
     "output_type": "stream",
     "text": [
      "100%|██████████| 298/298 [06:58<00:00,  1.40s/it, loss=1.05, iou=0.525, dice=0.0107, sensitivity=0.932]\n",
      "100%|██████████| 100/100 [00:48<00:00,  2.07it/s, val_loss=1.05, val_iou=0.347, val_dice=0.00927, val_sensitivity=0.717]\n"
     ]
    },
    {
     "name": "stdout",
     "output_type": "stream",
     "text": [
      "Training Epoch 17/100,  Training BCE Loss: 1.0477,  Training DICE: 0.0107,  Training IOU: 0.5250,  Training Sensitivity: 0.9316,  Validation BCE Loss: 1.0477,  Validation DICE: 0.0093,  Validation IOU: 0.3469,  Validation Sensitivity: 0.7171\n",
      "Saved new best model based on DICE metric!\n"
     ]
    },
    {
     "name": "stderr",
     "output_type": "stream",
     "text": [
      "100%|██████████| 298/298 [06:58<00:00,  1.40s/it, loss=1.04, iou=0.521, dice=0.0114, sensitivity=0.935]\n",
      "100%|██████████| 100/100 [00:48<00:00,  2.07it/s, val_loss=1.04, val_iou=0.395, val_dice=0.00883, val_sensitivity=0.639]\n"
     ]
    },
    {
     "name": "stdout",
     "output_type": "stream",
     "text": [
      "Training Epoch 18/100,  Training BCE Loss: 1.0434,  Training DICE: 0.0114,  Training IOU: 0.5209,  Training Sensitivity: 0.9349,  Validation BCE Loss: 1.0447,  Validation DICE: 0.0088,  Validation IOU: 0.3950,  Validation Sensitivity: 0.6385\n"
     ]
    },
    {
     "name": "stderr",
     "output_type": "stream",
     "text": [
      "100%|██████████| 298/298 [06:58<00:00,  1.40s/it, loss=1.04, iou=0.518, dice=0.0121, sensitivity=0.935]\n",
      "100%|██████████| 100/100 [00:48<00:00,  2.08it/s, val_loss=1.04, val_iou=0.408, val_dice=0.0098, val_sensitivity=0.666]\n"
     ]
    },
    {
     "name": "stdout",
     "output_type": "stream",
     "text": [
      "Training Epoch 19/100,  Training BCE Loss: 1.0393,  Training DICE: 0.0121,  Training IOU: 0.5183,  Training Sensitivity: 0.9353,  Validation BCE Loss: 1.0403,  Validation DICE: 0.0098,  Validation IOU: 0.4083,  Validation Sensitivity: 0.6658\n",
      "Saved new best model based on DICE metric!\n"
     ]
    },
    {
     "name": "stderr",
     "output_type": "stream",
     "text": [
      "100%|██████████| 298/298 [06:58<00:00,  1.40s/it, loss=1.04, iou=0.543, dice=0.013, sensitivity=0.945] \n",
      "100%|██████████| 100/100 [00:47<00:00,  2.09it/s, val_loss=1.04, val_iou=0.387, val_dice=0.0108, val_sensitivity=0.715]\n"
     ]
    },
    {
     "name": "stdout",
     "output_type": "stream",
     "text": [
      "Training Epoch 20/100,  Training BCE Loss: 1.0352,  Training DICE: 0.0130,  Training IOU: 0.5427,  Training Sensitivity: 0.9445,  Validation BCE Loss: 1.0364,  Validation DICE: 0.0108,  Validation IOU: 0.3874,  Validation Sensitivity: 0.7155\n",
      "Saved new best model based on DICE metric!\n"
     ]
    },
    {
     "name": "stderr",
     "output_type": "stream",
     "text": [
      "100%|██████████| 298/298 [06:58<00:00,  1.40s/it, loss=1.03, iou=0.49, dice=0.0135, sensitivity=0.928] \n",
      "100%|██████████| 100/100 [00:48<00:00,  2.07it/s, val_loss=1.03, val_iou=0.419, val_dice=0.0115, val_sensitivity=0.69] \n"
     ]
    },
    {
     "name": "stdout",
     "output_type": "stream",
     "text": [
      "Training Epoch 21/100,  Training BCE Loss: 1.0320,  Training DICE: 0.0135,  Training IOU: 0.4900,  Training Sensitivity: 0.9282,  Validation BCE Loss: 1.0322,  Validation DICE: 0.0115,  Validation IOU: 0.4193,  Validation Sensitivity: 0.6904\n",
      "Saved new best model based on DICE metric!\n"
     ]
    },
    {
     "name": "stderr",
     "output_type": "stream",
     "text": [
      "100%|██████████| 298/298 [06:58<00:00,  1.40s/it, loss=1.03, iou=0.546, dice=0.0148, sensitivity=0.947]\n",
      "100%|██████████| 100/100 [00:48<00:00,  2.06it/s, val_loss=1.03, val_iou=0.363, val_dice=0.0131, val_sensitivity=0.753]\n"
     ]
    },
    {
     "name": "stdout",
     "output_type": "stream",
     "text": [
      "Training Epoch 22/100,  Training BCE Loss: 1.0275,  Training DICE: 0.0148,  Training IOU: 0.5460,  Training Sensitivity: 0.9473,  Validation BCE Loss: 1.0279,  Validation DICE: 0.0131,  Validation IOU: 0.3625,  Validation Sensitivity: 0.7527\n",
      "Saved new best model based on DICE metric!\n"
     ]
    },
    {
     "name": "stderr",
     "output_type": "stream",
     "text": [
      "100%|██████████| 298/298 [06:58<00:00,  1.41s/it, loss=1.02, iou=0.546, dice=0.016, sensitivity=0.951] \n",
      "100%|██████████| 100/100 [00:48<00:00,  2.08it/s, val_loss=1.03, val_iou=0.412, val_dice=0.0124, val_sensitivity=0.643]\n"
     ]
    },
    {
     "name": "stdout",
     "output_type": "stream",
     "text": [
      "Training Epoch 23/100,  Training BCE Loss: 1.0233,  Training DICE: 0.0160,  Training IOU: 0.5460,  Training Sensitivity: 0.9511,  Validation BCE Loss: 1.0254,  Validation DICE: 0.0124,  Validation IOU: 0.4123,  Validation Sensitivity: 0.6432\n"
     ]
    },
    {
     "name": "stderr",
     "output_type": "stream",
     "text": [
      "100%|██████████| 298/298 [06:59<00:00,  1.41s/it, loss=1.02, iou=0.548, dice=0.0172, sensitivity=0.955]\n",
      "100%|██████████| 100/100 [00:48<00:00,  2.08it/s, val_loss=1.02, val_iou=0.41, val_dice=0.0145, val_sensitivity=0.728]\n"
     ]
    },
    {
     "name": "stdout",
     "output_type": "stream",
     "text": [
      "Training Epoch 24/100,  Training BCE Loss: 1.0195,  Training DICE: 0.0172,  Training IOU: 0.5482,  Training Sensitivity: 0.9553,  Validation BCE Loss: 1.0215,  Validation DICE: 0.0145,  Validation IOU: 0.4096,  Validation Sensitivity: 0.7280\n",
      "Saved new best model based on DICE metric!\n"
     ]
    },
    {
     "name": "stderr",
     "output_type": "stream",
     "text": [
      "100%|██████████| 298/298 [06:58<00:00,  1.40s/it, loss=1.02, iou=0.566, dice=0.0185, sensitivity=0.958]\n",
      "100%|██████████| 100/100 [00:48<00:00,  2.08it/s, val_loss=1.02, val_iou=0.368, val_dice=0.0166, val_sensitivity=0.776]\n"
     ]
    },
    {
     "name": "stdout",
     "output_type": "stream",
     "text": [
      "Training Epoch 25/100,  Training BCE Loss: 1.0156,  Training DICE: 0.0185,  Training IOU: 0.5660,  Training Sensitivity: 0.9584,  Validation BCE Loss: 1.0170,  Validation DICE: 0.0166,  Validation IOU: 0.3684,  Validation Sensitivity: 0.7756\n",
      "Saved new best model based on DICE metric!\n"
     ]
    },
    {
     "name": "stderr",
     "output_type": "stream",
     "text": [
      "100%|██████████| 298/298 [06:58<00:00,  1.40s/it, loss=1.01, iou=0.571, dice=0.0199, sensitivity=0.964]\n",
      "100%|██████████| 100/100 [00:47<00:00,  2.09it/s, val_loss=1.01, val_iou=0.385, val_dice=0.0165, val_sensitivity=0.73]\n"
     ]
    },
    {
     "name": "stdout",
     "output_type": "stream",
     "text": [
      "Training Epoch 26/100,  Training BCE Loss: 1.0119,  Training DICE: 0.0199,  Training IOU: 0.5710,  Training Sensitivity: 0.9642,  Validation BCE Loss: 1.0149,  Validation DICE: 0.0165,  Validation IOU: 0.3853,  Validation Sensitivity: 0.7300\n"
     ]
    },
    {
     "name": "stderr",
     "output_type": "stream",
     "text": [
      "100%|██████████| 298/298 [06:58<00:00,  1.41s/it, loss=1.01, iou=0.573, dice=0.0213, sensitivity=0.964]\n",
      "100%|██████████| 100/100 [00:48<00:00,  2.06it/s, val_loss=1.01, val_iou=0.401, val_dice=0.0159, val_sensitivity=0.649]\n"
     ]
    },
    {
     "name": "stdout",
     "output_type": "stream",
     "text": [
      "Training Epoch 27/100,  Training BCE Loss: 1.0082,  Training DICE: 0.0213,  Training IOU: 0.5725,  Training Sensitivity: 0.9636,  Validation BCE Loss: 1.0126,  Validation DICE: 0.0159,  Validation IOU: 0.4008,  Validation Sensitivity: 0.6493\n"
     ]
    },
    {
     "name": "stderr",
     "output_type": "stream",
     "text": [
      "100%|██████████| 298/298 [06:58<00:00,  1.41s/it, loss=1, iou=0.559, dice=0.023, sensitivity=0.964]    \n",
      "100%|██████████| 100/100 [00:48<00:00,  2.08it/s, val_loss=1.01, val_iou=0.387, val_dice=0.0196, val_sensitivity=0.728]\n"
     ]
    },
    {
     "name": "stdout",
     "output_type": "stream",
     "text": [
      "Training Epoch 28/100,  Training BCE Loss: 1.0046,  Training DICE: 0.0230,  Training IOU: 0.5588,  Training Sensitivity: 0.9639,  Validation BCE Loss: 1.0068,  Validation DICE: 0.0196,  Validation IOU: 0.3867,  Validation Sensitivity: 0.7279\n",
      "Saved new best model based on DICE metric!\n"
     ]
    },
    {
     "name": "stderr",
     "output_type": "stream",
     "text": [
      "100%|██████████| 298/298 [06:58<00:00,  1.40s/it, loss=1, iou=0.569, dice=0.0248, sensitivity=0.966] \n",
      "100%|██████████| 100/100 [00:47<00:00,  2.09it/s, val_loss=1, val_iou=0.422, val_dice=0.0202, val_sensitivity=0.691]   \n"
     ]
    },
    {
     "name": "stdout",
     "output_type": "stream",
     "text": [
      "Training Epoch 29/100,  Training BCE Loss: 1.0008,  Training DICE: 0.0248,  Training IOU: 0.5687,  Training Sensitivity: 0.9659,  Validation BCE Loss: 1.0039,  Validation DICE: 0.0202,  Validation IOU: 0.4217,  Validation Sensitivity: 0.6914\n",
      "Saved new best model based on DICE metric!\n"
     ]
    },
    {
     "name": "stderr",
     "output_type": "stream",
     "text": [
      "100%|██████████| 298/298 [06:58<00:00,  1.41s/it, loss=0.997, iou=0.567, dice=0.0268, sensitivity=0.966]\n",
      "100%|██████████| 100/100 [00:48<00:00,  2.08it/s, val_loss=1, val_iou=0.417, val_dice=0.0227, val_sensitivity=0.726]   \n"
     ]
    },
    {
     "name": "stdout",
     "output_type": "stream",
     "text": [
      "Training Epoch 30/100,  Training BCE Loss: 0.9969,  Training DICE: 0.0268,  Training IOU: 0.5675,  Training Sensitivity: 0.9657,  Validation BCE Loss: 0.9998,  Validation DICE: 0.0227,  Validation IOU: 0.4172,  Validation Sensitivity: 0.7261\n",
      "Saved new best model based on DICE metric!\n"
     ]
    },
    {
     "name": "stderr",
     "output_type": "stream",
     "text": [
      "100%|██████████| 298/298 [06:58<00:00,  1.41s/it, loss=0.993, iou=0.563, dice=0.0291, sensitivity=0.967]\n",
      "100%|██████████| 100/100 [00:47<00:00,  2.09it/s, val_loss=0.996, val_iou=0.389, val_dice=0.0253, val_sensitivity=0.746]\n"
     ]
    },
    {
     "name": "stdout",
     "output_type": "stream",
     "text": [
      "Training Epoch 31/100,  Training BCE Loss: 0.9930,  Training DICE: 0.0291,  Training IOU: 0.5625,  Training Sensitivity: 0.9670,  Validation BCE Loss: 0.9958,  Validation DICE: 0.0253,  Validation IOU: 0.3894,  Validation Sensitivity: 0.7465\n",
      "Saved new best model based on DICE metric!\n"
     ]
    },
    {
     "name": "stderr",
     "output_type": "stream",
     "text": [
      "100%|██████████| 298/298 [06:58<00:00,  1.40s/it, loss=0.989, iou=0.559, dice=0.0314, sensitivity=0.967]\n",
      "100%|██████████| 100/100 [00:48<00:00,  2.07it/s, val_loss=0.993, val_iou=0.417, val_dice=0.0264, val_sensitivity=0.706]\n"
     ]
    },
    {
     "name": "stdout",
     "output_type": "stream",
     "text": [
      "Training Epoch 32/100,  Training BCE Loss: 0.9890,  Training DICE: 0.0314,  Training IOU: 0.5589,  Training Sensitivity: 0.9668,  Validation BCE Loss: 0.9933,  Validation DICE: 0.0264,  Validation IOU: 0.4168,  Validation Sensitivity: 0.7056\n",
      "Saved new best model based on DICE metric!\n"
     ]
    },
    {
     "name": "stderr",
     "output_type": "stream",
     "text": [
      "100%|██████████| 298/298 [06:58<00:00,  1.40s/it, loss=0.985, iou=0.544, dice=0.0341, sensitivity=0.967]\n",
      "100%|██████████| 100/100 [00:48<00:00,  2.08it/s, val_loss=0.989, val_iou=0.353, val_dice=0.0296, val_sensitivity=0.779]\n"
     ]
    },
    {
     "name": "stdout",
     "output_type": "stream",
     "text": [
      "Training Epoch 33/100,  Training BCE Loss: 0.9849,  Training DICE: 0.0341,  Training IOU: 0.5437,  Training Sensitivity: 0.9674,  Validation BCE Loss: 0.9895,  Validation DICE: 0.0296,  Validation IOU: 0.3532,  Validation Sensitivity: 0.7786\n",
      "Saved new best model based on DICE metric!\n"
     ]
    },
    {
     "name": "stderr",
     "output_type": "stream",
     "text": [
      "100%|██████████| 298/298 [06:58<00:00,  1.41s/it, loss=0.98, iou=0.549, dice=0.0372, sensitivity=0.969] \n",
      "100%|██████████| 100/100 [00:47<00:00,  2.08it/s, val_loss=0.988, val_iou=0.437, val_dice=0.0292, val_sensitivity=0.69]\n"
     ]
    },
    {
     "name": "stdout",
     "output_type": "stream",
     "text": [
      "Training Epoch 34/100,  Training BCE Loss: 0.9804,  Training DICE: 0.0372,  Training IOU: 0.5495,  Training Sensitivity: 0.9692,  Validation BCE Loss: 0.9876,  Validation DICE: 0.0292,  Validation IOU: 0.4370,  Validation Sensitivity: 0.6904\n"
     ]
    },
    {
     "name": "stderr",
     "output_type": "stream",
     "text": [
      "100%|██████████| 298/298 [06:58<00:00,  1.41s/it, loss=0.975, iou=0.596, dice=0.0407, sensitivity=0.975]\n",
      "100%|██████████| 100/100 [00:48<00:00,  2.08it/s, val_loss=0.984, val_iou=0.44, val_dice=0.0315, val_sensitivity=0.685]\n"
     ]
    },
    {
     "name": "stdout",
     "output_type": "stream",
     "text": [
      "Training Epoch 35/100,  Training BCE Loss: 0.9754,  Training DICE: 0.0407,  Training IOU: 0.5959,  Training Sensitivity: 0.9750,  Validation BCE Loss: 0.9839,  Validation DICE: 0.0315,  Validation IOU: 0.4399,  Validation Sensitivity: 0.6847\n",
      "Saved new best model based on DICE metric!\n"
     ]
    },
    {
     "name": "stderr",
     "output_type": "stream",
     "text": [
      "100%|██████████| 298/298 [06:58<00:00,  1.41s/it, loss=0.971, iou=0.58, dice=0.0442, sensitivity=0.974] \n",
      "100%|██████████| 100/100 [00:48<00:00,  2.07it/s, val_loss=0.976, val_iou=0.422, val_dice=0.0376, val_sensitivity=0.672]\n"
     ]
    },
    {
     "name": "stdout",
     "output_type": "stream",
     "text": [
      "Training Epoch 36/100,  Training BCE Loss: 0.9706,  Training DICE: 0.0442,  Training IOU: 0.5796,  Training Sensitivity: 0.9741,  Validation BCE Loss: 0.9756,  Validation DICE: 0.0376,  Validation IOU: 0.4220,  Validation Sensitivity: 0.6725\n",
      "Saved new best model based on DICE metric!\n"
     ]
    },
    {
     "name": "stderr",
     "output_type": "stream",
     "text": [
      "100%|██████████| 298/298 [06:59<00:00,  1.41s/it, loss=0.965, iou=0.612, dice=0.0482, sensitivity=0.977]\n",
      "100%|██████████| 100/100 [00:47<00:00,  2.09it/s, val_loss=0.979, val_iou=0.394, val_dice=0.0354, val_sensitivity=0.7] \n"
     ]
    },
    {
     "name": "stdout",
     "output_type": "stream",
     "text": [
      "Training Epoch 37/100,  Training BCE Loss: 0.9649,  Training DICE: 0.0482,  Training IOU: 0.6122,  Training Sensitivity: 0.9767,  Validation BCE Loss: 0.9787,  Validation DICE: 0.0354,  Validation IOU: 0.3937,  Validation Sensitivity: 0.7002\n"
     ]
    },
    {
     "name": "stderr",
     "output_type": "stream",
     "text": [
      "100%|██████████| 298/298 [06:58<00:00,  1.41s/it, loss=0.959, iou=0.62, dice=0.0523, sensitivity=0.978] \n",
      "100%|██████████| 100/100 [00:48<00:00,  2.08it/s, val_loss=0.974, val_iou=0.425, val_dice=0.0391, val_sensitivity=0.69]\n"
     ]
    },
    {
     "name": "stdout",
     "output_type": "stream",
     "text": [
      "Training Epoch 38/100,  Training BCE Loss: 0.9591,  Training DICE: 0.0523,  Training IOU: 0.6201,  Training Sensitivity: 0.9781,  Validation BCE Loss: 0.9739,  Validation DICE: 0.0391,  Validation IOU: 0.4253,  Validation Sensitivity: 0.6902\n",
      "Saved new best model based on DICE metric!\n"
     ]
    },
    {
     "name": "stderr",
     "output_type": "stream",
     "text": [
      "100%|██████████| 298/298 [06:58<00:00,  1.41s/it, loss=0.954, iou=0.581, dice=0.0565, sensitivity=0.971]\n",
      "100%|██████████| 100/100 [00:48<00:00,  2.06it/s, val_loss=0.962, val_iou=0.428, val_dice=0.0478, val_sensitivity=0.636]\n"
     ]
    },
    {
     "name": "stdout",
     "output_type": "stream",
     "text": [
      "Training Epoch 39/100,  Training BCE Loss: 0.9538,  Training DICE: 0.0565,  Training IOU: 0.5815,  Training Sensitivity: 0.9711,  Validation BCE Loss: 0.9623,  Validation DICE: 0.0478,  Validation IOU: 0.4281,  Validation Sensitivity: 0.6362\n",
      "Saved new best model based on DICE metric!\n"
     ]
    },
    {
     "name": "stderr",
     "output_type": "stream",
     "text": [
      "100%|██████████| 298/298 [06:58<00:00,  1.40s/it, loss=0.947, iou=0.602, dice=0.0601, sensitivity=0.975]\n",
      "100%|██████████| 100/100 [00:47<00:00,  2.10it/s, val_loss=0.959, val_iou=0.403, val_dice=0.0511, val_sensitivity=0.698]\n"
     ]
    },
    {
     "name": "stdout",
     "output_type": "stream",
     "text": [
      "Training Epoch 40/100,  Training BCE Loss: 0.9467,  Training DICE: 0.0601,  Training IOU: 0.6016,  Training Sensitivity: 0.9747,  Validation BCE Loss: 0.9594,  Validation DICE: 0.0511,  Validation IOU: 0.4035,  Validation Sensitivity: 0.6978\n",
      "Saved new best model based on DICE metric!\n"
     ]
    },
    {
     "name": "stderr",
     "output_type": "stream",
     "text": [
      "100%|██████████| 298/298 [06:58<00:00,  1.41s/it, loss=0.939, iou=0.612, dice=0.0629, sensitivity=0.976]\n",
      "100%|██████████| 100/100 [00:48<00:00,  2.08it/s, val_loss=0.956, val_iou=0.396, val_dice=0.0553, val_sensitivity=0.744]\n"
     ]
    },
    {
     "name": "stdout",
     "output_type": "stream",
     "text": [
      "Training Epoch 41/100,  Training BCE Loss: 0.9394,  Training DICE: 0.0629,  Training IOU: 0.6124,  Training Sensitivity: 0.9756,  Validation BCE Loss: 0.9557,  Validation DICE: 0.0553,  Validation IOU: 0.3961,  Validation Sensitivity: 0.7437\n",
      "Saved new best model based on DICE metric!\n"
     ]
    },
    {
     "name": "stderr",
     "output_type": "stream",
     "text": [
      "100%|██████████| 298/298 [06:58<00:00,  1.40s/it, loss=0.931, iou=0.615, dice=0.0597, sensitivity=0.974]\n",
      "100%|██████████| 100/100 [00:47<00:00,  2.09it/s, val_loss=0.957, val_iou=0.401, val_dice=0.0527, val_sensitivity=0.716]\n"
     ]
    },
    {
     "name": "stdout",
     "output_type": "stream",
     "text": [
      "Training Epoch 42/100,  Training BCE Loss: 0.9306,  Training DICE: 0.0597,  Training IOU: 0.6151,  Training Sensitivity: 0.9735,  Validation BCE Loss: 0.9569,  Validation DICE: 0.0527,  Validation IOU: 0.4009,  Validation Sensitivity: 0.7164\n"
     ]
    },
    {
     "name": "stderr",
     "output_type": "stream",
     "text": [
      "100%|██████████| 298/298 [06:58<00:00,  1.41s/it, loss=0.923, iou=0.566, dice=0.0548, sensitivity=0.959]\n",
      "100%|██████████| 100/100 [00:48<00:00,  2.08it/s, val_loss=0.942, val_iou=0.378, val_dice=0.0671, val_sensitivity=0.702]\n"
     ]
    },
    {
     "name": "stdout",
     "output_type": "stream",
     "text": [
      "Training Epoch 43/100,  Training BCE Loss: 0.9231,  Training DICE: 0.0548,  Training IOU: 0.5660,  Training Sensitivity: 0.9594,  Validation BCE Loss: 0.9417,  Validation DICE: 0.0671,  Validation IOU: 0.3781,  Validation Sensitivity: 0.7022\n",
      "Saved new best model based on DICE metric!\n"
     ]
    },
    {
     "name": "stderr",
     "output_type": "stream",
     "text": [
      "100%|██████████| 298/298 [06:58<00:00,  1.40s/it, loss=0.912, iou=0.581, dice=0.0507, sensitivity=0.96] \n",
      "100%|██████████| 100/100 [00:48<00:00,  2.07it/s, val_loss=0.926, val_iou=0.433, val_dice=0.0775, val_sensitivity=0.677]\n"
     ]
    },
    {
     "name": "stdout",
     "output_type": "stream",
     "text": [
      "Training Epoch 44/100,  Training BCE Loss: 0.9119,  Training DICE: 0.0507,  Training IOU: 0.5807,  Training Sensitivity: 0.9596,  Validation BCE Loss: 0.9262,  Validation DICE: 0.0775,  Validation IOU: 0.4329,  Validation Sensitivity: 0.6769\n",
      "Saved new best model based on DICE metric!\n"
     ]
    },
    {
     "name": "stderr",
     "output_type": "stream",
     "text": [
      "100%|██████████| 298/298 [06:59<00:00,  1.41s/it, loss=0.901, iou=0.584, dice=0.0489, sensitivity=0.959]\n",
      "100%|██████████| 100/100 [00:48<00:00,  2.08it/s, val_loss=0.925, val_iou=0.414, val_dice=0.0779, val_sensitivity=0.704]\n"
     ]
    },
    {
     "name": "stdout",
     "output_type": "stream",
     "text": [
      "Training Epoch 45/100,  Training BCE Loss: 0.9015,  Training DICE: 0.0489,  Training IOU: 0.5838,  Training Sensitivity: 0.9590,  Validation BCE Loss: 0.9254,  Validation DICE: 0.0779,  Validation IOU: 0.4135,  Validation Sensitivity: 0.7042\n",
      "Saved new best model based on DICE metric!\n"
     ]
    },
    {
     "name": "stderr",
     "output_type": "stream",
     "text": [
      "100%|██████████| 298/298 [06:59<00:00,  1.41s/it, loss=0.886, iou=0.624, dice=0.041, sensitivity=0.962] \n",
      "100%|██████████| 100/100 [00:48<00:00,  2.08it/s, val_loss=0.904, val_iou=0.422, val_dice=0.095, val_sensitivity=0.646]\n"
     ]
    },
    {
     "name": "stdout",
     "output_type": "stream",
     "text": [
      "Training Epoch 46/100,  Training BCE Loss: 0.8859,  Training DICE: 0.0410,  Training IOU: 0.6241,  Training Sensitivity: 0.9624,  Validation BCE Loss: 0.9040,  Validation DICE: 0.0950,  Validation IOU: 0.4216,  Validation Sensitivity: 0.6458\n",
      "Saved new best model based on DICE metric!\n"
     ]
    },
    {
     "name": "stderr",
     "output_type": "stream",
     "text": [
      "100%|██████████| 298/298 [06:58<00:00,  1.40s/it, loss=0.873, iou=0.631, dice=0.0418, sensitivity=0.961]\n",
      "100%|██████████| 100/100 [00:47<00:00,  2.10it/s, val_loss=0.897, val_iou=0.428, val_dice=0.1, val_sensitivity=0.68]   \n"
     ]
    },
    {
     "name": "stdout",
     "output_type": "stream",
     "text": [
      "Training Epoch 47/100,  Training BCE Loss: 0.8733,  Training DICE: 0.0418,  Training IOU: 0.6315,  Training Sensitivity: 0.9609,  Validation BCE Loss: 0.8972,  Validation DICE: 0.1001,  Validation IOU: 0.4282,  Validation Sensitivity: 0.6804\n",
      "Saved new best model based on DICE metric!\n"
     ]
    },
    {
     "name": "stderr",
     "output_type": "stream",
     "text": [
      "100%|██████████| 298/298 [06:59<00:00,  1.41s/it, loss=0.861, iou=0.613, dice=0.042, sensitivity=0.956] \n",
      "100%|██████████| 100/100 [00:48<00:00,  2.08it/s, val_loss=0.933, val_iou=0.424, val_dice=0.0727, val_sensitivity=0.621]\n"
     ]
    },
    {
     "name": "stdout",
     "output_type": "stream",
     "text": [
      "Training Epoch 48/100,  Training BCE Loss: 0.8610,  Training DICE: 0.0420,  Training IOU: 0.6127,  Training Sensitivity: 0.9562,  Validation BCE Loss: 0.9334,  Validation DICE: 0.0727,  Validation IOU: 0.4236,  Validation Sensitivity: 0.6209\n"
     ]
    },
    {
     "name": "stderr",
     "output_type": "stream",
     "text": [
      "100%|██████████| 298/298 [06:58<00:00,  1.41s/it, loss=0.844, iou=0.642, dice=0.0383, sensitivity=0.957]\n",
      "100%|██████████| 100/100 [00:48<00:00,  2.07it/s, val_loss=0.886, val_iou=0.453, val_dice=0.109, val_sensitivity=0.689]\n"
     ]
    },
    {
     "name": "stdout",
     "output_type": "stream",
     "text": [
      "Training Epoch 49/100,  Training BCE Loss: 0.8445,  Training DICE: 0.0383,  Training IOU: 0.6424,  Training Sensitivity: 0.9567,  Validation BCE Loss: 0.8861,  Validation DICE: 0.1094,  Validation IOU: 0.4530,  Validation Sensitivity: 0.6891\n",
      "Saved new best model based on DICE metric!\n"
     ]
    },
    {
     "name": "stderr",
     "output_type": "stream",
     "text": [
      "100%|██████████| 298/298 [06:59<00:00,  1.41s/it, loss=0.829, iou=0.639, dice=0.0384, sensitivity=0.956]\n",
      "100%|██████████| 100/100 [00:47<00:00,  2.09it/s, val_loss=0.874, val_iou=0.296, val_dice=0.12, val_sensitivity=0.775] \n"
     ]
    },
    {
     "name": "stdout",
     "output_type": "stream",
     "text": [
      "Training Epoch 50/100,  Training BCE Loss: 0.8288,  Training DICE: 0.0384,  Training IOU: 0.6386,  Training Sensitivity: 0.9562,  Validation BCE Loss: 0.8738,  Validation DICE: 0.1202,  Validation IOU: 0.2964,  Validation Sensitivity: 0.7747\n",
      "Saved new best model based on DICE metric!\n"
     ]
    },
    {
     "name": "stderr",
     "output_type": "stream",
     "text": [
      "100%|██████████| 298/298 [06:59<00:00,  1.41s/it, loss=0.816, iou=0.649, dice=0.0392, sensitivity=0.955]\n",
      "100%|██████████| 100/100 [00:47<00:00,  2.09it/s, val_loss=0.862, val_iou=0.413, val_dice=0.137, val_sensitivity=0.683]\n"
     ]
    },
    {
     "name": "stdout",
     "output_type": "stream",
     "text": [
      "Training Epoch 51/100,  Training BCE Loss: 0.8165,  Training DICE: 0.0392,  Training IOU: 0.6493,  Training Sensitivity: 0.9550,  Validation BCE Loss: 0.8624,  Validation DICE: 0.1370,  Validation IOU: 0.4127,  Validation Sensitivity: 0.6831\n",
      "Saved new best model based on DICE metric!\n"
     ]
    },
    {
     "name": "stderr",
     "output_type": "stream",
     "text": [
      "100%|██████████| 298/298 [06:59<00:00,  1.41s/it, loss=0.799, iou=0.655, dice=0.0405, sensitivity=0.952]\n",
      "100%|██████████| 100/100 [00:48<00:00,  2.07it/s, val_loss=0.868, val_iou=0.416, val_dice=0.132, val_sensitivity=0.628]\n"
     ]
    },
    {
     "name": "stdout",
     "output_type": "stream",
     "text": [
      "Training Epoch 52/100,  Training BCE Loss: 0.7993,  Training DICE: 0.0405,  Training IOU: 0.6553,  Training Sensitivity: 0.9522,  Validation BCE Loss: 0.8676,  Validation DICE: 0.1321,  Validation IOU: 0.4155,  Validation Sensitivity: 0.6278\n"
     ]
    },
    {
     "name": "stderr",
     "output_type": "stream",
     "text": [
      "100%|██████████| 298/298 [06:59<00:00,  1.41s/it, loss=0.784, iou=0.637, dice=0.0395, sensitivity=0.951]\n",
      "100%|██████████| 100/100 [00:48<00:00,  2.06it/s, val_loss=0.875, val_iou=0.454, val_dice=0.124, val_sensitivity=0.622]\n"
     ]
    },
    {
     "name": "stdout",
     "output_type": "stream",
     "text": [
      "Training Epoch 53/100,  Training BCE Loss: 0.7839,  Training DICE: 0.0395,  Training IOU: 0.6370,  Training Sensitivity: 0.9509,  Validation BCE Loss: 0.8749,  Validation DICE: 0.1240,  Validation IOU: 0.4544,  Validation Sensitivity: 0.6220\n"
     ]
    },
    {
     "name": "stderr",
     "output_type": "stream",
     "text": [
      "100%|██████████| 298/298 [06:59<00:00,  1.41s/it, loss=0.767, iou=0.673, dice=0.0411, sensitivity=0.949]\n",
      "100%|██████████| 100/100 [00:48<00:00,  2.08it/s, val_loss=0.832, val_iou=0.437, val_dice=0.167, val_sensitivity=0.581]\n"
     ]
    },
    {
     "name": "stdout",
     "output_type": "stream",
     "text": [
      "Training Epoch 54/100,  Training BCE Loss: 0.7674,  Training DICE: 0.0411,  Training IOU: 0.6728,  Training Sensitivity: 0.9494,  Validation BCE Loss: 0.8316,  Validation DICE: 0.1666,  Validation IOU: 0.4371,  Validation Sensitivity: 0.5807\n",
      "Saved new best model based on DICE metric!\n"
     ]
    },
    {
     "name": "stderr",
     "output_type": "stream",
     "text": [
      "100%|██████████| 298/298 [06:59<00:00,  1.41s/it, loss=0.755, iou=0.655, dice=0.0437, sensitivity=0.945]\n",
      "100%|██████████| 100/100 [00:48<00:00,  2.07it/s, val_loss=0.796, val_iou=0.435, val_dice=0.197, val_sensitivity=0.689]\n"
     ]
    },
    {
     "name": "stdout",
     "output_type": "stream",
     "text": [
      "Training Epoch 55/100,  Training BCE Loss: 0.7554,  Training DICE: 0.0437,  Training IOU: 0.6548,  Training Sensitivity: 0.9449,  Validation BCE Loss: 0.7960,  Validation DICE: 0.1965,  Validation IOU: 0.4352,  Validation Sensitivity: 0.6886\n",
      "Saved new best model based on DICE metric!\n"
     ]
    },
    {
     "name": "stderr",
     "output_type": "stream",
     "text": [
      "100%|██████████| 298/298 [06:59<00:00,  1.41s/it, loss=0.732, iou=0.672, dice=0.043, sensitivity=0.949] \n",
      "100%|██████████| 100/100 [00:48<00:00,  2.06it/s, val_loss=0.825, val_iou=0.451, val_dice=0.172, val_sensitivity=0.621]\n"
     ]
    },
    {
     "name": "stdout",
     "output_type": "stream",
     "text": [
      "Training Epoch 56/100,  Training BCE Loss: 0.7324,  Training DICE: 0.0430,  Training IOU: 0.6715,  Training Sensitivity: 0.9493,  Validation BCE Loss: 0.8247,  Validation DICE: 0.1725,  Validation IOU: 0.4509,  Validation Sensitivity: 0.6206\n"
     ]
    },
    {
     "name": "stderr",
     "output_type": "stream",
     "text": [
      "100%|██████████| 298/298 [06:59<00:00,  1.41s/it, loss=0.721, iou=0.67, dice=0.0485, sensitivity=0.947] \n",
      "100%|██████████| 100/100 [00:48<00:00,  2.08it/s, val_loss=0.793, val_iou=0.45, val_dice=0.203, val_sensitivity=0.669]\n"
     ]
    },
    {
     "name": "stdout",
     "output_type": "stream",
     "text": [
      "Training Epoch 57/100,  Training BCE Loss: 0.7209,  Training DICE: 0.0485,  Training IOU: 0.6696,  Training Sensitivity: 0.9474,  Validation BCE Loss: 0.7927,  Validation DICE: 0.2031,  Validation IOU: 0.4499,  Validation Sensitivity: 0.6688\n",
      "Saved new best model based on DICE metric!\n"
     ]
    },
    {
     "name": "stderr",
     "output_type": "stream",
     "text": [
      "100%|██████████| 298/298 [06:59<00:00,  1.41s/it, loss=0.701, iou=0.688, dice=0.048, sensitivity=0.948] \n",
      "100%|██████████| 100/100 [00:48<00:00,  2.08it/s, val_loss=0.82, val_iou=0.438, val_dice=0.178, val_sensitivity=0.616]\n"
     ]
    },
    {
     "name": "stdout",
     "output_type": "stream",
     "text": [
      "Training Epoch 58/100,  Training BCE Loss: 0.7011,  Training DICE: 0.0480,  Training IOU: 0.6877,  Training Sensitivity: 0.9478,  Validation BCE Loss: 0.8198,  Validation DICE: 0.1779,  Validation IOU: 0.4382,  Validation Sensitivity: 0.6163\n"
     ]
    },
    {
     "name": "stderr",
     "output_type": "stream",
     "text": [
      "100%|██████████| 298/298 [06:59<00:00,  1.41s/it, loss=0.687, iou=0.689, dice=0.0514, sensitivity=0.946]\n",
      "100%|██████████| 100/100 [00:49<00:00,  2.02it/s, val_loss=0.817, val_iou=0.444, val_dice=0.178, val_sensitivity=0.636]\n"
     ]
    },
    {
     "name": "stdout",
     "output_type": "stream",
     "text": [
      "Training Epoch 59/100,  Training BCE Loss: 0.6865,  Training DICE: 0.0514,  Training IOU: 0.6889,  Training Sensitivity: 0.9464,  Validation BCE Loss: 0.8171,  Validation DICE: 0.1776,  Validation IOU: 0.4444,  Validation Sensitivity: 0.6362\n"
     ]
    },
    {
     "name": "stderr",
     "output_type": "stream",
     "text": [
      "100%|██████████| 298/298 [06:59<00:00,  1.41s/it, loss=0.67, iou=0.704, dice=0.0536, sensitivity=0.948] \n",
      "100%|██████████| 100/100 [00:48<00:00,  2.06it/s, val_loss=0.785, val_iou=0.454, val_dice=0.209, val_sensitivity=0.644]\n"
     ]
    },
    {
     "name": "stdout",
     "output_type": "stream",
     "text": [
      "Training Epoch 60/100,  Training BCE Loss: 0.6696,  Training DICE: 0.0536,  Training IOU: 0.7045,  Training Sensitivity: 0.9475,  Validation BCE Loss: 0.7850,  Validation DICE: 0.2085,  Validation IOU: 0.4543,  Validation Sensitivity: 0.6438\n",
      "Saved new best model based on DICE metric!\n"
     ]
    },
    {
     "name": "stderr",
     "output_type": "stream",
     "text": [
      "100%|██████████| 298/298 [06:59<00:00,  1.41s/it, loss=0.655, iou=0.68, dice=0.0571, sensitivity=0.944] \n",
      "100%|██████████| 100/100 [00:48<00:00,  2.07it/s, val_loss=0.813, val_iou=0.427, val_dice=0.191, val_sensitivity=0.529]\n"
     ]
    },
    {
     "name": "stdout",
     "output_type": "stream",
     "text": [
      "Training Epoch 61/100,  Training BCE Loss: 0.6553,  Training DICE: 0.0571,  Training IOU: 0.6801,  Training Sensitivity: 0.9442,  Validation BCE Loss: 0.8131,  Validation DICE: 0.1914,  Validation IOU: 0.4272,  Validation Sensitivity: 0.5287\n"
     ]
    },
    {
     "name": "stderr",
     "output_type": "stream",
     "text": [
      "100%|██████████| 298/298 [06:59<00:00,  1.41s/it, loss=0.64, iou=0.699, dice=0.0629, sensitivity=0.946] \n",
      "100%|██████████| 100/100 [00:48<00:00,  2.08it/s, val_loss=0.803, val_iou=0.444, val_dice=0.196, val_sensitivity=0.566]\n"
     ]
    },
    {
     "name": "stdout",
     "output_type": "stream",
     "text": [
      "Training Epoch 62/100,  Training BCE Loss: 0.6402,  Training DICE: 0.0629,  Training IOU: 0.6995,  Training Sensitivity: 0.9456,  Validation BCE Loss: 0.8028,  Validation DICE: 0.1956,  Validation IOU: 0.4439,  Validation Sensitivity: 0.5656\n"
     ]
    },
    {
     "name": "stderr",
     "output_type": "stream",
     "text": [
      "100%|██████████| 298/298 [06:59<00:00,  1.41s/it, loss=0.627, iou=0.669, dice=0.0663, sensitivity=0.934]\n",
      "100%|██████████| 100/100 [00:48<00:00,  2.08it/s, val_loss=0.757, val_iou=0.445, val_dice=0.239, val_sensitivity=0.694]\n"
     ]
    },
    {
     "name": "stdout",
     "output_type": "stream",
     "text": [
      "Training Epoch 63/100,  Training BCE Loss: 0.6271,  Training DICE: 0.0663,  Training IOU: 0.6689,  Training Sensitivity: 0.9345,  Validation BCE Loss: 0.7566,  Validation DICE: 0.2392,  Validation IOU: 0.4447,  Validation Sensitivity: 0.6943\n",
      "Saved new best model based on DICE metric!\n"
     ]
    },
    {
     "name": "stderr",
     "output_type": "stream",
     "text": [
      "100%|██████████| 298/298 [06:59<00:00,  1.41s/it, loss=0.608, iou=0.703, dice=0.0747, sensitivity=0.942]\n",
      "100%|██████████| 100/100 [00:48<00:00,  2.08it/s, val_loss=0.754, val_iou=0.468, val_dice=0.242, val_sensitivity=0.638]\n"
     ]
    },
    {
     "name": "stdout",
     "output_type": "stream",
     "text": [
      "Training Epoch 64/100,  Training BCE Loss: 0.6083,  Training DICE: 0.0747,  Training IOU: 0.7032,  Training Sensitivity: 0.9419,  Validation BCE Loss: 0.7542,  Validation DICE: 0.2419,  Validation IOU: 0.4684,  Validation Sensitivity: 0.6383\n",
      "Saved new best model based on DICE metric!\n"
     ]
    },
    {
     "name": "stderr",
     "output_type": "stream",
     "text": [
      "100%|██████████| 298/298 [06:59<00:00,  1.41s/it, loss=0.591, iou=0.708, dice=0.0788, sensitivity=0.942]\n",
      "100%|██████████| 100/100 [00:47<00:00,  2.09it/s, val_loss=0.79, val_iou=0.391, val_dice=0.216, val_sensitivity=0.561]\n"
     ]
    },
    {
     "name": "stdout",
     "output_type": "stream",
     "text": [
      "Training Epoch 65/100,  Training BCE Loss: 0.5913,  Training DICE: 0.0788,  Training IOU: 0.7079,  Training Sensitivity: 0.9418,  Validation BCE Loss: 0.7900,  Validation DICE: 0.2161,  Validation IOU: 0.3908,  Validation Sensitivity: 0.5605\n"
     ]
    },
    {
     "name": "stderr",
     "output_type": "stream",
     "text": [
      "100%|██████████| 298/298 [06:59<00:00,  1.41s/it, loss=0.577, iou=0.69, dice=0.0909, sensitivity=0.942] \n",
      "100%|██████████| 100/100 [00:48<00:00,  2.06it/s, val_loss=0.742, val_iou=0.452, val_dice=0.264, val_sensitivity=0.618]\n"
     ]
    },
    {
     "name": "stdout",
     "output_type": "stream",
     "text": [
      "Training Epoch 66/100,  Training BCE Loss: 0.5773,  Training DICE: 0.0909,  Training IOU: 0.6902,  Training Sensitivity: 0.9418,  Validation BCE Loss: 0.7418,  Validation DICE: 0.2636,  Validation IOU: 0.4519,  Validation Sensitivity: 0.6181\n",
      "Saved new best model based on DICE metric!\n"
     ]
    },
    {
     "name": "stderr",
     "output_type": "stream",
     "text": [
      "100%|██████████| 298/298 [06:59<00:00,  1.41s/it, loss=0.565, iou=0.708, dice=0.127, sensitivity=0.938] \n",
      "100%|██████████| 100/100 [00:47<00:00,  2.09it/s, val_loss=0.731, val_iou=0.453, val_dice=0.277, val_sensitivity=0.603]\n"
     ]
    },
    {
     "name": "stdout",
     "output_type": "stream",
     "text": [
      "Training Epoch 67/100,  Training BCE Loss: 0.5647,  Training DICE: 0.1267,  Training IOU: 0.7081,  Training Sensitivity: 0.9384,  Validation BCE Loss: 0.7309,  Validation DICE: 0.2773,  Validation IOU: 0.4531,  Validation Sensitivity: 0.6033\n",
      "Saved new best model based on DICE metric!\n"
     ]
    },
    {
     "name": "stderr",
     "output_type": "stream",
     "text": [
      "100%|██████████| 298/298 [06:59<00:00,  1.41s/it, loss=0.544, iou=0.739, dice=0.372, sensitivity=0.942]\n",
      "100%|██████████| 100/100 [00:47<00:00,  2.08it/s, val_loss=0.676, val_iou=0.451, val_dice=0.368, val_sensitivity=0.664]\n"
     ]
    },
    {
     "name": "stdout",
     "output_type": "stream",
     "text": [
      "Training Epoch 68/100,  Training BCE Loss: 0.5439,  Training DICE: 0.3720,  Training IOU: 0.7392,  Training Sensitivity: 0.9415,  Validation BCE Loss: 0.6756,  Validation DICE: 0.3677,  Validation IOU: 0.4510,  Validation Sensitivity: 0.6636\n",
      "Saved new best model based on DICE metric!\n"
     ]
    },
    {
     "name": "stderr",
     "output_type": "stream",
     "text": [
      "100%|██████████| 298/298 [06:59<00:00,  1.41s/it, loss=0.52, iou=0.773, dice=0.576, sensitivity=0.941] \n",
      "100%|██████████| 100/100 [00:49<00:00,  2.03it/s, val_loss=0.693, val_iou=0.467, val_dice=0.363, val_sensitivity=0.571]\n"
     ]
    },
    {
     "name": "stdout",
     "output_type": "stream",
     "text": [
      "Training Epoch 69/100,  Training BCE Loss: 0.5199,  Training DICE: 0.5755,  Training IOU: 0.7732,  Training Sensitivity: 0.9408,  Validation BCE Loss: 0.6930,  Validation DICE: 0.3631,  Validation IOU: 0.4670,  Validation Sensitivity: 0.5707\n"
     ]
    },
    {
     "name": "stderr",
     "output_type": "stream",
     "text": [
      "100%|██████████| 298/298 [06:59<00:00,  1.41s/it, loss=0.501, iou=0.762, dice=0.607, sensitivity=0.934]\n",
      "100%|██████████| 100/100 [00:48<00:00,  2.07it/s, val_loss=0.661, val_iou=0.474, val_dice=0.397, val_sensitivity=0.614]\n"
     ]
    },
    {
     "name": "stdout",
     "output_type": "stream",
     "text": [
      "Training Epoch 70/100,  Training BCE Loss: 0.5009,  Training DICE: 0.6071,  Training IOU: 0.7617,  Training Sensitivity: 0.9344,  Validation BCE Loss: 0.6607,  Validation DICE: 0.3971,  Validation IOU: 0.4741,  Validation Sensitivity: 0.6144\n",
      "Saved new best model based on DICE metric!\n"
     ]
    },
    {
     "name": "stderr",
     "output_type": "stream",
     "text": [
      "100%|██████████| 298/298 [06:59<00:00,  1.41s/it, loss=0.477, iou=0.782, dice=0.64, sensitivity=0.937] \n",
      "100%|██████████| 100/100 [00:48<00:00,  2.08it/s, val_loss=0.663, val_iou=0.471, val_dice=0.4, val_sensitivity=0.587] \n"
     ]
    },
    {
     "name": "stdout",
     "output_type": "stream",
     "text": [
      "Training Epoch 71/100,  Training BCE Loss: 0.4767,  Training DICE: 0.6398,  Training IOU: 0.7816,  Training Sensitivity: 0.9365,  Validation BCE Loss: 0.6625,  Validation DICE: 0.4005,  Validation IOU: 0.4711,  Validation Sensitivity: 0.5868\n",
      "Saved new best model based on DICE metric!\n"
     ]
    },
    {
     "name": "stderr",
     "output_type": "stream",
     "text": [
      "100%|██████████| 298/298 [06:59<00:00,  1.41s/it, loss=0.454, iou=0.792, dice=0.666, sensitivity=0.936]\n",
      "100%|██████████| 100/100 [00:48<00:00,  2.08it/s, val_loss=0.653, val_iou=0.463, val_dice=0.414, val_sensitivity=0.578]\n"
     ]
    },
    {
     "name": "stdout",
     "output_type": "stream",
     "text": [
      "Training Epoch 72/100,  Training BCE Loss: 0.4536,  Training DICE: 0.6663,  Training IOU: 0.7915,  Training Sensitivity: 0.9359,  Validation BCE Loss: 0.6527,  Validation DICE: 0.4144,  Validation IOU: 0.4633,  Validation Sensitivity: 0.5782\n",
      "Saved new best model based on DICE metric!\n"
     ]
    },
    {
     "name": "stderr",
     "output_type": "stream",
     "text": [
      "100%|██████████| 298/298 [06:59<00:00,  1.41s/it, loss=0.435, iou=0.792, dice=0.686, sensitivity=0.936]\n",
      "100%|██████████| 100/100 [00:47<00:00,  2.09it/s, val_loss=0.646, val_iou=0.472, val_dice=0.42, val_sensitivity=0.572]\n"
     ]
    },
    {
     "name": "stdout",
     "output_type": "stream",
     "text": [
      "Training Epoch 73/100,  Training BCE Loss: 0.4352,  Training DICE: 0.6861,  Training IOU: 0.7921,  Training Sensitivity: 0.9363,  Validation BCE Loss: 0.6458,  Validation DICE: 0.4201,  Validation IOU: 0.4717,  Validation Sensitivity: 0.5719\n",
      "Saved new best model based on DICE metric!\n"
     ]
    },
    {
     "name": "stderr",
     "output_type": "stream",
     "text": [
      "100%|██████████| 298/298 [06:59<00:00,  1.41s/it, loss=0.42, iou=0.789, dice=0.701, sensitivity=0.931] \n",
      "100%|██████████| 100/100 [00:48<00:00,  2.07it/s, val_loss=0.657, val_iou=0.433, val_dice=0.406, val_sensitivity=0.551]\n"
     ]
    },
    {
     "name": "stdout",
     "output_type": "stream",
     "text": [
      "Training Epoch 74/100,  Training BCE Loss: 0.4197,  Training DICE: 0.7013,  Training IOU: 0.7885,  Training Sensitivity: 0.9312,  Validation BCE Loss: 0.6575,  Validation DICE: 0.4060,  Validation IOU: 0.4333,  Validation Sensitivity: 0.5505\n"
     ]
    },
    {
     "name": "stderr",
     "output_type": "stream",
     "text": [
      "100%|██████████| 298/298 [06:59<00:00,  1.41s/it, loss=0.401, iou=0.797, dice=0.722, sensitivity=0.931]\n",
      "100%|██████████| 100/100 [00:47<00:00,  2.09it/s, val_loss=0.605, val_iou=0.484, val_dice=0.472, val_sensitivity=0.602]\n"
     ]
    },
    {
     "name": "stdout",
     "output_type": "stream",
     "text": [
      "Training Epoch 75/100,  Training BCE Loss: 0.4007,  Training DICE: 0.7219,  Training IOU: 0.7968,  Training Sensitivity: 0.9308,  Validation BCE Loss: 0.6052,  Validation DICE: 0.4724,  Validation IOU: 0.4837,  Validation Sensitivity: 0.6022\n",
      "Saved new best model based on DICE metric!\n"
     ]
    },
    {
     "name": "stderr",
     "output_type": "stream",
     "text": [
      "100%|██████████| 298/298 [06:59<00:00,  1.41s/it, loss=0.384, iou=0.798, dice=0.736, sensitivity=0.929]\n",
      "100%|██████████| 100/100 [00:48<00:00,  2.07it/s, val_loss=0.622, val_iou=0.46, val_dice=0.456, val_sensitivity=0.55] \n"
     ]
    },
    {
     "name": "stdout",
     "output_type": "stream",
     "text": [
      "Training Epoch 76/100,  Training BCE Loss: 0.3838,  Training DICE: 0.7359,  Training IOU: 0.7983,  Training Sensitivity: 0.9292,  Validation BCE Loss: 0.6218,  Validation DICE: 0.4565,  Validation IOU: 0.4601,  Validation Sensitivity: 0.5495\n"
     ]
    },
    {
     "name": "stderr",
     "output_type": "stream",
     "text": [
      "100%|██████████| 298/298 [06:59<00:00,  1.41s/it, loss=0.364, iou=0.808, dice=0.755, sensitivity=0.933]\n",
      "100%|██████████| 100/100 [00:47<00:00,  2.09it/s, val_loss=0.612, val_iou=0.461, val_dice=0.462, val_sensitivity=0.557]\n"
     ]
    },
    {
     "name": "stdout",
     "output_type": "stream",
     "text": [
      "Training Epoch 77/100,  Training BCE Loss: 0.3636,  Training DICE: 0.7550,  Training IOU: 0.8082,  Training Sensitivity: 0.9333,  Validation BCE Loss: 0.6124,  Validation DICE: 0.4617,  Validation IOU: 0.4608,  Validation Sensitivity: 0.5567\n"
     ]
    },
    {
     "name": "stderr",
     "output_type": "stream",
     "text": [
      "100%|██████████| 298/298 [06:59<00:00,  1.41s/it, loss=0.356, iou=0.792, dice=0.758, sensitivity=0.926]\n",
      "100%|██████████| 100/100 [00:48<00:00,  2.08it/s, val_loss=0.61, val_iou=0.456, val_dice=0.472, val_sensitivity=0.54] \n"
     ]
    },
    {
     "name": "stdout",
     "output_type": "stream",
     "text": [
      "Training Epoch 78/100,  Training BCE Loss: 0.3560,  Training DICE: 0.7584,  Training IOU: 0.7925,  Training Sensitivity: 0.9257,  Validation BCE Loss: 0.6096,  Validation DICE: 0.4719,  Validation IOU: 0.4561,  Validation Sensitivity: 0.5396\n"
     ]
    },
    {
     "name": "stderr",
     "output_type": "stream",
     "text": [
      "100%|██████████| 298/298 [06:59<00:00,  1.41s/it, loss=0.333, iou=0.81, dice=0.778, sensitivity=0.932] \n",
      "100%|██████████| 100/100 [00:48<00:00,  2.08it/s, val_loss=0.58, val_iou=0.489, val_dice=0.506, val_sensitivity=0.585]\n"
     ]
    },
    {
     "name": "stdout",
     "output_type": "stream",
     "text": [
      "Training Epoch 79/100,  Training BCE Loss: 0.3329,  Training DICE: 0.7785,  Training IOU: 0.8100,  Training Sensitivity: 0.9321,  Validation BCE Loss: 0.5800,  Validation DICE: 0.5064,  Validation IOU: 0.4892,  Validation Sensitivity: 0.5851\n",
      "Saved new best model based on DICE metric!\n"
     ]
    },
    {
     "name": "stderr",
     "output_type": "stream",
     "text": [
      "100%|██████████| 298/298 [06:59<00:00,  1.41s/it, loss=0.323, iou=0.806, dice=0.788, sensitivity=0.928]\n",
      "100%|██████████| 100/100 [00:48<00:00,  2.08it/s, val_loss=0.576, val_iou=0.482, val_dice=0.508, val_sensitivity=0.584]\n"
     ]
    },
    {
     "name": "stdout",
     "output_type": "stream",
     "text": [
      "Training Epoch 80/100,  Training BCE Loss: 0.3230,  Training DICE: 0.7877,  Training IOU: 0.8062,  Training Sensitivity: 0.9280,  Validation BCE Loss: 0.5765,  Validation DICE: 0.5077,  Validation IOU: 0.4825,  Validation Sensitivity: 0.5842\n",
      "Saved new best model based on DICE metric!\n"
     ]
    },
    {
     "name": "stderr",
     "output_type": "stream",
     "text": [
      "100%|██████████| 298/298 [06:59<00:00,  1.41s/it, loss=0.31, iou=0.812, dice=0.801, sensitivity=0.93]  \n",
      "100%|██████████| 100/100 [00:47<00:00,  2.09it/s, val_loss=0.601, val_iou=0.437, val_dice=0.489, val_sensitivity=0.542]\n"
     ]
    },
    {
     "name": "stdout",
     "output_type": "stream",
     "text": [
      "Training Epoch 81/100,  Training BCE Loss: 0.3100,  Training DICE: 0.8006,  Training IOU: 0.8119,  Training Sensitivity: 0.9300,  Validation BCE Loss: 0.6008,  Validation DICE: 0.4887,  Validation IOU: 0.4372,  Validation Sensitivity: 0.5424\n"
     ]
    },
    {
     "name": "stderr",
     "output_type": "stream",
     "text": [
      "100%|██████████| 298/298 [06:59<00:00,  1.41s/it, loss=0.308, iou=0.793, dice=0.798, sensitivity=0.92] \n",
      "100%|██████████| 100/100 [00:48<00:00,  2.08it/s, val_loss=0.591, val_iou=0.462, val_dice=0.503, val_sensitivity=0.544]\n"
     ]
    },
    {
     "name": "stdout",
     "output_type": "stream",
     "text": [
      "Training Epoch 82/100,  Training BCE Loss: 0.3084,  Training DICE: 0.7983,  Training IOU: 0.7930,  Training Sensitivity: 0.9200,  Validation BCE Loss: 0.5910,  Validation DICE: 0.5026,  Validation IOU: 0.4621,  Validation Sensitivity: 0.5438\n"
     ]
    },
    {
     "name": "stderr",
     "output_type": "stream",
     "text": [
      "100%|██████████| 298/298 [06:59<00:00,  1.41s/it, loss=0.282, iou=0.82, dice=0.821, sensitivity=0.929] \n",
      "100%|██████████| 100/100 [00:48<00:00,  2.07it/s, val_loss=0.568, val_iou=0.473, val_dice=0.524, val_sensitivity=0.567]\n"
     ]
    },
    {
     "name": "stdout",
     "output_type": "stream",
     "text": [
      "Training Epoch 83/100,  Training BCE Loss: 0.2819,  Training DICE: 0.8215,  Training IOU: 0.8204,  Training Sensitivity: 0.9293,  Validation BCE Loss: 0.5679,  Validation DICE: 0.5242,  Validation IOU: 0.4734,  Validation Sensitivity: 0.5670\n",
      "Saved new best model based on DICE metric!\n"
     ]
    },
    {
     "name": "stderr",
     "output_type": "stream",
     "text": [
      "100%|██████████| 298/298 [06:59<00:00,  1.41s/it, loss=0.279, iou=0.808, dice=0.822, sensitivity=0.924]\n",
      "100%|██████████| 100/100 [00:47<00:00,  2.09it/s, val_loss=0.594, val_iou=0.449, val_dice=0.5, val_sensitivity=0.515] \n"
     ]
    },
    {
     "name": "stdout",
     "output_type": "stream",
     "text": [
      "Training Epoch 84/100,  Training BCE Loss: 0.2788,  Training DICE: 0.8216,  Training IOU: 0.8083,  Training Sensitivity: 0.9239,  Validation BCE Loss: 0.5945,  Validation DICE: 0.5001,  Validation IOU: 0.4488,  Validation Sensitivity: 0.5151\n"
     ]
    },
    {
     "name": "stderr",
     "output_type": "stream",
     "text": [
      "100%|██████████| 298/298 [06:59<00:00,  1.41s/it, loss=0.262, iou=0.82, dice=0.835, sensitivity=0.928] \n",
      "100%|██████████| 100/100 [00:48<00:00,  2.07it/s, val_loss=0.601, val_iou=0.439, val_dice=0.503, val_sensitivity=0.506]\n"
     ]
    },
    {
     "name": "stdout",
     "output_type": "stream",
     "text": [
      "Training Epoch 85/100,  Training BCE Loss: 0.2616,  Training DICE: 0.8354,  Training IOU: 0.8201,  Training Sensitivity: 0.9285,  Validation BCE Loss: 0.6009,  Validation DICE: 0.5035,  Validation IOU: 0.4390,  Validation Sensitivity: 0.5058\n"
     ]
    },
    {
     "name": "stderr",
     "output_type": "stream",
     "text": [
      "100%|██████████| 298/298 [06:59<00:00,  1.41s/it, loss=0.252, iou=0.821, dice=0.842, sensitivity=0.928]\n",
      "100%|██████████| 100/100 [00:47<00:00,  2.09it/s, val_loss=0.549, val_iou=0.481, val_dice=0.551, val_sensitivity=0.566]\n"
     ]
    },
    {
     "name": "stdout",
     "output_type": "stream",
     "text": [
      "Training Epoch 86/100,  Training BCE Loss: 0.2523,  Training DICE: 0.8415,  Training IOU: 0.8209,  Training Sensitivity: 0.9284,  Validation BCE Loss: 0.5493,  Validation DICE: 0.5510,  Validation IOU: 0.4814,  Validation Sensitivity: 0.5664\n",
      "Saved new best model based on DICE metric!\n"
     ]
    },
    {
     "name": "stderr",
     "output_type": "stream",
     "text": [
      "100%|██████████| 298/298 [06:59<00:00,  1.41s/it, loss=0.241, iou=0.824, dice=0.848, sensitivity=0.929]\n",
      "100%|██████████| 100/100 [00:48<00:00,  2.07it/s, val_loss=0.565, val_iou=0.457, val_dice=0.528, val_sensitivity=0.541]\n"
     ]
    },
    {
     "name": "stdout",
     "output_type": "stream",
     "text": [
      "Training Epoch 87/100,  Training BCE Loss: 0.2415,  Training DICE: 0.8479,  Training IOU: 0.8238,  Training Sensitivity: 0.9287,  Validation BCE Loss: 0.5650,  Validation DICE: 0.5279,  Validation IOU: 0.4566,  Validation Sensitivity: 0.5412\n"
     ]
    },
    {
     "name": "stderr",
     "output_type": "stream",
     "text": [
      "100%|██████████| 298/298 [06:59<00:00,  1.41s/it, loss=0.239, iou=0.817, dice=0.848, sensitivity=0.927]\n",
      "100%|██████████| 100/100 [00:48<00:00,  2.06it/s, val_loss=0.577, val_iou=0.443, val_dice=0.521, val_sensitivity=0.525]\n"
     ]
    },
    {
     "name": "stdout",
     "output_type": "stream",
     "text": [
      "Training Epoch 88/100,  Training BCE Loss: 0.2387,  Training DICE: 0.8483,  Training IOU: 0.8168,  Training Sensitivity: 0.9268,  Validation BCE Loss: 0.5765,  Validation DICE: 0.5210,  Validation IOU: 0.4426,  Validation Sensitivity: 0.5249\n"
     ]
    },
    {
     "name": "stderr",
     "output_type": "stream",
     "text": [
      "100%|██████████| 298/298 [06:59<00:00,  1.41s/it, loss=0.227, iou=0.822, dice=0.857, sensitivity=0.928]\n",
      "100%|██████████| 100/100 [00:48<00:00,  2.07it/s, val_loss=0.572, val_iou=0.44, val_dice=0.528, val_sensitivity=0.537]\n"
     ]
    },
    {
     "name": "stdout",
     "output_type": "stream",
     "text": [
      "Training Epoch 89/100,  Training BCE Loss: 0.2274,  Training DICE: 0.8566,  Training IOU: 0.8217,  Training Sensitivity: 0.9275,  Validation BCE Loss: 0.5724,  Validation DICE: 0.5280,  Validation IOU: 0.4398,  Validation Sensitivity: 0.5372\n"
     ]
    },
    {
     "name": "stderr",
     "output_type": "stream",
     "text": [
      "100%|██████████| 298/298 [06:59<00:00,  1.41s/it, loss=0.227, iou=0.814, dice=0.856, sensitivity=0.921]\n",
      "100%|██████████| 100/100 [00:47<00:00,  2.08it/s, val_loss=0.54, val_iou=0.473, val_dice=0.555, val_sensitivity=0.569]\n"
     ]
    },
    {
     "name": "stdout",
     "output_type": "stream",
     "text": [
      "Training Epoch 90/100,  Training BCE Loss: 0.2270,  Training DICE: 0.8559,  Training IOU: 0.8139,  Training Sensitivity: 0.9208,  Validation BCE Loss: 0.5398,  Validation DICE: 0.5553,  Validation IOU: 0.4731,  Validation Sensitivity: 0.5687\n",
      "Saved new best model based on DICE metric!\n"
     ]
    },
    {
     "name": "stderr",
     "output_type": "stream",
     "text": [
      "100%|██████████| 298/298 [06:59<00:00,  1.41s/it, loss=0.217, iou=0.82, dice=0.863, sensitivity=0.926] \n",
      "100%|██████████| 100/100 [00:48<00:00,  2.07it/s, val_loss=0.555, val_iou=0.47, val_dice=0.557, val_sensitivity=0.55] \n"
     ]
    },
    {
     "name": "stdout",
     "output_type": "stream",
     "text": [
      "Training Epoch 91/100,  Training BCE Loss: 0.2175,  Training DICE: 0.8632,  Training IOU: 0.8204,  Training Sensitivity: 0.9255,  Validation BCE Loss: 0.5547,  Validation DICE: 0.5568,  Validation IOU: 0.4701,  Validation Sensitivity: 0.5499\n",
      "Saved new best model based on DICE metric!\n"
     ]
    },
    {
     "name": "stderr",
     "output_type": "stream",
     "text": [
      "100%|██████████| 298/298 [06:59<00:00,  1.41s/it, loss=0.215, iou=0.817, dice=0.865, sensitivity=0.923]\n",
      "100%|██████████| 100/100 [00:47<00:00,  2.09it/s, val_loss=0.564, val_iou=0.445, val_dice=0.534, val_sensitivity=0.519]\n"
     ]
    },
    {
     "name": "stdout",
     "output_type": "stream",
     "text": [
      "Training Epoch 92/100,  Training BCE Loss: 0.2146,  Training DICE: 0.8645,  Training IOU: 0.8167,  Training Sensitivity: 0.9235,  Validation BCE Loss: 0.5635,  Validation DICE: 0.5344,  Validation IOU: 0.4447,  Validation Sensitivity: 0.5193\n"
     ]
    },
    {
     "name": "stderr",
     "output_type": "stream",
     "text": [
      "100%|██████████| 298/298 [06:59<00:00,  1.41s/it, loss=0.205, iou=0.823, dice=0.871, sensitivity=0.926]\n",
      "100%|██████████| 100/100 [00:47<00:00,  2.08it/s, val_loss=0.557, val_iou=0.455, val_dice=0.547, val_sensitivity=0.524]\n"
     ]
    },
    {
     "name": "stdout",
     "output_type": "stream",
     "text": [
      "Training Epoch 93/100,  Training BCE Loss: 0.2051,  Training DICE: 0.8707,  Training IOU: 0.8225,  Training Sensitivity: 0.9256,  Validation BCE Loss: 0.5567,  Validation DICE: 0.5471,  Validation IOU: 0.4545,  Validation Sensitivity: 0.5239\n"
     ]
    },
    {
     "name": "stderr",
     "output_type": "stream",
     "text": [
      "100%|██████████| 298/298 [06:59<00:00,  1.41s/it, loss=0.2, iou=0.823, dice=0.874, sensitivity=0.925]  \n",
      "100%|██████████| 100/100 [00:48<00:00,  2.07it/s, val_loss=0.583, val_iou=0.431, val_dice=0.528, val_sensitivity=0.504]\n"
     ]
    },
    {
     "name": "stdout",
     "output_type": "stream",
     "text": [
      "Training Epoch 94/100,  Training BCE Loss: 0.2001,  Training DICE: 0.8743,  Training IOU: 0.8233,  Training Sensitivity: 0.9248,  Validation BCE Loss: 0.5831,  Validation DICE: 0.5282,  Validation IOU: 0.4305,  Validation Sensitivity: 0.5039\n"
     ]
    },
    {
     "name": "stderr",
     "output_type": "stream",
     "text": [
      "100%|██████████| 298/298 [06:59<00:00,  1.41s/it, loss=0.193, iou=0.828, dice=0.88, sensitivity=0.929] \n",
      "100%|██████████| 100/100 [00:47<00:00,  2.09it/s, val_loss=0.613, val_iou=0.395, val_dice=0.493, val_sensitivity=0.46]\n"
     ]
    },
    {
     "name": "stdout",
     "output_type": "stream",
     "text": [
      "Training Epoch 95/100,  Training BCE Loss: 0.1929,  Training DICE: 0.8796,  Training IOU: 0.8277,  Training Sensitivity: 0.9286,  Validation BCE Loss: 0.6127,  Validation DICE: 0.4930,  Validation IOU: 0.3953,  Validation Sensitivity: 0.4602\n"
     ]
    },
    {
     "name": "stderr",
     "output_type": "stream",
     "text": [
      "100%|██████████| 298/298 [06:59<00:00,  1.41s/it, loss=0.201, iou=0.809, dice=0.87, sensitivity=0.916] \n",
      "100%|██████████| 100/100 [00:48<00:00,  2.08it/s, val_loss=0.528, val_iou=0.476, val_dice=0.583, val_sensitivity=0.56]\n"
     ]
    },
    {
     "name": "stdout",
     "output_type": "stream",
     "text": [
      "Training Epoch 96/100,  Training BCE Loss: 0.2014,  Training DICE: 0.8697,  Training IOU: 0.8086,  Training Sensitivity: 0.9160,  Validation BCE Loss: 0.5276,  Validation DICE: 0.5832,  Validation IOU: 0.4764,  Validation Sensitivity: 0.5603\n",
      "Saved new best model based on DICE metric!\n"
     ]
    },
    {
     "name": "stderr",
     "output_type": "stream",
     "text": [
      "100%|██████████| 298/298 [06:59<00:00,  1.41s/it, loss=0.178, iou=0.83, dice=0.885, sensitivity=0.927] \n",
      "100%|██████████| 100/100 [00:48<00:00,  2.06it/s, val_loss=0.517, val_iou=0.48, val_dice=0.588, val_sensitivity=0.574]\n"
     ]
    },
    {
     "name": "stdout",
     "output_type": "stream",
     "text": [
      "Training Epoch 97/100,  Training BCE Loss: 0.1783,  Training DICE: 0.8846,  Training IOU: 0.8303,  Training Sensitivity: 0.9272,  Validation BCE Loss: 0.5167,  Validation DICE: 0.5876,  Validation IOU: 0.4804,  Validation Sensitivity: 0.5738\n",
      "Saved new best model based on DICE metric!\n"
     ]
    },
    {
     "name": "stderr",
     "output_type": "stream",
     "text": [
      "100%|██████████| 298/298 [06:59<00:00,  1.41s/it, loss=0.173, iou=0.836, dice=0.89, sensitivity=0.929] \n",
      "100%|██████████| 100/100 [00:48<00:00,  2.08it/s, val_loss=0.559, val_iou=0.459, val_dice=0.559, val_sensitivity=0.524]\n"
     ]
    },
    {
     "name": "stdout",
     "output_type": "stream",
     "text": [
      "Training Epoch 98/100,  Training BCE Loss: 0.1733,  Training DICE: 0.8901,  Training IOU: 0.8356,  Training Sensitivity: 0.9287,  Validation BCE Loss: 0.5590,  Validation DICE: 0.5594,  Validation IOU: 0.4592,  Validation Sensitivity: 0.5241\n"
     ]
    },
    {
     "name": "stderr",
     "output_type": "stream",
     "text": [
      "100%|██████████| 298/298 [06:59<00:00,  1.41s/it, loss=0.174, iou=0.828, dice=0.887, sensitivity=0.925]\n",
      "100%|██████████| 100/100 [00:48<00:00,  2.06it/s, val_loss=0.575, val_iou=0.422, val_dice=0.53, val_sensitivity=0.487]\n"
     ]
    },
    {
     "name": "stdout",
     "output_type": "stream",
     "text": [
      "Training Epoch 99/100,  Training BCE Loss: 0.1742,  Training DICE: 0.8872,  Training IOU: 0.8278,  Training Sensitivity: 0.9251,  Validation BCE Loss: 0.5746,  Validation DICE: 0.5298,  Validation IOU: 0.4218,  Validation Sensitivity: 0.4871\n"
     ]
    },
    {
     "name": "stderr",
     "output_type": "stream",
     "text": [
      "100%|██████████| 298/298 [06:59<00:00,  1.41s/it, loss=0.168, iou=0.832, dice=0.891, sensitivity=0.927]\n",
      "100%|██████████| 100/100 [00:48<00:00,  2.08it/s, val_loss=0.619, val_iou=0.403, val_dice=0.507, val_sensitivity=0.45]"
     ]
    },
    {
     "name": "stdout",
     "output_type": "stream",
     "text": [
      "Training Epoch 100/100,  Training BCE Loss: 0.1675,  Training DICE: 0.8905,  Training IOU: 0.8316,  Training Sensitivity: 0.9269,  Validation BCE Loss: 0.6187,  Validation DICE: 0.5072,  Validation IOU: 0.4033,  Validation Sensitivity: 0.4504\n"
     ]
    },
    {
     "name": "stderr",
     "output_type": "stream",
     "text": [
      "\n"
     ]
    }
   ],
   "source": [
    "log = pd.DataFrame(index=[], columns=['epoch','lr','loss','iou','dice','sensitivity','val_loss','val_iou'])\n",
    "\n",
    "best_dice = 0\n",
    "trigger = 0\n",
    "\n",
    "for epoch in range(epochs):\n",
    "\n",
    "    #Model Training\n",
    "    avg_meters = {'loss': AverageMeter(), 'iou': AverageMeter(), 'dice': AverageMeter(), 'sensitivity': AverageMeter()}\n",
    "    model.train()\n",
    "    pbar = tqdm(total=len(train_loader)) #progress bar\n",
    "\n",
    "    for i, data in enumerate(train_loader):\n",
    "\n",
    "        input = data[0].cuda()\n",
    "        target = data[1].cuda()\n",
    "        output = model(input)\n",
    "\n",
    "        #Get loss and metric\n",
    "        loss = criterion(output, target)\n",
    "        iou = iou_score(output, target)\n",
    "        dice = dice_coef(output, target)\n",
    "        sensitivity = sensitivity_metric(output, target)\n",
    "\n",
    "        #Calculate the gradient and perform optimizing step\n",
    "        optimizer.zero_grad()\n",
    "        loss.backward()\n",
    "        optimizer.step()\n",
    "\n",
    "        #Update average metrics\n",
    "        avg_meters['loss'].update(loss.item(), input.size(0))\n",
    "        avg_meters['iou'].update(iou, input.size(0))\n",
    "        avg_meters['dice'].update(dice, input.size(0))\n",
    "        avg_meters['sensitivity'].update(sensitivity, input.size(0))\n",
    "\n",
    "        postfix = OrderedDict([\n",
    "            ('loss', avg_meters['loss'].avg),\n",
    "            ('iou', avg_meters['iou'].avg),\n",
    "            ('dice', avg_meters['dice'].avg),\n",
    "            ('sensitivity', avg_meters['sensitivity'].avg)\n",
    "        ])\n",
    "        pbar.set_postfix(postfix)\n",
    "        pbar.update(1)\n",
    "    pbar.close()\n",
    "\n",
    "    train_log = OrderedDict([\n",
    "        ('loss', avg_meters['loss'].avg),\n",
    "        ('iou', avg_meters['iou'].avg),\n",
    "        ('dice', avg_meters['dice'].avg),\n",
    "        ('sensitivity', avg_meters['sensitivity'].avg)\n",
    "    ])\n",
    "\n",
    "\n",
    "    #Model Validation\n",
    "    val_avg_meters = {'val_loss': AverageMeter(), 'val_iou': AverageMeter(), 'val_dice': AverageMeter(), 'val_sensitivity': AverageMeter()}\n",
    "    model.eval()\n",
    "\n",
    "    with torch.no_grad():\n",
    "        val_pbar = tqdm(total=len(val_loader))\n",
    "        for i, val_data in enumerate(val_loader):\n",
    "\n",
    "            val_input = val_data[0].cuda()\n",
    "            val_target = val_data[1].cuda()\n",
    "            val_output = model(val_input)\n",
    "\n",
    "            val_loss = criterion(val_output, val_target)\n",
    "            val_iou = iou_score(val_output, val_target)\n",
    "            val_dice = dice_coef(val_output, val_target)\n",
    "            val_sensitivity = sensitivity_metric(val_output, val_target)\n",
    "\n",
    "            val_avg_meters['val_loss'].update(val_loss.item(), val_input.size(0))\n",
    "            val_avg_meters['val_iou'].update(val_iou, val_input.size(0))\n",
    "            val_avg_meters['val_dice'].update(val_dice, val_input.size(0))\n",
    "            val_avg_meters['val_sensitivity'].update(val_sensitivity, val_input.size(0))\n",
    "\n",
    "            val_postfix = OrderedDict([\n",
    "                ('val_loss', val_avg_meters['val_loss'].avg),\n",
    "                ('val_iou', val_avg_meters['val_iou'].avg),\n",
    "                ('val_dice', val_avg_meters['val_dice'].avg),\n",
    "                ('val_sensitivity', val_avg_meters['val_sensitivity'].avg)\n",
    "            ])\n",
    "            val_pbar.set_postfix(val_postfix)\n",
    "            val_pbar.update(1)\n",
    "        val_pbar.close()\n",
    "\n",
    "    val_log = OrderedDict([\n",
    "        ('val_loss', val_avg_meters['val_loss'].avg),\n",
    "        ('val_iou', val_avg_meters['val_iou'].avg),\n",
    "        ('val_dice', val_avg_meters['val_dice'].avg),\n",
    "        ('val_sensitivity', val_avg_meters['val_sensitivity'].avg)\n",
    "    ])\n",
    "    \n",
    "\n",
    "    print('Training Epoch {}/{},  Training BCE Loss: {:.4f},  Training DICE: {:.4f},  Training IOU: {:.4f},  Training Sensitivity: {:.4f},  Validation BCE Loss: {:.4f},  Validation DICE: {:.4f},  Validation IOU: {:.4f},  Validation Sensitivity: {:.4f}'.format(\n",
    "        epoch+1, epochs, train_log['loss'], train_log['dice'], train_log['iou'], train_log['sensitivity'], val_log['val_loss'], val_log['val_dice'], val_log['val_iou'], val_log['val_sensitivity']\n",
    "    ))\n",
    "\n",
    "    #Save values to csv file\n",
    "    tmp = pd.Series([\n",
    "        epoch,\n",
    "        lr,\n",
    "        train_log['loss'],\n",
    "        train_log['iou'],\n",
    "        train_log['dice'],\n",
    "        val_log['val_loss'],\n",
    "        val_log['val_iou'],\n",
    "        val_log['val_dice'],\n",
    "        val_log['val_sensitivity']\n",
    "    ], index=['epoch', 'lr', 'loss', 'iou', 'dice', 'val_loss', 'val_iou', 'val_dice', 'val_sensitivity'])\n",
    "\n",
    "    log = log.append(tmp, ignore_index=True)\n",
    "    log.to_csv('model_outputs/{}/log.csv'.format(file_name), index=False)\n",
    "\n",
    "    trigger += 1\n",
    "\n",
    "    #If best DICE score, save the model\n",
    "    if val_log['val_dice'] > best_dice:\n",
    "        torch.save(model.state_dict(), 'model_outputs/{}/model.pth'.format(file_name))\n",
    "        best_dice = val_log['val_dice']\n",
    "        print(\"Saved new best model based on DICE metric!\")\n",
    "        trigger = 0\n",
    "    \n",
    "    if early_stopping >= 0 and trigger >= early_stopping:\n",
    "        print(\"Early stopping.\")\n",
    "        break\n",
    "\n",
    "    torch.cuda.empty_cache()"
   ]
  },
  {
   "cell_type": "code",
   "execution_count": null,
   "metadata": {},
   "outputs": [],
   "source": []
  }
 ],
 "metadata": {
  "interpreter": {
   "hash": "cb56554e22e7015c8034fdf988622508a740e712e9b2a73e8d246c741229446d"
  },
  "kernelspec": {
   "display_name": "Python 3 (ipykernel)",
   "language": "python",
   "name": "python3"
  },
  "language_info": {
   "codemirror_mode": {
    "name": "ipython",
    "version": 3
   },
   "file_extension": ".py",
   "mimetype": "text/x-python",
   "name": "python",
   "nbconvert_exporter": "python",
   "pygments_lexer": "ipython3",
   "version": "3.9.7"
  }
 },
 "nbformat": 4,
 "nbformat_minor": 2
}
