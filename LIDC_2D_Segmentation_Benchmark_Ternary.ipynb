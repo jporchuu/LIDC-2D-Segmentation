{
 "cells": [
  {
   "cell_type": "markdown",
   "metadata": {
    "id": "0f2BkIn0fngR"
   },
   "source": [
    "# LIDC IDRI 2D SEGMENTATION WITH TERNARY CLASSES"
   ]
  },
  {
   "cell_type": "markdown",
   "metadata": {
    "id": "_7B3yamNfngX"
   },
   "source": [
    "## Import Libraries"
   ]
  },
  {
   "cell_type": "code",
   "execution_count": 1,
   "metadata": {
    "id": "mfSdQhFEfnga"
   },
   "outputs": [],
   "source": [
    "import pandas as pd\n",
    "import argparse\n",
    "import os\n",
    "from collections import OrderedDict\n",
    "from glob import glob\n",
    "import yaml\n",
    "import numpy as np\n",
    "\n",
    "import torch\n",
    "import torch.backends.cudnn as cudnn\n",
    "import torch.nn as nn\n",
    "import torch.nn.functional as F\n",
    "import torch.optim as optim\n",
    "from torch.optim import lr_scheduler\n",
    "from torch.utils.data.dataset import Dataset\n",
    "from torch.utils.data import DataLoader\n",
    "import torchvision\n",
    "import torchvision.transforms.functional as TF\n",
    "from torchvision import transforms\n",
    "import torchsummary as summary\n",
    "\n",
    "import albumentations as A\n",
    "from albumentations.pytorch import ToTensorV2\n",
    "from sklearn.model_selection import train_test_split\n",
    "from sklearn.metrics import confusion_matrix, f1_score, jaccard_score\n",
    "from tqdm import tqdm\n",
    "\n",
    "from Unet_new.unet_model import UNet\n",
    "from UnetNested.Nested_Unet import NestedUNet"
   ]
  },
  {
   "cell_type": "markdown",
   "metadata": {
    "id": "yyaykKN2fngc"
   },
   "source": [
    "## Define Parameters"
   ]
  },
  {
   "cell_type": "code",
   "execution_count": 2,
   "metadata": {
    "id": "Mue4WdgNfngc"
   },
   "outputs": [],
   "source": [
    "name = \"UNet\"           #default = \"UNet\"; can be NestedUNet\n",
    "epochs = 100            #default = 400\n",
    "batch_size = 12          #default = 12\n",
    "early_stopping = 50     #default = 50\n",
    "num_workers = 8        #default = 8\n",
    "optimizer = 'Adam'      #default = 'Adam'; can be SGD\n",
    "lr = 1e-5               #default = 1e-5\n",
    "momentum = 0.9          #default = 0.9\n",
    "weight_decay = 1e-4     #default = 1e-4\n",
    "nesterov = False        #default = False\n",
    "augmentation = True     #default = False"
   ]
  },
  {
   "cell_type": "markdown",
   "metadata": {
    "id": "x5zDl0wYfngc"
   },
   "source": [
    "## Define Functions"
   ]
  },
  {
   "cell_type": "markdown",
   "metadata": {
    "id": "JEtRbzaAfngf"
   },
   "source": [
    "### Dataset"
   ]
  },
  {
   "cell_type": "code",
   "execution_count": 3,
   "metadata": {
    "id": "1r0UAim3fngf"
   },
   "outputs": [],
   "source": [
    "class LidcDataset(Dataset):\n",
    "    def __init__(self, IMAGES_PATHS, MASK_PATHS, transforms):\n",
    "        self.image_paths = IMAGES_PATHS\n",
    "        self.mask_paths = MASK_PATHS\n",
    "        \n",
    "        self.transforms = transforms\n",
    "\n",
    "    def __getitem__(self, index):\n",
    "        image = np.load(self.image_paths[index])\n",
    "        mask = np.load(self.mask_paths[index])\n",
    "\n",
    "        #Make image and mask 3 dimensional\n",
    "        image = image.reshape(512,512,1)\n",
    "        mask = mask.reshape(512,512,1)\n",
    "\n",
    "        #Convert datatype\n",
    "        mask = mask.astype('uint8')\n",
    "\n",
    "        #Apply augmentation\n",
    "        augmented = self.transforms(image=image,mask=mask)\n",
    "        image = augmented['image']\n",
    "        mask = augmented['mask']\n",
    "        mask = mask.reshape([1,512,512])\n",
    "\n",
    "        image, mask = image.type(torch.FloatTensor), mask.type(torch.FloatTensor)     \n",
    "\n",
    "        return image, mask\n",
    "    \n",
    "    def __len__(self):\n",
    "        return len(self.image_paths)"
   ]
  },
  {
   "cell_type": "code",
   "execution_count": 4,
   "metadata": {
    "id": "ei8vrk4Y3lek"
   },
   "outputs": [],
   "source": [
    "transform = A.Compose([\n",
    "            A.ElasticTransform(alpha=1.1,alpha_affine=0.5,sigma=5,p=0.15),\n",
    "            A.HorizontalFlip(p=0.5),\n",
    "            ToTensorV2()\n",
    "        ])"
   ]
  },
  {
   "cell_type": "markdown",
   "metadata": {
    "id": "ZOYDGIUYfngg"
   },
   "source": [
    "### Metrics"
   ]
  },
  {
   "cell_type": "code",
   "execution_count": 5,
   "metadata": {},
   "outputs": [],
   "source": [
    "def sensitivity_metric(target, output):\n",
    "    tn, fp, fn, tp = confusion_matrix(target, output)\n",
    "    s0 = tp[0]/(tp[0]+fn[0])\n",
    "    s1 = tp[1]/(tp[1]+fn[1])\n",
    "    s2 = tp[2]/(tp[2]+fn[2])\n",
    "    s3 = tp[3]/(tp[3]+fn[3])\n",
    "    sensitivity = np.array([s0, s1, s2, s3]) \n",
    "    return sensitivity"
   ]
  },
  {
   "cell_type": "markdown",
   "metadata": {
    "id": "B9KwWQWgfngh"
   },
   "source": [
    "### Utilities"
   ]
  },
  {
   "cell_type": "code",
   "execution_count": 6,
   "metadata": {
    "id": "V8sg63v7fngh"
   },
   "outputs": [],
   "source": [
    "def str_to_bool(v):\n",
    "    if v.lower() in ['true', 1]:\n",
    "        return True\n",
    "    elif v.lower() in ['false', 0]:\n",
    "        return False\n",
    "    else:\n",
    "        raise argparse.ArgumentTypeError('Boolean value expected.')\n",
    "\n",
    "def count_params(model):\n",
    "    return sum(p.numel() for p in model.parameters() if p.requires_grad)\n",
    "\n",
    "class AverageMeter(object):\n",
    "    #Computes and stores the average and current value\n",
    "    def __init__(self):\n",
    "        self.reset()\n",
    "    \n",
    "    def reset(self):\n",
    "        self.val = 0\n",
    "        self.avg = 0\n",
    "        self.sum = 0\n",
    "        self.count = 0\n",
    "    \n",
    "    def update(self, val, n=1):\n",
    "        self.val = val\n",
    "        self.sum += val * n\n",
    "        self.count += n\n",
    "        self.avg = self.sum / self.count"
   ]
  },
  {
   "cell_type": "markdown",
   "metadata": {
    "id": "hn2h7c3Ffngh"
   },
   "source": [
    "## Get Configuration"
   ]
  },
  {
   "cell_type": "code",
   "execution_count": 7,
   "metadata": {
    "colab": {
     "base_uri": "https://localhost:8080/"
    },
    "id": "rtuiGqoGfngh",
    "outputId": "ad096009-1e8b-44ed-d5ac-c5cd17095f89"
   },
   "outputs": [
    {
     "name": "stdout",
     "output_type": "stream",
     "text": [
      "Creating directory called  UNet_with_augmentation\n",
      "--------------------\n",
      "Configuration Setting: \n",
      "Model:  UNet\n",
      "Max Epochs:  100\n",
      "Batch Size:  12\n",
      "Number of Workers:  8\n",
      "Optimizer:  Adam\n",
      "Learning Rate:  1e-05\n",
      "Augmentation:  True\n"
     ]
    }
   ],
   "source": [
    "if augmentation == True:\n",
    "    file_name = name + '_with_augmentation'\n",
    "else:\n",
    "    file_name = name + '_base'\n",
    "os.makedirs('model_outputs/{}'.format(file_name), exist_ok=True)\n",
    "print(\"Creating directory called \", file_name)\n",
    "\n",
    "print('-' * 20)\n",
    "print(\"Configuration Setting: \")\n",
    "print(\"Model: \", name)\n",
    "print(\"Max Epochs: \", epochs)\n",
    "print(\"Batch Size: \", batch_size)\n",
    "print(\"Number of Workers: \", num_workers)\n",
    "print(\"Optimizer: \", optimizer)\n",
    "print(\"Learning Rate: \", lr)\n",
    "print(\"Augmentation: \", augmentation)"
   ]
  },
  {
   "cell_type": "markdown",
   "metadata": {
    "id": "w7n4I2d8fngi"
   },
   "source": [
    "## Create Model"
   ]
  },
  {
   "cell_type": "code",
   "execution_count": 8,
   "metadata": {
    "colab": {
     "base_uri": "https://localhost:8080/"
    },
    "id": "QuxjmCnzfngi",
    "outputId": "259571ea-9cba-42f7-f442-d150049be465"
   },
   "outputs": [
    {
     "name": "stdout",
     "output_type": "stream",
     "text": [
      "Creating model...\n",
      "==========================================================================================\n",
      "Layer (type:depth-idx)                   Output Shape              Param #\n",
      "==========================================================================================\n",
      "├─inconv: 1-1                            [-1, 64, 512, 512]        --\n",
      "|    └─double_conv: 2-1                  [-1, 64, 512, 512]        --\n",
      "|    |    └─Sequential: 3-1              [-1, 64, 512, 512]        37,824\n",
      "├─down: 1-2                              [-1, 128, 256, 256]       --\n",
      "|    └─Sequential: 2-2                   [-1, 128, 256, 256]       --\n",
      "|    |    └─MaxPool2d: 3-2               [-1, 64, 256, 256]        --\n",
      "|    |    └─double_conv: 3-3             [-1, 128, 256, 256]       221,952\n",
      "├─down: 1-3                              [-1, 256, 128, 128]       --\n",
      "|    └─Sequential: 2-3                   [-1, 256, 128, 128]       --\n",
      "|    |    └─MaxPool2d: 3-4               [-1, 128, 128, 128]       --\n",
      "|    |    └─double_conv: 3-5             [-1, 256, 128, 128]       886,272\n",
      "├─down: 1-4                              [-1, 512, 64, 64]         --\n",
      "|    └─Sequential: 2-4                   [-1, 512, 64, 64]         --\n",
      "|    |    └─MaxPool2d: 3-6               [-1, 256, 64, 64]         --\n",
      "|    |    └─double_conv: 3-7             [-1, 512, 64, 64]         3,542,016\n",
      "├─down: 1-5                              [-1, 512, 32, 32]         --\n",
      "|    └─Sequential: 2-5                   [-1, 512, 32, 32]         --\n",
      "|    |    └─MaxPool2d: 3-8               [-1, 512, 32, 32]         --\n",
      "|    |    └─double_conv: 3-9             [-1, 512, 32, 32]         4,721,664\n",
      "├─up: 1-6                                [-1, 256, 64, 64]         --\n",
      "|    └─Upsample: 2-6                     [-1, 512, 64, 64]         --\n",
      "|    └─double_conv: 2-7                  [-1, 256, 64, 64]         --\n",
      "|    |    └─Sequential: 3-10             [-1, 256, 64, 64]         2,950,656\n",
      "├─up: 1-7                                [-1, 128, 128, 128]       --\n",
      "|    └─Upsample: 2-8                     [-1, 256, 128, 128]       --\n",
      "|    └─double_conv: 2-9                  [-1, 128, 128, 128]       --\n",
      "|    |    └─Sequential: 3-11             [-1, 128, 128, 128]       738,048\n",
      "├─up: 1-8                                [-1, 64, 256, 256]        --\n",
      "|    └─Upsample: 2-10                    [-1, 128, 256, 256]       --\n",
      "|    └─double_conv: 2-11                 [-1, 64, 256, 256]        --\n",
      "|    |    └─Sequential: 3-12             [-1, 64, 256, 256]        184,704\n",
      "├─up: 1-9                                [-1, 64, 512, 512]        --\n",
      "|    └─Upsample: 2-12                    [-1, 64, 512, 512]        --\n",
      "|    └─double_conv: 2-13                 [-1, 64, 512, 512]        --\n",
      "|    |    └─Sequential: 3-13             [-1, 64, 512, 512]        110,976\n",
      "├─outconv: 1-10                          [-1, 4, 512, 512]         --\n",
      "|    └─Conv2d: 2-14                      [-1, 4, 512, 512]         260\n",
      "==========================================================================================\n",
      "Total params: 13,394,372\n",
      "Trainable params: 13,394,372\n",
      "Non-trainable params: 0\n",
      "Total mult-adds (G): 75.16\n",
      "==========================================================================================\n",
      "Input size (MB): 1.00\n",
      "Forward/backward pass size (MB): 1256.00\n",
      "Params size (MB): 51.10\n",
      "Estimated Total Size (MB): 1308.10\n",
      "==========================================================================================\n"
     ]
    },
    {
     "data": {
      "text/plain": [
       "==========================================================================================\n",
       "Layer (type:depth-idx)                   Output Shape              Param #\n",
       "==========================================================================================\n",
       "├─inconv: 1-1                            [-1, 64, 512, 512]        --\n",
       "|    └─double_conv: 2-1                  [-1, 64, 512, 512]        --\n",
       "|    |    └─Sequential: 3-1              [-1, 64, 512, 512]        37,824\n",
       "├─down: 1-2                              [-1, 128, 256, 256]       --\n",
       "|    └─Sequential: 2-2                   [-1, 128, 256, 256]       --\n",
       "|    |    └─MaxPool2d: 3-2               [-1, 64, 256, 256]        --\n",
       "|    |    └─double_conv: 3-3             [-1, 128, 256, 256]       221,952\n",
       "├─down: 1-3                              [-1, 256, 128, 128]       --\n",
       "|    └─Sequential: 2-3                   [-1, 256, 128, 128]       --\n",
       "|    |    └─MaxPool2d: 3-4               [-1, 128, 128, 128]       --\n",
       "|    |    └─double_conv: 3-5             [-1, 256, 128, 128]       886,272\n",
       "├─down: 1-4                              [-1, 512, 64, 64]         --\n",
       "|    └─Sequential: 2-4                   [-1, 512, 64, 64]         --\n",
       "|    |    └─MaxPool2d: 3-6               [-1, 256, 64, 64]         --\n",
       "|    |    └─double_conv: 3-7             [-1, 512, 64, 64]         3,542,016\n",
       "├─down: 1-5                              [-1, 512, 32, 32]         --\n",
       "|    └─Sequential: 2-5                   [-1, 512, 32, 32]         --\n",
       "|    |    └─MaxPool2d: 3-8               [-1, 512, 32, 32]         --\n",
       "|    |    └─double_conv: 3-9             [-1, 512, 32, 32]         4,721,664\n",
       "├─up: 1-6                                [-1, 256, 64, 64]         --\n",
       "|    └─Upsample: 2-6                     [-1, 512, 64, 64]         --\n",
       "|    └─double_conv: 2-7                  [-1, 256, 64, 64]         --\n",
       "|    |    └─Sequential: 3-10             [-1, 256, 64, 64]         2,950,656\n",
       "├─up: 1-7                                [-1, 128, 128, 128]       --\n",
       "|    └─Upsample: 2-8                     [-1, 256, 128, 128]       --\n",
       "|    └─double_conv: 2-9                  [-1, 128, 128, 128]       --\n",
       "|    |    └─Sequential: 3-11             [-1, 128, 128, 128]       738,048\n",
       "├─up: 1-8                                [-1, 64, 256, 256]        --\n",
       "|    └─Upsample: 2-10                    [-1, 128, 256, 256]       --\n",
       "|    └─double_conv: 2-11                 [-1, 64, 256, 256]        --\n",
       "|    |    └─Sequential: 3-12             [-1, 64, 256, 256]        184,704\n",
       "├─up: 1-9                                [-1, 64, 512, 512]        --\n",
       "|    └─Upsample: 2-12                    [-1, 64, 512, 512]        --\n",
       "|    └─double_conv: 2-13                 [-1, 64, 512, 512]        --\n",
       "|    |    └─Sequential: 3-13             [-1, 64, 512, 512]        110,976\n",
       "├─outconv: 1-10                          [-1, 4, 512, 512]         --\n",
       "|    └─Conv2d: 2-14                      [-1, 4, 512, 512]         260\n",
       "==========================================================================================\n",
       "Total params: 13,394,372\n",
       "Trainable params: 13,394,372\n",
       "Non-trainable params: 0\n",
       "Total mult-adds (G): 75.16\n",
       "==========================================================================================\n",
       "Input size (MB): 1.00\n",
       "Forward/backward pass size (MB): 1256.00\n",
       "Params size (MB): 51.10\n",
       "Estimated Total Size (MB): 1308.10\n",
       "=========================================================================================="
      ]
     },
     "execution_count": 8,
     "metadata": {},
     "output_type": "execute_result"
    }
   ],
   "source": [
    "criterion = torch.nn.CrossEntropyLoss().cuda() if torch.cuda.is_available() else torch.nn.CrossEntropyLoss()\n",
    "cudnn.benchmark = True\n",
    "\n",
    "#Creating the model\n",
    "print(\"Creating model...\")\n",
    "if name == 'NestedUNet':\n",
    "    model = NestedUNet(num_classes=4)\n",
    "else:\n",
    "    model = UNet(n_channels=1, n_classes=4)\n",
    "model = model.cuda() if torch.cuda.is_available() else model\n",
    "\n",
    "if torch.cuda.device_count() > 1:\n",
    "    print(\"We can use \", torch.cuda.device_count(), \" GPUs.\")\n",
    "    model = nn.DataParallel(model)\n",
    "\n",
    "params = filter(lambda p: p.requires_grad, model.parameters())\n",
    "\n",
    "if optimizer == 'Adam':\n",
    "    optimizer = optim.Adam(params, lr=lr, weight_decay=weight_decay)\n",
    "elif optimizer == 'SGD':\n",
    "    optimizer = optim.SGD(params, lr=lr, momentum=momentum, nesterov=nesterov, weight_decay=weight_decay)\n",
    "else:\n",
    "    raise NotImplementedError\n",
    "    \n",
    "summary.summary(model,(1,512,512))"
   ]
  },
  {
   "cell_type": "markdown",
   "metadata": {
    "id": "WxuoE_jLfngi"
   },
   "source": [
    "## Load Dataset"
   ]
  },
  {
   "cell_type": "code",
   "execution_count": 9,
   "metadata": {
    "colab": {
     "base_uri": "https://localhost:8080/"
    },
    "id": "2k5hV9l5fngj",
    "outputId": "48c2794b-61b5-4d12-dc18-d646bc02991a"
   },
   "outputs": [
    {
     "name": "stdout",
     "output_type": "stream",
     "text": [
      "**************************************************\n",
      "Original images: 980, masks: 980 for training.\n",
      "Original images: 177, masks: 177 for validation.\n",
      "Ratio between Validation and Training is 0.180612\n",
      "**************************************************\n"
     ]
    }
   ],
   "source": [
    "#directory of Images and Masks folders (generated from preprocessing)                                         \n",
    "IMAGE_DIR = '/scratch1/joseph.portugal/LIDC-IDRI Preprocessed Exp 3/Image/'\n",
    "MASK_DIR = '/scratch1/joseph.portugal/LIDC-IDRI Preprocessed Exp 3/Mask/'                                                                 \n",
    "\n",
    "#meta information\n",
    "meta = pd.read_csv('/scratch1/joseph.portugal/LIDC-IDRI Preprocessed Exp 3/Meta/meta.csv')\n",
    "meta = meta[meta['patient_diagnosis'] != 0]\n",
    "\n",
    "#Get train/test label from metadata file\n",
    "meta['original_image'] = meta['original_image'].apply(lambda x: IMAGE_DIR + \"LIDC-IDRI-\" + x[:4] + \"/\" + x + \".npy\")\n",
    "meta['mask_image'] = meta['mask_image'].apply(lambda x: MASK_DIR + \"LIDC-IDRI-\" + x[:4] + \"/\" + x + \".npy\")\n",
    "\n",
    "\n",
    "#Split into training and validation\n",
    "train_meta = meta[meta['data_split']=='Train']\n",
    "val_meta = meta[meta['data_split']=='Validation']\n",
    "\n",
    "#Get training images into list\n",
    "train_image_paths = list(train_meta['original_image'])\n",
    "train_mask_paths = list(train_meta['mask_image'])\n",
    "\n",
    "#Get validation images into list\n",
    "val_image_paths = list(val_meta['original_image'])\n",
    "val_mask_paths = list(val_meta['mask_image'])\n",
    "\n",
    "print(\"*\"*50)\n",
    "print(\"Original images: {}, masks: {} for training.\".format(len(train_image_paths),len(train_mask_paths)))\n",
    "print(\"Original images: {}, masks: {} for validation.\".format(len(val_image_paths),len(val_mask_paths)))\n",
    "print(\"Ratio between Validation and Training is {:2f}\".format(len(val_image_paths)/len(train_image_paths)))\n",
    "print(\"*\"*50)\n",
    "\n",
    "\n",
    "#Creating custom LIDC dataset\n",
    "train_dataset = LidcDataset(train_image_paths, train_mask_paths, transforms=transform)\n",
    "val_dataset = LidcDataset(val_image_paths, val_mask_paths, transforms=transform)\n",
    "\n",
    "#Creating Dataloader\n",
    "train_loader = DataLoader(\n",
    "  train_dataset,\n",
    "  batch_size=batch_size,\n",
    "  shuffle=True,\n",
    "  pin_memory=True,\n",
    "  drop_last=True,\n",
    "  num_workers=num_workers\n",
    ")\n",
    "val_loader = DataLoader(\n",
    "  val_dataset,\n",
    "  batch_size=batch_size,\n",
    "  shuffle=False,\n",
    "  pin_memory=True,\n",
    "  drop_last=False,\n",
    "  num_workers=num_workers\n",
    ")"
   ]
  },
  {
   "cell_type": "markdown",
   "metadata": {
    "id": "nFUeTMtlfngj"
   },
   "source": [
    "## Train the Model"
   ]
  },
  {
   "cell_type": "code",
   "execution_count": 10,
   "metadata": {
    "id": "FMvFNYA-f6V8"
   },
   "outputs": [],
   "source": [
    "torch.cuda.empty_cache()"
   ]
  },
  {
   "cell_type": "code",
   "execution_count": 11,
   "metadata": {
    "colab": {
     "base_uri": "https://localhost:8080/"
    },
    "id": "dkIDHbbffngk",
    "outputId": "52534728-e28a-4135-b5fc-ec7a33c38d0b"
   },
   "outputs": [
    {
     "name": "stderr",
     "output_type": "stream",
     "text": [
      "100%|██████████| 81/81 [10:15<00:00,  7.60s/it, loss=1.26, iou=[8.31553101e-01 2.82317894e-04 3.06457467e-03 1.13835248e-03], dice=[9.07770616e-01 5.64087031e-04 6.10417563e-03 2.27337243e-03], sensitivity=[0.2917769  0.35687026 0.38858356 0.41027167]]\n",
      " 13%|█▎        | 2/15 [00:08<00:51,  3.94s/it, val_loss=1.19, val_iou=[8.71679883e-01 0.00000000e+00 3.10406821e-03 8.26675449e-04], val_dice=[0.93117536 0.         0.00618349 0.00165198], val_sensitivity=[0.92045455 0.09672996 0.24768817 0.40105994]]/tmp/ipykernel_12120/1170807870.py:3: RuntimeWarning: invalid value encountered in long_scalars\n",
      "  s0 = tp[0]/(tp[0]+fn[0])\n",
      " 27%|██▋       | 4/15 [00:15<00:41,  3.74s/it, val_loss=1.19, val_iou=[8.75999096e-01 4.71086437e-04 1.55203410e-03 8.75922722e-04], val_dice=[0.93375649 0.0009404  0.00309174 0.00175029], val_sensitivity=[       nan 0.54836498 0.62384409 0.70052997]]/tmp/ipykernel_12120/1170807870.py:3: RuntimeWarning: invalid value encountered in long_scalars\n",
      "  s0 = tp[0]/(tp[0]+fn[0])\n",
      "/tmp/ipykernel_12120/1170807870.py:4: RuntimeWarning: invalid value encountered in long_scalars\n",
      "  s1 = tp[1]/(tp[1]+fn[1])\n",
      "/tmp/ipykernel_12120/1170807870.py:5: RuntimeWarning: invalid value encountered in long_scalars\n",
      "  s2 = tp[2]/(tp[2]+fn[2])\n",
      "/tmp/ipykernel_12120/1170807870.py:6: RuntimeWarning: invalid value encountered in long_scalars\n",
      "  s3 = tp[3]/(tp[3]+fn[3])\n",
      " 33%|███▎      | 5/15 [00:18<00:36,  3.69s/it, val_loss=1.19, val_iou=[8.79850937e-01 6.14745639e-04 1.24162728e-03 7.00738178e-04], val_dice=[0.93595216 0.00122751 0.00247339 0.00140023], val_sensitivity=[nan nan nan nan]]                            /tmp/ipykernel_12120/1170807870.py:3: RuntimeWarning: invalid value encountered in long_scalars\n",
      "  s0 = tp[0]/(tp[0]+fn[0])\n",
      " 40%|████      | 6/15 [00:22<00:32,  3.67s/it, val_loss=1.19, val_iou=[8.76639111e-01 3.22832485e-03 1.22755889e-03 5.83948482e-04], val_dice=[0.93413786 0.00636789 0.00244645 0.00116686], val_sensitivity=[nan nan nan nan]]/tmp/ipykernel_12120/1170807870.py:3: RuntimeWarning: invalid value encountered in long_scalars\n",
      "  s0 = tp[0]/(tp[0]+fn[0])\n",
      " 60%|██████    | 9/15 [00:33<00:21,  3.65s/it, val_loss=1.19, val_iou=[8.63610610e-01 2.19574009e-03 1.56110069e-03 3.89298988e-04], val_dice=[9.26387443e-01 4.33227598e-03 3.11143408e-03 7.77907498e-04], val_sensitivity=[nan nan nan nan]]/tmp/ipykernel_12120/1170807870.py:3: RuntimeWarning: invalid value encountered in long_scalars\n",
      "  s0 = tp[0]/(tp[0]+fn[0])\n",
      " 67%|██████▋   | 10/15 [00:37<00:18,  3.65s/it, val_loss=1.2, val_iou=[8.47206223e-01 2.05098622e-03 1.44405357e-03 3.50369089e-04], val_dice=[9.16071649e-01 4.04857679e-03 2.87838606e-03 7.00116748e-04], val_sensitivity=[nan nan nan nan]]/tmp/ipykernel_12120/1170807870.py:3: RuntimeWarning: invalid value encountered in long_scalars\n",
      "  s0 = tp[0]/(tp[0]+fn[0])\n",
      "100%|██████████| 15/15 [00:58<00:00,  3.88s/it, val_loss=1.2, val_iou=[8.55119945e-01 1.39049913e-03 2.53345583e-03 2.37538365e-04], val_dice=[9.20825658e-01 2.74479782e-03 5.04404216e-03 4.74655422e-04], val_sensitivity=[nan nan nan nan]]\n"
     ]
    },
    {
     "name": "stdout",
     "output_type": "stream",
     "text": [
      "Training Epoch 1/100,  Training Loss: 1.2583,  Training DICE: [9.07770616e-01 5.64087031e-04 6.10417563e-03 2.27337243e-03],  Training IOU: [8.31553101e-01 2.82317894e-04 3.06457467e-03 1.13835248e-03],  Training Sensitivity: [0.2917769  0.35687026 0.38858356 0.41027167],  Validation Loss: 1.1988,  Validation DICE: [9.20825658e-01 2.74479782e-03 5.04404216e-03 4.74655422e-04],  Validation IOU: [8.55119945e-01 1.39049913e-03 2.53345583e-03 2.37538365e-04],  Validation Sensitivity: [nan nan nan nan]\n",
      "Saved new best model based on DICE metric!\n"
     ]
    },
    {
     "name": "stderr",
     "output_type": "stream",
     "text": [
      "100%|██████████| 81/81 [09:49<00:00,  7.28s/it, loss=1.18, iou=[8.75525857e-01 5.08337082e-04 2.67418636e-03 1.60968582e-03], dice=[0.93356233 0.00101442 0.00532933 0.0032123 ], sensitivity=[0.38283649 0.39185259 0.39379956 0.37978425]]                \n",
      " 27%|██▋       | 4/15 [00:15<00:41,  3.79s/it, val_loss=1.15, val_iou=[9.11209066e-01 4.38881832e-04 2.89095585e-03 1.41297258e-03], val_dice=[9.53500276e-01 8.76225427e-04 5.74229797e-03 2.82183019e-03], val_sensitivity=[0.87804878 0.55773095 0.56607636 0.74056745]]/tmp/ipykernel_12120/1170807870.py:3: RuntimeWarning: invalid value encountered in long_scalars\n",
      "  s0 = tp[0]/(tp[0]+fn[0])\n",
      "/tmp/ipykernel_12120/1170807870.py:4: RuntimeWarning: invalid value encountered in long_scalars\n",
      "  s1 = tp[1]/(tp[1]+fn[1])\n",
      "/tmp/ipykernel_12120/1170807870.py:5: RuntimeWarning: invalid value encountered in long_scalars\n",
      "  s2 = tp[2]/(tp[2]+fn[2])\n",
      "/tmp/ipykernel_12120/1170807870.py:6: RuntimeWarning: invalid value encountered in long_scalars\n",
      "  s3 = tp[3]/(tp[3]+fn[3])\n",
      " 33%|███▎      | 5/15 [00:19<00:37,  3.74s/it, val_loss=1.15, val_iou=[9.13660933e-01 7.11042531e-04 2.31276468e-03 1.13037807e-03], val_dice=[0.95484255 0.00141956 0.00459384 0.00225746], val_sensitivity=[nan nan nan nan]]                                            /tmp/ipykernel_12120/1170807870.py:3: RuntimeWarning: invalid value encountered in long_scalars\n",
      "  s0 = tp[0]/(tp[0]+fn[0])\n",
      " 40%|████      | 6/15 [00:22<00:33,  3.70s/it, val_loss=1.15, val_iou=[0.90927779 0.00254059 0.00212143 0.00094198], val_dice=[0.95242211 0.00503407 0.00421601 0.00188122], val_sensitivity=[nan nan nan nan]]                /tmp/ipykernel_12120/1170807870.py:3: RuntimeWarning: invalid value encountered in long_scalars\n",
      "  s0 = tp[0]/(tp[0]+fn[0])\n",
      " 60%|██████    | 9/15 [00:33<00:22,  3.68s/it, val_loss=1.16, val_iou=[8.90743012e-01 1.73486486e-03 1.95627591e-03 6.27987814e-04], val_dice=[0.94172662 0.00343829 0.0038916  0.00125415], val_sensitivity=[nan nan nan nan]]/tmp/ipykernel_12120/1170807870.py:3: RuntimeWarning: invalid value encountered in long_scalars\n",
      "  s0 = tp[0]/(tp[0]+fn[0])\n",
      " 67%|██████▋   | 10/15 [00:37<00:18,  3.67s/it, val_loss=1.17, val_iou=[8.73560403e-01 1.61786917e-03 1.78919162e-03 5.65189033e-04], val_dice=[0.93120162 0.00320738 0.00355951 0.00112873], val_sensitivity=[nan nan nan nan]]/tmp/ipykernel_12120/1170807870.py:3: RuntimeWarning: invalid value encountered in long_scalars\n",
      "  s0 = tp[0]/(tp[0]+fn[0])\n",
      "100%|██████████| 15/15 [00:54<00:00,  3.66s/it, val_loss=1.16, val_iou=[8.77463499e-01 1.09686045e-03 2.95487213e-03 3.83179005e-04], val_dice=[9.33612978e-01 2.17449317e-03 5.86758477e-03 7.65242085e-04], val_sensitivity=[nan nan nan nan]]\n"
     ]
    },
    {
     "name": "stdout",
     "output_type": "stream",
     "text": [
      "Training Epoch 2/100,  Training Loss: 1.1809,  Training DICE: [0.93356233 0.00101442 0.00532933 0.0032123 ],  Training IOU: [8.75525857e-01 5.08337082e-04 2.67418636e-03 1.60968582e-03],  Training Sensitivity: [0.38283649 0.39185259 0.39379956 0.37978425],  Validation Loss: 1.1615,  Validation DICE: [9.33612978e-01 2.17449317e-03 5.86758477e-03 7.65242085e-04],  Validation IOU: [8.77463499e-01 1.09686045e-03 2.95487213e-03 3.83179005e-04],  Validation Sensitivity: [nan nan nan nan]\n",
      "Saved new best model based on DICE metric!\n"
     ]
    },
    {
     "name": "stderr",
     "output_type": "stream",
     "text": [
      "100%|██████████| 81/81 [10:07<00:00,  7.50s/it, loss=1.16, iou=[8.93616453e-01 5.23835943e-04 2.95767012e-03 3.17440332e-03], dice=[0.94372831 0.00104576 0.00589234 0.00632121], sensitivity=[0.37517614 0.37559897 0.3770714  0.40786095]]               \n",
      " 27%|██▋       | 4/15 [00:14<00:40,  3.67s/it, val_loss=1.13, val_iou=[9.29577341e-01 5.64624102e-04 3.56500953e-03 2.98256019e-03], val_dice=[0.96347193 0.0011267  0.00707612 0.00594617], val_sensitivity=[0.81887823 0.52803437 0.51447536 0.70889265]]/tmp/ipykernel_12120/1170807870.py:3: RuntimeWarning: invalid value encountered in long_scalars\n",
      "  s0 = tp[0]/(tp[0]+fn[0])\n",
      "/tmp/ipykernel_12120/1170807870.py:4: RuntimeWarning: invalid value encountered in long_scalars\n",
      "  s1 = tp[1]/(tp[1]+fn[1])\n",
      "/tmp/ipykernel_12120/1170807870.py:5: RuntimeWarning: invalid value encountered in long_scalars\n",
      "  s2 = tp[2]/(tp[2]+fn[2])\n",
      "/tmp/ipykernel_12120/1170807870.py:6: RuntimeWarning: invalid value encountered in long_scalars\n",
      "  s3 = tp[3]/(tp[3]+fn[3])\n",
      " 33%|███▎      | 5/15 [00:18<00:36,  3.64s/it, val_loss=1.13, val_iou=[9.30442609e-01 8.24042010e-04 2.85200762e-03 2.38604815e-03], val_dice=[0.96394201 0.00164466 0.00566089 0.00475694], val_sensitivity=[nan nan nan nan]]                            /tmp/ipykernel_12120/1170807870.py:3: RuntimeWarning: invalid value encountered in long_scalars\n",
      "  s0 = tp[0]/(tp[0]+fn[0])\n",
      " 40%|████      | 6/15 [00:22<00:32,  3.64s/it, val_loss=1.13, val_iou=[0.92498078 0.00215839 0.0026221  0.00198837], val_dice=[0.96096449 0.00428817 0.00520755 0.00396412], val_sensitivity=[nan nan nan nan]]                /tmp/ipykernel_12120/1170807870.py:3: RuntimeWarning: invalid value encountered in long_scalars\n",
      "  s0 = tp[0]/(tp[0]+fn[0])\n",
      " 53%|█████▎    | 8/15 [00:29<00:25,  3.64s/it, val_loss=1.14, val_iou=[0.91175039 0.00161879 0.00279014 0.00149128], val_dice=[0.95338356 0.00321613 0.00554447 0.00297309], val_sensitivity=[nan nan nan nan]]/tmp/ipykernel_12120/1170807870.py:6: RuntimeWarning: invalid value encountered in long_scalars\n",
      "  s3 = tp[3]/(tp[3]+fn[3])\n",
      " 60%|██████    | 9/15 [00:32<00:21,  3.63s/it, val_loss=1.14, val_iou=[0.90368132 0.00146868 0.00248137 0.00132558], val_dice=[0.94884411 0.00291827 0.00493092 0.00264274], val_sensitivity=[nan nan nan nan]]/tmp/ipykernel_12120/1170807870.py:3: RuntimeWarning: invalid value encountered in long_scalars\n",
      "  s0 = tp[0]/(tp[0]+fn[0])\n",
      " 67%|██████▋   | 10/15 [00:36<00:18,  3.65s/it, val_loss=1.15, val_iou=[0.88601318 0.00141403 0.00225763 0.00119302], val_dice=[0.93815194 0.0028107  0.00448661 0.00237847], val_sensitivity=[nan nan nan nan]]/tmp/ipykernel_12120/1170807870.py:3: RuntimeWarning: invalid value encountered in long_scalars\n",
      "  s0 = tp[0]/(tp[0]+fn[0])\n",
      "100%|██████████| 15/15 [00:53<00:00,  3.60s/it, val_loss=1.15, val_iou=[8.88095697e-01 9.58661049e-04 3.10252827e-03 8.08829881e-04], val_dice=[0.93953584 0.00190556 0.00616638 0.00161252], val_sensitivity=[nan nan nan nan]]\n"
     ]
    },
    {
     "name": "stdout",
     "output_type": "stream",
     "text": [
      "Training Epoch 3/100,  Training Loss: 1.1555,  Training DICE: [0.94372831 0.00104576 0.00589234 0.00632121],  Training IOU: [8.93616453e-01 5.23835943e-04 2.95767012e-03 3.17440332e-03],  Training Sensitivity: [0.37517614 0.37559897 0.3770714  0.40786095],  Validation Loss: 1.1451,  Validation DICE: [0.93953584 0.00190556 0.00616638 0.00161252],  Validation IOU: [8.88095697e-01 9.58661049e-04 3.10252827e-03 8.08829881e-04],  Validation Sensitivity: [nan nan nan nan]\n",
      "Saved new best model based on DICE metric!\n"
     ]
    },
    {
     "name": "stderr",
     "output_type": "stream",
     "text": [
      "100%|██████████| 81/81 [10:00<00:00,  7.41s/it, loss=1.14, iou=[9.12939819e-01 4.57557282e-04 3.47131903e-03 4.57729677e-03], dice=[9.54434054e-01 9.13649292e-04 6.90815811e-03 9.10055541e-03], sensitivity=[0.3677389  0.38256793 0.37127605 0.45373469]]\n",
      " 27%|██▋       | 4/15 [00:15<00:40,  3.71s/it, val_loss=1.12, val_iou=[9.42497696e-01 5.52580506e-04 3.50565218e-03 3.40992706e-03], val_dice=[0.97031517 0.00110272 0.00695934 0.00679631], val_sensitivity=[0.74366377 0.52134054 0.52789715 0.64844877]]/tmp/ipykernel_12120/1170807870.py:3: RuntimeWarning: invalid value encountered in long_scalars\n",
      "  s0 = tp[0]/(tp[0]+fn[0])\n",
      "/tmp/ipykernel_12120/1170807870.py:4: RuntimeWarning: invalid value encountered in long_scalars\n",
      "  s1 = tp[1]/(tp[1]+fn[1])\n",
      "/tmp/ipykernel_12120/1170807870.py:5: RuntimeWarning: invalid value encountered in long_scalars\n",
      "  s2 = tp[2]/(tp[2]+fn[2])\n",
      "/tmp/ipykernel_12120/1170807870.py:6: RuntimeWarning: invalid value encountered in long_scalars\n",
      "  s3 = tp[3]/(tp[3]+fn[3])\n",
      " 53%|█████▎    | 8/15 [00:29<00:25,  3.63s/it, val_loss=1.12, val_iou=[0.93927941 0.00184711 0.00333886 0.00170496], val_dice=[0.96861074 0.00366143 0.00662097 0.00339816], val_sensitivity=[nan nan nan nan]]                                            /tmp/ipykernel_12120/1170807870.py:4: RuntimeWarning: invalid value encountered in long_scalars\n",
      "  s1 = tp[1]/(tp[1]+fn[1])\n",
      "/tmp/ipykernel_12120/1170807870.py:5: RuntimeWarning: invalid value encountered in long_scalars\n",
      "  s2 = tp[2]/(tp[2]+fn[2])\n",
      "/tmp/ipykernel_12120/1170807870.py:6: RuntimeWarning: invalid value encountered in long_scalars\n",
      "  s3 = tp[3]/(tp[3]+fn[3])\n",
      "100%|██████████| 15/15 [00:53<00:00,  3.60s/it, val_loss=1.13, val_iou=[0.91679845 0.00107327 0.00405174 0.00092473], val_dice=[0.95578662 0.00212863 0.00802116 0.00184307], val_sensitivity=[nan nan nan nan]]\n"
     ]
    },
    {
     "name": "stdout",
     "output_type": "stream",
     "text": [
      "Training Epoch 4/100,  Training Loss: 1.1387,  Training DICE: [9.54434054e-01 9.13649292e-04 6.90815811e-03 9.10055541e-03],  Training IOU: [9.12939819e-01 4.57557282e-04 3.47131903e-03 4.57729677e-03],  Training Sensitivity: [0.3677389  0.38256793 0.37127605 0.45373469],  Validation Loss: 1.1275,  Validation DICE: [0.95578662 0.00212863 0.00802116 0.00184307],  Validation IOU: [0.91679845 0.00107327 0.00405174 0.00092473],  Validation Sensitivity: [nan nan nan nan]\n",
      "Saved new best model based on DICE metric!\n"
     ]
    },
    {
     "name": "stderr",
     "output_type": "stream",
     "text": [
      "100%|██████████| 81/81 [09:54<00:00,  7.35s/it, loss=1.12, iou=[9.45334551e-01 5.01332748e-04 3.63053956e-03 2.90102894e-03], dice=[0.97187308 0.00100075 0.00721736 0.00577285], sensitivity=[0.40131623 0.35078457 0.39121892 0.41512058]]\n",
      " 20%|██        | 3/15 [00:11<00:45,  3.80s/it, val_loss=1.1, val_iou=[9.78979820e-01 0.00000000e+00 4.23271329e-04 3.08470014e-03], val_dice=[9.89307949e-01 0.00000000e+00 8.45970605e-04 6.14499319e-03], val_sensitivity=[0.49544028 0.7        0.69462566 0.91111111]] /tmp/ipykernel_12120/1170807870.py:4: RuntimeWarning: invalid value encountered in long_scalars\n",
      "  s1 = tp[1]/(tp[1]+fn[1])\n",
      "/tmp/ipykernel_12120/1170807870.py:5: RuntimeWarning: invalid value encountered in long_scalars\n",
      "  s2 = tp[2]/(tp[2]+fn[2])\n",
      "/tmp/ipykernel_12120/1170807870.py:6: RuntimeWarning: invalid value encountered in long_scalars\n",
      "  s3 = tp[3]/(tp[3]+fn[3])\n",
      " 27%|██▋       | 4/15 [00:15<00:40,  3.72s/it, val_loss=1.1, val_iou=[9.78129021e-01 7.67644866e-05 3.17453497e-04 2.31352510e-03], val_dice=[9.88890298e-01 1.53481845e-04 6.34477954e-04 4.60874489e-03], val_sensitivity=[0.62158021        nan        nan        nan]]/tmp/ipykernel_12120/1170807870.py:3: RuntimeWarning: invalid value encountered in long_scalars\n",
      "  s0 = tp[0]/(tp[0]+fn[0])\n",
      "/tmp/ipykernel_12120/1170807870.py:4: RuntimeWarning: invalid value encountered in long_scalars\n",
      "  s1 = tp[1]/(tp[1]+fn[1])\n",
      "/tmp/ipykernel_12120/1170807870.py:5: RuntimeWarning: invalid value encountered in long_scalars\n",
      "  s2 = tp[2]/(tp[2]+fn[2])\n",
      "/tmp/ipykernel_12120/1170807870.py:6: RuntimeWarning: invalid value encountered in long_scalars\n",
      "  s3 = tp[3]/(tp[3]+fn[3])\n",
      " 53%|█████▎    | 8/15 [00:29<00:25,  3.61s/it, val_loss=1.1, val_iou=[0.97009184 0.00250112 0.00154916 0.00115676], val_dice=[0.98471993 0.00491325 0.00307521 0.00230437], val_sensitivity=[nan nan nan nan]]                                                            /tmp/ipykernel_12120/1170807870.py:4: RuntimeWarning: invalid value encountered in long_scalars\n",
      "  s1 = tp[1]/(tp[1]+fn[1])\n",
      "/tmp/ipykernel_12120/1170807870.py:5: RuntimeWarning: invalid value encountered in long_scalars\n",
      "  s2 = tp[2]/(tp[2]+fn[2])\n",
      "/tmp/ipykernel_12120/1170807870.py:6: RuntimeWarning: invalid value encountered in long_scalars\n",
      "  s3 = tp[3]/(tp[3]+fn[3])\n",
      " 87%|████████▋ | 13/15 [00:47<00:07,  3.62s/it, val_loss=1.11, val_iou=[9.45893629e-01 1.65984243e-03 2.39354948e-03 7.11853878e-04], val_dice=[0.97168523 0.00326471 0.0047487  0.00141808], val_sensitivity=[nan nan nan nan]]/tmp/ipykernel_12120/1170807870.py:4: RuntimeWarning: invalid value encountered in long_scalars\n",
      "  s1 = tp[1]/(tp[1]+fn[1])\n",
      "/tmp/ipykernel_12120/1170807870.py:5: RuntimeWarning: invalid value encountered in long_scalars\n",
      "  s2 = tp[2]/(tp[2]+fn[2])\n",
      "/tmp/ipykernel_12120/1170807870.py:6: RuntimeWarning: invalid value encountered in long_scalars\n",
      "  s3 = tp[3]/(tp[3]+fn[3])\n",
      " 93%|█████████▎| 14/15 [00:51<00:03,  3.61s/it, val_loss=1.11, val_iou=[9.49626694e-01 1.54128226e-03 2.22258166e-03 6.61007173e-04], val_dice=[0.97364181 0.00303151 0.0044095  0.00131678], val_sensitivity=[nan nan nan nan]]/tmp/ipykernel_12120/1170807870.py:4: RuntimeWarning: invalid value encountered in long_scalars\n",
      "  s1 = tp[1]/(tp[1]+fn[1])\n",
      "/tmp/ipykernel_12120/1170807870.py:5: RuntimeWarning: invalid value encountered in long_scalars\n",
      "  s2 = tp[2]/(tp[2]+fn[2])\n",
      "/tmp/ipykernel_12120/1170807870.py:6: RuntimeWarning: invalid value encountered in long_scalars\n",
      "  s3 = tp[3]/(tp[3]+fn[3])\n",
      "100%|██████████| 15/15 [00:54<00:00,  3.60s/it, val_loss=1.11, val_iou=[9.52104384e-01 1.46291197e-03 2.10956904e-03 6.27396638e-04], val_dice=[0.97494019 0.00287737 0.00418529 0.00124983], val_sensitivity=[nan nan nan nan]]\n"
     ]
    },
    {
     "name": "stdout",
     "output_type": "stream",
     "text": [
      "Training Epoch 5/100,  Training Loss: 1.1217,  Training DICE: [0.97187308 0.00100075 0.00721736 0.00577285],  Training IOU: [9.45334551e-01 5.01332748e-04 3.63053956e-03 2.90102894e-03],  Training Sensitivity: [0.40131623 0.35078457 0.39121892 0.41512058],  Validation Loss: 1.1102,  Validation DICE: [0.97494019 0.00287737 0.00418529 0.00124983],  Validation IOU: [9.52104384e-01 1.46291197e-03 2.10956904e-03 6.27396638e-04],  Validation Sensitivity: [nan nan nan nan]\n",
      "Saved new best model based on DICE metric!\n"
     ]
    },
    {
     "name": "stderr",
     "output_type": "stream",
     "text": [
      " 32%|███▏      | 26/81 [03:16<05:44,  6.26s/it, loss=1.11, iou=[9.64158743e-01 2.48300960e-04 2.75598875e-03 4.92791174e-04], dice=[9.81748735e-01 4.95506275e-04 5.48217615e-03 9.83362352e-04], sensitivity=[0.40131175 0.23052601 0.34540821 0.26078568]]/tmp/ipykernel_12120/1170807870.py:6: RuntimeWarning: invalid value encountered in long_scalars\n",
      "  s3 = tp[3]/(tp[3]+fn[3])\n",
      " 42%|████▏     | 34/81 [04:23<06:21,  8.11s/it, loss=1.11, iou=[9.65645724e-01 1.95383995e-04 2.74534013e-03 4.11519191e-04], dice=[9.82517749e-01 3.89928082e-04 5.46160243e-03 8.21288629e-04], sensitivity=[0.37719387 0.2067843  0.31714819        nan]]/tmp/ipykernel_12120/1170807870.py:6: RuntimeWarning: invalid value encountered in long_scalars\n",
      "  s3 = tp[3]/(tp[3]+fn[3])\n",
      " 49%|████▉     | 40/81 [05:08<05:32,  8.12s/it, loss=1.11, iou=[9.66548946e-01 2.76276322e-04 2.56535322e-03 5.19930926e-04], dice=[9.82984502e-01 5.51352989e-04 5.10426994e-03 1.03659566e-03], sensitivity=[0.37046232 0.24243332 0.3391185         nan]]/tmp/ipykernel_12120/1170807870.py:4: RuntimeWarning: invalid value encountered in long_scalars\n",
      "  s1 = tp[1]/(tp[1]+fn[1])\n",
      "/tmp/ipykernel_12120/1170807870.py:5: RuntimeWarning: invalid value encountered in long_scalars\n",
      "  s2 = tp[2]/(tp[2]+fn[2])\n",
      "/tmp/ipykernel_12120/1170807870.py:6: RuntimeWarning: invalid value encountered in long_scalars\n",
      "  s3 = tp[3]/(tp[3]+fn[3])\n",
      " 53%|█████▎    | 43/81 [05:26<04:02,  6.38s/it, loss=1.11, iou=[9.67215062e-01 3.21509489e-04 2.69469236e-03 4.83656675e-04], dice=[9.83327660e-01 6.41546137e-04 5.35884726e-03 9.64275037e-04], sensitivity=[0.35356318        nan        nan        nan]]/tmp/ipykernel_12120/1170807870.py:4: RuntimeWarning: invalid value encountered in long_scalars\n",
      "  s1 = tp[1]/(tp[1]+fn[1])\n",
      "/tmp/ipykernel_12120/1170807870.py:6: RuntimeWarning: invalid value encountered in long_scalars\n",
      "  s3 = tp[3]/(tp[3]+fn[3])\n",
      " 56%|█████▌    | 45/81 [05:39<04:03,  6.76s/it, loss=1.11, iou=[9.67477674e-01 3.07220179e-04 2.68435139e-03 4.62160823e-04], dice=[9.83463268e-01 6.13032976e-04 5.33845021e-03 9.21418369e-04], sensitivity=[0.36551103        nan        nan        nan]]/tmp/ipykernel_12120/1170807870.py:4: RuntimeWarning: invalid value encountered in long_scalars\n",
      "  s1 = tp[1]/(tp[1]+fn[1])\n",
      "/tmp/ipykernel_12120/1170807870.py:5: RuntimeWarning: invalid value encountered in long_scalars\n",
      "  s2 = tp[2]/(tp[2]+fn[2])\n",
      "/tmp/ipykernel_12120/1170807870.py:6: RuntimeWarning: invalid value encountered in long_scalars\n",
      "  s3 = tp[3]/(tp[3]+fn[3])\n",
      " 57%|█████▋    | 46/81 [05:48<04:19,  7.41s/it, loss=1.11, iou=[9.67628302e-01 3.00541479e-04 2.62599592e-03 4.52113848e-04], dice=[9.83540967e-01 5.99706172e-04 5.22239694e-03 9.01387534e-04], sensitivity=[0.36855119        nan        nan        nan]]/tmp/ipykernel_12120/1170807870.py:6: RuntimeWarning: invalid value encountered in long_scalars\n",
      "  s3 = tp[3]/(tp[3]+fn[3])\n",
      " 63%|██████▎   | 51/81 [06:24<03:20,  6.67s/it, loss=1.11, iou=[9.68466050e-01 2.75197438e-04 2.71034446e-03 7.96719993e-04], dice=[9.83972353e-01 5.49151337e-04 5.38897743e-03 1.58249702e-03], sensitivity=[0.37406753        nan        nan        nan]]/tmp/ipykernel_12120/1170807870.py:6: RuntimeWarning: invalid value encountered in long_scalars\n",
      "  s3 = tp[3]/(tp[3]+fn[3])\n",
      " 77%|███████▋  | 62/81 [07:44<02:31,  7.98s/it, loss=1.11, iou=[9.70240878e-01 2.26812963e-04 3.08798389e-03 7.10391802e-04], dice=[9.84885014e-01 4.52602990e-04 6.13372901e-03 1.41140796e-03], sensitivity=[0.39803258        nan        nan        nan]]/tmp/ipykernel_12120/1170807870.py:5: RuntimeWarning: invalid value encountered in long_scalars\n",
      "  s2 = tp[2]/(tp[2]+fn[2])\n",
      "/tmp/ipykernel_12120/1170807870.py:6: RuntimeWarning: invalid value encountered in long_scalars\n",
      "  s3 = tp[3]/(tp[3]+fn[3])\n",
      " 78%|███████▊  | 63/81 [07:53<02:28,  8.24s/it, loss=1.11, iou=[9.70302294e-01 2.64280892e-04 3.03896827e-03 6.99115741e-04], dice=[9.84916764e-01 5.27343124e-04 6.03636823e-03 1.38900466e-03], sensitivity=[0.39568941        nan        nan        nan]]/tmp/ipykernel_12120/1170807870.py:4: RuntimeWarning: invalid value encountered in long_scalars\n",
      "  s1 = tp[1]/(tp[1]+fn[1])\n",
      "/tmp/ipykernel_12120/1170807870.py:5: RuntimeWarning: invalid value encountered in long_scalars\n",
      "  s2 = tp[2]/(tp[2]+fn[2])\n",
      "/tmp/ipykernel_12120/1170807870.py:6: RuntimeWarning: invalid value encountered in long_scalars\n",
      "  s3 = tp[3]/(tp[3]+fn[3])\n",
      " 83%|████████▎ | 67/81 [08:24<01:52,  8.07s/it, loss=1.11, iou=[9.70888522e-01 2.78015473e-04 3.19243982e-03 8.75170380e-04], dice=[9.85217845e-01 5.54796013e-04 6.33242903e-03 1.73540008e-03], sensitivity=[0.39138441        nan        nan        nan]]/tmp/ipykernel_12120/1170807870.py:4: RuntimeWarning: invalid value encountered in long_scalars\n",
      "  s1 = tp[1]/(tp[1]+fn[1])\n",
      "/tmp/ipykernel_12120/1170807870.py:5: RuntimeWarning: invalid value encountered in long_scalars\n",
      "  s2 = tp[2]/(tp[2]+fn[2])\n",
      "/tmp/ipykernel_12120/1170807870.py:6: RuntimeWarning: invalid value encountered in long_scalars\n",
      "  s3 = tp[3]/(tp[3]+fn[3])\n",
      " 84%|████████▍ | 68/81 [08:28<01:30,  6.99s/it, loss=1.11, iou=[9.70983706e-01 2.73927011e-04 3.14549218e-03 8.62300227e-04], dice=[9.85266861e-01 5.46637248e-04 6.23930507e-03 1.70987949e-03], sensitivity=[0.3913817       nan       nan       nan]]    /tmp/ipykernel_12120/1170807870.py:4: RuntimeWarning: invalid value encountered in long_scalars\n",
      "  s1 = tp[1]/(tp[1]+fn[1])\n",
      "/tmp/ipykernel_12120/1170807870.py:5: RuntimeWarning: invalid value encountered in long_scalars\n",
      "  s2 = tp[2]/(tp[2]+fn[2])\n",
      "/tmp/ipykernel_12120/1170807870.py:6: RuntimeWarning: invalid value encountered in long_scalars\n",
      "  s3 = tp[3]/(tp[3]+fn[3])\n",
      " 86%|████████▋ | 70/81 [08:42<01:12,  6.63s/it, loss=1.11, iou=[9.71205541e-01 2.67484162e-04 3.07293844e-03 8.37663078e-04], dice=[9.85380946e-01 5.33786049e-04 6.09563221e-03 1.66102579e-03], sensitivity=[0.38338458        nan        nan        nan]]/tmp/ipykernel_12120/1170807870.py:4: RuntimeWarning: invalid value encountered in long_scalars\n",
      "  s1 = tp[1]/(tp[1]+fn[1])\n",
      "/tmp/ipykernel_12120/1170807870.py:5: RuntimeWarning: invalid value encountered in long_scalars\n",
      "  s2 = tp[2]/(tp[2]+fn[2])\n",
      "/tmp/ipykernel_12120/1170807870.py:6: RuntimeWarning: invalid value encountered in long_scalars\n",
      "  s3 = tp[3]/(tp[3]+fn[3])\n",
      " 88%|████████▊ | 71/81 [08:50<01:13,  7.31s/it, loss=1.11, iou=[9.71310754e-01 3.18121353e-04 3.02965761e-03 8.25865007e-04], dice=[9.85435058e-01 6.34658399e-04 6.00977823e-03 1.63763107e-03], sensitivity=[0.38701107        nan        nan        nan]]/tmp/ipykernel_12120/1170807870.py:4: RuntimeWarning: invalid value encountered in long_scalars\n",
      "  s1 = tp[1]/(tp[1]+fn[1])\n",
      "/tmp/ipykernel_12120/1170807870.py:5: RuntimeWarning: invalid value encountered in long_scalars\n",
      "  s2 = tp[2]/(tp[2]+fn[2])\n",
      "/tmp/ipykernel_12120/1170807870.py:6: RuntimeWarning: invalid value encountered in long_scalars\n",
      "  s3 = tp[3]/(tp[3]+fn[3])\n",
      " 91%|█████████▏| 74/81 [09:13<00:49,  7.00s/it, loss=1.11, iou=[9.71599833e-01 3.12349548e-04 2.91983940e-03 1.00275920e-03], dice=[9.85583731e-01 6.23172992e-04 5.79212506e-03 1.98554130e-03], sensitivity=[0.38413008        nan        nan        nan]]/tmp/ipykernel_12120/1170807870.py:6: RuntimeWarning: invalid value encountered in long_scalars\n",
      "  s3 = tp[3]/(tp[3]+fn[3])\n",
      " 93%|█████████▎| 75/81 [09:21<00:45,  7.57s/it, loss=1.11, iou=[9.71777394e-01 3.08184888e-04 2.88569978e-03 9.89389080e-04], dice=[9.85674630e-01 6.14864019e-04 5.72447642e-03 1.95906742e-03], sensitivity=[0.38677579        nan        nan        nan]]/tmp/ipykernel_12120/1170807870.py:4: RuntimeWarning: invalid value encountered in long_scalars\n",
      "  s1 = tp[1]/(tp[1]+fn[1])\n",
      "/tmp/ipykernel_12120/1170807870.py:6: RuntimeWarning: invalid value encountered in long_scalars\n",
      "  s3 = tp[3]/(tp[3]+fn[3])\n",
      " 94%|█████████▍| 76/81 [09:26<00:33,  6.64s/it, loss=1.11, iou=[9.71916253e-01 3.04129823e-04 2.84904472e-03 9.76370803e-04], dice=[9.85745840e-01 6.06773703e-04 5.65178344e-03 1.93329021e-03], sensitivity=[0.38760052        nan        nan        nan]]/tmp/ipykernel_12120/1170807870.py:6: RuntimeWarning: invalid value encountered in long_scalars\n",
      "  s3 = tp[3]/(tp[3]+fn[3])\n"
     ]
    },
    {
     "name": "stderr",
     "output_type": "stream",
     "text": [
      " 95%|█████████▌| 77/81 [09:35<00:29,  7.34s/it, loss=1.11, iou=[9.72107403e-01 3.00180085e-04 2.81296684e-03 9.63690663e-04], dice=[9.85843588e-01 5.98893525e-04 5.58022893e-03 1.90818255e-03], sensitivity=[0.38692188        nan        nan        nan]]/tmp/ipykernel_12120/1170807870.py:4: RuntimeWarning: invalid value encountered in long_scalars\n",
      "  s1 = tp[1]/(tp[1]+fn[1])\n",
      "/tmp/ipykernel_12120/1170807870.py:5: RuntimeWarning: invalid value encountered in long_scalars\n",
      "  s2 = tp[2]/(tp[2]+fn[2])\n",
      "/tmp/ipykernel_12120/1170807870.py:6: RuntimeWarning: invalid value encountered in long_scalars\n",
      "  s3 = tp[3]/(tp[3]+fn[3])\n",
      " 96%|█████████▋| 78/81 [09:44<00:23,  7.81s/it, loss=1.11, iou=[9.72243414e-01 2.96331623e-04 2.77690316e-03 9.51335654e-04], dice=[9.85913321e-01 5.91215402e-04 5.50868753e-03 1.88371867e-03], sensitivity=[0.38210946        nan        nan        nan]]/tmp/ipykernel_12120/1170807870.py:4: RuntimeWarning: invalid value encountered in long_scalars\n",
      "  s1 = tp[1]/(tp[1]+fn[1])\n",
      "/tmp/ipykernel_12120/1170807870.py:6: RuntimeWarning: invalid value encountered in long_scalars\n",
      "  s3 = tp[3]/(tp[3]+fn[3])\n",
      " 98%|█████████▊| 79/81 [09:53<00:16,  8.14s/it, loss=1.11, iou=[9.72334948e-01 2.94749261e-04 2.74525330e-03 9.39293431e-04], dice=[9.85960379e-01 5.88068264e-04 5.44595699e-03 1.85987413e-03], sensitivity=[0.3841593       nan       nan       nan]]    /tmp/ipykernel_12120/1170807870.py:4: RuntimeWarning: invalid value encountered in long_scalars\n",
      "  s1 = tp[1]/(tp[1]+fn[1])\n",
      "/tmp/ipykernel_12120/1170807870.py:5: RuntimeWarning: invalid value encountered in long_scalars\n",
      "  s2 = tp[2]/(tp[2]+fn[2])\n",
      "/tmp/ipykernel_12120/1170807870.py:6: RuntimeWarning: invalid value encountered in long_scalars\n",
      "  s3 = tp[3]/(tp[3]+fn[3])\n",
      "100%|██████████| 81/81 [10:06<00:00,  7.49s/it, loss=1.11, iou=[9.72536731e-01 2.87471502e-04 2.67746926e-03 1.11276241e-03], dice=[9.86063992e-01 5.73548060e-04 5.31148892e-03 2.20110692e-03], sensitivity=[0.38500887        nan        nan        nan]]\n",
      "  0%|          | 0/15 [00:00<?, ?it/s]/tmp/ipykernel_12120/1170807870.py:4: RuntimeWarning: invalid value encountered in long_scalars\n",
      "  s1 = tp[1]/(tp[1]+fn[1])\n",
      "/tmp/ipykernel_12120/1170807870.py:5: RuntimeWarning: invalid value encountered in long_scalars\n",
      "  s2 = tp[2]/(tp[2]+fn[2])\n",
      "/tmp/ipykernel_12120/1170807870.py:6: RuntimeWarning: invalid value encountered in long_scalars\n",
      "  s3 = tp[3]/(tp[3]+fn[3])\n",
      "  7%|▋         | 1/15 [00:04<01:03,  4.53s/it, val_loss=1.08, val_iou=[0.99952857 0.         0.         0.        ], val_dice=[0.99976423 0.         0.         0.        ], val_sensitivity=[0.36820762        nan        nan        nan]]/tmp/ipykernel_12120/1170807870.py:4: RuntimeWarning: invalid value encountered in long_scalars\n",
      "  s1 = tp[1]/(tp[1]+fn[1])\n",
      "/tmp/ipykernel_12120/1170807870.py:5: RuntimeWarning: invalid value encountered in long_scalars\n",
      "  s2 = tp[2]/(tp[2]+fn[2])\n",
      "/tmp/ipykernel_12120/1170807870.py:6: RuntimeWarning: invalid value encountered in long_scalars\n",
      "  s3 = tp[3]/(tp[3]+fn[3])\n",
      " 13%|█▎        | 2/15 [00:08<00:51,  4.00s/it, val_loss=1.09, val_iou=[0.99852069 0.         0.         0.        ], val_dice=[0.99925954 0.         0.         0.        ], val_sensitivity=[0.25619014        nan        nan        nan]]/tmp/ipykernel_12120/1170807870.py:4: RuntimeWarning: invalid value encountered in long_scalars\n",
      "  s1 = tp[1]/(tp[1]+fn[1])\n",
      "/tmp/ipykernel_12120/1170807870.py:5: RuntimeWarning: invalid value encountered in long_scalars\n",
      "  s2 = tp[2]/(tp[2]+fn[2])\n",
      "/tmp/ipykernel_12120/1170807870.py:6: RuntimeWarning: invalid value encountered in long_scalars\n",
      "  s3 = tp[3]/(tp[3]+fn[3])\n",
      " 20%|██        | 3/15 [00:11<00:45,  3.81s/it, val_loss=1.09, val_iou=[0.99807633 0.         0.         0.        ], val_dice=[0.99903697 0.         0.         0.        ], val_sensitivity=[0.50412676        nan        nan        nan]]/tmp/ipykernel_12120/1170807870.py:4: RuntimeWarning: invalid value encountered in long_scalars\n",
      "  s1 = tp[1]/(tp[1]+fn[1])\n",
      "/tmp/ipykernel_12120/1170807870.py:5: RuntimeWarning: invalid value encountered in long_scalars\n",
      "  s2 = tp[2]/(tp[2]+fn[2])\n",
      "/tmp/ipykernel_12120/1170807870.py:6: RuntimeWarning: invalid value encountered in long_scalars\n",
      "  s3 = tp[3]/(tp[3]+fn[3])\n",
      " 27%|██▋       | 4/15 [00:15<00:41,  3.75s/it, val_loss=1.09, val_iou=[0.99836524 0.         0.         0.        ], val_dice=[0.99918169 0.         0.         0.        ], val_sensitivity=[0.62809507        nan        nan        nan]]/tmp/ipykernel_12120/1170807870.py:3: RuntimeWarning: invalid value encountered in long_scalars\n",
      "  s0 = tp[0]/(tp[0]+fn[0])\n",
      "/tmp/ipykernel_12120/1170807870.py:4: RuntimeWarning: invalid value encountered in long_scalars\n",
      "  s1 = tp[1]/(tp[1]+fn[1])\n",
      "/tmp/ipykernel_12120/1170807870.py:5: RuntimeWarning: invalid value encountered in long_scalars\n",
      "  s2 = tp[2]/(tp[2]+fn[2])\n",
      "/tmp/ipykernel_12120/1170807870.py:6: RuntimeWarning: invalid value encountered in long_scalars\n",
      "  s3 = tp[3]/(tp[3]+fn[3])\n",
      " 33%|███▎      | 5/15 [00:18<00:36,  3.69s/it, val_loss=1.09, val_iou=[9.98453457e-01 2.64550265e-04 0.00000000e+00 0.00000000e+00], val_dice=[9.99225911e-01 5.28401585e-04 0.00000000e+00 0.00000000e+00], val_sensitivity=[nan nan nan nan]]/tmp/ipykernel_12120/1170807870.py:4: RuntimeWarning: invalid value encountered in long_scalars\n",
      "  s1 = tp[1]/(tp[1]+fn[1])\n",
      "/tmp/ipykernel_12120/1170807870.py:5: RuntimeWarning: invalid value encountered in long_scalars\n",
      "  s2 = tp[2]/(tp[2]+fn[2])\n",
      "/tmp/ipykernel_12120/1170807870.py:6: RuntimeWarning: invalid value encountered in long_scalars\n",
      "  s3 = tp[3]/(tp[3]+fn[3])\n",
      " 40%|████      | 6/15 [00:22<00:32,  3.66s/it, val_loss=1.09, val_iou=[9.96614508e-01 2.20458554e-04 0.00000000e+00 0.00000000e+00], val_dice=[9.98299937e-01 4.40334654e-04 0.00000000e+00 0.00000000e+00], val_sensitivity=[nan nan nan nan]]/tmp/ipykernel_12120/1170807870.py:4: RuntimeWarning: invalid value encountered in long_scalars\n",
      "  s1 = tp[1]/(tp[1]+fn[1])\n",
      "/tmp/ipykernel_12120/1170807870.py:5: RuntimeWarning: invalid value encountered in long_scalars\n",
      "  s2 = tp[2]/(tp[2]+fn[2])\n",
      "/tmp/ipykernel_12120/1170807870.py:6: RuntimeWarning: invalid value encountered in long_scalars\n",
      "  s3 = tp[3]/(tp[3]+fn[3])\n",
      " 47%|████▋     | 7/15 [00:26<00:29,  3.65s/it, val_loss=1.09, val_iou=[9.90268389e-01 1.88964475e-04 0.00000000e+00 0.00000000e+00], val_dice=[9.95044293e-01 3.77429704e-04 0.00000000e+00 0.00000000e+00], val_sensitivity=[nan nan nan nan]]/tmp/ipykernel_12120/1170807870.py:4: RuntimeWarning: invalid value encountered in long_scalars\n",
      "  s1 = tp[1]/(tp[1]+fn[1])\n",
      "/tmp/ipykernel_12120/1170807870.py:5: RuntimeWarning: invalid value encountered in long_scalars\n",
      "  s2 = tp[2]/(tp[2]+fn[2])\n",
      "/tmp/ipykernel_12120/1170807870.py:6: RuntimeWarning: invalid value encountered in long_scalars\n",
      "  s3 = tp[3]/(tp[3]+fn[3])\n",
      " 53%|█████▎    | 8/15 [00:29<00:25,  3.64s/it, val_loss=1.09, val_iou=[9.90444699e-01 1.65343915e-04 0.00000000e+00 0.00000000e+00], val_dice=[9.95141513e-01 3.30250991e-04 0.00000000e+00 0.00000000e+00], val_sensitivity=[nan nan nan nan]]/tmp/ipykernel_12120/1170807870.py:4: RuntimeWarning: invalid value encountered in long_scalars\n",
      "  s1 = tp[1]/(tp[1]+fn[1])\n",
      "/tmp/ipykernel_12120/1170807870.py:5: RuntimeWarning: invalid value encountered in long_scalars\n",
      "  s2 = tp[2]/(tp[2]+fn[2])\n",
      "/tmp/ipykernel_12120/1170807870.py:6: RuntimeWarning: invalid value encountered in long_scalars\n",
      "  s3 = tp[3]/(tp[3]+fn[3])\n",
      " 87%|████████▋ | 13/15 [00:48<00:07,  3.64s/it, val_loss=1.11, val_iou=[9.38185763e-01 1.38095024e-04 9.01336861e-04 0.00000000e+00], val_dice=[9.66479592e-01 2.75903143e-04 1.79498963e-03 0.00000000e+00], val_sensitivity=[nan nan nan nan]]/tmp/ipykernel_12120/1170807870.py:4: RuntimeWarning: invalid value encountered in long_scalars\n",
      "  s1 = tp[1]/(tp[1]+fn[1])\n",
      "/tmp/ipykernel_12120/1170807870.py:5: RuntimeWarning: invalid value encountered in long_scalars\n",
      "  s2 = tp[2]/(tp[2]+fn[2])\n",
      "/tmp/ipykernel_12120/1170807870.py:6: RuntimeWarning: invalid value encountered in long_scalars\n",
      "  s3 = tp[3]/(tp[3]+fn[3])\n"
     ]
    },
    {
     "name": "stderr",
     "output_type": "stream",
     "text": [
      " 87%|████████▋ | 13/15 [00:51<00:07,  3.64s/it, val_loss=1.11, val_iou=[9.42536579e-01 1.28231094e-04 8.36955657e-04 0.00000000e+00], val_dice=[9.68841649e-01 2.56195776e-04 1.66677609e-03 0.00000000e+00], val_sensitivity=[nan nan nan nan]]\r",
      " 93%|█████████▎| 14/15 [00:51<00:03,  3.63s/it, val_loss=1.11, val_iou=[9.42536579e-01 1.28231094e-04 8.36955657e-04 0.00000000e+00], val_dice=[9.68841649e-01 2.56195776e-04 1.66677609e-03 0.00000000e+00], val_sensitivity=[nan nan nan nan]]"
     ]
    },
    {
     "ename": "ValueError",
     "evalue": "not enough values to unpack (expected 4, got 3)",
     "output_type": "error",
     "traceback": [
      "\u001b[0;31m---------------------------------------------------------------------------\u001b[0m",
      "\u001b[0;31mValueError\u001b[0m                                Traceback (most recent call last)",
      "\u001b[0;32m/tmp/ipykernel_12120/3444956764.py\u001b[0m in \u001b[0;36m<module>\u001b[0;34m\u001b[0m\n\u001b[1;32m     74\u001b[0m             \u001b[0mval_iou\u001b[0m \u001b[0;34m=\u001b[0m \u001b[0mjaccard_score\u001b[0m\u001b[0;34m(\u001b[0m\u001b[0mval_target_metric\u001b[0m\u001b[0;34m,\u001b[0m \u001b[0mval_output_metric\u001b[0m\u001b[0;34m,\u001b[0m \u001b[0maverage\u001b[0m\u001b[0;34m=\u001b[0m\u001b[0;32mNone\u001b[0m\u001b[0;34m)\u001b[0m\u001b[0;34m\u001b[0m\u001b[0;34m\u001b[0m\u001b[0m\n\u001b[1;32m     75\u001b[0m             \u001b[0mval_dice\u001b[0m \u001b[0;34m=\u001b[0m \u001b[0mf1_score\u001b[0m\u001b[0;34m(\u001b[0m\u001b[0mval_target_metric\u001b[0m\u001b[0;34m,\u001b[0m \u001b[0mval_output_metric\u001b[0m\u001b[0;34m,\u001b[0m \u001b[0maverage\u001b[0m\u001b[0;34m=\u001b[0m\u001b[0;32mNone\u001b[0m\u001b[0;34m)\u001b[0m\u001b[0;34m\u001b[0m\u001b[0;34m\u001b[0m\u001b[0m\n\u001b[0;32m---> 76\u001b[0;31m             \u001b[0mval_sensitivity\u001b[0m \u001b[0;34m=\u001b[0m \u001b[0msensitivity_metric\u001b[0m\u001b[0;34m(\u001b[0m\u001b[0mval_target_metric\u001b[0m\u001b[0;34m,\u001b[0m \u001b[0mval_output_metric\u001b[0m\u001b[0;34m)\u001b[0m\u001b[0;34m\u001b[0m\u001b[0;34m\u001b[0m\u001b[0m\n\u001b[0m\u001b[1;32m     77\u001b[0m \u001b[0;34m\u001b[0m\u001b[0m\n\u001b[1;32m     78\u001b[0m             \u001b[0mval_avg_meters\u001b[0m\u001b[0;34m[\u001b[0m\u001b[0;34m'val_loss'\u001b[0m\u001b[0;34m]\u001b[0m\u001b[0;34m.\u001b[0m\u001b[0mupdate\u001b[0m\u001b[0;34m(\u001b[0m\u001b[0mval_loss\u001b[0m\u001b[0;34m.\u001b[0m\u001b[0mitem\u001b[0m\u001b[0;34m(\u001b[0m\u001b[0;34m)\u001b[0m\u001b[0;34m,\u001b[0m \u001b[0mval_input\u001b[0m\u001b[0;34m.\u001b[0m\u001b[0msize\u001b[0m\u001b[0;34m(\u001b[0m\u001b[0;36m0\u001b[0m\u001b[0;34m)\u001b[0m\u001b[0;34m)\u001b[0m\u001b[0;34m\u001b[0m\u001b[0;34m\u001b[0m\u001b[0m\n",
      "\u001b[0;32m/tmp/ipykernel_12120/1170807870.py\u001b[0m in \u001b[0;36msensitivity_metric\u001b[0;34m(target, output)\u001b[0m\n\u001b[1;32m      1\u001b[0m \u001b[0;32mdef\u001b[0m \u001b[0msensitivity_metric\u001b[0m\u001b[0;34m(\u001b[0m\u001b[0mtarget\u001b[0m\u001b[0;34m,\u001b[0m \u001b[0moutput\u001b[0m\u001b[0;34m)\u001b[0m\u001b[0;34m:\u001b[0m\u001b[0;34m\u001b[0m\u001b[0;34m\u001b[0m\u001b[0m\n\u001b[0;32m----> 2\u001b[0;31m     \u001b[0mtn\u001b[0m\u001b[0;34m,\u001b[0m \u001b[0mfp\u001b[0m\u001b[0;34m,\u001b[0m \u001b[0mfn\u001b[0m\u001b[0;34m,\u001b[0m \u001b[0mtp\u001b[0m \u001b[0;34m=\u001b[0m \u001b[0mconfusion_matrix\u001b[0m\u001b[0;34m(\u001b[0m\u001b[0mtarget\u001b[0m\u001b[0;34m,\u001b[0m \u001b[0moutput\u001b[0m\u001b[0;34m)\u001b[0m\u001b[0;34m\u001b[0m\u001b[0;34m\u001b[0m\u001b[0m\n\u001b[0m\u001b[1;32m      3\u001b[0m     \u001b[0ms0\u001b[0m \u001b[0;34m=\u001b[0m \u001b[0mtp\u001b[0m\u001b[0;34m[\u001b[0m\u001b[0;36m0\u001b[0m\u001b[0;34m]\u001b[0m\u001b[0;34m/\u001b[0m\u001b[0;34m(\u001b[0m\u001b[0mtp\u001b[0m\u001b[0;34m[\u001b[0m\u001b[0;36m0\u001b[0m\u001b[0;34m]\u001b[0m\u001b[0;34m+\u001b[0m\u001b[0mfn\u001b[0m\u001b[0;34m[\u001b[0m\u001b[0;36m0\u001b[0m\u001b[0;34m]\u001b[0m\u001b[0;34m)\u001b[0m\u001b[0;34m\u001b[0m\u001b[0;34m\u001b[0m\u001b[0m\n\u001b[1;32m      4\u001b[0m     \u001b[0ms1\u001b[0m \u001b[0;34m=\u001b[0m \u001b[0mtp\u001b[0m\u001b[0;34m[\u001b[0m\u001b[0;36m1\u001b[0m\u001b[0;34m]\u001b[0m\u001b[0;34m/\u001b[0m\u001b[0;34m(\u001b[0m\u001b[0mtp\u001b[0m\u001b[0;34m[\u001b[0m\u001b[0;36m1\u001b[0m\u001b[0;34m]\u001b[0m\u001b[0;34m+\u001b[0m\u001b[0mfn\u001b[0m\u001b[0;34m[\u001b[0m\u001b[0;36m1\u001b[0m\u001b[0;34m]\u001b[0m\u001b[0;34m)\u001b[0m\u001b[0;34m\u001b[0m\u001b[0;34m\u001b[0m\u001b[0m\n\u001b[1;32m      5\u001b[0m     \u001b[0ms2\u001b[0m \u001b[0;34m=\u001b[0m \u001b[0mtp\u001b[0m\u001b[0;34m[\u001b[0m\u001b[0;36m2\u001b[0m\u001b[0;34m]\u001b[0m\u001b[0;34m/\u001b[0m\u001b[0;34m(\u001b[0m\u001b[0mtp\u001b[0m\u001b[0;34m[\u001b[0m\u001b[0;36m2\u001b[0m\u001b[0;34m]\u001b[0m\u001b[0;34m+\u001b[0m\u001b[0mfn\u001b[0m\u001b[0;34m[\u001b[0m\u001b[0;36m2\u001b[0m\u001b[0;34m]\u001b[0m\u001b[0;34m)\u001b[0m\u001b[0;34m\u001b[0m\u001b[0;34m\u001b[0m\u001b[0m\n",
      "\u001b[0;31mValueError\u001b[0m: not enough values to unpack (expected 4, got 3)"
     ]
    }
   ],
   "source": [
    "log = pd.DataFrame(index=[], columns=['epoch','lr','loss','iou','dice','sensitivity','val_loss','val_iou', 'val_sensitivity'])\n",
    "# log = pd.DataFrame(index=[], columns=['epoch','lr','loss','iou','dice','val_loss','val_iou'])\n",
    "\n",
    "best_dice = 0\n",
    "trigger = 0\n",
    "\n",
    "for epoch in range(epochs):\n",
    "\n",
    "    #Model Training\n",
    "    avg_meters = {'loss': AverageMeter(), 'iou': AverageMeter(), 'dice': AverageMeter(), 'sensitivity': AverageMeter()}\n",
    "#     avg_meters = {'loss': AverageMeter(), 'iou': AverageMeter(), 'dice': AverageMeter()}\n",
    "    model.train()\n",
    "    pbar = tqdm(total=len(train_loader)) #progress bar\n",
    "\n",
    "    for i, data in enumerate(train_loader):\n",
    "\n",
    "        input = data[0].cuda()\n",
    "        target = data[1].cuda()\n",
    "        output = model(input)\n",
    "\n",
    "        #Get loss and metric\n",
    "        target_metric = target.flatten().cpu()\n",
    "        output_metric = torch.argmax(output, dim=1).flatten().cpu()\n",
    "        loss = criterion(output, torch.argmax(target, dim=1))\n",
    "        iou = jaccard_score(target_metric, output_metric, average=None)\n",
    "        dice = f1_score(target_metric, output_metric, average=None)\n",
    "        sensitivity = sensitivity_metric(target_metric, output_metric)\n",
    "\n",
    "        #Calculate the gradient and perform optimizing step\n",
    "        optimizer.zero_grad()\n",
    "        loss.backward()\n",
    "        optimizer.step()\n",
    "\n",
    "        #Update average metrics\n",
    "        avg_meters['loss'].update(loss.item(), input.size(0))\n",
    "        avg_meters['iou'].update(iou, input.size(0))\n",
    "        avg_meters['dice'].update(dice, input.size(0))\n",
    "        avg_meters['sensitivity'].update(sensitivity, input.size(0))\n",
    "\n",
    "        postfix = OrderedDict([\n",
    "            ('loss', avg_meters['loss'].avg),\n",
    "            ('iou', avg_meters['iou'].avg),\n",
    "            ('dice', avg_meters['dice'].avg),\n",
    "            ('sensitivity', avg_meters['sensitivity'].avg)\n",
    "        ])\n",
    "        pbar.set_postfix(postfix)\n",
    "        pbar.update(1)\n",
    "    pbar.close()\n",
    "\n",
    "    train_log = OrderedDict([\n",
    "        ('loss', avg_meters['loss'].avg),\n",
    "        ('iou', avg_meters['iou'].avg),\n",
    "        ('dice', avg_meters['dice'].avg),\n",
    "        ('sensitivity', avg_meters['sensitivity'].avg)\n",
    "    ])\n",
    "\n",
    "\n",
    "    #Model Validation\n",
    "    val_avg_meters = {'val_loss': AverageMeter(), 'val_iou': AverageMeter(), 'val_dice': AverageMeter(), 'val_sensitivity': AverageMeter()}\n",
    "#     val_avg_meters = {'val_loss': AverageMeter(), 'val_iou': AverageMeter(), 'val_dice': AverageMeter()}\n",
    "    model.eval()\n",
    "\n",
    "    with torch.no_grad():\n",
    "        val_pbar = tqdm(total=len(val_loader))\n",
    "        for i, val_data in enumerate(val_loader):\n",
    "\n",
    "            val_input = val_data[0].cuda()\n",
    "            val_target = val_data[1].cuda()\n",
    "            val_output = model(val_input)\n",
    "            \n",
    "            val_target_metric = val_target.flatten().cpu()\n",
    "            val_output_metric = torch.argmax(val_output, dim=1).flatten().cpu()\n",
    "            val_loss = criterion(val_output, torch.argmax(val_target, dim=1))\n",
    "            val_iou = jaccard_score(val_target_metric, val_output_metric, average=None)\n",
    "            val_dice = f1_score(val_target_metric, val_output_metric, average=None)\n",
    "            val_sensitivity = sensitivity_metric(val_target_metric, val_output_metric)\n",
    "\n",
    "            val_avg_meters['val_loss'].update(val_loss.item(), val_input.size(0))\n",
    "            val_avg_meters['val_iou'].update(val_iou, val_input.size(0))\n",
    "            val_avg_meters['val_dice'].update(val_dice, val_input.size(0))\n",
    "            val_avg_meters['val_sensitivity'].update(val_sensitivity, val_input.size(0))\n",
    "\n",
    "            val_postfix = OrderedDict([\n",
    "                ('val_loss', val_avg_meters['val_loss'].avg),\n",
    "                ('val_iou', val_avg_meters['val_iou'].avg),\n",
    "                ('val_dice', val_avg_meters['val_dice'].avg),\n",
    "                ('val_sensitivity', val_avg_meters['val_sensitivity'].avg)\n",
    "            ])\n",
    "            val_pbar.set_postfix(val_postfix)\n",
    "            val_pbar.update(1)\n",
    "        val_pbar.close()\n",
    "\n",
    "    val_log = OrderedDict([\n",
    "        ('val_loss', val_avg_meters['val_loss'].avg),\n",
    "        ('val_iou', val_avg_meters['val_iou'].avg),\n",
    "        ('val_dice', val_avg_meters['val_dice'].avg),\n",
    "        ('val_sensitivity', val_avg_meters['val_sensitivity'].avg)\n",
    "    ])\n",
    "    \n",
    "\n",
    "    print('Training Epoch {}/{},  Training Loss: {:.4f},  Training DICE: {},  Training IOU: {},  Training Sensitivity: {},  Validation Loss: {:.4f},  Validation DICE: {},  Validation IOU: {},  Validation Sensitivity: {}'.format(\n",
    "        epoch+1, epochs, train_log['loss'], train_log['dice'], train_log['iou'], train_log['sensitivity'], val_log['val_loss'], val_log['val_dice'], val_log['val_iou'], val_log['val_sensitivity']\n",
    "    ))\n",
    "    # print('Training Epoch {}/{},  Training Loss: {:.4f},  Training DICE: {:.4f},  Training IOU: {:.4f},  Validation Loss: {:.4f},  Validation DICE: {:.4f},  Validation IOU: {:.4f}'.format(\n",
    "    #     epoch+1, epochs, train_log['loss'], train_log['dice'], train_log['iou'], val_log['val_loss'], val_log['val_dice'], val_log['val_iou']\n",
    "    # ))\n",
    "#     print('Training Epoch {}/{},  Training Loss: {:.4f},  Training DICE: {},  Training IOU: {},  Validation Loss: {:.4f},  Validation DICE: {},  Validation IOU: {}'.format(\n",
    "#         epoch+1, epochs, train_log['loss'], train_log['dice'], train_log['iou'], val_log['val_loss'], val_log['val_dice'], val_log['val_iou']\n",
    "#     ))\n",
    "\n",
    "    #Save values to csv file\n",
    "    tmp = pd.Series([\n",
    "        epoch,\n",
    "        lr,\n",
    "        train_log['loss'],\n",
    "        train_log['iou'],\n",
    "        train_log['dice'],\n",
    "        train_log['sensitivity'],\n",
    "        val_log['val_loss'],\n",
    "        val_log['val_iou'],\n",
    "        val_log['val_dice'],\n",
    "        val_log['val_sensitivity']\n",
    "    ], index=['epoch', 'lr', 'loss', 'iou', 'dice', 'sensitivity', 'val_loss', 'val_iou', 'val_dice', 'val_sensitivity'])\n",
    "#     index=['epoch', 'lr', 'loss', 'iou', 'dice', 'val_loss', 'val_iou', 'val_dice'])\n",
    "    \n",
    "\n",
    "    log = log.append(tmp, ignore_index=True)\n",
    "    log.to_csv('model_outputs/{}/log_metrics.csv'.format(file_name), index=False)\n",
    "\n",
    "    trigger += 1\n",
    "\n",
    "    #If best DICE score, save the model\n",
    "    if np.mean(val_log['val_dice']) > best_dice:\n",
    "        torch.save(model.state_dict(), 'model_outputs/{}/model_metrics.pth'.format(file_name))\n",
    "        best_dice = np.mean(val_log['val_dice'])\n",
    "        print(\"Saved new best model based on DICE metric!\")\n",
    "        trigger = 0\n",
    "    \n",
    "    if early_stopping >= 0 and trigger >= early_stopping:\n",
    "        print(\"Early stopping.\")\n",
    "        break\n",
    "\n",
    "    torch.cuda.empty_cache()"
   ]
  },
  {
   "cell_type": "code",
   "execution_count": null,
   "metadata": {},
   "outputs": [],
   "source": []
  },
  {
   "cell_type": "code",
   "execution_count": null,
   "metadata": {},
   "outputs": [],
   "source": []
  }
 ],
 "metadata": {
  "accelerator": "GPU",
  "colab": {
   "collapsed_sections": [],
   "provenance": []
  },
  "interpreter": {
   "hash": "cb56554e22e7015c8034fdf988622508a740e712e9b2a73e8d246c741229446d"
  },
  "kernelspec": {
   "display_name": "Python 3 (ipykernel)",
   "language": "python",
   "name": "python3"
  },
  "language_info": {
   "codemirror_mode": {
    "name": "ipython",
    "version": 3
   },
   "file_extension": ".py",
   "mimetype": "text/x-python",
   "name": "python",
   "nbconvert_exporter": "python",
   "pygments_lexer": "ipython3",
   "version": "3.9.7"
  }
 },
 "nbformat": 4,
 "nbformat_minor": 1
}
