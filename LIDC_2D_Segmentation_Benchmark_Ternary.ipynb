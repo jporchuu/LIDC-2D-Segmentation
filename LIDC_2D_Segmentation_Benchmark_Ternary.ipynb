{
 "cells": [
  {
   "cell_type": "markdown",
   "metadata": {
    "id": "0f2BkIn0fngR"
   },
   "source": [
    "# LIDC IDRI 2D SEGMENTATION WITH TERNARY CLASSES"
   ]
  },
  {
   "cell_type": "markdown",
   "metadata": {
    "id": "_7B3yamNfngX"
   },
   "source": [
    "## Import Libraries"
   ]
  },
  {
   "cell_type": "code",
   "execution_count": 1,
   "metadata": {
    "id": "mfSdQhFEfnga"
   },
   "outputs": [],
   "source": [
    "import pandas as pd\n",
    "import argparse\n",
    "import os\n",
    "from collections import OrderedDict\n",
    "from glob import glob\n",
    "import yaml\n",
    "import numpy as np\n",
    "\n",
    "import torch\n",
    "import torch.backends.cudnn as cudnn\n",
    "import torch.nn as nn\n",
    "import torch.nn.functional as F\n",
    "import torch.optim as optim\n",
    "from torch.optim import lr_scheduler\n",
    "from torch.utils.data.dataset import Dataset\n",
    "from torch.utils.data import DataLoader\n",
    "import torchvision\n",
    "import torchvision.transforms.functional as TF\n",
    "from torchvision import transforms\n",
    "import torchsummary as summary\n",
    "\n",
    "import albumentations as A\n",
    "from albumentations.pytorch import ToTensorV2\n",
    "from sklearn.model_selection import train_test_split\n",
    "from sklearn.metrics import multilabel_confusion_matrix, f1_score, jaccard_score, roc_curve\n",
    "from tqdm import tqdm\n",
    "\n",
    "from Unet_new.unet_model import UNet\n",
    "from UnetNested.Nested_Unet import NestedUNet"
   ]
  },
  {
   "cell_type": "code",
   "execution_count": 2,
   "metadata": {},
   "outputs": [],
   "source": [
    "import warnings\n",
    "warnings.filterwarnings(\"ignore\", category=RuntimeWarning) "
   ]
  },
  {
   "cell_type": "markdown",
   "metadata": {
    "id": "yyaykKN2fngc"
   },
   "source": [
    "## Define Parameters"
   ]
  },
  {
   "cell_type": "code",
   "execution_count": 3,
   "metadata": {
    "id": "Mue4WdgNfngc"
   },
   "outputs": [],
   "source": [
    "name = \"UNet\"           #default = \"UNet\"; can be NestedUNet\n",
    "epochs = 100            #default = 400\n",
    "batch_size = 12          #default = 12\n",
    "early_stopping = 50     #default = 50\n",
    "num_workers = 8        #default = 8\n",
    "optimizer = 'Adam'      #default = 'Adam'; can be SGD\n",
    "lr = 1e-5               #default = 1e-5\n",
    "momentum = 0.9          #default = 0.9\n",
    "weight_decay = 1e-4     #default = 1e-4\n",
    "nesterov = False        #default = False\n",
    "augmentation = True     #default = False"
   ]
  },
  {
   "cell_type": "markdown",
   "metadata": {
    "id": "x5zDl0wYfngc"
   },
   "source": [
    "## Define Functions"
   ]
  },
  {
   "cell_type": "markdown",
   "metadata": {
    "id": "JEtRbzaAfngf"
   },
   "source": [
    "### Dataset"
   ]
  },
  {
   "cell_type": "code",
   "execution_count": 4,
   "metadata": {
    "id": "1r0UAim3fngf"
   },
   "outputs": [],
   "source": [
    "class LidcDataset(Dataset):\n",
    "    def __init__(self, IMAGES_PATHS, MASK_PATHS, transforms):\n",
    "        self.image_paths = IMAGES_PATHS\n",
    "        self.mask_paths = MASK_PATHS\n",
    "        \n",
    "        self.transforms = transforms\n",
    "\n",
    "    def __getitem__(self, index):\n",
    "        image = np.load(self.image_paths[index])\n",
    "        mask = np.load(self.mask_paths[index])\n",
    "\n",
    "        #Make image and mask 3 dimensional\n",
    "        image = image.reshape(512,512,1)\n",
    "        mask = mask.reshape(512,512,1)\n",
    "\n",
    "        #Convert datatype\n",
    "        mask = mask.astype('uint8')\n",
    "\n",
    "        #Apply augmentation\n",
    "        augmented = self.transforms(image=image,mask=mask)\n",
    "        image = augmented['image']\n",
    "        mask = augmented['mask']\n",
    "        mask = mask.reshape([1,512,512])\n",
    "\n",
    "        image, mask = image.type(torch.FloatTensor), mask.type(torch.FloatTensor)     \n",
    "\n",
    "        return image, mask\n",
    "    \n",
    "    def __len__(self):\n",
    "        return len(self.image_paths)"
   ]
  },
  {
   "cell_type": "code",
   "execution_count": 5,
   "metadata": {
    "id": "ei8vrk4Y3lek"
   },
   "outputs": [],
   "source": [
    "transform = A.Compose([\n",
    "            A.ElasticTransform(alpha=1.1,alpha_affine=0.5,sigma=5,p=0.15),\n",
    "            A.HorizontalFlip(p=0.5),\n",
    "            ToTensorV2()\n",
    "        ])"
   ]
  },
  {
   "cell_type": "markdown",
   "metadata": {
    "id": "ZOYDGIUYfngg"
   },
   "source": [
    "### Metrics"
   ]
  },
  {
   "cell_type": "code",
   "execution_count": 6,
   "metadata": {},
   "outputs": [],
   "source": [
    "def sensitivity_metric(target, output):\n",
    "    mcm = multilabel_confusion_matrix(target, output, labels=[0,1,2,3])\n",
    "    s0 = mcm[0,1,1]/(mcm[0,1,1]+mcm[0,1,0]) \n",
    "    s1 = mcm[1,1,1]/(mcm[1,1,1]+mcm[1,1,0])\n",
    "    s2 = mcm[2,1,1]/(mcm[2,1,1]+mcm[2,1,0])\n",
    "    s3 = mcm[3,1,1]/(mcm[3,1,1]+mcm[3,1,0])\n",
    "    sensitivity = np.array([s0, s1, s2, s3])\n",
    "    sensitivity[np.isnan(sensitivity)] = 0\n",
    "    return sensitivity"
   ]
  },
  {
   "cell_type": "markdown",
   "metadata": {
    "id": "B9KwWQWgfngh"
   },
   "source": [
    "### Utilities"
   ]
  },
  {
   "cell_type": "code",
   "execution_count": 7,
   "metadata": {
    "id": "V8sg63v7fngh"
   },
   "outputs": [],
   "source": [
    "def str_to_bool(v):\n",
    "    if v.lower() in ['true', 1]:\n",
    "        return True\n",
    "    elif v.lower() in ['false', 0]:\n",
    "        return False\n",
    "    else:\n",
    "        raise argparse.ArgumentTypeError('Boolean value expected.')\n",
    "\n",
    "def count_params(model):\n",
    "    return sum(p.numel() for p in model.parameters() if p.requires_grad)\n",
    "\n",
    "class AverageMeter(object):\n",
    "    #Computes and stores the average and current value\n",
    "    def __init__(self):\n",
    "        self.reset()\n",
    "    \n",
    "    def reset(self):\n",
    "        self.val = 0\n",
    "        self.avg = 0\n",
    "        self.sum = 0\n",
    "        self.count = 0\n",
    "    \n",
    "    def update(self, val, n=1):\n",
    "        self.val = val\n",
    "        self.sum += val * n\n",
    "        self.count += n\n",
    "        self.avg = self.sum / self.count"
   ]
  },
  {
   "cell_type": "markdown",
   "metadata": {
    "id": "hn2h7c3Ffngh"
   },
   "source": [
    "## Get Configuration"
   ]
  },
  {
   "cell_type": "code",
   "execution_count": 8,
   "metadata": {
    "colab": {
     "base_uri": "https://localhost:8080/"
    },
    "id": "rtuiGqoGfngh",
    "outputId": "ad096009-1e8b-44ed-d5ac-c5cd17095f89"
   },
   "outputs": [
    {
     "name": "stdout",
     "output_type": "stream",
     "text": [
      "Creating directory called  UNet_with_augmentation\n",
      "--------------------\n",
      "Configuration Setting: \n",
      "Model:  UNet\n",
      "Max Epochs:  100\n",
      "Batch Size:  12\n",
      "Number of Workers:  8\n",
      "Optimizer:  Adam\n",
      "Learning Rate:  1e-05\n",
      "Augmentation:  True\n"
     ]
    }
   ],
   "source": [
    "if augmentation == True:\n",
    "    file_name = name + '_with_augmentation'\n",
    "else:\n",
    "    file_name = name + '_base'\n",
    "os.makedirs('model_outputs/{}'.format(file_name), exist_ok=True)\n",
    "print(\"Creating directory called \", file_name)\n",
    "\n",
    "print('-' * 20)\n",
    "print(\"Configuration Setting: \")\n",
    "print(\"Model: \", name)\n",
    "print(\"Max Epochs: \", epochs)\n",
    "print(\"Batch Size: \", batch_size)\n",
    "print(\"Number of Workers: \", num_workers)\n",
    "print(\"Optimizer: \", optimizer)\n",
    "print(\"Learning Rate: \", lr)\n",
    "print(\"Augmentation: \", augmentation)"
   ]
  },
  {
   "cell_type": "markdown",
   "metadata": {
    "id": "w7n4I2d8fngi"
   },
   "source": [
    "## Create Model"
   ]
  },
  {
   "cell_type": "code",
   "execution_count": 9,
   "metadata": {
    "colab": {
     "base_uri": "https://localhost:8080/"
    },
    "id": "QuxjmCnzfngi",
    "outputId": "259571ea-9cba-42f7-f442-d150049be465"
   },
   "outputs": [
    {
     "name": "stdout",
     "output_type": "stream",
     "text": [
      "Creating model...\n",
      "==========================================================================================\n",
      "Layer (type:depth-idx)                   Output Shape              Param #\n",
      "==========================================================================================\n",
      "├─inconv: 1-1                            [-1, 64, 512, 512]        --\n",
      "|    └─double_conv: 2-1                  [-1, 64, 512, 512]        --\n",
      "|    |    └─Sequential: 3-1              [-1, 64, 512, 512]        37,824\n",
      "├─down: 1-2                              [-1, 128, 256, 256]       --\n",
      "|    └─Sequential: 2-2                   [-1, 128, 256, 256]       --\n",
      "|    |    └─MaxPool2d: 3-2               [-1, 64, 256, 256]        --\n",
      "|    |    └─double_conv: 3-3             [-1, 128, 256, 256]       221,952\n",
      "├─down: 1-3                              [-1, 256, 128, 128]       --\n",
      "|    └─Sequential: 2-3                   [-1, 256, 128, 128]       --\n",
      "|    |    └─MaxPool2d: 3-4               [-1, 128, 128, 128]       --\n",
      "|    |    └─double_conv: 3-5             [-1, 256, 128, 128]       886,272\n",
      "├─down: 1-4                              [-1, 512, 64, 64]         --\n",
      "|    └─Sequential: 2-4                   [-1, 512, 64, 64]         --\n",
      "|    |    └─MaxPool2d: 3-6               [-1, 256, 64, 64]         --\n",
      "|    |    └─double_conv: 3-7             [-1, 512, 64, 64]         3,542,016\n",
      "├─down: 1-5                              [-1, 512, 32, 32]         --\n",
      "|    └─Sequential: 2-5                   [-1, 512, 32, 32]         --\n",
      "|    |    └─MaxPool2d: 3-8               [-1, 512, 32, 32]         --\n",
      "|    |    └─double_conv: 3-9             [-1, 512, 32, 32]         4,721,664\n",
      "├─up: 1-6                                [-1, 256, 64, 64]         --\n",
      "|    └─Upsample: 2-6                     [-1, 512, 64, 64]         --\n",
      "|    └─double_conv: 2-7                  [-1, 256, 64, 64]         --\n",
      "|    |    └─Sequential: 3-10             [-1, 256, 64, 64]         2,950,656\n",
      "├─up: 1-7                                [-1, 128, 128, 128]       --\n",
      "|    └─Upsample: 2-8                     [-1, 256, 128, 128]       --\n",
      "|    └─double_conv: 2-9                  [-1, 128, 128, 128]       --\n",
      "|    |    └─Sequential: 3-11             [-1, 128, 128, 128]       738,048\n",
      "├─up: 1-8                                [-1, 64, 256, 256]        --\n",
      "|    └─Upsample: 2-10                    [-1, 128, 256, 256]       --\n",
      "|    └─double_conv: 2-11                 [-1, 64, 256, 256]        --\n",
      "|    |    └─Sequential: 3-12             [-1, 64, 256, 256]        184,704\n",
      "├─up: 1-9                                [-1, 64, 512, 512]        --\n",
      "|    └─Upsample: 2-12                    [-1, 64, 512, 512]        --\n",
      "|    └─double_conv: 2-13                 [-1, 64, 512, 512]        --\n",
      "|    |    └─Sequential: 3-13             [-1, 64, 512, 512]        110,976\n",
      "├─outconv: 1-10                          [-1, 4, 512, 512]         --\n",
      "|    └─Conv2d: 2-14                      [-1, 4, 512, 512]         260\n",
      "==========================================================================================\n",
      "Total params: 13,394,372\n",
      "Trainable params: 13,394,372\n",
      "Non-trainable params: 0\n",
      "Total mult-adds (G): 75.16\n",
      "==========================================================================================\n",
      "Input size (MB): 1.00\n",
      "Forward/backward pass size (MB): 1256.00\n",
      "Params size (MB): 51.10\n",
      "Estimated Total Size (MB): 1308.10\n",
      "==========================================================================================\n"
     ]
    },
    {
     "data": {
      "text/plain": [
       "==========================================================================================\n",
       "Layer (type:depth-idx)                   Output Shape              Param #\n",
       "==========================================================================================\n",
       "├─inconv: 1-1                            [-1, 64, 512, 512]        --\n",
       "|    └─double_conv: 2-1                  [-1, 64, 512, 512]        --\n",
       "|    |    └─Sequential: 3-1              [-1, 64, 512, 512]        37,824\n",
       "├─down: 1-2                              [-1, 128, 256, 256]       --\n",
       "|    └─Sequential: 2-2                   [-1, 128, 256, 256]       --\n",
       "|    |    └─MaxPool2d: 3-2               [-1, 64, 256, 256]        --\n",
       "|    |    └─double_conv: 3-3             [-1, 128, 256, 256]       221,952\n",
       "├─down: 1-3                              [-1, 256, 128, 128]       --\n",
       "|    └─Sequential: 2-3                   [-1, 256, 128, 128]       --\n",
       "|    |    └─MaxPool2d: 3-4               [-1, 128, 128, 128]       --\n",
       "|    |    └─double_conv: 3-5             [-1, 256, 128, 128]       886,272\n",
       "├─down: 1-4                              [-1, 512, 64, 64]         --\n",
       "|    └─Sequential: 2-4                   [-1, 512, 64, 64]         --\n",
       "|    |    └─MaxPool2d: 3-6               [-1, 256, 64, 64]         --\n",
       "|    |    └─double_conv: 3-7             [-1, 512, 64, 64]         3,542,016\n",
       "├─down: 1-5                              [-1, 512, 32, 32]         --\n",
       "|    └─Sequential: 2-5                   [-1, 512, 32, 32]         --\n",
       "|    |    └─MaxPool2d: 3-8               [-1, 512, 32, 32]         --\n",
       "|    |    └─double_conv: 3-9             [-1, 512, 32, 32]         4,721,664\n",
       "├─up: 1-6                                [-1, 256, 64, 64]         --\n",
       "|    └─Upsample: 2-6                     [-1, 512, 64, 64]         --\n",
       "|    └─double_conv: 2-7                  [-1, 256, 64, 64]         --\n",
       "|    |    └─Sequential: 3-10             [-1, 256, 64, 64]         2,950,656\n",
       "├─up: 1-7                                [-1, 128, 128, 128]       --\n",
       "|    └─Upsample: 2-8                     [-1, 256, 128, 128]       --\n",
       "|    └─double_conv: 2-9                  [-1, 128, 128, 128]       --\n",
       "|    |    └─Sequential: 3-11             [-1, 128, 128, 128]       738,048\n",
       "├─up: 1-8                                [-1, 64, 256, 256]        --\n",
       "|    └─Upsample: 2-10                    [-1, 128, 256, 256]       --\n",
       "|    └─double_conv: 2-11                 [-1, 64, 256, 256]        --\n",
       "|    |    └─Sequential: 3-12             [-1, 64, 256, 256]        184,704\n",
       "├─up: 1-9                                [-1, 64, 512, 512]        --\n",
       "|    └─Upsample: 2-12                    [-1, 64, 512, 512]        --\n",
       "|    └─double_conv: 2-13                 [-1, 64, 512, 512]        --\n",
       "|    |    └─Sequential: 3-13             [-1, 64, 512, 512]        110,976\n",
       "├─outconv: 1-10                          [-1, 4, 512, 512]         --\n",
       "|    └─Conv2d: 2-14                      [-1, 4, 512, 512]         260\n",
       "==========================================================================================\n",
       "Total params: 13,394,372\n",
       "Trainable params: 13,394,372\n",
       "Non-trainable params: 0\n",
       "Total mult-adds (G): 75.16\n",
       "==========================================================================================\n",
       "Input size (MB): 1.00\n",
       "Forward/backward pass size (MB): 1256.00\n",
       "Params size (MB): 51.10\n",
       "Estimated Total Size (MB): 1308.10\n",
       "=========================================================================================="
      ]
     },
     "execution_count": 9,
     "metadata": {},
     "output_type": "execute_result"
    }
   ],
   "source": [
    "criterion = torch.nn.CrossEntropyLoss().cuda() if torch.cuda.is_available() else torch.nn.CrossEntropyLoss()\n",
    "cudnn.benchmark = True\n",
    "\n",
    "#Creating the model\n",
    "print(\"Creating model...\")\n",
    "if name == 'NestedUNet':\n",
    "    model = NestedUNet(num_classes=4)\n",
    "else:\n",
    "    model = UNet(n_channels=1, n_classes=4)\n",
    "model = model.cuda() if torch.cuda.is_available() else model\n",
    "\n",
    "if torch.cuda.device_count() > 1:\n",
    "    print(\"We can use \", torch.cuda.device_count(), \" GPUs.\")\n",
    "    model = nn.DataParallel(model)\n",
    "\n",
    "params = filter(lambda p: p.requires_grad, model.parameters())\n",
    "\n",
    "if optimizer == 'Adam':\n",
    "    optimizer = optim.Adam(params, lr=lr, weight_decay=weight_decay)\n",
    "elif optimizer == 'SGD':\n",
    "    optimizer = optim.SGD(params, lr=lr, momentum=momentum, nesterov=nesterov, weight_decay=weight_decay)\n",
    "else:\n",
    "    raise NotImplementedError\n",
    "    \n",
    "summary.summary(model,(1,512,512))"
   ]
  },
  {
   "cell_type": "markdown",
   "metadata": {
    "id": "WxuoE_jLfngi"
   },
   "source": [
    "## Load Dataset"
   ]
  },
  {
   "cell_type": "code",
   "execution_count": 10,
   "metadata": {
    "colab": {
     "base_uri": "https://localhost:8080/"
    },
    "id": "2k5hV9l5fngj",
    "outputId": "48c2794b-61b5-4d12-dc18-d646bc02991a"
   },
   "outputs": [
    {
     "name": "stdout",
     "output_type": "stream",
     "text": [
      "**************************************************\n",
      "Original images: 852, masks: 852 for training.\n",
      "Original images: 353, masks: 353 for validation.\n",
      "Ratio between Validation and Training is 0.414319\n",
      "**************************************************\n"
     ]
    }
   ],
   "source": [
    "#directory of Images and Masks folders (generated from preprocessing)                                         \n",
    "IMAGE_DIR = '/scratch1/joseph.portugal/LIDC-IDRI Preprocessed Exp 3/Image/'\n",
    "MASK_DIR = '/scratch1/joseph.portugal/LIDC-IDRI Preprocessed Exp 3/Mask/'                                                                 \n",
    "\n",
    "#meta information\n",
    "meta = pd.read_csv('/scratch1/joseph.portugal/LIDC-IDRI Preprocessed Exp 3/Meta/meta_metastatic.csv')\n",
    "# meta = meta[meta['patient_diagnosis'] != 0]\n",
    "\n",
    "#Get train/test label from metadata file\n",
    "meta['original_image'] = meta['original_image'].apply(lambda x: IMAGE_DIR + \"LIDC-IDRI-\" + x[:4] + \"/\" + x + \".npy\")\n",
    "meta['mask_image'] = meta['mask_image'].apply(lambda x: MASK_DIR + \"LIDC-IDRI-\" + x[:4] + \"/\" + x + \".npy\")\n",
    "\n",
    "\n",
    "#Split into training and validation\n",
    "train_meta = meta[meta['data_split']=='Train']\n",
    "val_meta = meta[meta['data_split']=='Validation']\n",
    "\n",
    "#Get training images into list\n",
    "train_image_paths = list(train_meta['original_image'])\n",
    "train_mask_paths = list(train_meta['mask_image'])\n",
    "\n",
    "#Get validation images into list\n",
    "val_image_paths = list(val_meta['original_image'])\n",
    "val_mask_paths = list(val_meta['mask_image'])\n",
    "\n",
    "print(\"*\"*50)\n",
    "print(\"Original images: {}, masks: {} for training.\".format(len(train_image_paths),len(train_mask_paths)))\n",
    "print(\"Original images: {}, masks: {} for validation.\".format(len(val_image_paths),len(val_mask_paths)))\n",
    "print(\"Ratio between Validation and Training is {:2f}\".format(len(val_image_paths)/len(train_image_paths)))\n",
    "print(\"*\"*50)\n",
    "\n",
    "\n",
    "#Creating custom LIDC dataset\n",
    "train_dataset = LidcDataset(train_image_paths, train_mask_paths, transforms=transform)\n",
    "val_dataset = LidcDataset(val_image_paths, val_mask_paths, transforms=transform)\n",
    "\n",
    "#Creating Dataloader\n",
    "train_loader = DataLoader(\n",
    "  train_dataset,\n",
    "  batch_size=batch_size,\n",
    "  shuffle=True,\n",
    "  pin_memory=True,\n",
    "  drop_last=True,\n",
    "  num_workers=num_workers\n",
    ")\n",
    "val_loader = DataLoader(\n",
    "  val_dataset,\n",
    "  batch_size=batch_size,\n",
    "  shuffle=False,\n",
    "  pin_memory=True,\n",
    "  drop_last=False,\n",
    "  num_workers=num_workers\n",
    ")"
   ]
  },
  {
   "cell_type": "markdown",
   "metadata": {
    "id": "nFUeTMtlfngj"
   },
   "source": [
    "## Train the Model"
   ]
  },
  {
   "cell_type": "code",
   "execution_count": 11,
   "metadata": {
    "id": "FMvFNYA-f6V8"
   },
   "outputs": [],
   "source": [
    "torch.cuda.empty_cache()"
   ]
  },
  {
   "cell_type": "code",
   "execution_count": 12,
   "metadata": {
    "colab": {
     "base_uri": "https://localhost:8080/"
    },
    "id": "dkIDHbbffngk",
    "outputId": "52534728-e28a-4135-b5fc-ec7a33c38d0b"
   },
   "outputs": [
    {
     "name": "stderr",
     "output_type": "stream",
     "text": [
      "100%|██████████| 71/71 [03:53<00:00,  3.29s/it, loss=1.34, iou=[6.35479035e-01 2.98095082e-04 2.41747073e-03 2.44990513e-04], dice=[7.49192046e-01 5.95509062e-04 4.81720042e-03 4.89800862e-04], sensitivity=[0.63553063 0.56728851 0.16418217 0.07208879]]\n",
      "100%|██████████| 30/30 [01:11<00:00,  2.37s/it, val_loss=1.29, val_iou=[8.06901460e-01 3.04686112e-04 4.56371786e-03 2.70737206e-04], val_dice=[8.92592951e-01 6.08678638e-04 9.01257954e-03 5.40354328e-04], val_sensitivity=[0.8069331  0.30205891 0.12199099 0.02624523]]\n"
     ]
    },
    {
     "name": "stdout",
     "output_type": "stream",
     "text": [
      "Training Epoch 1/100,  Training Loss: 1.3429,  Training DICE: [7.49192046e-01 5.95509062e-04 4.81720042e-03 4.89800862e-04],  Training IOU: [6.35479035e-01 2.98095082e-04 2.41747073e-03 2.44990513e-04],  Training Sensitivity: [0.63553063 0.56728851 0.16418217 0.07208879],  Validation Loss: 1.2887,  Validation DICE: [8.92592951e-01 6.08678638e-04 9.01257954e-03 5.40354328e-04],  Validation IOU: [8.06901460e-01 3.04686112e-04 4.56371786e-03 2.70737206e-04],  Validation Sensitivity: [0.8069331  0.30205891 0.12199099 0.02624523]\n",
      "Saved new best model based on DICE metric!\n"
     ]
    },
    {
     "name": "stderr",
     "output_type": "stream",
     "text": [
      "100%|██████████| 71/71 [03:41<00:00,  3.13s/it, loss=1.24, iou=[8.45376747e-01 4.80898708e-04 2.47084774e-03 6.24614969e-04], dice=[0.91609033 0.00096075 0.00492489 0.00124781], sensitivity=[0.84545017 0.51416575 0.17594963 0.05339848]]                \n",
      "100%|██████████| 30/30 [01:10<00:00,  2.35s/it, val_loss=1.21, val_iou=[8.63227283e-01 3.10361818e-04 4.50297648e-03 3.44904259e-04], val_dice=[9.26298490e-01 6.19987128e-04 8.90438902e-03 6.87663295e-04], val_sensitivity=[0.86331846 0.2164417  0.13861515 0.01021944]]\n"
     ]
    },
    {
     "name": "stdout",
     "output_type": "stream",
     "text": [
      "Training Epoch 2/100,  Training Loss: 1.2375,  Training DICE: [0.91609033 0.00096075 0.00492489 0.00124781],  Training IOU: [8.45376747e-01 4.80898708e-04 2.47084774e-03 6.24614969e-04],  Training Sensitivity: [0.84545017 0.51416575 0.17594963 0.05339848],  Validation Loss: 1.2080,  Validation DICE: [9.26298490e-01 6.19987128e-04 8.90438902e-03 6.87663295e-04],  Validation IOU: [8.63227283e-01 3.10361818e-04 4.50297648e-03 3.44904259e-04],  Validation Sensitivity: [0.86331846 0.2164417  0.13861515 0.01021944]\n",
      "Saved new best model based on DICE metric!\n"
     ]
    },
    {
     "name": "stderr",
     "output_type": "stream",
     "text": [
      "100%|██████████| 71/71 [03:44<00:00,  3.16s/it, loss=1.19, iou=[8.93969992e-01 4.42442816e-04 1.83938850e-03 9.72907890e-04], dice=[9.43940747e-01 8.83708425e-04 3.66852539e-03 1.94219228e-03], sensitivity=[0.89426985 0.28383659 0.11060818 0.04936145]]\n",
      "100%|██████████| 30/30 [01:07<00:00,  2.26s/it, val_loss=1.17, val_iou=[9.18219014e-01 1.55594556e-04 2.39798389e-03 3.17056376e-04], val_dice=[9.57234687e-01 3.11021641e-04 4.76269690e-03 6.31079140e-04], val_sensitivity=[0.91877725 0.08284917 0.04083006 0.00469628]]\n"
     ]
    },
    {
     "name": "stdout",
     "output_type": "stream",
     "text": [
      "Training Epoch 3/100,  Training Loss: 1.1862,  Training DICE: [9.43940747e-01 8.83708425e-04 3.66852539e-03 1.94219228e-03],  Training IOU: [8.93969992e-01 4.42442816e-04 1.83938850e-03 9.72907890e-04],  Training Sensitivity: [0.89426985 0.28383659 0.11060818 0.04936145],  Validation Loss: 1.1690,  Validation DICE: [9.57234687e-01 3.11021641e-04 4.76269690e-03 6.31079140e-04],  Validation IOU: [9.18219014e-01 1.55594556e-04 2.39798389e-03 3.17056376e-04],  Validation Sensitivity: [0.91877725 0.08284917 0.04083006 0.00469628]\n",
      "Saved new best model based on DICE metric!\n"
     ]
    },
    {
     "name": "stderr",
     "output_type": "stream",
     "text": [
      "100%|██████████| 71/71 [03:40<00:00,  3.11s/it, loss=1.16, iou=[9.40509842e-01 1.36041975e-04 5.55844826e-04 8.44385187e-04], dice=[9.69306206e-01 2.71938311e-04 1.11004640e-03 1.68549556e-03], sensitivity=[0.94112939 0.07569367 0.01944323 0.02098827]]\n",
      "100%|██████████| 30/30 [01:06<00:00,  2.20s/it, val_loss=1.15, val_iou=[9.55259829e-01 3.46937410e-05 5.08109612e-04 1.99416900e-04], val_dice=[9.77084528e-01 6.93743017e-05 1.01443920e-03 3.96577399e-04], val_sensitivity=[9.56044640e-01 8.09953945e-03 3.69351920e-03 9.50414828e-04]]\n"
     ]
    },
    {
     "name": "stdout",
     "output_type": "stream",
     "text": [
      "Training Epoch 4/100,  Training Loss: 1.1578,  Training DICE: [9.69306206e-01 2.71938311e-04 1.11004640e-03 1.68549556e-03],  Training IOU: [9.40509842e-01 1.36041975e-04 5.55844826e-04 8.44385187e-04],  Training Sensitivity: [0.94112939 0.07569367 0.01944323 0.02098827],  Validation Loss: 1.1478,  Validation DICE: [9.77084528e-01 6.93743017e-05 1.01443920e-03 3.96577399e-04],  Validation IOU: [9.55259829e-01 3.46937410e-05 5.08109612e-04 1.99416900e-04],  Validation Sensitivity: [9.56044640e-01 8.09953945e-03 3.69351920e-03 9.50414828e-04]\n",
      "Saved new best model based on DICE metric!\n"
     ]
    },
    {
     "name": "stderr",
     "output_type": "stream",
     "text": [
      "100%|██████████| 71/71 [03:43<00:00,  3.15s/it, loss=1.14, iou=[9.65666765e-01 3.21961935e-05 1.55564040e-04 4.95564122e-04], dice=[9.82525904e-01 6.43798794e-05 3.10835939e-04 9.88911114e-04], sensitivity=[0.96638147 0.00842925 0.0066362  0.00424013]]\n",
      "100%|██████████| 30/30 [01:07<00:00,  2.24s/it, val_loss=1.13, val_iou=[9.76694922e-01 3.81193311e-06 7.58660306e-05 1.74692529e-04], val_dice=[9.88198185e-01 7.62341120e-06 1.51675089e-04 3.47598792e-04], val_sensitivity=[9.77542180e-01 3.44253820e-04 3.93575821e-04 3.76221881e-04]]\n"
     ]
    },
    {
     "name": "stdout",
     "output_type": "stream",
     "text": [
      "Training Epoch 5/100,  Training Loss: 1.1404,  Training DICE: [9.82525904e-01 6.43798794e-05 3.10835939e-04 9.88911114e-04],  Training IOU: [9.65666765e-01 3.21961935e-05 1.55564040e-04 4.95564122e-04],  Training Sensitivity: [0.96638147 0.00842925 0.0066362  0.00424013],  Validation Loss: 1.1319,  Validation DICE: [9.88198185e-01 7.62341120e-06 1.51675089e-04 3.47598792e-04],  Validation IOU: [9.76694922e-01 3.81193311e-06 7.58660306e-05 1.74692529e-04],  Validation Sensitivity: [9.77542180e-01 3.44253820e-04 3.93575821e-04 3.76221881e-04]\n",
      "Saved new best model based on DICE metric!\n"
     ]
    },
    {
     "name": "stderr",
     "output_type": "stream",
     "text": [
      "100%|██████████| 71/71 [03:38<00:00,  3.08s/it, loss=1.13, iou=[9.77388502e-01 4.80846813e-06 4.24508884e-05 2.31133988e-04], dice=[9.88563065e-01 9.61623209e-06 8.48269905e-05 4.61022539e-04], sensitivity=[9.78131648e-01 4.69074314e-04 1.75856154e-03 8.15544327e-04]]\n",
      "100%|██████████| 30/30 [01:07<00:00,  2.24s/it, val_loss=1.12, val_iou=[9.76085747e-01 4.47004322e-05 1.81460840e-05 1.12956751e-05], val_dice=[9.87883028e-01 8.93404639e-05 3.62877851e-05 2.25838461e-05], val_sensitivity=[9.76937249e-01 3.91055088e-03 9.48376469e-05 1.79153277e-05]]\n"
     ]
    },
    {
     "name": "stdout",
     "output_type": "stream",
     "text": [
      "Training Epoch 6/100,  Training Loss: 1.1274,  Training DICE: [9.88563065e-01 9.61623209e-06 8.48269905e-05 4.61022539e-04],  Training IOU: [9.77388502e-01 4.80846813e-06 4.24508884e-05 2.31133988e-04],  Training Sensitivity: [9.78131648e-01 4.69074314e-04 1.75856154e-03 8.15544327e-04],  Validation Loss: 1.1236,  Validation DICE: [9.87883028e-01 8.93404639e-05 3.62877851e-05 2.25838461e-05],  Validation IOU: [9.76085747e-01 4.47004322e-05 1.81460840e-05 1.12956751e-05],  Validation Sensitivity: [9.76937249e-01 3.91055088e-03 9.48376469e-05 1.79153277e-05]\n"
     ]
    },
    {
     "name": "stderr",
     "output_type": "stream",
     "text": [
      "100%|██████████| 71/71 [03:39<00:00,  3.09s/it, loss=1.12, iou=[9.82602565e-01 1.47697596e-06 2.20330011e-05 6.35301326e-05], dice=[9.91224046e-01 2.95383952e-06 4.40348204e-05 1.26897677e-04], sensitivity=[9.83351954e-01 1.02458935e-04 1.81438314e-04 1.38180700e-04]]\n",
      "100%|██████████| 30/30 [01:06<00:00,  2.22s/it, val_loss=1.11, val_iou=[9.87472962e-01 3.00296674e-06 0.00000000e+00 0.00000000e+00], val_dice=[9.93691099e-01 6.00540299e-06 0.00000000e+00 0.00000000e+00], val_sensitivity=[9.88337641e-01 1.53994719e-04 0.00000000e+00 0.00000000e+00]]\n"
     ]
    },
    {
     "name": "stdout",
     "output_type": "stream",
     "text": [
      "Training Epoch 7/100,  Training Loss: 1.1171,  Training DICE: [9.91224046e-01 2.95383952e-06 4.40348204e-05 1.26897677e-04],  Training IOU: [9.82602565e-01 1.47697596e-06 2.20330011e-05 6.35301326e-05],  Training Sensitivity: [9.83351954e-01 1.02458935e-04 1.81438314e-04 1.38180700e-04],  Validation Loss: 1.1071,  Validation DICE: [9.93691099e-01 6.00540299e-06 0.00000000e+00 0.00000000e+00],  Validation IOU: [9.87472962e-01 3.00296674e-06 0.00000000e+00 0.00000000e+00],  Validation Sensitivity: [9.88337641e-01 1.53994719e-04 0.00000000e+00 0.00000000e+00]\n",
      "Saved new best model based on DICE metric!\n"
     ]
    },
    {
     "name": "stderr",
     "output_type": "stream",
     "text": [
      "100%|██████████| 71/71 [03:43<00:00,  3.14s/it, loss=1.11, iou=[9.86432100e-01 0.00000000e+00 2.05719851e-05 5.68841157e-06], dice=[9.93169144e-01 0.00000000e+00 4.10897958e-05 1.13722302e-05], sensitivity=[9.87184920e-01 0.00000000e+00 2.15786533e-04 8.18390880e-06]]\n",
      "100%|██████████| 30/30 [01:07<00:00,  2.26s/it, val_loss=1.1, val_iou=[0.99005427 0.         0.         0.        ], val_dice=[0.99499721 0.         0.         0.        ], val_sensitivity=[0.9909215 0.        0.        0.       ]]    \n"
     ]
    },
    {
     "name": "stdout",
     "output_type": "stream",
     "text": [
      "Training Epoch 8/100,  Training Loss: 1.1079,  Training DICE: [9.93169144e-01 0.00000000e+00 4.10897958e-05 1.13722302e-05],  Training IOU: [9.86432100e-01 0.00000000e+00 2.05719851e-05 5.68841157e-06],  Training Sensitivity: [9.87184920e-01 0.00000000e+00 2.15786533e-04 8.18390880e-06],  Validation Loss: 1.1024,  Validation DICE: [0.99499721 0.         0.         0.        ],  Validation IOU: [0.99005427 0.         0.         0.        ],  Validation Sensitivity: [0.9909215 0.        0.        0.       ]\n",
      "Saved new best model based on DICE metric!\n"
     ]
    },
    {
     "name": "stderr",
     "output_type": "stream",
     "text": [
      "100%|██████████| 71/71 [03:37<00:00,  3.06s/it, loss=1.1, iou=[9.89243757e-01 0.00000000e+00 8.88084674e-06 9.12531537e-05], dice=[9.94592472e-01 0.00000000e+00 1.77576350e-05 1.81573462e-04], sensitivity=[9.89998807e-01 0.00000000e+00 5.55507899e-05 2.20993907e-04]]\n",
      "100%|██████████| 30/30 [01:07<00:00,  2.26s/it, val_loss=1.1, val_iou=[9.86290236e-01 5.37868015e-07 0.00000000e+00 0.00000000e+00], val_dice=[9.93086406e-01 1.07571901e-06 0.00000000e+00 0.00000000e+00], val_sensitivity=[9.87153676e-01 3.81102402e-05 0.00000000e+00 0.00000000e+00]]\n"
     ]
    },
    {
     "name": "stdout",
     "output_type": "stream",
     "text": [
      "Training Epoch 9/100,  Training Loss: 1.0998,  Training DICE: [9.94592472e-01 0.00000000e+00 1.77576350e-05 1.81573462e-04],  Training IOU: [9.89243757e-01 0.00000000e+00 8.88084674e-06 9.12531537e-05],  Training Sensitivity: [9.89998807e-01 0.00000000e+00 5.55507899e-05 2.20993907e-04],  Validation Loss: 1.0980,  Validation DICE: [9.93086406e-01 1.07571901e-06 0.00000000e+00 0.00000000e+00],  Validation IOU: [9.86290236e-01 5.37868015e-07 0.00000000e+00 0.00000000e+00],  Validation Sensitivity: [9.87153676e-01 3.81102402e-05 0.00000000e+00 0.00000000e+00]\n"
     ]
    },
    {
     "name": "stderr",
     "output_type": "stream",
     "text": [
      "100%|██████████| 71/71 [03:38<00:00,  3.08s/it, loss=1.09, iou=[0.99108657 0.         0.         0.        ], dice=[0.99552297 0.         0.         0.        ], sensitivity=[0.99184346 0.         0.         0.        ]]\n",
      "100%|██████████| 30/30 [01:07<00:00,  2.23s/it, val_loss=1.09, val_iou=[0.99191447 0.         0.         0.        ], val_dice=[0.99593563 0.         0.         0.        ], val_sensitivity=[0.99278333 0.         0.         0.        ]]\n"
     ]
    },
    {
     "name": "stdout",
     "output_type": "stream",
     "text": [
      "Training Epoch 10/100,  Training Loss: 1.0926,  Training DICE: [0.99552297 0.         0.         0.        ],  Training IOU: [0.99108657 0.         0.         0.        ],  Training Sensitivity: [0.99184346 0.         0.         0.        ],  Validation Loss: 1.0911,  Validation DICE: [0.99593563 0.         0.         0.        ],  Validation IOU: [0.99191447 0.         0.         0.        ],  Validation Sensitivity: [0.99278333 0.         0.         0.        ]\n",
      "Saved new best model based on DICE metric!\n"
     ]
    },
    {
     "name": "stderr",
     "output_type": "stream",
     "text": [
      "100%|██████████| 71/71 [03:36<00:00,  3.04s/it, loss=1.09, iou=[9.92888414e-01 0.00000000e+00 0.00000000e+00 5.71269709e-05], dice=[9.96431170e-01 0.00000000e+00 0.00000000e+00 1.13928503e-04], sensitivity=[9.93646493e-01 0.00000000e+00 0.00000000e+00 9.72540815e-05]]\n",
      "100%|██████████| 30/30 [01:06<00:00,  2.21s/it, val_loss=1.08, val_iou=[0.99431697 0.         0.         0.        ], val_dice=[0.99714778 0.         0.         0.        ], val_sensitivity=[0.9951882 0.        0.        0.       ]]    \n"
     ]
    },
    {
     "name": "stdout",
     "output_type": "stream",
     "text": [
      "Training Epoch 11/100,  Training Loss: 1.0857,  Training DICE: [9.96431170e-01 0.00000000e+00 0.00000000e+00 1.13928503e-04],  Training IOU: [9.92888414e-01 0.00000000e+00 0.00000000e+00 5.71269709e-05],  Training Sensitivity: [9.93646493e-01 0.00000000e+00 0.00000000e+00 9.72540815e-05],  Validation Loss: 1.0811,  Validation DICE: [0.99714778 0.         0.         0.        ],  Validation IOU: [0.99431697 0.         0.         0.        ],  Validation Sensitivity: [0.9951882 0.        0.        0.       ]\n",
      "Saved new best model based on DICE metric!\n"
     ]
    },
    {
     "name": "stderr",
     "output_type": "stream",
     "text": [
      "100%|██████████| 71/71 [03:38<00:00,  3.08s/it, loss=1.08, iou=[9.94104851e-01 0.00000000e+00 0.00000000e+00 7.03521830e-06], dice=[9.97043516e-01 0.00000000e+00 0.00000000e+00 1.40634119e-05], sensitivity=[9.94863810e-01 0.00000000e+00 0.00000000e+00 8.19819968e-06]]\n",
      " 20%|██        | 6/30 [00:13<00:53,  2.25s/it, val_loss=1.08, val_iou=[0.99536318 0.         0.         0.        ], val_dice=[0.99767552 0.         0.         0.        ], val_sensitivity=[0.99592674 0.         0.         0.        ]]"
     ]
    },
    {
     "ename": "ValueError",
     "evalue": "operands could not be broadcast together with shapes (4,) (3,) (4,) ",
     "output_type": "error",
     "traceback": [
      "\u001b[0;31m---------------------------------------------------------------------------\u001b[0m",
      "\u001b[0;31mValueError\u001b[0m                                Traceback (most recent call last)",
      "\u001b[0;32m/tmp/ipykernel_24857/3444956764.py\u001b[0m in \u001b[0;36m<module>\u001b[0;34m\u001b[0m\n\u001b[1;32m     77\u001b[0m \u001b[0;34m\u001b[0m\u001b[0m\n\u001b[1;32m     78\u001b[0m             \u001b[0mval_avg_meters\u001b[0m\u001b[0;34m[\u001b[0m\u001b[0;34m'val_loss'\u001b[0m\u001b[0;34m]\u001b[0m\u001b[0;34m.\u001b[0m\u001b[0mupdate\u001b[0m\u001b[0;34m(\u001b[0m\u001b[0mval_loss\u001b[0m\u001b[0;34m.\u001b[0m\u001b[0mitem\u001b[0m\u001b[0;34m(\u001b[0m\u001b[0;34m)\u001b[0m\u001b[0;34m,\u001b[0m \u001b[0mval_input\u001b[0m\u001b[0;34m.\u001b[0m\u001b[0msize\u001b[0m\u001b[0;34m(\u001b[0m\u001b[0;36m0\u001b[0m\u001b[0;34m)\u001b[0m\u001b[0;34m)\u001b[0m\u001b[0;34m\u001b[0m\u001b[0;34m\u001b[0m\u001b[0m\n\u001b[0;32m---> 79\u001b[0;31m             \u001b[0mval_avg_meters\u001b[0m\u001b[0;34m[\u001b[0m\u001b[0;34m'val_iou'\u001b[0m\u001b[0;34m]\u001b[0m\u001b[0;34m.\u001b[0m\u001b[0mupdate\u001b[0m\u001b[0;34m(\u001b[0m\u001b[0mval_iou\u001b[0m\u001b[0;34m,\u001b[0m \u001b[0mval_input\u001b[0m\u001b[0;34m.\u001b[0m\u001b[0msize\u001b[0m\u001b[0;34m(\u001b[0m\u001b[0;36m0\u001b[0m\u001b[0;34m)\u001b[0m\u001b[0;34m)\u001b[0m\u001b[0;34m\u001b[0m\u001b[0;34m\u001b[0m\u001b[0m\n\u001b[0m\u001b[1;32m     80\u001b[0m             \u001b[0mval_avg_meters\u001b[0m\u001b[0;34m[\u001b[0m\u001b[0;34m'val_dice'\u001b[0m\u001b[0;34m]\u001b[0m\u001b[0;34m.\u001b[0m\u001b[0mupdate\u001b[0m\u001b[0;34m(\u001b[0m\u001b[0mval_dice\u001b[0m\u001b[0;34m,\u001b[0m \u001b[0mval_input\u001b[0m\u001b[0;34m.\u001b[0m\u001b[0msize\u001b[0m\u001b[0;34m(\u001b[0m\u001b[0;36m0\u001b[0m\u001b[0;34m)\u001b[0m\u001b[0;34m)\u001b[0m\u001b[0;34m\u001b[0m\u001b[0;34m\u001b[0m\u001b[0m\n\u001b[1;32m     81\u001b[0m             \u001b[0mval_avg_meters\u001b[0m\u001b[0;34m[\u001b[0m\u001b[0;34m'val_sensitivity'\u001b[0m\u001b[0;34m]\u001b[0m\u001b[0;34m.\u001b[0m\u001b[0mupdate\u001b[0m\u001b[0;34m(\u001b[0m\u001b[0mval_sensitivity\u001b[0m\u001b[0;34m,\u001b[0m \u001b[0mval_input\u001b[0m\u001b[0;34m.\u001b[0m\u001b[0msize\u001b[0m\u001b[0;34m(\u001b[0m\u001b[0;36m0\u001b[0m\u001b[0;34m)\u001b[0m\u001b[0;34m)\u001b[0m\u001b[0;34m\u001b[0m\u001b[0;34m\u001b[0m\u001b[0m\n",
      "\u001b[0;32m/tmp/ipykernel_24857/1423394481.py\u001b[0m in \u001b[0;36mupdate\u001b[0;34m(self, val, n)\u001b[0m\n\u001b[1;32m     23\u001b[0m     \u001b[0;32mdef\u001b[0m \u001b[0mupdate\u001b[0m\u001b[0;34m(\u001b[0m\u001b[0mself\u001b[0m\u001b[0;34m,\u001b[0m \u001b[0mval\u001b[0m\u001b[0;34m,\u001b[0m \u001b[0mn\u001b[0m\u001b[0;34m=\u001b[0m\u001b[0;36m1\u001b[0m\u001b[0;34m)\u001b[0m\u001b[0;34m:\u001b[0m\u001b[0;34m\u001b[0m\u001b[0;34m\u001b[0m\u001b[0m\n\u001b[1;32m     24\u001b[0m         \u001b[0mself\u001b[0m\u001b[0;34m.\u001b[0m\u001b[0mval\u001b[0m \u001b[0;34m=\u001b[0m \u001b[0mval\u001b[0m\u001b[0;34m\u001b[0m\u001b[0;34m\u001b[0m\u001b[0m\n\u001b[0;32m---> 25\u001b[0;31m         \u001b[0mself\u001b[0m\u001b[0;34m.\u001b[0m\u001b[0msum\u001b[0m \u001b[0;34m+=\u001b[0m \u001b[0mval\u001b[0m \u001b[0;34m*\u001b[0m \u001b[0mn\u001b[0m\u001b[0;34m\u001b[0m\u001b[0;34m\u001b[0m\u001b[0m\n\u001b[0m\u001b[1;32m     26\u001b[0m         \u001b[0mself\u001b[0m\u001b[0;34m.\u001b[0m\u001b[0mcount\u001b[0m \u001b[0;34m+=\u001b[0m \u001b[0mn\u001b[0m\u001b[0;34m\u001b[0m\u001b[0;34m\u001b[0m\u001b[0m\n\u001b[1;32m     27\u001b[0m         \u001b[0mself\u001b[0m\u001b[0;34m.\u001b[0m\u001b[0mavg\u001b[0m \u001b[0;34m=\u001b[0m \u001b[0mself\u001b[0m\u001b[0;34m.\u001b[0m\u001b[0msum\u001b[0m \u001b[0;34m/\u001b[0m \u001b[0mself\u001b[0m\u001b[0;34m.\u001b[0m\u001b[0mcount\u001b[0m\u001b[0;34m\u001b[0m\u001b[0;34m\u001b[0m\u001b[0m\n",
      "\u001b[0;31mValueError\u001b[0m: operands could not be broadcast together with shapes (4,) (3,) (4,) "
     ]
    }
   ],
   "source": [
    "log = pd.DataFrame(index=[], columns=['epoch','lr','loss','iou','dice','sensitivity','val_loss','val_iou', 'val_sensitivity'])\n",
    "# log = pd.DataFrame(index=[], columns=['epoch','lr','loss','iou','dice','val_loss','val_iou'])\n",
    "\n",
    "best_dice = 0\n",
    "trigger = 0\n",
    "\n",
    "for epoch in range(epochs):\n",
    "\n",
    "    #Model Training\n",
    "    avg_meters = {'loss': AverageMeter(), 'iou': AverageMeter(), 'dice': AverageMeter(), 'sensitivity': AverageMeter()}\n",
    "#     avg_meters = {'loss': AverageMeter(), 'iou': AverageMeter(), 'dice': AverageMeter()}\n",
    "    model.train()\n",
    "    pbar = tqdm(total=len(train_loader)) #progress bar\n",
    "\n",
    "    for i, data in enumerate(train_loader):\n",
    "\n",
    "        input = data[0].cuda()\n",
    "        target = data[1].cuda()\n",
    "        output = model(input)\n",
    "\n",
    "        #Get loss and metric\n",
    "        target_metric = target.flatten().cpu()\n",
    "        output_metric = torch.argmax(output, dim=1).flatten().cpu()\n",
    "        loss = criterion(output, torch.argmax(target, dim=1))\n",
    "        iou = jaccard_score(target_metric, output_metric, average=None)\n",
    "        dice = f1_score(target_metric, output_metric, average=None)\n",
    "        sensitivity = sensitivity_metric(target_metric, output_metric)\n",
    "\n",
    "        #Calculate the gradient and perform optimizing step\n",
    "        optimizer.zero_grad()\n",
    "        loss.backward()\n",
    "        optimizer.step()\n",
    "\n",
    "        #Update average metrics\n",
    "        avg_meters['loss'].update(loss.item(), input.size(0))\n",
    "        avg_meters['iou'].update(iou, input.size(0))\n",
    "        avg_meters['dice'].update(dice, input.size(0))\n",
    "        avg_meters['sensitivity'].update(sensitivity, input.size(0))\n",
    "\n",
    "        postfix = OrderedDict([\n",
    "            ('loss', avg_meters['loss'].avg),\n",
    "            ('iou', avg_meters['iou'].avg),\n",
    "            ('dice', avg_meters['dice'].avg),\n",
    "            ('sensitivity', avg_meters['sensitivity'].avg)\n",
    "        ])\n",
    "        pbar.set_postfix(postfix)\n",
    "        pbar.update(1)\n",
    "    pbar.close()\n",
    "\n",
    "    train_log = OrderedDict([\n",
    "        ('loss', avg_meters['loss'].avg),\n",
    "        ('iou', avg_meters['iou'].avg),\n",
    "        ('dice', avg_meters['dice'].avg),\n",
    "        ('sensitivity', avg_meters['sensitivity'].avg)\n",
    "    ])\n",
    "\n",
    "\n",
    "    #Model Validation\n",
    "    val_avg_meters = {'val_loss': AverageMeter(), 'val_iou': AverageMeter(), 'val_dice': AverageMeter(), 'val_sensitivity': AverageMeter()}\n",
    "#     val_avg_meters = {'val_loss': AverageMeter(), 'val_iou': AverageMeter(), 'val_dice': AverageMeter()}\n",
    "    model.eval()\n",
    "\n",
    "    with torch.no_grad():\n",
    "        val_pbar = tqdm(total=len(val_loader))\n",
    "        for i, val_data in enumerate(val_loader):\n",
    "\n",
    "            val_input = val_data[0].cuda()\n",
    "            val_target = val_data[1].cuda()\n",
    "            val_output = model(val_input)\n",
    "            \n",
    "            val_target_metric = val_target.flatten().cpu()\n",
    "            val_output_metric = torch.argmax(val_output, dim=1).flatten().cpu()\n",
    "            val_loss = criterion(val_output, torch.argmax(val_target, dim=1))\n",
    "            val_iou = jaccard_score(val_target_metric, val_output_metric, average=None)\n",
    "            val_dice = f1_score(val_target_metric, val_output_metric, average=None)\n",
    "            val_sensitivity = sensitivity_metric(val_target_metric, val_output_metric)\n",
    "\n",
    "            val_avg_meters['val_loss'].update(val_loss.item(), val_input.size(0))\n",
    "            val_avg_meters['val_iou'].update(val_iou, val_input.size(0))\n",
    "            val_avg_meters['val_dice'].update(val_dice, val_input.size(0))\n",
    "            val_avg_meters['val_sensitivity'].update(val_sensitivity, val_input.size(0))\n",
    "\n",
    "            val_postfix = OrderedDict([\n",
    "                ('val_loss', val_avg_meters['val_loss'].avg),\n",
    "                ('val_iou', val_avg_meters['val_iou'].avg),\n",
    "                ('val_dice', val_avg_meters['val_dice'].avg),\n",
    "                ('val_sensitivity', val_avg_meters['val_sensitivity'].avg)\n",
    "            ])\n",
    "            val_pbar.set_postfix(val_postfix)\n",
    "            val_pbar.update(1)\n",
    "        val_pbar.close()\n",
    "\n",
    "    val_log = OrderedDict([\n",
    "        ('val_loss', val_avg_meters['val_loss'].avg),\n",
    "        ('val_iou', val_avg_meters['val_iou'].avg),\n",
    "        ('val_dice', val_avg_meters['val_dice'].avg),\n",
    "        ('val_sensitivity', val_avg_meters['val_sensitivity'].avg)\n",
    "    ])\n",
    "    \n",
    "\n",
    "    print('Training Epoch {}/{},  Training Loss: {:.4f},  Training DICE: {},  Training IOU: {},  Training Sensitivity: {},  Validation Loss: {:.4f},  Validation DICE: {},  Validation IOU: {},  Validation Sensitivity: {}'.format(\n",
    "        epoch+1, epochs, train_log['loss'], train_log['dice'], train_log['iou'], train_log['sensitivity'], val_log['val_loss'], val_log['val_dice'], val_log['val_iou'], val_log['val_sensitivity']\n",
    "    ))\n",
    "    # print('Training Epoch {}/{},  Training Loss: {:.4f},  Training DICE: {:.4f},  Training IOU: {:.4f},  Validation Loss: {:.4f},  Validation DICE: {:.4f},  Validation IOU: {:.4f}'.format(\n",
    "    #     epoch+1, epochs, train_log['loss'], train_log['dice'], train_log['iou'], val_log['val_loss'], val_log['val_dice'], val_log['val_iou']\n",
    "    # ))\n",
    "#     print('Training Epoch {}/{},  Training Loss: {:.4f},  Training DICE: {},  Training IOU: {},  Validation Loss: {:.4f},  Validation DICE: {},  Validation IOU: {}'.format(\n",
    "#         epoch+1, epochs, train_log['loss'], train_log['dice'], train_log['iou'], val_log['val_loss'], val_log['val_dice'], val_log['val_iou']\n",
    "#     ))\n",
    "\n",
    "    #Save values to csv file\n",
    "    tmp = pd.Series([\n",
    "        epoch,\n",
    "        lr,\n",
    "        train_log['loss'],\n",
    "        train_log['iou'],\n",
    "        train_log['dice'],\n",
    "        train_log['sensitivity'],\n",
    "        val_log['val_loss'],\n",
    "        val_log['val_iou'],\n",
    "        val_log['val_dice'],\n",
    "        val_log['val_sensitivity']\n",
    "    ], index=['epoch', 'lr', 'loss', 'iou', 'dice', 'sensitivity', 'val_loss', 'val_iou', 'val_dice', 'val_sensitivity'])\n",
    "#     index=['epoch', 'lr', 'loss', 'iou', 'dice', 'val_loss', 'val_iou', 'val_dice'])\n",
    "    \n",
    "\n",
    "    log = log.append(tmp, ignore_index=True)\n",
    "    log.to_csv('model_outputs/{}/log_metrics.csv'.format(file_name), index=False)\n",
    "\n",
    "    trigger += 1\n",
    "\n",
    "    #If best DICE score, save the model\n",
    "    if np.mean(val_log['val_dice']) > best_dice:\n",
    "        torch.save(model.state_dict(), 'model_outputs/{}/model_metrics.pth'.format(file_name))\n",
    "        best_dice = np.mean(val_log['val_dice'])\n",
    "        print(\"Saved new best model based on DICE metric!\")\n",
    "        trigger = 0\n",
    "    \n",
    "    if early_stopping >= 0 and trigger >= early_stopping:\n",
    "        print(\"Early stopping.\")\n",
    "        break\n",
    "\n",
    "    torch.cuda.empty_cache()"
   ]
  },
  {
   "cell_type": "code",
   "execution_count": null,
   "metadata": {},
   "outputs": [],
   "source": []
  },
  {
   "cell_type": "code",
   "execution_count": null,
   "metadata": {},
   "outputs": [],
   "source": []
  }
 ],
 "metadata": {
  "accelerator": "GPU",
  "colab": {
   "collapsed_sections": [],
   "provenance": []
  },
  "interpreter": {
   "hash": "cb56554e22e7015c8034fdf988622508a740e712e9b2a73e8d246c741229446d"
  },
  "kernelspec": {
   "display_name": "Python 3 (ipykernel)",
   "language": "python",
   "name": "python3"
  },
  "language_info": {
   "codemirror_mode": {
    "name": "ipython",
    "version": 3
   },
   "file_extension": ".py",
   "mimetype": "text/x-python",
   "name": "python",
   "nbconvert_exporter": "python",
   "pygments_lexer": "ipython3",
   "version": "3.9.7"
  }
 },
 "nbformat": 4,
 "nbformat_minor": 1
}
