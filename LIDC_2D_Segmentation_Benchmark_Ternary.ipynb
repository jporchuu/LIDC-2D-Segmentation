{
  "cells": [
    {
      "cell_type": "markdown",
      "metadata": {
        "id": "0f2BkIn0fngR"
      },
      "source": [
        "# LIDC IDRI 2D SEGMENTATION WITH TERNARY CLASSES"
      ]
    },
    {
      "cell_type": "code",
      "source": [
        "from google.colab import drive\n",
        "drive.mount('/content/drive')"
      ],
      "metadata": {
        "colab": {
          "base_uri": "https://localhost:8080/"
        },
        "id": "GnmGk7-_fwzD",
        "outputId": "0de2c470-cc7b-4123-9c0c-45c7778ebebb"
      },
      "execution_count": null,
      "outputs": [
        {
          "output_type": "stream",
          "name": "stdout",
          "text": [
            "Mounted at /content/drive\n"
          ]
        }
      ]
    },
    {
      "cell_type": "code",
      "source": [
        "cd 'drive/Shareddrives/CLPT Thesis Bois/AISL-3-2021-C3/LIDC-2D-Segmentation-Colab'"
      ],
      "metadata": {
        "colab": {
          "base_uri": "https://localhost:8080/"
        },
        "id": "SyygLBwogtUm",
        "outputId": "7e9a22da-57a7-472d-96f9-37a718cb00a2"
      },
      "execution_count": null,
      "outputs": [
        {
          "output_type": "stream",
          "name": "stdout",
          "text": [
            "/content/drive/Shareddrives/CLPT Thesis Bois/AISL-3-2021-C3/LIDC-2D-Segmentation-Colab\n"
          ]
        }
      ]
    },
    {
      "cell_type": "markdown",
      "metadata": {
        "id": "_7B3yamNfngX"
      },
      "source": [
        "## Import Libraries"
      ]
    },
    {
      "cell_type": "code",
      "execution_count": null,
      "metadata": {
        "scrolled": true,
        "id": "2MJ-SVrLfngY"
      },
      "outputs": [],
      "source": [
        "#!pip list"
      ]
    },
    {
      "cell_type": "code",
      "execution_count": null,
      "metadata": {
        "id": "mfSdQhFEfnga"
      },
      "outputs": [],
      "source": [
        "import pandas as pd\n",
        "import argparse\n",
        "import os\n",
        "from collections import OrderedDict\n",
        "from glob import glob\n",
        "import yaml\n",
        "import numpy as np\n",
        "\n",
        "import torch\n",
        "import torch.backends.cudnn as cudnn\n",
        "import torch.nn as nn\n",
        "import torch.nn.functional as F\n",
        "import torch.optim as optim\n",
        "from torch.optim import lr_scheduler\n",
        "from torch.utils.data.dataset import Dataset\n",
        "from torch.utils.data import DataLoader\n",
        "import torchvision\n",
        "import torchvision.transforms.functional as TF\n",
        "from torchvision import transforms\n",
        "import torchsummary as summary\n",
        "\n",
        "import albumentations as A\n",
        "from albumentations.pytorch import ToTensorV2\n",
        "from sklearn.model_selection import train_test_split\n",
        "from sklearn.metrics import confusion_matrix\n",
        "from tqdm import tqdm\n",
        "\n",
        "from Unet_new.unet_model import UNet\n",
        "from UnetNested.Nested_Unet import NestedUNet"
      ]
    },
    {
      "cell_type": "markdown",
      "metadata": {
        "id": "yyaykKN2fngc"
      },
      "source": [
        "## Define Parameters"
      ]
    },
    {
      "cell_type": "code",
      "execution_count": null,
      "metadata": {
        "id": "Mue4WdgNfngc"
      },
      "outputs": [],
      "source": [
        "name = \"UNet\"           #default = \"UNet\"; can be NestedUNet\n",
        "epochs = 100            #default = 400\n",
        "batch_size = 4          #default = 12\n",
        "early_stopping = 50     #default = 50\n",
        "num_workers = 12        #default = 8\n",
        "optimizer = 'Adam'      #default = 'Adam'; can be SGD\n",
        "lr = 1e-5               #default = 1e-5\n",
        "momentum = 0.9          #default = 0.9\n",
        "weight_decay = 1e-4     #default = 1e-4\n",
        "nesterov = False        #default = False\n",
        "augmentation = True     #default = False"
      ]
    },
    {
      "cell_type": "markdown",
      "metadata": {
        "id": "x5zDl0wYfngc"
      },
      "source": [
        "## Define Functions"
      ]
    },
    {
      "cell_type": "markdown",
      "metadata": {
        "id": "JEtRbzaAfngf"
      },
      "source": [
        "### Dataset"
      ]
    },
    {
      "cell_type": "code",
      "execution_count": null,
      "metadata": {
        "id": "1r0UAim3fngf"
      },
      "outputs": [],
      "source": [
        "class LidcDataset(Dataset):\n",
        "    def __init__(self, IMAGES_PATHS, MASK_PATHS, transforms):\n",
        "        self.image_paths = IMAGES_PATHS\n",
        "        self.mask_paths = MASK_PATHS\n",
        "        \n",
        "        self.transforms = transforms\n",
        "\n",
        "    def __getitem__(self, index):\n",
        "        image = np.load(self.image_paths[index])\n",
        "        mask = np.load(self.mask_paths[index])\n",
        "\n",
        "        #Make image and mask 3 dimensional\n",
        "        image = image.reshape(512,512,1)\n",
        "        mask = mask.reshape(512,512,1)\n",
        "\n",
        "        #Convert datatype\n",
        "        mask = mask.astype('uint8')\n",
        "\n",
        "        #Apply augmentation\n",
        "        augmented = self.transforms(image=image,mask=mask)\n",
        "        image = augmented['image']\n",
        "        mask = augmented['mask']\n",
        "        mask = mask.reshape([1,512,512])\n",
        "\n",
        "        image, mask = image.type(torch.FloatTensor), mask.type(torch.FloatTensor)     \n",
        "\n",
        "        return image, mask\n",
        "    \n",
        "    def __len__(self):\n",
        "        return len(self.image_paths)"
      ]
    },
    {
      "cell_type": "code",
      "source": [
        "transform = A.Compose([\n",
        "            A.ElasticTransform(alpha=1.1,alpha_affine=0.5,sigma=5,p=0.15),\n",
        "            A.HorizontalFlip(p=0.5),\n",
        "            ToTensorV2()\n",
        "        ])"
      ],
      "metadata": {
        "id": "ei8vrk4Y3lek"
      },
      "execution_count": null,
      "outputs": []
    },
    {
      "cell_type": "markdown",
      "metadata": {
        "id": "ZOYDGIUYfngg"
      },
      "source": [
        "### Metrics"
      ]
    },
    {
      "cell_type": "code",
      "execution_count": null,
      "metadata": {
        "id": "1mmIyJNAfngg"
      },
      "outputs": [],
      "source": [
        "def iou_score_multiclass(output, target, n_classes):\n",
        "    output = torch.nn.functional.softmax(output, dim=1)\n",
        "    output = torch.argmax(output, dim=1).squeeze(1)\n",
        "    target = torch.argmax(target, dim=1)\n",
        "    iou_list = list()\n",
        "    curr_iou_list = list()\n",
        "\n",
        "    output = output.view(-1)\n",
        "    target = target.view(-1)\n",
        "\n",
        "    for sem_class in range(n_classes):\n",
        "        output_inds = (output == sem_class)\n",
        "        target_inds = (target == sem_class)\n",
        "\n",
        "        if target_inds.long().sum().item() == 0:\n",
        "            iou_curr = float('nan')\n",
        "        else:\n",
        "            intersection_curr = (output_inds[target_inds]).long().sum().item()\n",
        "            union_curr = output_inds.long().sum().item() + target_inds.long().sum().item() - intersection_curr\n",
        "            iou_curr = float(intersection_curr) / float(union_curr)\n",
        "            curr_iou_list.append(iou_curr)\n",
        "        iou_list.append(iou_curr)\n",
        "\n",
        "    return np.mean(curr_iou_list)\n",
        "\n",
        "# def dice_coef(output, target):\n",
        "#     smooth = 1e-5\n",
        "#     target_f = target.flatten()\n",
        "#     output_f = output.flatten()\n",
        "#     intersection = np.sum(target_f * output_f)\n",
        "#     return (2. * intersection + smooth) / (np.sum(target_f) + np.sum(output_f) + smooth)\n",
        "\n",
        "def dice_coef_multiclass(output, target, n_classes):\n",
        "    smooth = 1e-5 \n",
        "    output = torch.nn.functional.softmax(output, dim=1)\n",
        "    output = torch.argmax(output, dim=1).squeeze(1)\n",
        "    target = torch.argmax(target, dim=1)\n",
        "    intersection = (output*target).sum()\n",
        "\n",
        "    dice = (2. * intersection + smooth) / \\\n",
        "        (output.sum() + target.sum() + smooth)\n",
        "    return dice.item()\n",
        "\n",
        "    # dice = 0\n",
        "    # for i in range(n_classes):\n",
        "    #     dice += dice_coef(output[:,i,:,:], target[:,:,:])\n",
        "    # return dice/n_classes\n",
        "\n",
        "def sensitivity_metric_multiclass(output, target):\n",
        "    eps = 1e-5\n",
        "    output = torch.nn.functional.softmax(output, dim=1)\n",
        "    output = torch.argmax(output, dim=1).squeeze(1)\n",
        "    target = torch.argmax(target, dim=1)\n",
        "    # elements of confusion matrix\n",
        "    tp = torch.sum(output * target) # True Positive\n",
        "    fp = torch.sum(output * (1 - target)) # False Positive\n",
        "    fn = torch.sum((1 - output) * target) # False Negative\n",
        "    tn = torch.sum((1 - output) * (1 - target)) # True Negative\n",
        "    # compute sensitivity\n",
        "    sensitivity = (tp + eps) / (tp + fn + eps)\n",
        "    \n",
        "    return sensitivity.item()\n",
        "\n",
        "\n",
        "def dice_coef2(output, target):\n",
        "    \"This metric is for validation\"\n",
        "    smooth = 1e-5\n",
        "    output = output.view(-1)\n",
        "    output = (output>0.5).float().cpu().numpy()\n",
        "    target = target.view(-1).data.cpu().numpy()\n",
        "    intersection = (output*target).sum()\n",
        "\n",
        "    return (2. * intersection + smooth) / \\\n",
        "        (output.sum() + target.sum() + smooth)"
      ]
    },
    {
      "cell_type": "code",
      "source": [
        "# def iou_score(output, target):\n",
        "#     smooth = 1e-5\n",
        "#     if torch.is_tensor(output):\n",
        "#         output = torch.sigmoid(output).data.cpu().numpy()\n",
        "#     if torch.is_tensor(target):\n",
        "#         target = target.data.cpu().numpy()\n",
        "#     output_ = output > 0.5\n",
        "#     target_ = target > 0.5\n",
        "#     intersection = (output_ & target_).sum()\n",
        "#     union = (output_ | target_).sum()\n",
        "\n",
        "#     return (intersection + smooth) / (union + smooth)\n",
        "\n",
        "\n",
        "# def dice_coef(output, target):\n",
        "#     smooth = 1e-5\n",
        "#     target_f = target.flatten()\n",
        "#     output_f = output.flatten()\n",
        "#     intersection = np.sum(target_f * output_f)\n",
        "#     return (2. * intersection + smooth) / (np.sum(target_f) + np.sum(output_f) + smooth)\n",
        "#     #Sigmoid is used because the U-Net output is logit\n",
        "#     # output = torch.sigmoid(output).view(-1).data.cpu().numpy()\n",
        "#     # target = target.view(-1).data.cpu().numpy()\n",
        "#     # intersection = (output*target).sum()\n",
        "\n",
        "#     # return (2. * intersection + smooth) / \\\n",
        "#     #     (output.sum() + target.sum() + smooth)\n",
        "\n",
        "\n",
        "# def sensitivity_metric(output, target):\n",
        "#     eps = 1e-5\n",
        "#     output = torch.sigmoid(output).view(-1).data.cpu()\n",
        "#     target = target.view(-1).data.cpu()\n",
        "#     # elements of confusion matrix\n",
        "#     tp = torch.sum(output * target) # True Positive\n",
        "#     fp = torch.sum(output * (1 - target)) # False Positive\n",
        "#     fn = torch.sum((1 - output) * target) # False Negative\n",
        "#     tn = torch.sum((1 - output) * (1 - target)) # True Negative\n",
        "#     # compute sensitivity\n",
        "#     sensitivity = (tp + eps) / (tp + fn + eps)\n",
        "    \n",
        "#     return sensitivity.item()\n",
        "\n",
        "\n",
        "# def dice_coef2(output, target):\n",
        "#     \"This metric is for validation\"\n",
        "#     smooth = 1e-5\n",
        "#     output = output.view(-1)\n",
        "#     output = (output>0.5).float().cpu().numpy()\n",
        "#     target = target.view(-1).data.cpu().numpy()\n",
        "#     intersection = (output*target).sum()\n",
        "\n",
        "#     return (2. * intersection + smooth) / \\\n",
        "#         (output.sum() + target.sum() + smooth)"
      ],
      "metadata": {
        "id": "2eWnB-CoUhRz"
      },
      "execution_count": null,
      "outputs": []
    },
    {
      "cell_type": "markdown",
      "metadata": {
        "id": "B9KwWQWgfngh"
      },
      "source": [
        "### Utilities"
      ]
    },
    {
      "cell_type": "code",
      "execution_count": null,
      "metadata": {
        "id": "V8sg63v7fngh"
      },
      "outputs": [],
      "source": [
        "def str_to_bool(v):\n",
        "    if v.lower() in ['true', 1]:\n",
        "        return True\n",
        "    elif v.lower() in ['false', 0]:\n",
        "        return False\n",
        "    else:\n",
        "        raise argparse.ArgumentTypeError('Boolean value expected.')\n",
        "\n",
        "def count_params(model):\n",
        "    return sum(p.numel() for p in model.parameters() if p.requires_grad)\n",
        "\n",
        "class AverageMeter(object):\n",
        "    #Computes and stores the average and current value\n",
        "    def __init__(self):\n",
        "        self.reset()\n",
        "    \n",
        "    def reset(self):\n",
        "        self.val = 0\n",
        "        self.avg = 0\n",
        "        self.sum = 0\n",
        "        self.count = 0\n",
        "    \n",
        "    def update(self, val, n=1):\n",
        "        self.val = val\n",
        "        self.sum += val * n\n",
        "        self.count += n\n",
        "        self.avg = self.sum / self.count"
      ]
    },
    {
      "cell_type": "markdown",
      "metadata": {
        "id": "hn2h7c3Ffngh"
      },
      "source": [
        "## Get Configuration"
      ]
    },
    {
      "cell_type": "code",
      "execution_count": null,
      "metadata": {
        "colab": {
          "base_uri": "https://localhost:8080/"
        },
        "id": "rtuiGqoGfngh",
        "outputId": "d01cc4d5-888a-498e-fa0c-e9ac759e0b72"
      },
      "outputs": [
        {
          "output_type": "stream",
          "name": "stdout",
          "text": [
            "Creating directory called  UNet_with_augmentation\n",
            "--------------------\n",
            "Configuration Setting: \n",
            "Model:  UNet\n",
            "Max Epochs:  100\n",
            "Batch Size:  4\n",
            "Number of Workers:  12\n",
            "Optimizer:  Adam\n",
            "Learning Rate:  1e-05\n",
            "Augmentation:  True\n"
          ]
        }
      ],
      "source": [
        "if augmentation == True:\n",
        "    file_name = name + '_with_augmentation'\n",
        "else:\n",
        "    file_name = name + '_base'\n",
        "os.makedirs('model_outputs/{}'.format(file_name), exist_ok=True)\n",
        "print(\"Creating directory called \", file_name)\n",
        "\n",
        "print('-' * 20)\n",
        "print(\"Configuration Setting: \")\n",
        "print(\"Model: \", name)\n",
        "print(\"Max Epochs: \", epochs)\n",
        "print(\"Batch Size: \", batch_size)\n",
        "print(\"Number of Workers: \", num_workers)\n",
        "print(\"Optimizer: \", optimizer)\n",
        "print(\"Learning Rate: \", lr)\n",
        "print(\"Augmentation: \", augmentation)"
      ]
    },
    {
      "cell_type": "markdown",
      "metadata": {
        "id": "w7n4I2d8fngi"
      },
      "source": [
        "## Create Model"
      ]
    },
    {
      "cell_type": "code",
      "execution_count": null,
      "metadata": {
        "colab": {
          "base_uri": "https://localhost:8080/"
        },
        "id": "QuxjmCnzfngi",
        "outputId": "0b2d0898-7ab6-4ab0-c083-4a736c631032"
      },
      "outputs": [
        {
          "output_type": "stream",
          "name": "stdout",
          "text": [
            "Creating model...\n",
            "----------------------------------------------------------------\n",
            "        Layer (type)               Output Shape         Param #\n",
            "================================================================\n",
            "            Conv2d-1         [-1, 64, 512, 512]             640\n",
            "       BatchNorm2d-2         [-1, 64, 512, 512]             128\n",
            "              ReLU-3         [-1, 64, 512, 512]               0\n",
            "            Conv2d-4         [-1, 64, 512, 512]          36,928\n",
            "       BatchNorm2d-5         [-1, 64, 512, 512]             128\n",
            "              ReLU-6         [-1, 64, 512, 512]               0\n",
            "       double_conv-7         [-1, 64, 512, 512]               0\n",
            "            inconv-8         [-1, 64, 512, 512]               0\n",
            "         MaxPool2d-9         [-1, 64, 256, 256]               0\n",
            "           Conv2d-10        [-1, 128, 256, 256]          73,856\n",
            "      BatchNorm2d-11        [-1, 128, 256, 256]             256\n",
            "             ReLU-12        [-1, 128, 256, 256]               0\n",
            "           Conv2d-13        [-1, 128, 256, 256]         147,584\n",
            "      BatchNorm2d-14        [-1, 128, 256, 256]             256\n",
            "             ReLU-15        [-1, 128, 256, 256]               0\n",
            "      double_conv-16        [-1, 128, 256, 256]               0\n",
            "             down-17        [-1, 128, 256, 256]               0\n",
            "        MaxPool2d-18        [-1, 128, 128, 128]               0\n",
            "           Conv2d-19        [-1, 256, 128, 128]         295,168\n",
            "      BatchNorm2d-20        [-1, 256, 128, 128]             512\n",
            "             ReLU-21        [-1, 256, 128, 128]               0\n",
            "           Conv2d-22        [-1, 256, 128, 128]         590,080\n",
            "      BatchNorm2d-23        [-1, 256, 128, 128]             512\n",
            "             ReLU-24        [-1, 256, 128, 128]               0\n",
            "      double_conv-25        [-1, 256, 128, 128]               0\n",
            "             down-26        [-1, 256, 128, 128]               0\n",
            "        MaxPool2d-27          [-1, 256, 64, 64]               0\n",
            "           Conv2d-28          [-1, 512, 64, 64]       1,180,160\n",
            "      BatchNorm2d-29          [-1, 512, 64, 64]           1,024\n",
            "             ReLU-30          [-1, 512, 64, 64]               0\n",
            "           Conv2d-31          [-1, 512, 64, 64]       2,359,808\n",
            "      BatchNorm2d-32          [-1, 512, 64, 64]           1,024\n",
            "             ReLU-33          [-1, 512, 64, 64]               0\n",
            "      double_conv-34          [-1, 512, 64, 64]               0\n",
            "             down-35          [-1, 512, 64, 64]               0\n",
            "        MaxPool2d-36          [-1, 512, 32, 32]               0\n",
            "           Conv2d-37          [-1, 512, 32, 32]       2,359,808\n",
            "      BatchNorm2d-38          [-1, 512, 32, 32]           1,024\n",
            "             ReLU-39          [-1, 512, 32, 32]               0\n",
            "           Conv2d-40          [-1, 512, 32, 32]       2,359,808\n",
            "      BatchNorm2d-41          [-1, 512, 32, 32]           1,024\n",
            "             ReLU-42          [-1, 512, 32, 32]               0\n",
            "      double_conv-43          [-1, 512, 32, 32]               0\n",
            "             down-44          [-1, 512, 32, 32]               0\n",
            "         Upsample-45          [-1, 512, 64, 64]               0\n",
            "           Conv2d-46          [-1, 256, 64, 64]       2,359,552\n",
            "      BatchNorm2d-47          [-1, 256, 64, 64]             512\n",
            "             ReLU-48          [-1, 256, 64, 64]               0\n",
            "           Conv2d-49          [-1, 256, 64, 64]         590,080\n",
            "      BatchNorm2d-50          [-1, 256, 64, 64]             512\n",
            "             ReLU-51          [-1, 256, 64, 64]               0\n",
            "      double_conv-52          [-1, 256, 64, 64]               0\n",
            "               up-53          [-1, 256, 64, 64]               0\n",
            "         Upsample-54        [-1, 256, 128, 128]               0\n",
            "           Conv2d-55        [-1, 128, 128, 128]         589,952\n",
            "      BatchNorm2d-56        [-1, 128, 128, 128]             256\n",
            "             ReLU-57        [-1, 128, 128, 128]               0\n",
            "           Conv2d-58        [-1, 128, 128, 128]         147,584\n",
            "      BatchNorm2d-59        [-1, 128, 128, 128]             256\n",
            "             ReLU-60        [-1, 128, 128, 128]               0\n",
            "      double_conv-61        [-1, 128, 128, 128]               0\n",
            "               up-62        [-1, 128, 128, 128]               0\n",
            "         Upsample-63        [-1, 128, 256, 256]               0\n",
            "           Conv2d-64         [-1, 64, 256, 256]         147,520\n",
            "      BatchNorm2d-65         [-1, 64, 256, 256]             128\n",
            "             ReLU-66         [-1, 64, 256, 256]               0\n",
            "           Conv2d-67         [-1, 64, 256, 256]          36,928\n",
            "      BatchNorm2d-68         [-1, 64, 256, 256]             128\n",
            "             ReLU-69         [-1, 64, 256, 256]               0\n",
            "      double_conv-70         [-1, 64, 256, 256]               0\n",
            "               up-71         [-1, 64, 256, 256]               0\n",
            "         Upsample-72         [-1, 64, 512, 512]               0\n",
            "           Conv2d-73         [-1, 64, 512, 512]          73,792\n",
            "      BatchNorm2d-74         [-1, 64, 512, 512]             128\n",
            "             ReLU-75         [-1, 64, 512, 512]               0\n",
            "           Conv2d-76         [-1, 64, 512, 512]          36,928\n",
            "      BatchNorm2d-77         [-1, 64, 512, 512]             128\n",
            "             ReLU-78         [-1, 64, 512, 512]               0\n",
            "      double_conv-79         [-1, 64, 512, 512]               0\n",
            "               up-80         [-1, 64, 512, 512]               0\n",
            "           Conv2d-81          [-1, 4, 512, 512]             260\n",
            "          outconv-82          [-1, 4, 512, 512]               0\n",
            "================================================================\n",
            "Total params: 13,394,372\n",
            "Trainable params: 13,394,372\n",
            "Non-trainable params: 0\n",
            "----------------------------------------------------------------\n",
            "Input size (MB): 1.00\n",
            "Forward/backward pass size (MB): 3740.00\n",
            "Params size (MB): 51.10\n",
            "Estimated Total Size (MB): 3792.10\n",
            "----------------------------------------------------------------\n"
          ]
        },
        {
          "output_type": "stream",
          "name": "stderr",
          "text": [
            "/usr/local/lib/python3.7/dist-packages/torch/nn/functional.py:1960: UserWarning: nn.functional.sigmoid is deprecated. Use torch.sigmoid instead.\n",
            "  warnings.warn(\"nn.functional.sigmoid is deprecated. Use torch.sigmoid instead.\")\n"
          ]
        }
      ],
      "source": [
        "criterion = torch.nn.CrossEntropyLoss().cuda() if torch.cuda.is_available() else torch.nn.CrossEntropyLoss()\n",
        "cudnn.benchmark = True\n",
        "\n",
        "#Creating the model\n",
        "print(\"Creating model...\")\n",
        "if name == 'NestedUNet':\n",
        "    model = NestedUNet(num_classes=4)\n",
        "else:\n",
        "    model = UNet(n_channels=1, n_classes=4)\n",
        "model = model.cuda() if torch.cuda.is_available() else model\n",
        "\n",
        "if torch.cuda.device_count() > 1:\n",
        "    print(\"We can use \", torch.cuda.device_count(), \" GPUs.\")\n",
        "    model = nn.DataParallel(model)\n",
        "\n",
        "params = filter(lambda p: p.requires_grad, model.parameters())\n",
        "\n",
        "if optimizer == 'Adam':\n",
        "    optimizer = optim.Adam(params, lr=lr, weight_decay=weight_decay)\n",
        "elif optimizer == 'SGD':\n",
        "    optimizer = optim.SGD(params, lr=lr, momentum=momentum, nesterov=nesterov, weight_decay=weight_decay)\n",
        "else:\n",
        "    raise NotImplementedError\n",
        "    \n",
        "summary.summary(model,(1,512,512))"
      ]
    },
    {
      "cell_type": "markdown",
      "metadata": {
        "id": "WxuoE_jLfngi"
      },
      "source": [
        "## Load Dataset"
      ]
    },
    {
      "cell_type": "code",
      "execution_count": null,
      "metadata": {
        "colab": {
          "base_uri": "https://localhost:8080/"
        },
        "id": "2k5hV9l5fngj",
        "outputId": "56644eb8-0380-4b09-cda2-959be3278ef4"
      },
      "outputs": [
        {
          "output_type": "stream",
          "name": "stdout",
          "text": [
            "**************************************************\n",
            "Original images: 980, masks: 980 for training.\n",
            "Original images: 177, masks: 177 for validation.\n",
            "Ratio between Validation and Training is 0.180612\n",
            "**************************************************\n"
          ]
        },
        {
          "output_type": "stream",
          "name": "stderr",
          "text": [
            "/usr/local/lib/python3.7/dist-packages/torch/utils/data/dataloader.py:566: UserWarning: This DataLoader will create 12 worker processes in total. Our suggested max number of worker in current system is 2, which is smaller than what this DataLoader is going to create. Please be aware that excessive worker creation might get DataLoader running slow or even freeze, lower the worker number to avoid potential slowness/freeze if necessary.\n",
            "  cpuset_checked))\n"
          ]
        }
      ],
      "source": [
        "#directory of Images and Masks folders (generated from preprocessing)                                         \n",
        "IMAGE_DIR = 'LIDC-IDRI Preprocessed Exp 3/Image/'\n",
        "MASK_DIR = 'LIDC-IDRI Preprocessed Exp 3/Mask/'                                                                 \n",
        "\n",
        "#meta information\n",
        "meta = pd.read_csv('LIDC-IDRI Preprocessed Exp 3/Meta/meta.csv')\n",
        "meta = meta[meta['patient_diagnosis'] != 0]\n",
        "\n",
        "#Get train/test label from metadata file\n",
        "meta['original_image'] = meta['original_image'].apply(lambda x: IMAGE_DIR + \"LIDC-IDRI-\" + x[:4] + \"/\" + x + \".npy\")\n",
        "meta['mask_image'] = meta['mask_image'].apply(lambda x: MASK_DIR + \"LIDC-IDRI-\" + x[:4] + \"/\" + x + \".npy\")\n",
        "\n",
        "\n",
        "#Split into training and validation\n",
        "train_meta = meta[meta['data_split']=='Train']\n",
        "val_meta = meta[meta['data_split']=='Validation']\n",
        "\n",
        "#Get training images into list\n",
        "train_image_paths = list(train_meta['original_image'])\n",
        "train_mask_paths = list(train_meta['mask_image'])\n",
        "\n",
        "#Get validation images into list\n",
        "val_image_paths = list(val_meta['original_image'])\n",
        "val_mask_paths = list(val_meta['mask_image'])\n",
        "\n",
        "print(\"*\"*50)\n",
        "print(\"Original images: {}, masks: {} for training.\".format(len(train_image_paths),len(train_mask_paths)))\n",
        "print(\"Original images: {}, masks: {} for validation.\".format(len(val_image_paths),len(val_mask_paths)))\n",
        "print(\"Ratio between Validation and Training is {:2f}\".format(len(val_image_paths)/len(train_image_paths)))\n",
        "print(\"*\"*50)\n",
        "\n",
        "\n",
        "#Creating custom LIDC dataset\n",
        "train_dataset = LidcDataset(train_image_paths, train_mask_paths, transforms=transform)\n",
        "val_dataset = LidcDataset(val_image_paths, val_mask_paths, transforms=transform)\n",
        "\n",
        "#Creating Dataloader\n",
        "train_loader = DataLoader(\n",
        "  train_dataset,\n",
        "  batch_size=batch_size,\n",
        "  shuffle=True,\n",
        "  pin_memory=True,\n",
        "  drop_last=True,\n",
        "  num_workers=num_workers\n",
        ")\n",
        "val_loader = DataLoader(\n",
        "  val_dataset,\n",
        "  batch_size=batch_size,\n",
        "  shuffle=False,\n",
        "  pin_memory=True,\n",
        "  drop_last=False,\n",
        "  num_workers=num_workers\n",
        ")"
      ]
    },
    {
      "cell_type": "markdown",
      "metadata": {
        "id": "nFUeTMtlfngj"
      },
      "source": [
        "## Train the Model"
      ]
    },
    {
      "cell_type": "code",
      "source": [
        "torch.cuda.empty_cache()"
      ],
      "metadata": {
        "id": "FMvFNYA-f6V8"
      },
      "execution_count": null,
      "outputs": []
    },
    {
      "cell_type": "code",
      "execution_count": null,
      "metadata": {
        "colab": {
          "base_uri": "https://localhost:8080/"
        },
        "id": "dkIDHbbffngk",
        "outputId": "64e3cafd-ad2d-4898-ddda-0f36cc4935b3"
      },
      "outputs": [
        {
          "output_type": "stream",
          "name": "stderr",
          "text": [
            "100%|██████████| 245/245 [02:48<00:00,  1.46it/s, loss=1.29, iou=0.793, dice=6.72e-11, sensitivity=1]\n",
            "100%|██████████| 45/45 [00:13<00:00,  3.28it/s, val_loss=1.22, val_iou=0.953, val_dice=2.09e-10, val_sensitivity=1]\n"
          ]
        },
        {
          "output_type": "stream",
          "name": "stdout",
          "text": [
            "Training Epoch 1/100,  Training BCE Loss: 1.2872,  Training DICE: 0.0000,  Training IOU: 0.7929,  Training Sensitivity: 1.0000,  Validation BCE Loss: 1.2238,  Validation DICE: 0.0000,  Validation IOU: 0.9530,  Validation Sensitivity: 1.0000\n",
            "Saved new best model based on DICE metric!\n"
          ]
        },
        {
          "output_type": "stream",
          "name": "stderr",
          "text": [
            "100%|██████████| 245/245 [02:45<00:00,  1.48it/s, loss=1.21, iou=0.983, dice=8.03e-10, sensitivity=1]\n",
            "100%|██████████| 45/45 [00:11<00:00,  3.80it/s, val_loss=1.2, val_iou=0.995, val_dice=8.36e-9, val_sensitivity=1]\n"
          ]
        },
        {
          "output_type": "stream",
          "name": "stdout",
          "text": [
            "Training Epoch 2/100,  Training BCE Loss: 1.2127,  Training DICE: 0.0000,  Training IOU: 0.9826,  Training Sensitivity: 1.0000,  Validation BCE Loss: 1.1954,  Validation DICE: 0.0000,  Validation IOU: 0.9953,  Validation Sensitivity: 1.0000\n",
            "Saved new best model based on DICE metric!\n"
          ]
        },
        {
          "output_type": "stream",
          "name": "stderr",
          "text": [
            "100%|██████████| 245/245 [02:44<00:00,  1.49it/s, loss=1.19, iou=0.995, dice=1.95e-9, sensitivity=1]\n",
            "100%|██████████| 45/45 [00:12<00:00,  3.68it/s, val_loss=1.18, val_iou=0.995, val_dice=0.186, val_sensitivity=1]\n"
          ]
        },
        {
          "output_type": "stream",
          "name": "stdout",
          "text": [
            "Training Epoch 3/100,  Training BCE Loss: 1.1916,  Training DICE: 0.0000,  Training IOU: 0.9948,  Training Sensitivity: 1.0000,  Validation BCE Loss: 1.1811,  Validation DICE: 0.1864,  Validation IOU: 0.9947,  Validation Sensitivity: 1.0000\n",
            "Saved new best model based on DICE metric!\n"
          ]
        },
        {
          "output_type": "stream",
          "name": "stderr",
          "text": [
            "100%|██████████| 245/245 [02:44<00:00,  1.49it/s, loss=1.18, iou=0.996, dice=2.65e-9, sensitivity=1]\n",
            "100%|██████████| 45/45 [00:11<00:00,  3.83it/s, val_loss=1.16, val_iou=0.996, val_dice=0.186, val_sensitivity=1]\n"
          ]
        },
        {
          "output_type": "stream",
          "name": "stdout",
          "text": [
            "Training Epoch 4/100,  Training BCE Loss: 1.1751,  Training DICE: 0.0000,  Training IOU: 0.9963,  Training Sensitivity: 1.0000,  Validation BCE Loss: 1.1647,  Validation DICE: 0.1864,  Validation IOU: 0.9964,  Validation Sensitivity: 1.0000\n",
            "Saved new best model based on DICE metric!\n"
          ]
        },
        {
          "output_type": "stream",
          "name": "stderr",
          "text": [
            "100%|██████████| 245/245 [02:44<00:00,  1.49it/s, loss=1.16, iou=0.997, dice=3.49e-9, sensitivity=1]\n",
            "100%|██████████| 45/45 [00:12<00:00,  3.60it/s, val_loss=1.15, val_iou=0.997, val_dice=0.367, val_sensitivity=1]\n"
          ]
        },
        {
          "output_type": "stream",
          "name": "stdout",
          "text": [
            "Training Epoch 5/100,  Training BCE Loss: 1.1604,  Training DICE: 0.0000,  Training IOU: 0.9971,  Training Sensitivity: 1.0000,  Validation BCE Loss: 1.1516,  Validation DICE: 0.3672,  Validation IOU: 0.9971,  Validation Sensitivity: 1.0000\n",
            "Saved new best model based on DICE metric!\n"
          ]
        },
        {
          "output_type": "stream",
          "name": "stderr",
          "text": [
            "100%|██████████| 245/245 [02:44<00:00,  1.49it/s, loss=1.15, iou=0.998, dice=4.19e-9, sensitivity=1]\n",
            "100%|██████████| 45/45 [00:12<00:00,  3.66it/s, val_loss=1.14, val_iou=0.995, val_dice=0.232, val_sensitivity=1]\n"
          ]
        },
        {
          "output_type": "stream",
          "name": "stdout",
          "text": [
            "Training Epoch 6/100,  Training BCE Loss: 1.1465,  Training DICE: 0.0000,  Training IOU: 0.9976,  Training Sensitivity: 1.0000,  Validation BCE Loss: 1.1420,  Validation DICE: 0.2316,  Validation IOU: 0.9949,  Validation Sensitivity: 1.0000\n"
          ]
        },
        {
          "output_type": "stream",
          "name": "stderr",
          "text": [
            "100%|██████████| 245/245 [02:45<00:00,  1.48it/s, loss=1.13, iou=0.998, dice=5.03e-9, sensitivity=1]\n",
            "100%|██████████| 45/45 [00:12<00:00,  3.72it/s, val_loss=1.12, val_iou=0.998, val_dice=0.412, val_sensitivity=1]\n"
          ]
        },
        {
          "output_type": "stream",
          "name": "stdout",
          "text": [
            "Training Epoch 7/100,  Training BCE Loss: 1.1330,  Training DICE: 0.0000,  Training IOU: 0.9980,  Training Sensitivity: 1.0000,  Validation BCE Loss: 1.1238,  Validation DICE: 0.4124,  Validation IOU: 0.9980,  Validation Sensitivity: 1.0000\n",
            "Saved new best model based on DICE metric!\n"
          ]
        },
        {
          "output_type": "stream",
          "name": "stderr",
          "text": [
            "100%|██████████| 245/245 [02:45<00:00,  1.48it/s, loss=1.12, iou=0.998, dice=6.2e-9, sensitivity=1]\n",
            "100%|██████████| 45/45 [00:11<00:00,  3.82it/s, val_loss=1.11, val_iou=0.999, val_dice=0.525, val_sensitivity=1]\n"
          ]
        },
        {
          "output_type": "stream",
          "name": "stdout",
          "text": [
            "Training Epoch 8/100,  Training BCE Loss: 1.1194,  Training DICE: 0.0000,  Training IOU: 0.9984,  Training Sensitivity: 1.0000,  Validation BCE Loss: 1.1091,  Validation DICE: 0.5254,  Validation IOU: 0.9986,  Validation Sensitivity: 1.0000\n",
            "Saved new best model based on DICE metric!\n"
          ]
        },
        {
          "output_type": "stream",
          "name": "stderr",
          "text": [
            "100%|██████████| 245/245 [02:44<00:00,  1.49it/s, loss=1.1, iou=0.999, dice=7.32e-9, sensitivity=1]\n",
            "100%|██████████| 45/45 [00:11<00:00,  3.91it/s, val_loss=1.09, val_iou=0.998, val_dice=0.345, val_sensitivity=1]\n"
          ]
        },
        {
          "output_type": "stream",
          "name": "stdout",
          "text": [
            "Training Epoch 9/100,  Training BCE Loss: 1.1041,  Training DICE: 0.0000,  Training IOU: 0.9987,  Training Sensitivity: 1.0000,  Validation BCE Loss: 1.0943,  Validation DICE: 0.3446,  Validation IOU: 0.9979,  Validation Sensitivity: 1.0000\n"
          ]
        },
        {
          "output_type": "stream",
          "name": "stderr",
          "text": [
            "100%|██████████| 245/245 [02:45<00:00,  1.48it/s, loss=1.09, iou=0.998, dice=5.66e-9, sensitivity=1]\n",
            "100%|██████████| 45/45 [00:12<00:00,  3.61it/s, val_loss=1.08, val_iou=0.998, val_dice=0.299, val_sensitivity=1]\n"
          ]
        },
        {
          "output_type": "stream",
          "name": "stdout",
          "text": [
            "Training Epoch 10/100,  Training BCE Loss: 1.0895,  Training DICE: 0.0000,  Training IOU: 0.9980,  Training Sensitivity: 1.0000,  Validation BCE Loss: 1.0841,  Validation DICE: 0.2994,  Validation IOU: 0.9976,  Validation Sensitivity: 1.0000\n"
          ]
        },
        {
          "output_type": "stream",
          "name": "stderr",
          "text": [
            "100%|██████████| 245/245 [02:44<00:00,  1.49it/s, loss=1.07, iou=0.999, dice=7.76e-9, sensitivity=1]\n",
            "100%|██████████| 45/45 [00:12<00:00,  3.54it/s, val_loss=1.07, val_iou=0.998, val_dice=0.412, val_sensitivity=1]\n"
          ]
        },
        {
          "output_type": "stream",
          "name": "stdout",
          "text": [
            "Training Epoch 11/100,  Training BCE Loss: 1.0750,  Training DICE: 0.0000,  Training IOU: 0.9987,  Training Sensitivity: 1.0000,  Validation BCE Loss: 1.0682,  Validation DICE: 0.4124,  Validation IOU: 0.9985,  Validation Sensitivity: 1.0000\n"
          ]
        },
        {
          "output_type": "stream",
          "name": "stderr",
          "text": [
            "100%|██████████| 245/245 [02:44<00:00,  1.49it/s, loss=1.06, iou=0.999, dice=1e-8, sensitivity=1]\n",
            "100%|██████████| 45/45 [00:11<00:00,  3.83it/s, val_loss=1.05, val_iou=0.999, val_dice=0.503, val_sensitivity=1]\n"
          ]
        },
        {
          "output_type": "stream",
          "name": "stdout",
          "text": [
            "Training Epoch 12/100,  Training BCE Loss: 1.0606,  Training DICE: 0.0000,  Training IOU: 0.9990,  Training Sensitivity: 1.0000,  Validation BCE Loss: 1.0528,  Validation DICE: 0.5028,  Validation IOU: 0.9993,  Validation Sensitivity: 1.0000\n"
          ]
        },
        {
          "output_type": "stream",
          "name": "stderr",
          "text": [
            "100%|██████████| 245/245 [02:44<00:00,  1.49it/s, loss=1.05, iou=0.999, dice=1.53e-8, sensitivity=1]\n",
            "100%|██████████| 45/45 [00:12<00:00,  3.74it/s, val_loss=1.04, val_iou=0.997, val_dice=0.158, val_sensitivity=1]\n"
          ]
        },
        {
          "output_type": "stream",
          "name": "stdout",
          "text": [
            "Training Epoch 13/100,  Training BCE Loss: 1.0459,  Training DICE: 0.0000,  Training IOU: 0.9993,  Training Sensitivity: 1.0000,  Validation BCE Loss: 1.0403,  Validation DICE: 0.1582,  Validation IOU: 0.9972,  Validation Sensitivity: 1.0000\n"
          ]
        },
        {
          "output_type": "stream",
          "name": "stderr",
          "text": [
            "100%|██████████| 245/245 [02:44<00:00,  1.49it/s, loss=1.03, iou=0.999, dice=1.78e-8, sensitivity=1]\n",
            "100%|██████████| 45/45 [00:12<00:00,  3.55it/s, val_loss=1.02, val_iou=1, val_dice=0.571, val_sensitivity=1]\n"
          ]
        },
        {
          "output_type": "stream",
          "name": "stdout",
          "text": [
            "Training Epoch 14/100,  Training BCE Loss: 1.0326,  Training DICE: 0.0000,  Training IOU: 0.9994,  Training Sensitivity: 1.0000,  Validation BCE Loss: 1.0240,  Validation DICE: 0.5706,  Validation IOU: 0.9995,  Validation Sensitivity: 1.0000\n",
            "Saved new best model based on DICE metric!\n"
          ]
        },
        {
          "output_type": "stream",
          "name": "stderr",
          "text": [
            "100%|██████████| 245/245 [02:44<00:00,  1.49it/s, loss=1.02, iou=0.999, dice=1.23e-8, sensitivity=1]\n",
            "100%|██████████| 45/45 [00:11<00:00,  3.78it/s, val_loss=1.01, val_iou=0.999, val_dice=0.48, val_sensitivity=1]\n"
          ]
        },
        {
          "output_type": "stream",
          "name": "stdout",
          "text": [
            "Training Epoch 15/100,  Training BCE Loss: 1.0206,  Training DICE: 0.0000,  Training IOU: 0.9989,  Training Sensitivity: 1.0000,  Validation BCE Loss: 1.0140,  Validation DICE: 0.4802,  Validation IOU: 0.9992,  Validation Sensitivity: 1.0000\n"
          ]
        },
        {
          "output_type": "stream",
          "name": "stderr",
          "text": [
            "100%|██████████| 245/245 [02:43<00:00,  1.49it/s, loss=1.01, iou=1, dice=2.08e-8, sensitivity=1]\n",
            "100%|██████████| 45/45 [00:12<00:00,  3.60it/s, val_loss=1, val_iou=0.999, val_dice=0.525, val_sensitivity=1]\n"
          ]
        },
        {
          "output_type": "stream",
          "name": "stdout",
          "text": [
            "Training Epoch 16/100,  Training BCE Loss: 1.0079,  Training DICE: 0.0000,  Training IOU: 0.9995,  Training Sensitivity: 1.0000,  Validation BCE Loss: 1.0009,  Validation DICE: 0.5254,  Validation IOU: 0.9992,  Validation Sensitivity: 1.0000\n"
          ]
        },
        {
          "output_type": "stream",
          "name": "stderr",
          "text": [
            "100%|██████████| 245/245 [02:44<00:00,  1.49it/s, loss=0.996, iou=1, dice=2.52e-8, sensitivity=1]\n",
            "100%|██████████| 45/45 [00:12<00:00,  3.68it/s, val_loss=0.989, val_iou=0.998, val_dice=0.299, val_sensitivity=1]\n"
          ]
        },
        {
          "output_type": "stream",
          "name": "stdout",
          "text": [
            "Training Epoch 17/100,  Training BCE Loss: 0.9956,  Training DICE: 0.0000,  Training IOU: 0.9996,  Training Sensitivity: 1.0000,  Validation BCE Loss: 0.9894,  Validation DICE: 0.2994,  Validation IOU: 0.9984,  Validation Sensitivity: 1.0000\n"
          ]
        },
        {
          "output_type": "stream",
          "name": "stderr",
          "text": [
            "100%|██████████| 245/245 [02:44<00:00,  1.49it/s, loss=0.984, iou=1, dice=2.68e-8, sensitivity=1]\n",
            "100%|██████████| 45/45 [00:12<00:00,  3.62it/s, val_loss=1.12, val_iou=0.726, val_dice=3.78e-11, val_sensitivity=1]\n"
          ]
        },
        {
          "output_type": "stream",
          "name": "stdout",
          "text": [
            "Training Epoch 18/100,  Training BCE Loss: 0.9839,  Training DICE: 0.0000,  Training IOU: 0.9996,  Training Sensitivity: 1.0000,  Validation BCE Loss: 1.1157,  Validation DICE: 0.0000,  Validation IOU: 0.7257,  Validation Sensitivity: 1.0000\n"
          ]
        },
        {
          "output_type": "stream",
          "name": "stderr",
          "text": [
            "100%|██████████| 245/245 [02:44<00:00,  1.49it/s, loss=0.973, iou=0.999, dice=1.9e-8, sensitivity=1]\n",
            "100%|██████████| 45/45 [00:12<00:00,  3.68it/s, val_loss=0.962, val_iou=0.999, val_dice=0.503, val_sensitivity=1]\n"
          ]
        },
        {
          "output_type": "stream",
          "name": "stdout",
          "text": [
            "Training Epoch 19/100,  Training BCE Loss: 0.9729,  Training DICE: 0.0000,  Training IOU: 0.9994,  Training Sensitivity: 1.0000,  Validation BCE Loss: 0.9622,  Validation DICE: 0.5028,  Validation IOU: 0.9992,  Validation Sensitivity: 1.0000\n"
          ]
        },
        {
          "output_type": "stream",
          "name": "stderr",
          "text": [
            "100%|██████████| 245/245 [02:44<00:00,  1.49it/s, loss=0.961, iou=1, dice=2.84e-8, sensitivity=1]\n",
            "100%|██████████| 45/45 [00:12<00:00,  3.48it/s, val_loss=0.955, val_iou=0.999, val_dice=0.548, val_sensitivity=1]\n"
          ]
        },
        {
          "output_type": "stream",
          "name": "stdout",
          "text": [
            "Training Epoch 20/100,  Training BCE Loss: 0.9613,  Training DICE: 0.0000,  Training IOU: 0.9996,  Training Sensitivity: 1.0000,  Validation BCE Loss: 0.9546,  Validation DICE: 0.5480,  Validation IOU: 0.9994,  Validation Sensitivity: 1.0000\n"
          ]
        },
        {
          "output_type": "stream",
          "name": "stderr",
          "text": [
            "100%|██████████| 245/245 [02:44<00:00,  1.49it/s, loss=0.951, iou=1, dice=3.3e-8, sensitivity=1]\n",
            "100%|██████████| 45/45 [00:12<00:00,  3.68it/s, val_loss=0.945, val_iou=1, val_dice=0.638, val_sensitivity=1]\n"
          ]
        },
        {
          "output_type": "stream",
          "name": "stdout",
          "text": [
            "Training Epoch 21/100,  Training BCE Loss: 0.9508,  Training DICE: 0.0000,  Training IOU: 0.9997,  Training Sensitivity: 1.0000,  Validation BCE Loss: 0.9450,  Validation DICE: 0.6384,  Validation IOU: 0.9995,  Validation Sensitivity: 1.0000\n",
            "Saved new best model based on DICE metric!\n"
          ]
        },
        {
          "output_type": "stream",
          "name": "stderr",
          "text": [
            "100%|██████████| 245/245 [02:44<00:00,  1.49it/s, loss=0.941, iou=1, dice=3.79e-8, sensitivity=1]\n",
            "100%|██████████| 45/45 [00:12<00:00,  3.60it/s, val_loss=0.935, val_iou=1, val_dice=0.548, val_sensitivity=1]\n"
          ]
        },
        {
          "output_type": "stream",
          "name": "stdout",
          "text": [
            "Training Epoch 22/100,  Training BCE Loss: 0.9408,  Training DICE: 0.0000,  Training IOU: 0.9997,  Training Sensitivity: 1.0000,  Validation BCE Loss: 0.9354,  Validation DICE: 0.5480,  Validation IOU: 0.9996,  Validation Sensitivity: 1.0000\n"
          ]
        },
        {
          "output_type": "stream",
          "name": "stderr",
          "text": [
            "100%|██████████| 245/245 [02:44<00:00,  1.49it/s, loss=0.932, iou=1, dice=3.29e-8, sensitivity=1]\n",
            "100%|██████████| 45/45 [00:12<00:00,  3.74it/s, val_loss=0.925, val_iou=1, val_dice=0.616, val_sensitivity=1]\n"
          ]
        },
        {
          "output_type": "stream",
          "name": "stdout",
          "text": [
            "Training Epoch 23/100,  Training BCE Loss: 0.9316,  Training DICE: 0.0000,  Training IOU: 0.9996,  Training Sensitivity: 1.0000,  Validation BCE Loss: 0.9253,  Validation DICE: 0.6158,  Validation IOU: 0.9996,  Validation Sensitivity: 1.0000\n"
          ]
        },
        {
          "output_type": "stream",
          "name": "stderr",
          "text": [
            "100%|██████████| 245/245 [02:44<00:00,  1.49it/s, loss=0.922, iou=1, dice=3.16e-8, sensitivity=1]\n",
            "100%|██████████| 45/45 [00:11<00:00,  3.76it/s, val_loss=0.921, val_iou=1, val_dice=0.48, val_sensitivity=1]\n"
          ]
        },
        {
          "output_type": "stream",
          "name": "stdout",
          "text": [
            "Training Epoch 24/100,  Training BCE Loss: 0.9225,  Training DICE: 0.0000,  Training IOU: 0.9997,  Training Sensitivity: 1.0000,  Validation BCE Loss: 0.9214,  Validation DICE: 0.4802,  Validation IOU: 0.9997,  Validation Sensitivity: 1.0000\n"
          ]
        },
        {
          "output_type": "stream",
          "name": "stderr",
          "text": [
            "100%|██████████| 245/245 [02:44<00:00,  1.49it/s, loss=0.914, iou=0.999, dice=3.39e-8, sensitivity=1]\n",
            "100%|██████████| 45/45 [00:12<00:00,  3.64it/s, val_loss=0.91, val_iou=1, val_dice=0.412, val_sensitivity=1]\n"
          ]
        },
        {
          "output_type": "stream",
          "name": "stdout",
          "text": [
            "Training Epoch 25/100,  Training BCE Loss: 0.9139,  Training DICE: 0.0000,  Training IOU: 0.9995,  Training Sensitivity: 1.0000,  Validation BCE Loss: 0.9099,  Validation DICE: 0.4124,  Validation IOU: 0.9996,  Validation Sensitivity: 1.0000\n"
          ]
        },
        {
          "output_type": "stream",
          "name": "stderr",
          "text": [
            "100%|██████████| 245/245 [02:44<00:00,  1.49it/s, loss=0.905, iou=0.999, dice=1.99e-8, sensitivity=1]\n",
            "100%|██████████| 45/45 [00:12<00:00,  3.63it/s, val_loss=0.9, val_iou=0.999, val_dice=0.435, val_sensitivity=1]\n"
          ]
        },
        {
          "output_type": "stream",
          "name": "stdout",
          "text": [
            "Training Epoch 26/100,  Training BCE Loss: 0.9049,  Training DICE: 0.0000,  Training IOU: 0.9994,  Training Sensitivity: 1.0000,  Validation BCE Loss: 0.9004,  Validation DICE: 0.4350,  Validation IOU: 0.9994,  Validation Sensitivity: 1.0000\n"
          ]
        },
        {
          "output_type": "stream",
          "name": "stderr",
          "text": [
            "100%|██████████| 245/245 [02:44<00:00,  1.49it/s, loss=0.896, iou=1, dice=3.2e-8, sensitivity=1]\n",
            "100%|██████████| 45/45 [00:11<00:00,  3.79it/s, val_loss=0.891, val_iou=0.999, val_dice=0.367, val_sensitivity=1]\n"
          ]
        },
        {
          "output_type": "stream",
          "name": "stdout",
          "text": [
            "Training Epoch 27/100,  Training BCE Loss: 0.8960,  Training DICE: 0.0000,  Training IOU: 0.9997,  Training Sensitivity: 1.0000,  Validation BCE Loss: 0.8908,  Validation DICE: 0.3672,  Validation IOU: 0.9995,  Validation Sensitivity: 1.0000\n"
          ]
        },
        {
          "output_type": "stream",
          "name": "stderr",
          "text": [
            "100%|██████████| 245/245 [02:44<00:00,  1.49it/s, loss=0.888, iou=1, dice=3.83e-8, sensitivity=1]\n",
            "100%|██████████| 45/45 [00:11<00:00,  3.78it/s, val_loss=0.882, val_iou=1, val_dice=0.503, val_sensitivity=1]\n"
          ]
        },
        {
          "output_type": "stream",
          "name": "stdout",
          "text": [
            "Training Epoch 28/100,  Training BCE Loss: 0.8881,  Training DICE: 0.0000,  Training IOU: 0.9997,  Training Sensitivity: 1.0000,  Validation BCE Loss: 0.8820,  Validation DICE: 0.5028,  Validation IOU: 0.9997,  Validation Sensitivity: 1.0000\n"
          ]
        },
        {
          "output_type": "stream",
          "name": "stderr",
          "text": [
            "100%|██████████| 245/245 [02:43<00:00,  1.49it/s, loss=0.881, iou=1, dice=3.79e-8, sensitivity=1]\n",
            "100%|██████████| 45/45 [00:12<00:00,  3.58it/s, val_loss=0.877, val_iou=1, val_dice=0.503, val_sensitivity=1]\n"
          ]
        },
        {
          "output_type": "stream",
          "name": "stdout",
          "text": [
            "Training Epoch 29/100,  Training BCE Loss: 0.8806,  Training DICE: 0.0000,  Training IOU: 0.9997,  Training Sensitivity: 1.0000,  Validation BCE Loss: 0.8766,  Validation DICE: 0.5028,  Validation IOU: 0.9996,  Validation Sensitivity: 1.0000\n"
          ]
        },
        {
          "output_type": "stream",
          "name": "stderr",
          "text": [
            "100%|██████████| 245/245 [02:43<00:00,  1.49it/s, loss=0.874, iou=1, dice=3.47e-8, sensitivity=1]\n",
            "100%|██████████| 45/45 [00:12<00:00,  3.74it/s, val_loss=0.87, val_iou=1, val_dice=0.503, val_sensitivity=1]\n"
          ]
        },
        {
          "output_type": "stream",
          "name": "stdout",
          "text": [
            "Training Epoch 30/100,  Training BCE Loss: 0.8736,  Training DICE: 0.0000,  Training IOU: 0.9997,  Training Sensitivity: 1.0000,  Validation BCE Loss: 0.8697,  Validation DICE: 0.5028,  Validation IOU: 0.9997,  Validation Sensitivity: 1.0000\n"
          ]
        },
        {
          "output_type": "stream",
          "name": "stderr",
          "text": [
            "100%|██████████| 245/245 [02:44<00:00,  1.49it/s, loss=0.867, iou=1, dice=3.14e-8, sensitivity=1]\n",
            "100%|██████████| 45/45 [00:12<00:00,  3.63it/s, val_loss=0.863, val_iou=1, val_dice=0.525, val_sensitivity=1]\n"
          ]
        },
        {
          "output_type": "stream",
          "name": "stdout",
          "text": [
            "Training Epoch 31/100,  Training BCE Loss: 0.8669,  Training DICE: 0.0000,  Training IOU: 0.9996,  Training Sensitivity: 1.0000,  Validation BCE Loss: 0.8630,  Validation DICE: 0.5254,  Validation IOU: 0.9997,  Validation Sensitivity: 1.0000\n"
          ]
        },
        {
          "output_type": "stream",
          "name": "stderr",
          "text": [
            "100%|██████████| 245/245 [02:44<00:00,  1.49it/s, loss=0.86, iou=1, dice=4.63e-8, sensitivity=1]\n",
            "100%|██████████| 45/45 [00:11<00:00,  3.84it/s, val_loss=0.855, val_iou=1, val_dice=0.412, val_sensitivity=1]\n"
          ]
        },
        {
          "output_type": "stream",
          "name": "stdout",
          "text": [
            "Training Epoch 32/100,  Training BCE Loss: 0.8602,  Training DICE: 0.0000,  Training IOU: 0.9998,  Training Sensitivity: 1.0000,  Validation BCE Loss: 0.8554,  Validation DICE: 0.4124,  Validation IOU: 0.9996,  Validation Sensitivity: 1.0000\n"
          ]
        },
        {
          "output_type": "stream",
          "name": "stderr",
          "text": [
            "100%|██████████| 245/245 [02:44<00:00,  1.49it/s, loss=0.854, iou=1, dice=5.49e-8, sensitivity=1]\n",
            "100%|██████████| 45/45 [00:12<00:00,  3.71it/s, val_loss=0.851, val_iou=1, val_dice=0.616, val_sensitivity=1]\n"
          ]
        },
        {
          "output_type": "stream",
          "name": "stdout",
          "text": [
            "Training Epoch 33/100,  Training BCE Loss: 0.8536,  Training DICE: 0.0000,  Training IOU: 0.9998,  Training Sensitivity: 1.0000,  Validation BCE Loss: 0.8514,  Validation DICE: 0.6158,  Validation IOU: 0.9998,  Validation Sensitivity: 1.0000\n"
          ]
        },
        {
          "output_type": "stream",
          "name": "stderr",
          "text": [
            "100%|██████████| 245/245 [02:45<00:00,  1.48it/s, loss=0.848, iou=1, dice=5.41e-8, sensitivity=1]\n",
            "100%|██████████| 45/45 [00:12<00:00,  3.65it/s, val_loss=0.845, val_iou=1, val_dice=0.616, val_sensitivity=1]\n"
          ]
        },
        {
          "output_type": "stream",
          "name": "stdout",
          "text": [
            "Training Epoch 34/100,  Training BCE Loss: 0.8476,  Training DICE: 0.0000,  Training IOU: 0.9998,  Training Sensitivity: 1.0000,  Validation BCE Loss: 0.8454,  Validation DICE: 0.6158,  Validation IOU: 0.9998,  Validation Sensitivity: 1.0000\n"
          ]
        },
        {
          "output_type": "stream",
          "name": "stderr",
          "text": [
            "100%|██████████| 245/245 [02:43<00:00,  1.49it/s, loss=0.842, iou=1, dice=5.9e-8, sensitivity=1]\n",
            "100%|██████████| 45/45 [00:11<00:00,  3.78it/s, val_loss=0.84, val_iou=1, val_dice=0.661, val_sensitivity=1]\n"
          ]
        },
        {
          "output_type": "stream",
          "name": "stdout",
          "text": [
            "Training Epoch 35/100,  Training BCE Loss: 0.8420,  Training DICE: 0.0000,  Training IOU: 0.9998,  Training Sensitivity: 1.0000,  Validation BCE Loss: 0.8400,  Validation DICE: 0.6610,  Validation IOU: 0.9998,  Validation Sensitivity: 1.0000\n",
            "Saved new best model based on DICE metric!\n"
          ]
        },
        {
          "output_type": "stream",
          "name": "stderr",
          "text": [
            "100%|██████████| 245/245 [02:44<00:00,  1.49it/s, loss=0.837, iou=1, dice=6.07e-8, sensitivity=1]\n",
            "100%|██████████| 45/45 [00:11<00:00,  3.85it/s, val_loss=0.834, val_iou=1, val_dice=0.548, val_sensitivity=1]\n"
          ]
        },
        {
          "output_type": "stream",
          "name": "stdout",
          "text": [
            "Training Epoch 36/100,  Training BCE Loss: 0.8367,  Training DICE: 0.0000,  Training IOU: 0.9998,  Training Sensitivity: 1.0000,  Validation BCE Loss: 0.8341,  Validation DICE: 0.5480,  Validation IOU: 0.9997,  Validation Sensitivity: 1.0000\n"
          ]
        },
        {
          "output_type": "stream",
          "name": "stderr",
          "text": [
            "100%|██████████| 245/245 [02:44<00:00,  1.49it/s, loss=0.832, iou=1, dice=6.73e-8, sensitivity=1]\n",
            "100%|██████████| 45/45 [00:12<00:00,  3.70it/s, val_loss=0.829, val_iou=1, val_dice=0.48, val_sensitivity=1]\n"
          ]
        },
        {
          "output_type": "stream",
          "name": "stdout",
          "text": [
            "Training Epoch 37/100,  Training BCE Loss: 0.8316,  Training DICE: 0.0000,  Training IOU: 0.9998,  Training Sensitivity: 1.0000,  Validation BCE Loss: 0.8292,  Validation DICE: 0.4802,  Validation IOU: 0.9997,  Validation Sensitivity: 1.0000\n"
          ]
        },
        {
          "output_type": "stream",
          "name": "stderr",
          "text": [
            "100%|██████████| 245/245 [02:44<00:00,  1.49it/s, loss=0.827, iou=1, dice=7.62e-8, sensitivity=1]\n",
            "100%|██████████| 45/45 [00:11<00:00,  3.81it/s, val_loss=0.823, val_iou=1, val_dice=0.593, val_sensitivity=1]\n"
          ]
        },
        {
          "output_type": "stream",
          "name": "stdout",
          "text": [
            "Training Epoch 38/100,  Training BCE Loss: 0.8268,  Training DICE: 0.0000,  Training IOU: 0.9999,  Training Sensitivity: 1.0000,  Validation BCE Loss: 0.8228,  Validation DICE: 0.5932,  Validation IOU: 0.9998,  Validation Sensitivity: 1.0000\n"
          ]
        },
        {
          "output_type": "stream",
          "name": "stderr",
          "text": [
            "100%|██████████| 245/245 [02:44<00:00,  1.49it/s, loss=0.822, iou=1, dice=6.27e-8, sensitivity=1]\n",
            "100%|██████████| 45/45 [00:12<00:00,  3.54it/s, val_loss=0.82, val_iou=1, val_dice=0.593, val_sensitivity=1]\n"
          ]
        },
        {
          "output_type": "stream",
          "name": "stdout",
          "text": [
            "Training Epoch 39/100,  Training BCE Loss: 0.8223,  Training DICE: 0.0000,  Training IOU: 0.9998,  Training Sensitivity: 1.0000,  Validation BCE Loss: 0.8198,  Validation DICE: 0.5932,  Validation IOU: 0.9997,  Validation Sensitivity: 1.0000\n"
          ]
        },
        {
          "output_type": "stream",
          "name": "stderr",
          "text": [
            "100%|██████████| 245/245 [02:45<00:00,  1.48it/s, loss=0.818, iou=1, dice=8.03e-8, sensitivity=1]\n",
            "100%|██████████| 45/45 [00:11<00:00,  3.75it/s, val_loss=0.816, val_iou=1, val_dice=0.616, val_sensitivity=1]\n"
          ]
        },
        {
          "output_type": "stream",
          "name": "stdout",
          "text": [
            "Training Epoch 40/100,  Training BCE Loss: 0.8180,  Training DICE: 0.0000,  Training IOU: 0.9999,  Training Sensitivity: 1.0000,  Validation BCE Loss: 0.8157,  Validation DICE: 0.6158,  Validation IOU: 0.9997,  Validation Sensitivity: 1.0000\n"
          ]
        },
        {
          "output_type": "stream",
          "name": "stderr",
          "text": [
            "100%|██████████| 245/245 [02:44<00:00,  1.49it/s, loss=0.814, iou=1, dice=8.11e-8, sensitivity=1]\n",
            "100%|██████████| 45/45 [00:12<00:00,  3.66it/s, val_loss=0.812, val_iou=1, val_dice=0.503, val_sensitivity=1]\n"
          ]
        },
        {
          "output_type": "stream",
          "name": "stdout",
          "text": [
            "Training Epoch 41/100,  Training BCE Loss: 0.8139,  Training DICE: 0.0000,  Training IOU: 0.9999,  Training Sensitivity: 1.0000,  Validation BCE Loss: 0.8119,  Validation DICE: 0.5028,  Validation IOU: 0.9997,  Validation Sensitivity: 1.0000\n"
          ]
        },
        {
          "output_type": "stream",
          "name": "stderr",
          "text": [
            "100%|██████████| 245/245 [02:44<00:00,  1.49it/s, loss=0.81, iou=1, dice=8.74e-8, sensitivity=1]\n",
            "100%|██████████| 45/45 [00:12<00:00,  3.75it/s, val_loss=0.808, val_iou=1, val_dice=0.661, val_sensitivity=1]\n"
          ]
        },
        {
          "output_type": "stream",
          "name": "stdout",
          "text": [
            "Training Epoch 42/100,  Training BCE Loss: 0.8100,  Training DICE: 0.0000,  Training IOU: 0.9999,  Training Sensitivity: 1.0000,  Validation BCE Loss: 0.8079,  Validation DICE: 0.6610,  Validation IOU: 0.9999,  Validation Sensitivity: 1.0000\n",
            "Saved new best model based on DICE metric!\n"
          ]
        },
        {
          "output_type": "stream",
          "name": "stderr",
          "text": [
            "100%|██████████| 245/245 [02:44<00:00,  1.49it/s, loss=0.806, iou=1, dice=8.46e-8, sensitivity=1]\n",
            "100%|██████████| 45/45 [00:12<00:00,  3.63it/s, val_loss=0.805, val_iou=1, val_dice=0.525, val_sensitivity=1]\n"
          ]
        },
        {
          "output_type": "stream",
          "name": "stdout",
          "text": [
            "Training Epoch 43/100,  Training BCE Loss: 0.8064,  Training DICE: 0.0000,  Training IOU: 0.9999,  Training Sensitivity: 1.0000,  Validation BCE Loss: 0.8048,  Validation DICE: 0.5254,  Validation IOU: 0.9998,  Validation Sensitivity: 1.0000\n"
          ]
        },
        {
          "output_type": "stream",
          "name": "stderr",
          "text": [
            "100%|██████████| 245/245 [02:43<00:00,  1.50it/s, loss=0.803, iou=1, dice=7.52e-8, sensitivity=1]\n",
            "100%|██████████| 45/45 [00:11<00:00,  3.76it/s, val_loss=0.8, val_iou=1, val_dice=0.39, val_sensitivity=1]\n"
          ]
        },
        {
          "output_type": "stream",
          "name": "stdout",
          "text": [
            "Training Epoch 44/100,  Training BCE Loss: 0.8028,  Training DICE: 0.0000,  Training IOU: 0.9998,  Training Sensitivity: 1.0000,  Validation BCE Loss: 0.7995,  Validation DICE: 0.3898,  Validation IOU: 0.9997,  Validation Sensitivity: 1.0000\n"
          ]
        },
        {
          "output_type": "stream",
          "name": "stderr",
          "text": [
            "100%|██████████| 245/245 [02:43<00:00,  1.49it/s, loss=0.799, iou=1, dice=6.99e-8, sensitivity=1]\n",
            "100%|██████████| 45/45 [00:12<00:00,  3.49it/s, val_loss=0.799, val_iou=1, val_dice=0.548, val_sensitivity=1]\n"
          ]
        },
        {
          "output_type": "stream",
          "name": "stdout",
          "text": [
            "Training Epoch 45/100,  Training BCE Loss: 0.7992,  Training DICE: 0.0000,  Training IOU: 0.9998,  Training Sensitivity: 1.0000,  Validation BCE Loss: 0.7987,  Validation DICE: 0.5480,  Validation IOU: 0.9998,  Validation Sensitivity: 1.0000\n"
          ]
        },
        {
          "output_type": "stream",
          "name": "stderr",
          "text": [
            "100%|██████████| 245/245 [02:43<00:00,  1.50it/s, loss=0.796, iou=1, dice=7.65e-8, sensitivity=1]\n",
            "100%|██████████| 45/45 [00:12<00:00,  3.62it/s, val_loss=0.795, val_iou=0.999, val_dice=0.435, val_sensitivity=1]\n"
          ]
        },
        {
          "output_type": "stream",
          "name": "stdout",
          "text": [
            "Training Epoch 46/100,  Training BCE Loss: 0.7956,  Training DICE: 0.0000,  Training IOU: 0.9999,  Training Sensitivity: 1.0000,  Validation BCE Loss: 0.7946,  Validation DICE: 0.4350,  Validation IOU: 0.9994,  Validation Sensitivity: 1.0000\n"
          ]
        },
        {
          "output_type": "stream",
          "name": "stderr",
          "text": [
            "100%|██████████| 245/245 [02:44<00:00,  1.49it/s, loss=0.792, iou=1, dice=9.81e-8, sensitivity=1]\n",
            "100%|██████████| 45/45 [00:12<00:00,  3.70it/s, val_loss=0.791, val_iou=1, val_dice=0.593, val_sensitivity=1]\n"
          ]
        },
        {
          "output_type": "stream",
          "name": "stdout",
          "text": [
            "Training Epoch 47/100,  Training BCE Loss: 0.7922,  Training DICE: 0.0000,  Training IOU: 0.9999,  Training Sensitivity: 1.0000,  Validation BCE Loss: 0.7909,  Validation DICE: 0.5932,  Validation IOU: 0.9998,  Validation Sensitivity: 1.0000\n"
          ]
        },
        {
          "output_type": "stream",
          "name": "stderr",
          "text": [
            "100%|██████████| 245/245 [02:44<00:00,  1.49it/s, loss=0.789, iou=1, dice=9.95e-8, sensitivity=1]\n",
            "100%|██████████| 45/45 [00:11<00:00,  3.82it/s, val_loss=0.789, val_iou=1, val_dice=0.571, val_sensitivity=1]\n"
          ]
        },
        {
          "output_type": "stream",
          "name": "stdout",
          "text": [
            "Training Epoch 48/100,  Training BCE Loss: 0.7892,  Training DICE: 0.0000,  Training IOU: 0.9999,  Training Sensitivity: 1.0000,  Validation BCE Loss: 0.7893,  Validation DICE: 0.5706,  Validation IOU: 0.9999,  Validation Sensitivity: 1.0000\n"
          ]
        },
        {
          "output_type": "stream",
          "name": "stderr",
          "text": [
            "100%|██████████| 245/245 [02:43<00:00,  1.50it/s, loss=0.786, iou=1, dice=1e-7, sensitivity=1]\n",
            "100%|██████████| 45/45 [00:12<00:00,  3.68it/s, val_loss=0.785, val_iou=1, val_dice=0.503, val_sensitivity=1]\n"
          ]
        },
        {
          "output_type": "stream",
          "name": "stdout",
          "text": [
            "Training Epoch 49/100,  Training BCE Loss: 0.7865,  Training DICE: 0.0000,  Training IOU: 0.9999,  Training Sensitivity: 1.0000,  Validation BCE Loss: 0.7852,  Validation DICE: 0.5028,  Validation IOU: 0.9997,  Validation Sensitivity: 1.0000\n"
          ]
        },
        {
          "output_type": "stream",
          "name": "stderr",
          "text": [
            "100%|██████████| 245/245 [02:44<00:00,  1.48it/s, loss=0.784, iou=1, dice=1.17e-7, sensitivity=1]\n",
            "100%|██████████| 45/45 [00:11<00:00,  3.82it/s, val_loss=0.782, val_iou=1, val_dice=0.616, val_sensitivity=1]\n"
          ]
        },
        {
          "output_type": "stream",
          "name": "stdout",
          "text": [
            "Training Epoch 50/100,  Training BCE Loss: 0.7838,  Training DICE: 0.0000,  Training IOU: 0.9999,  Training Sensitivity: 1.0000,  Validation BCE Loss: 0.7821,  Validation DICE: 0.6158,  Validation IOU: 0.9999,  Validation Sensitivity: 1.0000\n"
          ]
        },
        {
          "output_type": "stream",
          "name": "stderr",
          "text": [
            "100%|██████████| 245/245 [02:45<00:00,  1.48it/s, loss=0.781, iou=1, dice=1.2e-7, sensitivity=1]\n",
            "100%|██████████| 45/45 [00:11<00:00,  3.80it/s, val_loss=0.781, val_iou=1, val_dice=0.571, val_sensitivity=1]\n"
          ]
        },
        {
          "output_type": "stream",
          "name": "stdout",
          "text": [
            "Training Epoch 51/100,  Training BCE Loss: 0.7814,  Training DICE: 0.0000,  Training IOU: 0.9999,  Training Sensitivity: 1.0000,  Validation BCE Loss: 0.7806,  Validation DICE: 0.5706,  Validation IOU: 0.9998,  Validation Sensitivity: 1.0000\n"
          ]
        },
        {
          "output_type": "stream",
          "name": "stderr",
          "text": [
            "100%|██████████| 245/245 [02:44<00:00,  1.49it/s, loss=0.779, iou=1, dice=1.19e-7, sensitivity=1]\n",
            "100%|██████████| 45/45 [00:12<00:00,  3.74it/s, val_loss=0.779, val_iou=1, val_dice=0.661, val_sensitivity=1]\n"
          ]
        },
        {
          "output_type": "stream",
          "name": "stdout",
          "text": [
            "Training Epoch 52/100,  Training BCE Loss: 0.7791,  Training DICE: 0.0000,  Training IOU: 0.9999,  Training Sensitivity: 1.0000,  Validation BCE Loss: 0.7787,  Validation DICE: 0.6610,  Validation IOU: 1.0000,  Validation Sensitivity: 1.0000\n",
            "Saved new best model based on DICE metric!\n"
          ]
        },
        {
          "output_type": "stream",
          "name": "stderr",
          "text": [
            "100%|██████████| 245/245 [02:43<00:00,  1.50it/s, loss=0.777, iou=1, dice=1.26e-7, sensitivity=1]\n",
            "100%|██████████| 45/45 [00:12<00:00,  3.67it/s, val_loss=0.776, val_iou=1, val_dice=0.616, val_sensitivity=1]\n"
          ]
        },
        {
          "output_type": "stream",
          "name": "stdout",
          "text": [
            "Training Epoch 53/100,  Training BCE Loss: 0.7768,  Training DICE: 0.0000,  Training IOU: 0.9999,  Training Sensitivity: 1.0000,  Validation BCE Loss: 0.7759,  Validation DICE: 0.6158,  Validation IOU: 0.9998,  Validation Sensitivity: 1.0000\n"
          ]
        },
        {
          "output_type": "stream",
          "name": "stderr",
          "text": [
            "100%|██████████| 245/245 [02:44<00:00,  1.49it/s, loss=0.775, iou=1, dice=1.42e-7, sensitivity=1]\n",
            "100%|██████████| 45/45 [00:12<00:00,  3.65it/s, val_loss=0.774, val_iou=1, val_dice=0.571, val_sensitivity=1]\n"
          ]
        },
        {
          "output_type": "stream",
          "name": "stdout",
          "text": [
            "Training Epoch 54/100,  Training BCE Loss: 0.7747,  Training DICE: 0.0000,  Training IOU: 0.9999,  Training Sensitivity: 1.0000,  Validation BCE Loss: 0.7740,  Validation DICE: 0.5706,  Validation IOU: 0.9998,  Validation Sensitivity: 1.0000\n"
          ]
        },
        {
          "output_type": "stream",
          "name": "stderr",
          "text": [
            "100%|██████████| 245/245 [02:43<00:00,  1.50it/s, loss=0.773, iou=1, dice=1.38e-7, sensitivity=1]\n",
            "100%|██████████| 45/45 [00:12<00:00,  3.70it/s, val_loss=0.772, val_iou=1, val_dice=0.571, val_sensitivity=1]\n"
          ]
        },
        {
          "output_type": "stream",
          "name": "stdout",
          "text": [
            "Training Epoch 55/100,  Training BCE Loss: 0.7727,  Training DICE: 0.0000,  Training IOU: 0.9999,  Training Sensitivity: 1.0000,  Validation BCE Loss: 0.7721,  Validation DICE: 0.5706,  Validation IOU: 0.9999,  Validation Sensitivity: 1.0000\n"
          ]
        },
        {
          "output_type": "stream",
          "name": "stderr",
          "text": [
            "100%|██████████| 245/245 [02:43<00:00,  1.49it/s, loss=0.771, iou=1, dice=1.65e-7, sensitivity=1]\n",
            "100%|██████████| 45/45 [00:12<00:00,  3.62it/s, val_loss=0.77, val_iou=1, val_dice=0.616, val_sensitivity=1]\n"
          ]
        },
        {
          "output_type": "stream",
          "name": "stdout",
          "text": [
            "Training Epoch 56/100,  Training BCE Loss: 0.7709,  Training DICE: 0.0000,  Training IOU: 0.9999,  Training Sensitivity: 1.0000,  Validation BCE Loss: 0.7701,  Validation DICE: 0.6158,  Validation IOU: 0.9999,  Validation Sensitivity: 1.0000\n"
          ]
        },
        {
          "output_type": "stream",
          "name": "stderr",
          "text": [
            "100%|██████████| 245/245 [02:43<00:00,  1.49it/s, loss=0.769, iou=1, dice=1.9e-7, sensitivity=1]\n",
            "100%|██████████| 45/45 [00:12<00:00,  3.65it/s, val_loss=0.768, val_iou=1, val_dice=0.638, val_sensitivity=1]\n"
          ]
        },
        {
          "output_type": "stream",
          "name": "stdout",
          "text": [
            "Training Epoch 57/100,  Training BCE Loss: 0.7691,  Training DICE: 0.0000,  Training IOU: 0.9999,  Training Sensitivity: 1.0000,  Validation BCE Loss: 0.7684,  Validation DICE: 0.6384,  Validation IOU: 0.9999,  Validation Sensitivity: 1.0000\n"
          ]
        },
        {
          "output_type": "stream",
          "name": "stderr",
          "text": [
            "100%|██████████| 245/245 [02:44<00:00,  1.49it/s, loss=0.767, iou=1, dice=1.87e-7, sensitivity=1]\n",
            "100%|██████████| 45/45 [00:12<00:00,  3.63it/s, val_loss=0.767, val_iou=1, val_dice=0.638, val_sensitivity=1]\n"
          ]
        },
        {
          "output_type": "stream",
          "name": "stdout",
          "text": [
            "Training Epoch 58/100,  Training BCE Loss: 0.7674,  Training DICE: 0.0000,  Training IOU: 0.9999,  Training Sensitivity: 1.0000,  Validation BCE Loss: 0.7667,  Validation DICE: 0.6384,  Validation IOU: 0.9998,  Validation Sensitivity: 1.0000\n"
          ]
        },
        {
          "output_type": "stream",
          "name": "stderr",
          "text": [
            "100%|██████████| 245/245 [02:43<00:00,  1.49it/s, loss=0.766, iou=1, dice=0.0163, sensitivity=1]\n",
            "100%|██████████| 45/45 [00:12<00:00,  3.60it/s, val_loss=0.766, val_iou=1, val_dice=0.345, val_sensitivity=1]\n"
          ]
        },
        {
          "output_type": "stream",
          "name": "stdout",
          "text": [
            "Training Epoch 59/100,  Training BCE Loss: 0.7661,  Training DICE: 0.0163,  Training IOU: 0.9999,  Training Sensitivity: 1.0000,  Validation BCE Loss: 0.7656,  Validation DICE: 0.3446,  Validation IOU: 0.9999,  Validation Sensitivity: 1.0000\n"
          ]
        },
        {
          "output_type": "stream",
          "name": "stderr",
          "text": [
            "100%|██████████| 245/245 [02:44<00:00,  1.49it/s, loss=0.764, iou=1, dice=1.25e-7, sensitivity=1]\n",
            "100%|██████████| 45/45 [00:12<00:00,  3.61it/s, val_loss=0.764, val_iou=1, val_dice=0.48, val_sensitivity=1]\n"
          ]
        },
        {
          "output_type": "stream",
          "name": "stdout",
          "text": [
            "Training Epoch 60/100,  Training BCE Loss: 0.7644,  Training DICE: 0.0000,  Training IOU: 0.9999,  Training Sensitivity: 1.0000,  Validation BCE Loss: 0.7638,  Validation DICE: 0.4802,  Validation IOU: 0.9998,  Validation Sensitivity: 1.0000\n"
          ]
        },
        {
          "output_type": "stream",
          "name": "stderr",
          "text": [
            "100%|██████████| 245/245 [02:43<00:00,  1.50it/s, loss=0.763, iou=1, dice=1.79e-7, sensitivity=1]\n",
            "100%|██████████| 45/45 [00:12<00:00,  3.51it/s, val_loss=0.762, val_iou=1, val_dice=0.616, val_sensitivity=1]\n"
          ]
        },
        {
          "output_type": "stream",
          "name": "stdout",
          "text": [
            "Training Epoch 61/100,  Training BCE Loss: 0.7630,  Training DICE: 0.0000,  Training IOU: 0.9999,  Training Sensitivity: 1.0000,  Validation BCE Loss: 0.7624,  Validation DICE: 0.6158,  Validation IOU: 0.9999,  Validation Sensitivity: 1.0000\n"
          ]
        },
        {
          "output_type": "stream",
          "name": "stderr",
          "text": [
            "100%|██████████| 245/245 [02:43<00:00,  1.49it/s, loss=0.762, iou=1, dice=1.52e-7, sensitivity=1]\n",
            "100%|██████████| 45/45 [00:11<00:00,  3.80it/s, val_loss=0.761, val_iou=1, val_dice=0.616, val_sensitivity=1]\n"
          ]
        },
        {
          "output_type": "stream",
          "name": "stdout",
          "text": [
            "Training Epoch 62/100,  Training BCE Loss: 0.7617,  Training DICE: 0.0000,  Training IOU: 0.9999,  Training Sensitivity: 1.0000,  Validation BCE Loss: 0.7614,  Validation DICE: 0.6158,  Validation IOU: 0.9999,  Validation Sensitivity: 1.0000\n"
          ]
        },
        {
          "output_type": "stream",
          "name": "stderr",
          "text": [
            "100%|██████████| 245/245 [02:44<00:00,  1.49it/s, loss=0.761, iou=1, dice=1.71e-7, sensitivity=1]\n",
            "100%|██████████| 45/45 [00:11<00:00,  3.78it/s, val_loss=0.76, val_iou=1, val_dice=0.638, val_sensitivity=1]\n"
          ]
        },
        {
          "output_type": "stream",
          "name": "stdout",
          "text": [
            "Training Epoch 63/100,  Training BCE Loss: 0.7606,  Training DICE: 0.0000,  Training IOU: 0.9999,  Training Sensitivity: 1.0000,  Validation BCE Loss: 0.7599,  Validation DICE: 0.6384,  Validation IOU: 1.0000,  Validation Sensitivity: 1.0000\n"
          ]
        },
        {
          "output_type": "stream",
          "name": "stderr",
          "text": [
            "100%|██████████| 245/245 [02:44<00:00,  1.49it/s, loss=0.759, iou=1, dice=1.71e-7, sensitivity=1]\n",
            "100%|██████████| 45/45 [00:11<00:00,  3.77it/s, val_loss=0.759, val_iou=1, val_dice=0.593, val_sensitivity=1]\n"
          ]
        },
        {
          "output_type": "stream",
          "name": "stdout",
          "text": [
            "Training Epoch 64/100,  Training BCE Loss: 0.7594,  Training DICE: 0.0000,  Training IOU: 0.9999,  Training Sensitivity: 1.0000,  Validation BCE Loss: 0.7588,  Validation DICE: 0.5932,  Validation IOU: 0.9999,  Validation Sensitivity: 1.0000\n"
          ]
        },
        {
          "output_type": "stream",
          "name": "stderr",
          "text": [
            "100%|██████████| 245/245 [02:44<00:00,  1.49it/s, loss=0.758, iou=1, dice=2.29e-7, sensitivity=1]\n",
            "100%|██████████| 45/45 [00:11<00:00,  3.76it/s, val_loss=0.758, val_iou=1, val_dice=0.616, val_sensitivity=1]\n"
          ]
        },
        {
          "output_type": "stream",
          "name": "stdout",
          "text": [
            "Training Epoch 65/100,  Training BCE Loss: 0.7584,  Training DICE: 0.0000,  Training IOU: 1.0000,  Training Sensitivity: 1.0000,  Validation BCE Loss: 0.7579,  Validation DICE: 0.6158,  Validation IOU: 0.9999,  Validation Sensitivity: 1.0000\n"
          ]
        },
        {
          "output_type": "stream",
          "name": "stderr",
          "text": [
            "100%|██████████| 245/245 [02:43<00:00,  1.50it/s, loss=0.757, iou=1, dice=2.75e-7, sensitivity=1]\n",
            "100%|██████████| 45/45 [00:12<00:00,  3.59it/s, val_loss=0.757, val_iou=1, val_dice=0.638, val_sensitivity=1]\n"
          ]
        },
        {
          "output_type": "stream",
          "name": "stdout",
          "text": [
            "Training Epoch 66/100,  Training BCE Loss: 0.7574,  Training DICE: 0.0000,  Training IOU: 1.0000,  Training Sensitivity: 1.0000,  Validation BCE Loss: 0.7569,  Validation DICE: 0.6384,  Validation IOU: 1.0000,  Validation Sensitivity: 1.0000\n"
          ]
        },
        {
          "output_type": "stream",
          "name": "stderr",
          "text": [
            "100%|██████████| 245/245 [02:44<00:00,  1.49it/s, loss=0.756, iou=1, dice=3.16e-7, sensitivity=1]\n",
            "100%|██████████| 45/45 [00:12<00:00,  3.62it/s, val_loss=0.756, val_iou=1, val_dice=0.571, val_sensitivity=1]\n"
          ]
        },
        {
          "output_type": "stream",
          "name": "stdout",
          "text": [
            "Training Epoch 67/100,  Training BCE Loss: 0.7565,  Training DICE: 0.0000,  Training IOU: 1.0000,  Training Sensitivity: 1.0000,  Validation BCE Loss: 0.7560,  Validation DICE: 0.5706,  Validation IOU: 0.9999,  Validation Sensitivity: 1.0000\n"
          ]
        },
        {
          "output_type": "stream",
          "name": "stderr",
          "text": [
            "100%|██████████| 245/245 [02:44<00:00,  1.49it/s, loss=0.756, iou=1, dice=2.79e-7, sensitivity=1]\n",
            "100%|██████████| 45/45 [00:11<00:00,  3.78it/s, val_loss=0.755, val_iou=1, val_dice=0.661, val_sensitivity=1]\n"
          ]
        },
        {
          "output_type": "stream",
          "name": "stdout",
          "text": [
            "Training Epoch 68/100,  Training BCE Loss: 0.7557,  Training DICE: 0.0000,  Training IOU: 1.0000,  Training Sensitivity: 1.0000,  Validation BCE Loss: 0.7553,  Validation DICE: 0.6610,  Validation IOU: 1.0000,  Validation Sensitivity: 1.0000\n"
          ]
        },
        {
          "output_type": "stream",
          "name": "stderr",
          "text": [
            "100%|██████████| 245/245 [02:44<00:00,  1.49it/s, loss=0.755, iou=1, dice=3.24e-7, sensitivity=1]\n",
            "100%|██████████| 45/45 [00:11<00:00,  3.76it/s, val_loss=0.754, val_iou=1, val_dice=0.661, val_sensitivity=1]\n"
          ]
        },
        {
          "output_type": "stream",
          "name": "stdout",
          "text": [
            "Training Epoch 69/100,  Training BCE Loss: 0.7548,  Training DICE: 0.0000,  Training IOU: 1.0000,  Training Sensitivity: 1.0000,  Validation BCE Loss: 0.7544,  Validation DICE: 0.6610,  Validation IOU: 1.0000,  Validation Sensitivity: 1.0000\n"
          ]
        },
        {
          "output_type": "stream",
          "name": "stderr",
          "text": [
            "100%|██████████| 245/245 [02:44<00:00,  1.49it/s, loss=0.754, iou=1, dice=3.69e-7, sensitivity=1]\n",
            "100%|██████████| 45/45 [00:11<00:00,  3.82it/s, val_loss=0.754, val_iou=1, val_dice=0.638, val_sensitivity=1]\n"
          ]
        },
        {
          "output_type": "stream",
          "name": "stdout",
          "text": [
            "Training Epoch 70/100,  Training BCE Loss: 0.7540,  Training DICE: 0.0000,  Training IOU: 1.0000,  Training Sensitivity: 1.0000,  Validation BCE Loss: 0.7538,  Validation DICE: 0.6384,  Validation IOU: 0.9999,  Validation Sensitivity: 1.0000\n"
          ]
        },
        {
          "output_type": "stream",
          "name": "stderr",
          "text": [
            "100%|██████████| 245/245 [02:44<00:00,  1.49it/s, loss=0.753, iou=1, dice=4.05e-7, sensitivity=1]\n",
            "100%|██████████| 45/45 [00:12<00:00,  3.70it/s, val_loss=0.753, val_iou=1, val_dice=0.593, val_sensitivity=1]\n"
          ]
        },
        {
          "output_type": "stream",
          "name": "stdout",
          "text": [
            "Training Epoch 71/100,  Training BCE Loss: 0.7533,  Training DICE: 0.0000,  Training IOU: 1.0000,  Training Sensitivity: 1.0000,  Validation BCE Loss: 0.7530,  Validation DICE: 0.5932,  Validation IOU: 1.0000,  Validation Sensitivity: 1.0000\n"
          ]
        },
        {
          "output_type": "stream",
          "name": "stderr",
          "text": [
            "100%|██████████| 245/245 [02:44<00:00,  1.49it/s, loss=0.753, iou=1, dice=4.36e-7, sensitivity=1]\n",
            "100%|██████████| 45/45 [00:12<00:00,  3.60it/s, val_loss=0.752, val_iou=1, val_dice=0.638, val_sensitivity=1]\n"
          ]
        },
        {
          "output_type": "stream",
          "name": "stdout",
          "text": [
            "Training Epoch 72/100,  Training BCE Loss: 0.7527,  Training DICE: 0.0000,  Training IOU: 1.0000,  Training Sensitivity: 1.0000,  Validation BCE Loss: 0.7523,  Validation DICE: 0.6384,  Validation IOU: 0.9999,  Validation Sensitivity: 1.0000\n"
          ]
        },
        {
          "output_type": "stream",
          "name": "stderr",
          "text": [
            "100%|██████████| 245/245 [02:44<00:00,  1.49it/s, loss=0.752, iou=1, dice=4.59e-7, sensitivity=1]\n",
            "100%|██████████| 45/45 [00:11<00:00,  3.80it/s, val_loss=0.752, val_iou=1, val_dice=0.616, val_sensitivity=1]\n"
          ]
        },
        {
          "output_type": "stream",
          "name": "stdout",
          "text": [
            "Training Epoch 73/100,  Training BCE Loss: 0.7521,  Training DICE: 0.0000,  Training IOU: 1.0000,  Training Sensitivity: 1.0000,  Validation BCE Loss: 0.7517,  Validation DICE: 0.6158,  Validation IOU: 0.9999,  Validation Sensitivity: 1.0000\n"
          ]
        },
        {
          "output_type": "stream",
          "name": "stderr",
          "text": [
            "100%|██████████| 245/245 [02:44<00:00,  1.49it/s, loss=0.752, iou=1, dice=0.0327, sensitivity=1]\n",
            "100%|██████████| 45/45 [00:12<00:00,  3.65it/s, val_loss=0.751, val_iou=1, val_dice=0.774, val_sensitivity=1]\n"
          ]
        },
        {
          "output_type": "stream",
          "name": "stdout",
          "text": [
            "Training Epoch 74/100,  Training BCE Loss: 0.7515,  Training DICE: 0.0327,  Training IOU: 1.0000,  Training Sensitivity: 1.0000,  Validation BCE Loss: 0.7514,  Validation DICE: 0.7740,  Validation IOU: 1.0000,  Validation Sensitivity: 1.0000\n",
            "Saved new best model based on DICE metric!\n"
          ]
        },
        {
          "output_type": "stream",
          "name": "stderr",
          "text": [
            "100%|██████████| 245/245 [02:44<00:00,  1.49it/s, loss=0.751, iou=1, dice=5.26e-7, sensitivity=1]\n",
            "100%|██████████| 45/45 [00:12<00:00,  3.59it/s, val_loss=0.751, val_iou=1, val_dice=0.503, val_sensitivity=1]\n"
          ]
        },
        {
          "output_type": "stream",
          "name": "stdout",
          "text": [
            "Training Epoch 75/100,  Training BCE Loss: 0.7509,  Training DICE: 0.0000,  Training IOU: 1.0000,  Training Sensitivity: 1.0000,  Validation BCE Loss: 0.7508,  Validation DICE: 0.5028,  Validation IOU: 1.0000,  Validation Sensitivity: 1.0000\n"
          ]
        },
        {
          "output_type": "stream",
          "name": "stderr",
          "text": [
            "100%|██████████| 245/245 [02:44<00:00,  1.49it/s, loss=0.75, iou=1, dice=5.42e-7, sensitivity=1]\n",
            "100%|██████████| 45/45 [00:11<00:00,  3.82it/s, val_loss=0.75, val_iou=1, val_dice=0.339, val_sensitivity=1]\n"
          ]
        },
        {
          "output_type": "stream",
          "name": "stdout",
          "text": [
            "Training Epoch 76/100,  Training BCE Loss: 0.7504,  Training DICE: 0.0000,  Training IOU: 1.0000,  Training Sensitivity: 1.0000,  Validation BCE Loss: 0.7504,  Validation DICE: 0.3390,  Validation IOU: 0.9999,  Validation Sensitivity: 1.0000\n"
          ]
        },
        {
          "output_type": "stream",
          "name": "stderr",
          "text": [
            "100%|██████████| 245/245 [02:44<00:00,  1.49it/s, loss=0.75, iou=1, dice=6.16e-7, sensitivity=1]\n",
            "100%|██████████| 45/45 [00:12<00:00,  3.57it/s, val_loss=0.75, val_iou=1, val_dice=0.593, val_sensitivity=1]\n"
          ]
        },
        {
          "output_type": "stream",
          "name": "stdout",
          "text": [
            "Training Epoch 77/100,  Training BCE Loss: 0.7500,  Training DICE: 0.0000,  Training IOU: 1.0000,  Training Sensitivity: 1.0000,  Validation BCE Loss: 0.7497,  Validation DICE: 0.5932,  Validation IOU: 1.0000,  Validation Sensitivity: 1.0000\n"
          ]
        },
        {
          "output_type": "stream",
          "name": "stderr",
          "text": [
            "100%|██████████| 245/245 [02:44<00:00,  1.49it/s, loss=0.75, iou=1, dice=7.32e-7, sensitivity=1]\n",
            "100%|██████████| 45/45 [00:12<00:00,  3.69it/s, val_loss=0.749, val_iou=1, val_dice=0.593, val_sensitivity=1]\n"
          ]
        },
        {
          "output_type": "stream",
          "name": "stdout",
          "text": [
            "Training Epoch 78/100,  Training BCE Loss: 0.7495,  Training DICE: 0.0000,  Training IOU: 1.0000,  Training Sensitivity: 1.0000,  Validation BCE Loss: 0.7494,  Validation DICE: 0.5932,  Validation IOU: 1.0000,  Validation Sensitivity: 1.0000\n"
          ]
        },
        {
          "output_type": "stream",
          "name": "stderr",
          "text": [
            "100%|██████████| 245/245 [02:44<00:00,  1.49it/s, loss=0.749, iou=1, dice=8.46e-7, sensitivity=1]\n",
            "100%|██████████| 45/45 [00:12<00:00,  3.60it/s, val_loss=0.749, val_iou=1, val_dice=0.729, val_sensitivity=1]\n"
          ]
        },
        {
          "output_type": "stream",
          "name": "stdout",
          "text": [
            "Training Epoch 79/100,  Training BCE Loss: 0.7491,  Training DICE: 0.0000,  Training IOU: 1.0000,  Training Sensitivity: 1.0000,  Validation BCE Loss: 0.7488,  Validation DICE: 0.7288,  Validation IOU: 1.0000,  Validation Sensitivity: 1.0000\n"
          ]
        },
        {
          "output_type": "stream",
          "name": "stderr",
          "text": [
            "100%|██████████| 245/245 [02:44<00:00,  1.49it/s, loss=0.749, iou=1, dice=0.0735, sensitivity=1]\n",
            "100%|██████████| 45/45 [00:12<00:00,  3.60it/s, val_loss=0.748, val_iou=1, val_dice=0.503, val_sensitivity=1]\n"
          ]
        },
        {
          "output_type": "stream",
          "name": "stdout",
          "text": [
            "Training Epoch 80/100,  Training BCE Loss: 0.7487,  Training DICE: 0.0735,  Training IOU: 1.0000,  Training Sensitivity: 1.0000,  Validation BCE Loss: 0.7484,  Validation DICE: 0.5028,  Validation IOU: 1.0000,  Validation Sensitivity: 1.0000\n"
          ]
        },
        {
          "output_type": "stream",
          "name": "stderr",
          "text": [
            "100%|██████████| 245/245 [02:44<00:00,  1.49it/s, loss=0.748, iou=1, dice=0.927, sensitivity=1]\n",
            "100%|██████████| 45/45 [00:12<00:00,  3.75it/s, val_loss=0.748, val_iou=1, val_dice=1, val_sensitivity=1]\n"
          ]
        },
        {
          "output_type": "stream",
          "name": "stdout",
          "text": [
            "Training Epoch 81/100,  Training BCE Loss: 0.7483,  Training DICE: 0.9265,  Training IOU: 1.0000,  Training Sensitivity: 1.0000,  Validation BCE Loss: 0.7481,  Validation DICE: 1.0000,  Validation IOU: 1.0000,  Validation Sensitivity: 1.0000\n",
            "Saved new best model based on DICE metric!\n"
          ]
        },
        {
          "output_type": "stream",
          "name": "stderr",
          "text": [
            "100%|██████████| 245/245 [02:44<00:00,  1.49it/s, loss=0.748, iou=1, dice=1, sensitivity=1]\n",
            "100%|██████████| 45/45 [00:12<00:00,  3.58it/s, val_loss=0.748, val_iou=1, val_dice=1, val_sensitivity=1]\n"
          ]
        },
        {
          "output_type": "stream",
          "name": "stdout",
          "text": [
            "Training Epoch 82/100,  Training BCE Loss: 0.7479,  Training DICE: 1.0000,  Training IOU: 1.0000,  Training Sensitivity: 1.0000,  Validation BCE Loss: 0.7478,  Validation DICE: 1.0000,  Validation IOU: 1.0000,  Validation Sensitivity: 1.0000\n"
          ]
        },
        {
          "output_type": "stream",
          "name": "stderr",
          "text": [
            "100%|██████████| 245/245 [02:43<00:00,  1.49it/s, loss=0.748, iou=1, dice=1, sensitivity=1]\n",
            "100%|██████████| 45/45 [00:12<00:00,  3.73it/s, val_loss=0.748, val_iou=1, val_dice=1, val_sensitivity=1]\n"
          ]
        },
        {
          "output_type": "stream",
          "name": "stdout",
          "text": [
            "Training Epoch 83/100,  Training BCE Loss: 0.7476,  Training DICE: 1.0000,  Training IOU: 1.0000,  Training Sensitivity: 1.0000,  Validation BCE Loss: 0.7476,  Validation DICE: 1.0000,  Validation IOU: 1.0000,  Validation Sensitivity: 1.0000\n"
          ]
        },
        {
          "output_type": "stream",
          "name": "stderr",
          "text": [
            "100%|██████████| 245/245 [02:44<00:00,  1.49it/s, loss=0.747, iou=1, dice=1, sensitivity=1]\n",
            "100%|██████████| 45/45 [00:11<00:00,  3.78it/s, val_loss=0.747, val_iou=1, val_dice=1, val_sensitivity=1]\n"
          ]
        },
        {
          "output_type": "stream",
          "name": "stdout",
          "text": [
            "Training Epoch 84/100,  Training BCE Loss: 0.7473,  Training DICE: 1.0000,  Training IOU: 1.0000,  Training Sensitivity: 1.0000,  Validation BCE Loss: 0.7471,  Validation DICE: 1.0000,  Validation IOU: 1.0000,  Validation Sensitivity: 1.0000\n"
          ]
        },
        {
          "output_type": "stream",
          "name": "stderr",
          "text": [
            "100%|██████████| 245/245 [02:45<00:00,  1.48it/s, loss=0.747, iou=1, dice=1, sensitivity=1]\n",
            "100%|██████████| 45/45 [00:12<00:00,  3.65it/s, val_loss=0.747, val_iou=1, val_dice=0.955, val_sensitivity=1]\n"
          ]
        },
        {
          "output_type": "stream",
          "name": "stdout",
          "text": [
            "Training Epoch 85/100,  Training BCE Loss: 0.7471,  Training DICE: 1.0000,  Training IOU: 1.0000,  Training Sensitivity: 1.0000,  Validation BCE Loss: 0.7470,  Validation DICE: 0.9548,  Validation IOU: 1.0000,  Validation Sensitivity: 1.0000\n"
          ]
        },
        {
          "output_type": "stream",
          "name": "stderr",
          "text": [
            "100%|██████████| 245/245 [02:45<00:00,  1.48it/s, loss=0.747, iou=1, dice=1, sensitivity=1]\n",
            "100%|██████████| 45/45 [00:12<00:00,  3.71it/s, val_loss=0.747, val_iou=1, val_dice=1, val_sensitivity=1]\n"
          ]
        },
        {
          "output_type": "stream",
          "name": "stdout",
          "text": [
            "Training Epoch 86/100,  Training BCE Loss: 0.7468,  Training DICE: 1.0000,  Training IOU: 1.0000,  Training Sensitivity: 1.0000,  Validation BCE Loss: 0.7467,  Validation DICE: 1.0000,  Validation IOU: 1.0000,  Validation Sensitivity: 1.0000\n"
          ]
        },
        {
          "output_type": "stream",
          "name": "stderr",
          "text": [
            "100%|██████████| 245/245 [02:44<00:00,  1.49it/s, loss=0.747, iou=1, dice=1, sensitivity=1]\n",
            "100%|██████████| 45/45 [00:12<00:00,  3.56it/s, val_loss=0.747, val_iou=1, val_dice=1, val_sensitivity=1]\n"
          ]
        },
        {
          "output_type": "stream",
          "name": "stdout",
          "text": [
            "Training Epoch 87/100,  Training BCE Loss: 0.7466,  Training DICE: 1.0000,  Training IOU: 1.0000,  Training Sensitivity: 1.0000,  Validation BCE Loss: 0.7465,  Validation DICE: 1.0000,  Validation IOU: 1.0000,  Validation Sensitivity: 1.0000\n"
          ]
        },
        {
          "output_type": "stream",
          "name": "stderr",
          "text": [
            "100%|██████████| 245/245 [02:43<00:00,  1.49it/s, loss=0.746, iou=1, dice=1, sensitivity=1]\n",
            "100%|██████████| 45/45 [00:11<00:00,  3.77it/s, val_loss=0.746, val_iou=1, val_dice=0.932, val_sensitivity=1]\n"
          ]
        },
        {
          "output_type": "stream",
          "name": "stdout",
          "text": [
            "Training Epoch 88/100,  Training BCE Loss: 0.7464,  Training DICE: 1.0000,  Training IOU: 1.0000,  Training Sensitivity: 1.0000,  Validation BCE Loss: 0.7463,  Validation DICE: 0.9322,  Validation IOU: 1.0000,  Validation Sensitivity: 1.0000\n"
          ]
        },
        {
          "output_type": "stream",
          "name": "stderr",
          "text": [
            "100%|██████████| 245/245 [02:44<00:00,  1.49it/s, loss=0.746, iou=1, dice=1, sensitivity=1]\n",
            "100%|██████████| 45/45 [00:11<00:00,  3.79it/s, val_loss=0.746, val_iou=1, val_dice=1, val_sensitivity=1]\n"
          ]
        },
        {
          "output_type": "stream",
          "name": "stdout",
          "text": [
            "Training Epoch 89/100,  Training BCE Loss: 0.7462,  Training DICE: 1.0000,  Training IOU: 1.0000,  Training Sensitivity: 1.0000,  Validation BCE Loss: 0.7461,  Validation DICE: 1.0000,  Validation IOU: 1.0000,  Validation Sensitivity: 1.0000\n"
          ]
        },
        {
          "output_type": "stream",
          "name": "stderr",
          "text": [
            "100%|██████████| 245/245 [02:44<00:00,  1.49it/s, loss=0.746, iou=1, dice=1, sensitivity=1]\n",
            " 44%|████▍     | 20/45 [00:06<00:05,  4.35it/s, val_loss=0.747, val_iou=1, val_dice=1, val_sensitivity=1]"
          ]
        }
      ],
      "source": [
        "log = pd.DataFrame(index=[], columns=['epoch','lr','loss','iou','dice','sensitivity','val_loss','val_iou'])\n",
        "\n",
        "best_dice = 0\n",
        "trigger = 0\n",
        "\n",
        "for epoch in range(epochs):\n",
        "\n",
        "    #Model Training\n",
        "    avg_meters = {'loss': AverageMeter(), 'iou': AverageMeter(), 'dice': AverageMeter(), 'sensitivity': AverageMeter()}\n",
        "    model.train()\n",
        "    pbar = tqdm(total=len(train_loader)) #progress bar\n",
        "\n",
        "    for i, data in enumerate(train_loader):\n",
        "\n",
        "        input = data[0].cuda()\n",
        "        target = data[1].cuda()\n",
        "        output = model(input)\n",
        "\n",
        "        #Get loss and metric\n",
        "        loss = criterion(output, torch.argmax(target, dim=1))\n",
        "        iou = iou_score_multiclass(output, target, n_classes=4)\n",
        "        dice = dice_coef_multiclass(output, target, n_classes=4)\n",
        "        sensitivity = sensitivity_metric_multiclass(output, target)\n",
        "\n",
        "        #Calculate the gradient and perform optimizing step\n",
        "        optimizer.zero_grad()\n",
        "        loss.backward()\n",
        "        optimizer.step()\n",
        "\n",
        "        #Update average metrics\n",
        "        avg_meters['loss'].update(loss.item(), input.size(0))\n",
        "        avg_meters['iou'].update(iou, input.size(0))\n",
        "        avg_meters['dice'].update(dice, input.size(0))\n",
        "        avg_meters['sensitivity'].update(sensitivity, input.size(0))\n",
        "\n",
        "        postfix = OrderedDict([\n",
        "            ('loss', avg_meters['loss'].avg),\n",
        "            ('iou', avg_meters['iou'].avg),\n",
        "            ('dice', avg_meters['dice'].avg),\n",
        "            ('sensitivity', avg_meters['sensitivity'].avg)\n",
        "        ])\n",
        "        pbar.set_postfix(postfix)\n",
        "        pbar.update(1)\n",
        "    pbar.close()\n",
        "\n",
        "    train_log = OrderedDict([\n",
        "        ('loss', avg_meters['loss'].avg),\n",
        "        ('iou', avg_meters['iou'].avg),\n",
        "        ('dice', avg_meters['dice'].avg),\n",
        "        ('sensitivity', avg_meters['sensitivity'].avg)\n",
        "    ])\n",
        "\n",
        "\n",
        "    #Model Validation\n",
        "    val_avg_meters = {'val_loss': AverageMeter(), 'val_iou': AverageMeter(), 'val_dice': AverageMeter(), 'val_sensitivity': AverageMeter()}\n",
        "    model.eval()\n",
        "\n",
        "    with torch.no_grad():\n",
        "        val_pbar = tqdm(total=len(val_loader))\n",
        "        for i, val_data in enumerate(val_loader):\n",
        "\n",
        "            val_input = val_data[0].cuda()\n",
        "            val_target = val_data[1].cuda()\n",
        "            val_output = model(val_input)\n",
        "\n",
        "            val_loss = criterion(val_output, torch.argmax(val_target, dim=1))\n",
        "            val_iou = iou_score_multiclass(val_output, val_target, n_classes=4)\n",
        "            val_dice = dice_coef_multiclass(val_output, val_target, n_classes=4)\n",
        "            val_sensitivity = sensitivity_metric_multiclass(val_output, val_target)\n",
        "\n",
        "            val_avg_meters['val_loss'].update(val_loss.item(), val_input.size(0))\n",
        "            val_avg_meters['val_iou'].update(val_iou, val_input.size(0))\n",
        "            val_avg_meters['val_dice'].update(val_dice, val_input.size(0))\n",
        "            val_avg_meters['val_sensitivity'].update(val_sensitivity, val_input.size(0))\n",
        "\n",
        "            val_postfix = OrderedDict([\n",
        "                ('val_loss', val_avg_meters['val_loss'].avg),\n",
        "                ('val_iou', val_avg_meters['val_iou'].avg),\n",
        "                ('val_dice', val_avg_meters['val_dice'].avg),\n",
        "                ('val_sensitivity', val_avg_meters['val_sensitivity'].avg)\n",
        "            ])\n",
        "            val_pbar.set_postfix(val_postfix)\n",
        "            val_pbar.update(1)\n",
        "        val_pbar.close()\n",
        "\n",
        "    val_log = OrderedDict([\n",
        "        ('val_loss', val_avg_meters['val_loss'].avg),\n",
        "        ('val_iou', val_avg_meters['val_iou'].avg),\n",
        "        ('val_dice', val_avg_meters['val_dice'].avg),\n",
        "        ('val_sensitivity', val_avg_meters['val_sensitivity'].avg)\n",
        "    ])\n",
        "    \n",
        "\n",
        "    print('Training Epoch {}/{},  Training BCE Loss: {:.4f},  Training DICE: {:.4f},  Training IOU: {:.4f},  Training Sensitivity: {:.4f},  Validation BCE Loss: {:.4f},  Validation DICE: {:.4f},  Validation IOU: {:.4f},  Validation Sensitivity: {:.4f}'.format(\n",
        "        epoch+1, epochs, train_log['loss'], train_log['dice'], train_log['iou'], train_log['sensitivity'], val_log['val_loss'], val_log['val_dice'], val_log['val_iou'], val_log['val_sensitivity']\n",
        "    ))\n",
        "\n",
        "    #Save values to csv file\n",
        "    tmp = pd.Series([\n",
        "        epoch,\n",
        "        lr,\n",
        "        train_log['loss'],\n",
        "        train_log['iou'],\n",
        "        train_log['dice'],\n",
        "        val_log['val_loss'],\n",
        "        val_log['val_iou'],\n",
        "        val_log['val_dice'],\n",
        "        val_log['val_sensitivity']\n",
        "    ], index=['epoch', 'lr', 'loss', 'iou', 'dice', 'val_loss', 'val_iou', 'val_dice', 'val_sensitivity'])\n",
        "\n",
        "    log = log.append(tmp, ignore_index=True)\n",
        "    log.to_csv('model_outputs/{}/log.csv'.format(file_name), index=False)\n",
        "\n",
        "    trigger += 1\n",
        "\n",
        "    #If best DICE score, save the model\n",
        "    if val_log['val_dice'] > best_dice:\n",
        "        torch.save(model.state_dict(), 'model_outputs/{}/model.pth'.format(file_name))\n",
        "        best_dice = val_log['val_dice']\n",
        "        print(\"Saved new best model based on DICE metric!\")\n",
        "        trigger = 0\n",
        "    \n",
        "    if early_stopping >= 0 and trigger >= early_stopping:\n",
        "        print(\"Early stopping.\")\n",
        "        break\n",
        "\n",
        "    torch.cuda.empty_cache()"
      ]
    },
    {
      "cell_type": "code",
      "source": [],
      "metadata": {
        "id": "fPuk2P8ixSn1"
      },
      "execution_count": null,
      "outputs": []
    }
  ],
  "metadata": {
    "interpreter": {
      "hash": "cb56554e22e7015c8034fdf988622508a740e712e9b2a73e8d246c741229446d"
    },
    "kernelspec": {
      "display_name": "Python 3 (ipykernel)",
      "language": "python",
      "name": "python3"
    },
    "language_info": {
      "codemirror_mode": {
        "name": "ipython",
        "version": 3
      },
      "file_extension": ".py",
      "mimetype": "text/x-python",
      "name": "python",
      "nbconvert_exporter": "python",
      "pygments_lexer": "ipython3",
      "version": "3.9.7"
    },
    "colab": {
      "provenance": [],
      "collapsed_sections": []
    },
    "accelerator": "GPU"
  },
  "nbformat": 4,
  "nbformat_minor": 0
}