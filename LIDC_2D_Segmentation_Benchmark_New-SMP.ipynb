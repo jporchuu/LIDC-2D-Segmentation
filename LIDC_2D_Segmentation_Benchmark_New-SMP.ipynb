{
 "cells": [
  {
   "cell_type": "markdown",
   "metadata": {},
   "source": [
    "# LIDC IDRI 2D SEGMENTATION"
   ]
  },
  {
   "cell_type": "markdown",
   "metadata": {},
   "source": [
    "## Import Libraries"
   ]
  },
  {
   "cell_type": "code",
   "execution_count": 1,
   "metadata": {
    "scrolled": true
   },
   "outputs": [
    {
     "name": "stdout",
     "output_type": "stream",
     "text": [
      "Package                            Version\r\n",
      "---------------------------------- --------------------\r\n",
      "absl-py                            1.1.0\r\n",
      "alabaster                          0.7.12\r\n",
      "albumentations                     1.2.1\r\n",
      "anaconda-client                    1.9.0\r\n",
      "anaconda-navigator                 2.1.1\r\n",
      "anaconda-project                   0.10.1\r\n",
      "anyio                              3.6.1\r\n",
      "appdirs                            1.4.4\r\n",
      "argh                               0.26.2\r\n",
      "argon2-cffi                        20.1.0\r\n",
      "arrow                              0.13.1\r\n",
      "asn1crypto                         1.4.0\r\n",
      "astroid                            2.6.6\r\n",
      "astropy                            4.3.1\r\n",
      "async-generator                    1.10\r\n",
      "atomicwrites                       1.4.0\r\n",
      "attrs                              21.2.0\r\n",
      "autopep8                           1.5.7\r\n",
      "Babel                              2.9.1\r\n",
      "backcall                           0.2.0\r\n",
      "backports.functools-lru-cache      1.6.4\r\n",
      "backports.shutil-get-terminal-size 1.0.0\r\n",
      "backports.tempfile                 1.0\r\n",
      "backports.weakref                  1.0.post1\r\n",
      "beautifulsoup4                     4.10.0\r\n",
      "binaryornot                        0.4.4\r\n",
      "biopython                          1.79\r\n",
      "bitarray                           2.3.0\r\n",
      "bkcharts                           0.2\r\n",
      "black                              19.10b0\r\n",
      "bleach                             4.0.0\r\n",
      "bokeh                              2.4.1\r\n",
      "boto                               2.49.0\r\n",
      "Bottleneck                         1.3.2\r\n",
      "brotlipy                           0.7.0\r\n",
      "cached-property                    1.5.2\r\n",
      "cachetools                         5.2.0\r\n",
      "certifi                            2021.10.8\r\n",
      "cffi                               1.14.6\r\n",
      "chardet                            4.0.0\r\n",
      "charset-normalizer                 2.0.4\r\n",
      "click                              8.0.3\r\n",
      "cloudpickle                        2.0.0\r\n",
      "clyent                             1.2.2\r\n",
      "colorama                           0.4.4\r\n",
      "conda                              4.12.0\r\n",
      "conda-build                        3.21.5\r\n",
      "conda-content-trust                0+unknown\r\n",
      "conda-pack                         0.6.0\r\n",
      "conda-package-handling             1.7.3\r\n",
      "conda-repo-cli                     1.0.4\r\n",
      "conda-token                        0.3.0\r\n",
      "conda-verify                       3.4.2\r\n",
      "contextlib2                        0.6.0.post1\r\n",
      "cookiecutter                       1.7.2\r\n",
      "cryptography                       3.4.8\r\n",
      "cycler                             0.10.0\r\n",
      "Cython                             0.29.24\r\n",
      "cytoolz                            0.11.0\r\n",
      "daal4py                            2021.3.0\r\n",
      "dask                               2021.10.0\r\n",
      "debugpy                            1.4.1\r\n",
      "decorator                          5.1.0\r\n",
      "defusedxml                         0.7.1\r\n",
      "diff-match-patch                   20200713\r\n",
      "distributed                        2021.10.0\r\n",
      "docutils                           0.17.1\r\n",
      "efficientnet-pytorch               0.7.1\r\n",
      "entrypoints                        0.3\r\n",
      "et-xmlfile                         1.1.0\r\n",
      "fastcache                          1.1.0\r\n",
      "fastjsonschema                     2.16.2\r\n",
      "filelock                           3.3.1\r\n",
      "flake8                             3.9.2\r\n",
      "Flask                              1.1.2\r\n",
      "fonttools                          4.25.0\r\n",
      "fsspec                             2021.8.1\r\n",
      "future                             0.18.2\r\n",
      "gevent                             21.8.0\r\n",
      "gitdb                              4.0.9\r\n",
      "githubcommit                       0.1.0\r\n",
      "GitPython                          3.1.27\r\n",
      "glob2                              0.7\r\n",
      "gmpy2                              2.0.8\r\n",
      "google-auth                        2.9.1\r\n",
      "google-auth-oauthlib               0.4.6\r\n",
      "greenlet                           1.1.1\r\n",
      "grpcio                             1.47.0\r\n",
      "h5py                               3.3.0\r\n",
      "HeapDict                           1.0.1\r\n",
      "html5lib                           1.1\r\n",
      "idna                               3.2\r\n",
      "ignite                             1.1.0\r\n",
      "imagecodecs                        2021.8.26\r\n",
      "imageio                            2.9.0\r\n",
      "imagesize                          1.2.0\r\n",
      "importlib-metadata                 4.8.1\r\n",
      "inflection                         0.5.1\r\n",
      "iniconfig                          1.1.1\r\n",
      "intervaltree                       3.1.0\r\n",
      "ipykernel                          6.4.1\r\n",
      "ipython                            7.29.0\r\n",
      "ipython-genutils                   0.2.0\r\n",
      "ipywidgets                         7.6.5\r\n",
      "isort                              5.9.3\r\n",
      "itsdangerous                       2.0.1\r\n",
      "jdcal                              1.4.1\r\n",
      "jedi                               0.18.0\r\n",
      "jeepney                            0.7.1\r\n",
      "Jinja2                             3.1.2\r\n",
      "jinja2-time                        0.2.0\r\n",
      "joblib                             1.1.0\r\n",
      "json5                              0.9.6\r\n",
      "jsonschema                         3.2.0\r\n",
      "jupyter                            1.0.0\r\n",
      "jupyter-client                     6.1.12\r\n",
      "jupyter-console                    6.4.0\r\n",
      "jupyter-core                       4.8.1\r\n",
      "jupyter-server                     1.18.1\r\n",
      "jupyter-server-mathjax             0.2.6\r\n",
      "jupyterlab                         3.4.7\r\n",
      "jupyterlab-git                     0.39.2\r\n",
      "jupyterlab-pygments                0.1.2\r\n",
      "jupyterlab_server                  2.15.1\r\n",
      "jupyterlab-widgets                 1.0.0\r\n",
      "keyring                            23.1.0\r\n",
      "kiwisolver                         1.3.1\r\n",
      "kneed                              0.8.1\r\n",
      "lazy-object-proxy                  1.6.0\r\n",
      "libarchive-c                       2.9\r\n",
      "llvmlite                           0.37.0\r\n",
      "locket                             0.2.1\r\n",
      "lxml                               4.6.3\r\n",
      "Mako                               1.2.1\r\n",
      "mamba                              0.7.6\r\n",
      "Markdown                           3.4.1\r\n",
      "MarkupSafe                         2.1.1\r\n",
      "matplotlib                         3.4.3\r\n",
      "matplotlib-inline                  0.1.2\r\n",
      "mccabe                             0.6.1\r\n",
      "medcam                             0.1.21\r\n",
      "MetaBCC-LR                         2.0\r\n",
      "mistune                            2.0.4\r\n",
      "mkl-fft                            1.3.1\r\n",
      "mkl-random                         1.2.2\r\n",
      "mkl-service                        2.4.0\r\n",
      "mock                               4.0.3\r\n",
      "monai                              0.9.0\r\n",
      "more-itertools                     8.10.0\r\n",
      "mpmath                             1.2.1\r\n",
      "msgpack                            1.0.2\r\n",
      "multipledispatch                   0.6.0\r\n",
      "munch                              2.5.0\r\n",
      "munkres                            1.1.4\r\n",
      "mypy-extensions                    0.4.3\r\n",
      "navigator-updater                  0.2.1\r\n",
      "nbclassic                          0.2.6\r\n",
      "nbclient                           0.5.3\r\n",
      "nbconvert                          7.0.0\r\n",
      "nbdime                             3.1.1\r\n",
      "nbformat                           5.6.0\r\n",
      "nest-asyncio                       1.5.1\r\n",
      "networkx                           2.6.3\r\n",
      "nibabel                            4.0.1\r\n",
      "nltk                               3.6.5\r\n",
      "nose                               1.3.7\r\n",
      "notebook                           6.4.5\r\n",
      "numba                              0.54.1\r\n",
      "numexpr                            2.7.3\r\n",
      "numpy                              1.20.3\r\n",
      "numpydoc                           1.1.0\r\n",
      "oauthlib                           3.2.0\r\n",
      "olefile                            0.46\r\n",
      "opencv-python                      4.6.0.66\r\n",
      "opencv-python-headless             4.6.0.66\r\n",
      "openpyxl                           3.0.9\r\n",
      "packaging                          21.0\r\n",
      "pandas                             1.3.4\r\n",
      "pandocfilters                      1.4.3\r\n",
      "parso                              0.8.2\r\n",
      "partd                              1.2.0\r\n",
      "path                               16.0.0\r\n",
      "pathlib2                           2.3.6\r\n",
      "pathspec                           0.7.0\r\n",
      "patsy                              0.5.2\r\n",
      "pep8                               1.7.1\r\n",
      "pexpect                            4.8.0\r\n",
      "pickleshare                        0.7.5\r\n",
      "Pillow                             8.4.0\r\n",
      "pip                                21.2.4\r\n",
      "pkginfo                            1.7.1\r\n",
      "pluggy                             0.13.1\r\n",
      "ply                                3.11\r\n",
      "poyo                               0.5.0\r\n",
      "pretrainedmodels                   0.7.4\r\n",
      "prometheus-client                  0.11.0\r\n",
      "prompt-toolkit                     3.0.20\r\n",
      "protobuf                           3.19.4\r\n",
      "psutil                             5.8.0\r\n",
      "ptyprocess                         0.7.0\r\n",
      "py                                 1.10.0\r\n",
      "pyasn1                             0.4.8\r\n",
      "pyasn1-modules                     0.2.8\r\n",
      "pycodestyle                        2.7.0\r\n",
      "pycosat                            0.6.3\r\n",
      "pycparser                          2.20\r\n",
      "pycurl                             7.44.1\r\n",
      "pydocstyle                         6.1.1\r\n",
      "pyerfa                             2.0.0\r\n",
      "pyflakes                           2.3.1\r\n",
      "Pygments                           2.10.0\r\n",
      "PyJWT                              2.1.0\r\n",
      "pylint                             2.9.6\r\n",
      "pyls-spyder                        0.4.0\r\n",
      "pynndescent                        0.5.7\r\n",
      "pyodbc                             4.0.0-unsupported\r\n",
      "pyOpenSSL                          21.0.0\r\n",
      "pyparsing                          3.0.4\r\n",
      "PyQt5                              5.15.7\r\n",
      "PyQt5-Qt5                          5.15.2\r\n",
      "PyQt5-sip                          12.11.0\r\n",
      "pyrsistent                         0.18.0\r\n",
      "PySocks                            1.7.1\r\n",
      "pytest                             6.2.4\r\n",
      "python-dateutil                    2.8.2\r\n",
      "python-lsp-black                   1.0.0\r\n",
      "python-lsp-jsonrpc                 1.0.0\r\n",
      "python-lsp-server                  1.2.4\r\n",
      "python-slugify                     5.0.2\r\n",
      "pytz                               2021.3\r\n",
      "PyWavelets                         1.1.1\r\n",
      "pyxdg                              0.27\r\n",
      "PyYAML                             6.0\r\n",
      "pyzmq                              22.2.1\r\n",
      "QDarkStyle                         3.0.2\r\n",
      "qstylizer                          0.1.10\r\n",
      "QtAwesome                          1.0.2\r\n",
      "qtconsole                          5.1.1\r\n",
      "QtPy                               1.10.0\r\n",
      "qudida                             0.0.4\r\n",
      "regex                              2021.8.3\r\n",
      "requests                           2.26.0\r\n",
      "requests-oauthlib                  1.3.1\r\n",
      "rope                               0.19.0\r\n",
      "rsa                                4.8\r\n",
      "Rtree                              0.9.7\r\n",
      "ruamel-yaml-conda                  0.15.100\r\n",
      "scikit-image                       0.18.3\r\n",
      "scikit-learn                       0.24.2\r\n",
      "scikit-learn-intelex               2021.20210714.170444\r\n",
      "scipy                              1.7.1\r\n",
      "seaborn                            0.11.2\r\n",
      "SecretStorage                      3.3.1\r\n",
      "segmentation-models-pytorch        0.3.0\r\n",
      "Send2Trash                         1.8.0\r\n",
      "setuptools                         58.0.4\r\n",
      "simplegeneric                      0.8.1\r\n",
      "SimpleITK                          2.1.1.2\r\n",
      "singledispatch                     3.7.0\r\n",
      "sip                                4.19.13\r\n",
      "six                                1.16.0\r\n",
      "sklearn                            0.0\r\n",
      "smmap                              5.0.0\r\n",
      "sniffio                            1.2.0\r\n",
      "snowballstemmer                    2.1.0\r\n",
      "song-vis                           1.3.5.0\r\n",
      "sortedcollections                  2.1.0\r\n",
      "sortedcontainers                   2.4.0\r\n",
      "soupsieve                          2.2.1\r\n",
      "Sphinx                             4.2.0\r\n",
      "sphinxcontrib-applehelp            1.0.2\r\n",
      "sphinxcontrib-devhelp              1.0.2\r\n",
      "sphinxcontrib-htmlhelp             2.0.0\r\n",
      "sphinxcontrib-jsmath               1.0.1\r\n",
      "sphinxcontrib-qthelp               1.0.3\r\n",
      "sphinxcontrib-serializinghtml      1.1.5\r\n",
      "sphinxcontrib-websupport           1.2.4\r\n",
      "spyder                             5.1.5\r\n",
      "spyder-kernels                     2.1.3\r\n",
      "SQLAlchemy                         1.4.22\r\n",
      "statsmodels                        0.12.2\r\n",
      "sympy                              1.9\r\n",
      "tables                             3.6.1\r\n",
      "tabulate                           0.8.10\r\n",
      "TBB                                0.2\r\n",
      "tblib                              1.7.0\r\n",
      "tensorboard                        2.9.1\r\n",
      "tensorboard-data-server            0.6.1\r\n",
      "tensorboard-plugin-wit             1.8.1\r\n",
      "terminado                          0.9.4\r\n",
      "testpath                           0.5.0\r\n",
      "text-unidecode                     1.3\r\n",
      "textdistance                       4.2.1\r\n",
      "threadpoolctl                      2.2.0\r\n",
      "three-merge                        0.1.1\r\n",
      "tifffile                           2021.7.2\r\n",
      "timm                               0.4.12\r\n",
      "tinycss                            0.4\r\n",
      "tinycss2                           1.1.1\r\n",
      "toml                               0.10.2\r\n",
      "tomli                              2.0.1\r\n",
      "toolz                              0.11.1\r\n",
      "torch                              1.10.0+cu102\r\n",
      "torch-summary                      1.4.5\r\n",
      "torchaudio                         0.10.0+cu102\r\n",
      "torchvision                        0.11.1+cu102\r\n",
      "tornado                            6.1\r\n",
      "tqdm                               4.62.3\r\n",
      "traitlets                          5.1.0\r\n",
      "typed-ast                          1.4.3\r\n",
      "typing-extensions                  3.10.0.2\r\n",
      "ujson                              4.0.2\r\n",
      "umap-learn                         0.5.3\r\n",
      "unicodecsv                         0.14.1\r\n",
      "Unidecode                          1.2.0\r\n",
      "urllib3                            1.26.7\r\n",
      "watchdog                           2.1.3\r\n",
      "wcwidth                            0.2.5\r\n",
      "webencodings                       0.5.1\r\n",
      "websocket-client                   1.4.1\r\n",
      "Werkzeug                           2.0.2\r\n",
      "wheel                              0.37.0\r\n",
      "whichcraft                         0.6.1\r\n",
      "widgetsnbextension                 3.5.1\r\n",
      "wrapt                              1.12.1\r\n",
      "wurlitzer                          2.1.1\r\n",
      "xlrd                               2.0.1\r\n",
      "XlsxWriter                         3.0.1\r\n",
      "xlwt                               1.3.0\r\n",
      "xmltodict                          0.12.0\r\n",
      "yapf                               0.31.0\r\n",
      "zict                               2.0.0\r\n",
      "zipp                               3.6.0\r\n",
      "zope.event                         4.5.0\r\n",
      "zope.interface                     5.4.0\r\n"
     ]
    }
   ],
   "source": [
    "#!pip install segmentation-models-pytorch\n",
    "!pip list"
   ]
  },
  {
   "cell_type": "code",
   "execution_count": 2,
   "metadata": {},
   "outputs": [],
   "source": [
    "import pandas as pd\n",
    "import argparse\n",
    "import os\n",
    "from collections import OrderedDict\n",
    "from glob import glob\n",
    "import yaml\n",
    "import numpy as np\n",
    "\n",
    "import torch\n",
    "import torch.backends.cudnn as cudnn\n",
    "import torch.nn as nn\n",
    "import torch.nn.functional as F\n",
    "import torch.optim as optim\n",
    "from torch.optim import lr_scheduler\n",
    "from torch.utils.data.dataset import Dataset\n",
    "from torch.utils.data import DataLoader\n",
    "import torchvision\n",
    "import torchvision.transforms.functional as TF\n",
    "from torchvision import transforms\n",
    "import torchsummary as summary\n",
    "\n",
    "import albumentations as albu\n",
    "from albumentations.pytorch import ToTensorV2\n",
    "from sklearn.model_selection import train_test_split\n",
    "from sklearn.metrics import confusion_matrix\n",
    "from tqdm import tqdm\n",
    "\n",
    "from Unet.unet_model import UNet\n",
    "from UnetNested.Nested_Unet import NestedUNet\n",
    "\n",
    "import segmentation_models_pytorch as smp"
   ]
  },
  {
   "cell_type": "markdown",
   "metadata": {},
   "source": [
    "## Define Parameters"
   ]
  },
  {
   "cell_type": "code",
   "execution_count": 3,
   "metadata": {},
   "outputs": [],
   "source": [
    "name = \"UNet\"           #default = \"UNet\"; can be NestedUNet\n",
    "epochs = 100            #default = 400\n",
    "batch_size = 12         #default = 12\n",
    "early_stopping = 50     #default = 50\n",
    "num_workers = 8         #default = 8\n",
    "optimizerName = 'Adam'  #default = 'Adam'; can be SGD\n",
    "lr = 1e-5               #default = 1e-5\n",
    "momentum = 0.9          #default = 0.9\n",
    "weight_decay = 1e-4     #default = 1e-4\n",
    "nesterov = False        #default = False\n",
    "augmentation = True     #default = False\n",
    "\n",
    "ENCODER = \"vgg16\"\n",
    "ENCODER_WEIGHTS = 'imagenet'\n",
    "ACTIVATION = 'sigmoid'\n",
    "DEVICE = 'cuda'"
   ]
  },
  {
   "cell_type": "markdown",
   "metadata": {},
   "source": [
    "## Define Functions"
   ]
  },
  {
   "cell_type": "markdown",
   "metadata": {},
   "source": [
    "### Loss Function"
   ]
  },
  {
   "cell_type": "code",
   "execution_count": 4,
   "metadata": {},
   "outputs": [],
   "source": [
    "class BCEDiceLoss(nn.Module):\n",
    "    def __init__(self):\n",
    "        super().__init__()\n",
    "    \n",
    "    #Let x be the input and y be the target\n",
    "    def forward(self, x, y):\n",
    "        bce = F.binary_cross_entropy_with_logits(x, y)\n",
    "        smooth = 1e-5\n",
    "        x = torch.sigmoid(x)\n",
    "        num = y.size(0)\n",
    "        x = x.view(num, -1)\n",
    "        y = y.view(num, -1)\n",
    "        intersection = (x*y)\n",
    "        dice = (2. * intersection.sum(1) + smooth) / (x.sum(1) + y.sum(1) + smooth)\n",
    "        dice = 1 - dice.sum() / num\n",
    "\n",
    "        return 0.5 * bce + dice"
   ]
  },
  {
   "cell_type": "markdown",
   "metadata": {},
   "source": [
    "### Dataset"
   ]
  },
  {
   "cell_type": "code",
   "execution_count": 5,
   "metadata": {},
   "outputs": [],
   "source": [
    "preprocess_input = smp.encoders.get_preprocessing_fn(ENCODER, pretrained='imagenet')\n",
    "\n",
    "class LidcDataset(Dataset):\n",
    "    def __init__(self, IMAGES_PATHS, MASK_PATHS, Albumentation=False):\n",
    "        self.image_paths = IMAGES_PATHS\n",
    "        self.mask_paths = MASK_PATHS\n",
    "        self.albumentation = Albumentation\n",
    "\n",
    "        self.albu_transformations = albu.Compose([\n",
    "            albu.ElasticTransform(alpha=1.1,alpha_affine=0.5,sigma=5,p=0.15),\n",
    "            albu.HorizontalFlip(p=0.5),\n",
    "            albu.Lambda(image=preprocess_input),\n",
    "            ToTensorV2()\n",
    "        ])\n",
    "        self.transformations = transforms.Compose([transforms.ToTensor()])\n",
    "    \n",
    "    def transform(self, image, mask):\n",
    "        #Transform to tensor\n",
    "        if self.albumentation:\n",
    "            #Make image and mask 3 dimensional\n",
    "            image = image.reshape(512,512,1)\n",
    "            mask = mask.reshape(512,512,1)\n",
    "            #Convert datatype\n",
    "            mask = mask.astype('uint8')\n",
    "            #Apply augmentation\n",
    "            augmented = self.albu_transformations(image=image,mask=mask)\n",
    "            image = augmented['image']\n",
    "            mask = augmented['mask']\n",
    "            mask = mask.reshape([1,512,512])\n",
    "        else:\n",
    "            image = self.transformations(image)\n",
    "            mask = self.transformations(mask)\n",
    "        \n",
    "        image, mask = image.type(torch.FloatTensor), mask.type(torch.FloatTensor)\n",
    "        return image, mask\n",
    "\n",
    "    def __getitem__(self, index):\n",
    "        image = np.load(self.image_paths[index])\n",
    "        mask = np.load(self.mask_paths[index])\n",
    "        image, mask = self.transform(image, mask)\n",
    "        return image, mask\n",
    "    \n",
    "    def __len__(self):\n",
    "        return len(self.image_paths)"
   ]
  },
  {
   "cell_type": "markdown",
   "metadata": {},
   "source": [
    "### Metrics"
   ]
  },
  {
   "cell_type": "code",
   "execution_count": 6,
   "metadata": {},
   "outputs": [],
   "source": [
    "def iou_score(output, target):\n",
    "    smooth = 1e-5\n",
    "    if torch.is_tensor(output):\n",
    "        output = torch.sigmoid(output).data.cpu().numpy()\n",
    "    if torch.is_tensor(target):\n",
    "        target = target.data.cpu().numpy()\n",
    "    output_ = output > 0.5\n",
    "    target_ = target > 0.5\n",
    "    intersection = (output_ & target_).sum()\n",
    "    union = (output_ | target_).sum()\n",
    "\n",
    "    return (intersection + smooth) / (union + smooth)\n",
    "\n",
    "\n",
    "def dice_coef(output, target):\n",
    "    smooth = 1e-5\n",
    "    #Sigmoid is used because the U-Net output is logit\n",
    "    output = torch.sigmoid(output).view(-1).data.cpu().numpy()\n",
    "    target = target.view(-1).data.cpu().numpy()\n",
    "    intersection = (output*target).sum()\n",
    "\n",
    "    return (2. * intersection + smooth) / \\\n",
    "        (output.sum() + target.sum() + smooth)\n",
    "\n",
    "\n",
    "def sensitivity_metric(output, target):\n",
    "    eps = 1e-5\n",
    "    output = torch.sigmoid(output).view(-1).data.cpu()\n",
    "    target = target.view(-1).data.cpu()\n",
    "    # elements of confusion matrix\n",
    "    tp = torch.sum(output * target) # True Positive\n",
    "    fp = torch.sum(output * (1 - target)) # False Positive\n",
    "    fn = torch.sum((1 - output) * target) # False Negative\n",
    "    tn = torch.sum((1 - output) * (1 - target)) # True Negative\n",
    "    # compute sensitivity\n",
    "    sensitivity = (tp + eps) / (tp + fn + eps)\n",
    "    \n",
    "    return sensitivity.item()\n",
    "\n",
    "\n",
    "def dice_coef2(output, target):\n",
    "    \"This metric is for validation\"\n",
    "    smooth = 1e-5\n",
    "    output = output.view(-1)\n",
    "    output = (output>0.5).float().cpu().numpy()\n",
    "    target = target.view(-1).data.cpu().numpy()\n",
    "    intersection = (output*target).sum()\n",
    "\n",
    "    return (2. * intersection + smooth) / \\\n",
    "        (output.sum() + target.sum() + smooth)"
   ]
  },
  {
   "cell_type": "markdown",
   "metadata": {},
   "source": [
    "### Utilities"
   ]
  },
  {
   "cell_type": "code",
   "execution_count": 7,
   "metadata": {},
   "outputs": [],
   "source": [
    "def str_to_bool(v):\n",
    "    if v.lower() in ['true', 1]:\n",
    "        return True\n",
    "    elif v.lower() in ['false', 0]:\n",
    "        return False\n",
    "    else:\n",
    "        raise argparse.ArgumentTypeError('Boolean value expected.')\n",
    "\n",
    "def count_params(model):\n",
    "    return sum(p.numel() for p in model.parameters() if p.requires_grad)\n",
    "\n",
    "class AverageMeter(object):\n",
    "    #Computes and stores the average and current value\n",
    "    def __init__(self):\n",
    "        self.reset()\n",
    "    \n",
    "    def reset(self):\n",
    "        self.val = 0\n",
    "        self.avg = 0\n",
    "        self.sum = 0\n",
    "        self.count = 0\n",
    "    \n",
    "    def update(self, val, n=1):\n",
    "        self.val = val\n",
    "        self.sum += val * n\n",
    "        self.count += n\n",
    "        self.avg = self.sum / self.count"
   ]
  },
  {
   "cell_type": "markdown",
   "metadata": {},
   "source": [
    "## Get Configuration"
   ]
  },
  {
   "cell_type": "code",
   "execution_count": 8,
   "metadata": {},
   "outputs": [
    {
     "name": "stdout",
     "output_type": "stream",
     "text": [
      "Creating directory called  UNet_with_augmentation\n",
      "--------------------\n",
      "Configuration Setting: \n",
      "Model:  UNet\n",
      "Max Epochs:  100\n",
      "Batch Size:  12\n",
      "Number of Workers:  8\n",
      "Optimizer:  Adam\n",
      "Learning Rate:  1e-05\n",
      "Augmentation:  True\n"
     ]
    }
   ],
   "source": [
    "if augmentation == True:\n",
    "    file_name = name + '_with_augmentation'\n",
    "else:\n",
    "    file_name = name + '_base'\n",
    "os.makedirs('model_outputs/{}'.format(file_name), exist_ok=True)\n",
    "print(\"Creating directory called \", file_name)\n",
    "\n",
    "print('-' * 20)\n",
    "print(\"Configuration Setting: \")\n",
    "print(\"Model: \", name)\n",
    "print(\"Max Epochs: \", epochs)\n",
    "print(\"Batch Size: \", batch_size)\n",
    "print(\"Number of Workers: \", num_workers)\n",
    "print(\"Optimizer: \", optimizerName)\n",
    "print(\"Learning Rate: \", lr)\n",
    "print(\"Augmentation: \", augmentation)"
   ]
  },
  {
   "cell_type": "markdown",
   "metadata": {},
   "source": [
    "## Create Model"
   ]
  },
  {
   "cell_type": "code",
   "execution_count": 9,
   "metadata": {},
   "outputs": [],
   "source": [
    "# ENCODER = \"vgg16\"\n",
    "# ENCODER_WEIGHTS = 'imagenet'\n",
    "# ACTIVATION = 'sigmoid'\n",
    "# DEVICE = 'cuda'\n",
    "\n",
    "#create segmentation model with pretrained encoder\n",
    "model = smp.Unet(\n",
    "    encoder_name = ENCODER,\n",
    "    encoder_weights = ENCODER_WEIGHTS,\n",
    "    classes = 1,\n",
    "    activation = ACTIVATION\n",
    ")"
   ]
  },
  {
   "cell_type": "code",
   "execution_count": 10,
   "metadata": {},
   "outputs": [],
   "source": [
    "model = model.cuda()\n",
    "\n",
    "criterion = BCEDiceLoss().cuda()\n",
    "cudnn.benchmark = True\n",
    "\n",
    "if torch.cuda.device_count() > 1:\n",
    "    print(\"We can use \", torch.cuda.device_count(), \" GPUs.\")\n",
    "    model = nn.DataParallel(model)\n",
    "\n",
    "params = filter(lambda p: p.requires_grad, model.parameters())\n",
    "\n",
    "if optimizerName == 'Adam':\n",
    "    optimizer = optim.Adam(params, lr=lr, weight_decay=weight_decay)\n",
    "elif optimizer == 'SGD':\n",
    "    optimizerName = optim.SGD(params, lr=lr, momentum=momentum, nesterov=nesterov, weight_decay=weight_decay)\n",
    "else:\n",
    "    raise NotImplementedError"
   ]
  },
  {
   "cell_type": "code",
   "execution_count": null,
   "metadata": {},
   "outputs": [],
   "source": []
  },
  {
   "cell_type": "markdown",
   "metadata": {},
   "source": [
    "## Load Dataset"
   ]
  },
  {
   "cell_type": "code",
   "execution_count": 11,
   "metadata": {},
   "outputs": [
    {
     "name": "stdout",
     "output_type": "stream",
     "text": [
      "**************************************************\n",
      "Original images: 3587, masks: 3587 for training.\n",
      "Original images: 1192, masks: 1192 for validation.\n",
      "Ratio between Validation and Training is 0.332311\n",
      "**************************************************\n"
     ]
    }
   ],
   "source": [
    "#directory of Images and Masks folders (generated from preprocessing)                                         \n",
    "IMAGE_DIR = '/scratch1/joseph.portugal/LIDC-IDRI Preprocessed/Image/'\n",
    "MASK_DIR = '/scratch1/joseph.portugal/LIDC-IDRI Preprocessed/Mask/'                                                                 \n",
    "\n",
    "#meta information\n",
    "meta = pd.read_csv('/scratch1/joseph.portugal/LIDC-IDRI Preprocessed/Meta/meta.csv')     \n",
    "\n",
    "#Get train/test label from metadata file\n",
    "meta['original_image'] = meta['original_image'].apply(lambda x: IMAGE_DIR + \"LIDC-IDRI-\" + x[:4] + \"/\" + x + \".npy\")\n",
    "meta['mask_image'] = meta['mask_image'].apply(lambda x: MASK_DIR + \"LIDC-IDRI-\" + x[:4] + \"/\" + x + \".npy\")\n",
    "\n",
    "\n",
    "#Split into training and validation\n",
    "train_meta = meta[meta['data_split']=='Train']\n",
    "val_meta = meta[meta['data_split']=='Validation']\n",
    "\n",
    "#Get training images into list\n",
    "train_image_paths = list(train_meta['original_image'])\n",
    "train_mask_paths = list(train_meta['mask_image'])\n",
    "\n",
    "#Get validation images into list\n",
    "val_image_paths = list(val_meta['original_image'])\n",
    "val_mask_paths = list(val_meta['mask_image'])\n",
    "\n",
    "print(\"*\"*50)\n",
    "print(\"Original images: {}, masks: {} for training.\".format(len(train_image_paths),len(train_mask_paths)))\n",
    "print(\"Original images: {}, masks: {} for validation.\".format(len(val_image_paths),len(val_mask_paths)))\n",
    "print(\"Ratio between Validation and Training is {:2f}\".format(len(val_image_paths)/len(train_image_paths)))\n",
    "print(\"*\"*50)\n",
    "\n",
    "\n",
    "#Creating custom LIDC dataset\n",
    "train_dataset = LidcDataset(train_image_paths, train_mask_paths, augmentation)\n",
    "val_dataset = LidcDataset(val_image_paths, val_mask_paths, augmentation)\n",
    "\n",
    "#Creating Dataloader\n",
    "train_loader = DataLoader(\n",
    "  train_dataset,\n",
    "  batch_size=batch_size,\n",
    "  shuffle=True,\n",
    "  pin_memory=True,\n",
    "  drop_last=True,\n",
    "  num_workers=6\n",
    ")\n",
    "val_loader = DataLoader(\n",
    "  val_dataset,\n",
    "  batch_size=batch_size,\n",
    "  shuffle=False,\n",
    "  pin_memory=True,\n",
    "  drop_last=False,\n",
    "  num_workers=6\n",
    ")"
   ]
  },
  {
   "cell_type": "markdown",
   "metadata": {},
   "source": [
    "## Train the Model"
   ]
  },
  {
   "cell_type": "code",
   "execution_count": 12,
   "metadata": {},
   "outputs": [
    {
     "name": "stderr",
     "output_type": "stream",
     "text": [
      "100%|██████████| 298/298 [04:07<00:00,  1.21it/s, loss=1.46, iou=0.000632, dice=0.00128, sensitivity=0.605]\n",
      "100%|██████████| 100/100 [00:32<00:00,  3.10it/s, val_loss=1.45, val_iou=0.000701, val_dice=0.0014, val_sensitivity=0.593]\n"
     ]
    },
    {
     "name": "stdout",
     "output_type": "stream",
     "text": [
      "Training Epoch 1/100,  Training BCE Loss: 1.4554,  Training DICE: 0.0013,  Training IOU: 0.0006,  Training Sensitivity: 0.6049,  Validation BCE Loss: 1.4451,  Validation DICE: 0.0014,  Validation IOU: 0.0007,  Validation Sensitivity: 0.5927\n",
      "Saved new best model based on DICE metric!\n"
     ]
    },
    {
     "name": "stderr",
     "output_type": "stream",
     "text": [
      "100%|██████████| 298/298 [04:00<00:00,  1.24it/s, loss=1.44, iou=0.000632, dice=0.00126, sensitivity=0.584]\n",
      "100%|██████████| 100/100 [00:30<00:00,  3.25it/s, val_loss=1.43, val_iou=0.000701, val_dice=0.00139, val_sensitivity=0.577]\n"
     ]
    },
    {
     "name": "stdout",
     "output_type": "stream",
     "text": [
      "Training Epoch 2/100,  Training BCE Loss: 1.4381,  Training DICE: 0.0013,  Training IOU: 0.0006,  Training Sensitivity: 0.5842,  Validation BCE Loss: 1.4319,  Validation DICE: 0.0014,  Validation IOU: 0.0007,  Validation Sensitivity: 0.5773\n"
     ]
    },
    {
     "name": "stderr",
     "output_type": "stream",
     "text": [
      "100%|██████████| 298/298 [04:00<00:00,  1.24it/s, loss=1.43, iou=0.000632, dice=0.00126, sensitivity=0.571]\n",
      "100%|██████████| 100/100 [00:30<00:00,  3.29it/s, val_loss=1.42, val_iou=0.000701, val_dice=0.00139, val_sensitivity=0.568]\n"
     ]
    },
    {
     "name": "stdout",
     "output_type": "stream",
     "text": [
      "Training Epoch 3/100,  Training BCE Loss: 1.4257,  Training DICE: 0.0013,  Training IOU: 0.0006,  Training Sensitivity: 0.5711,  Validation BCE Loss: 1.4209,  Validation DICE: 0.0014,  Validation IOU: 0.0007,  Validation Sensitivity: 0.5683\n"
     ]
    },
    {
     "name": "stderr",
     "output_type": "stream",
     "text": [
      "100%|██████████| 298/298 [04:00<00:00,  1.24it/s, loss=1.42, iou=0.000632, dice=0.00126, sensitivity=0.562]\n",
      "100%|██████████| 100/100 [00:30<00:00,  3.30it/s, val_loss=1.41, val_iou=0.000701, val_dice=0.00139, val_sensitivity=0.559]\n"
     ]
    },
    {
     "name": "stdout",
     "output_type": "stream",
     "text": [
      "Training Epoch 4/100,  Training BCE Loss: 1.4155,  Training DICE: 0.0013,  Training IOU: 0.0006,  Training Sensitivity: 0.5624,  Validation BCE Loss: 1.4109,  Validation DICE: 0.0014,  Validation IOU: 0.0007,  Validation Sensitivity: 0.5587\n"
     ]
    },
    {
     "name": "stderr",
     "output_type": "stream",
     "text": [
      "100%|██████████| 298/298 [04:00<00:00,  1.24it/s, loss=1.41, iou=0.000632, dice=0.00126, sensitivity=0.555]\n",
      "100%|██████████| 100/100 [00:30<00:00,  3.28it/s, val_loss=1.4, val_iou=0.000701, val_dice=0.00139, val_sensitivity=0.552]\n"
     ]
    },
    {
     "name": "stdout",
     "output_type": "stream",
     "text": [
      "Training Epoch 5/100,  Training BCE Loss: 1.4065,  Training DICE: 0.0013,  Training IOU: 0.0006,  Training Sensitivity: 0.5545,  Validation BCE Loss: 1.4024,  Validation DICE: 0.0014,  Validation IOU: 0.0007,  Validation Sensitivity: 0.5517\n"
     ]
    },
    {
     "name": "stderr",
     "output_type": "stream",
     "text": [
      "100%|██████████| 298/298 [04:00<00:00,  1.24it/s, loss=1.4, iou=0.000632, dice=0.00126, sensitivity=0.548]\n",
      "100%|██████████| 100/100 [00:30<00:00,  3.29it/s, val_loss=1.39, val_iou=0.000701, val_dice=0.0014, val_sensitivity=0.546]\n"
     ]
    },
    {
     "name": "stdout",
     "output_type": "stream",
     "text": [
      "Training Epoch 6/100,  Training BCE Loss: 1.3982,  Training DICE: 0.0013,  Training IOU: 0.0006,  Training Sensitivity: 0.5485,  Validation BCE Loss: 1.3942,  Validation DICE: 0.0014,  Validation IOU: 0.0007,  Validation Sensitivity: 0.5457\n"
     ]
    },
    {
     "name": "stderr",
     "output_type": "stream",
     "text": [
      "100%|██████████| 298/298 [04:01<00:00,  1.24it/s, loss=1.39, iou=0.000632, dice=0.00126, sensitivity=0.543]\n",
      "100%|██████████| 100/100 [00:30<00:00,  3.30it/s, val_loss=1.39, val_iou=0.000701, val_dice=0.0014, val_sensitivity=0.54] \n"
     ]
    },
    {
     "name": "stdout",
     "output_type": "stream",
     "text": [
      "Training Epoch 7/100,  Training BCE Loss: 1.3909,  Training DICE: 0.0013,  Training IOU: 0.0006,  Training Sensitivity: 0.5426,  Validation BCE Loss: 1.3876,  Validation DICE: 0.0014,  Validation IOU: 0.0007,  Validation Sensitivity: 0.5400\n"
     ]
    },
    {
     "name": "stderr",
     "output_type": "stream",
     "text": [
      "100%|██████████| 298/298 [04:00<00:00,  1.24it/s, loss=1.38, iou=0.000632, dice=0.00126, sensitivity=0.537]\n",
      "100%|██████████| 100/100 [00:30<00:00,  3.28it/s, val_loss=1.38, val_iou=0.000701, val_dice=0.0014, val_sensitivity=0.535]\n"
     ]
    },
    {
     "name": "stdout",
     "output_type": "stream",
     "text": [
      "Training Epoch 8/100,  Training BCE Loss: 1.3847,  Training DICE: 0.0013,  Training IOU: 0.0006,  Training Sensitivity: 0.5375,  Validation BCE Loss: 1.3820,  Validation DICE: 0.0014,  Validation IOU: 0.0007,  Validation Sensitivity: 0.5353\n"
     ]
    },
    {
     "name": "stderr",
     "output_type": "stream",
     "text": [
      "100%|██████████| 298/298 [04:00<00:00,  1.24it/s, loss=1.38, iou=0.000631, dice=0.00126, sensitivity=0.533]\n",
      "100%|██████████| 100/100 [00:30<00:00,  3.27it/s, val_loss=1.38, val_iou=0.000701, val_dice=0.0014, val_sensitivity=0.531]\n"
     ]
    },
    {
     "name": "stdout",
     "output_type": "stream",
     "text": [
      "Training Epoch 9/100,  Training BCE Loss: 1.3797,  Training DICE: 0.0013,  Training IOU: 0.0006,  Training Sensitivity: 0.5331,  Validation BCE Loss: 1.3775,  Validation DICE: 0.0014,  Validation IOU: 0.0007,  Validation Sensitivity: 0.5312\n"
     ]
    },
    {
     "name": "stderr",
     "output_type": "stream",
     "text": [
      "100%|██████████| 298/298 [04:00<00:00,  1.24it/s, loss=1.38, iou=0.000631, dice=0.00126, sensitivity=0.529]\n",
      "100%|██████████| 100/100 [00:30<00:00,  3.27it/s, val_loss=1.37, val_iou=0.000701, val_dice=0.0014, val_sensitivity=0.528]\n"
     ]
    },
    {
     "name": "stdout",
     "output_type": "stream",
     "text": [
      "Training Epoch 10/100,  Training BCE Loss: 1.3755,  Training DICE: 0.0013,  Training IOU: 0.0006,  Training Sensitivity: 0.5293,  Validation BCE Loss: 1.3736,  Validation DICE: 0.0014,  Validation IOU: 0.0007,  Validation Sensitivity: 0.5276\n"
     ]
    },
    {
     "name": "stderr",
     "output_type": "stream",
     "text": [
      "100%|██████████| 298/298 [04:00<00:00,  1.24it/s, loss=1.37, iou=0.000632, dice=0.00126, sensitivity=0.526]\n",
      "100%|██████████| 100/100 [00:30<00:00,  3.24it/s, val_loss=1.37, val_iou=0.000701, val_dice=0.0014, val_sensitivity=0.525]\n"
     ]
    },
    {
     "name": "stdout",
     "output_type": "stream",
     "text": [
      "Training Epoch 11/100,  Training BCE Loss: 1.3719,  Training DICE: 0.0013,  Training IOU: 0.0006,  Training Sensitivity: 0.5260,  Validation BCE Loss: 1.3703,  Validation DICE: 0.0014,  Validation IOU: 0.0007,  Validation Sensitivity: 0.5245\n"
     ]
    },
    {
     "name": "stderr",
     "output_type": "stream",
     "text": [
      "100%|██████████| 298/298 [04:00<00:00,  1.24it/s, loss=1.37, iou=0.000632, dice=0.00126, sensitivity=0.523]\n",
      "100%|██████████| 100/100 [00:30<00:00,  3.25it/s, val_loss=1.37, val_iou=0.000701, val_dice=0.0014, val_sensitivity=0.522]\n"
     ]
    },
    {
     "name": "stdout",
     "output_type": "stream",
     "text": [
      "Training Epoch 12/100,  Training BCE Loss: 1.3688,  Training DICE: 0.0013,  Training IOU: 0.0006,  Training Sensitivity: 0.5230,  Validation BCE Loss: 1.3675,  Validation DICE: 0.0014,  Validation IOU: 0.0007,  Validation Sensitivity: 0.5219\n"
     ]
    },
    {
     "name": "stderr",
     "output_type": "stream",
     "text": [
      "100%|██████████| 298/298 [04:00<00:00,  1.24it/s, loss=1.37, iou=0.000633, dice=0.00126, sensitivity=0.52] \n",
      "100%|██████████| 100/100 [00:30<00:00,  3.27it/s, val_loss=1.36, val_iou=0.000701, val_dice=0.0014, val_sensitivity=0.519]\n"
     ]
    },
    {
     "name": "stdout",
     "output_type": "stream",
     "text": [
      "Training Epoch 13/100,  Training BCE Loss: 1.3661,  Training DICE: 0.0013,  Training IOU: 0.0006,  Training Sensitivity: 0.5205,  Validation BCE Loss: 1.3648,  Validation DICE: 0.0014,  Validation IOU: 0.0007,  Validation Sensitivity: 0.5193\n"
     ]
    },
    {
     "name": "stderr",
     "output_type": "stream",
     "text": [
      "100%|██████████| 298/298 [04:00<00:00,  1.24it/s, loss=1.36, iou=0.000631, dice=0.00126, sensitivity=0.518]\n",
      "100%|██████████| 100/100 [00:30<00:00,  3.27it/s, val_loss=1.36, val_iou=0.000701, val_dice=0.0014, val_sensitivity=0.517]\n"
     ]
    },
    {
     "name": "stdout",
     "output_type": "stream",
     "text": [
      "Training Epoch 14/100,  Training BCE Loss: 1.3637,  Training DICE: 0.0013,  Training IOU: 0.0006,  Training Sensitivity: 0.5182,  Validation BCE Loss: 1.3626,  Validation DICE: 0.0014,  Validation IOU: 0.0007,  Validation Sensitivity: 0.5172\n"
     ]
    },
    {
     "name": "stderr",
     "output_type": "stream",
     "text": [
      "100%|██████████| 298/298 [04:00<00:00,  1.24it/s, loss=1.36, iou=0.000631, dice=0.00126, sensitivity=0.516]\n",
      "100%|██████████| 100/100 [00:30<00:00,  3.27it/s, val_loss=1.36, val_iou=0.000701, val_dice=0.0014, val_sensitivity=0.515]\n"
     ]
    },
    {
     "name": "stdout",
     "output_type": "stream",
     "text": [
      "Training Epoch 15/100,  Training BCE Loss: 1.3617,  Training DICE: 0.0013,  Training IOU: 0.0006,  Training Sensitivity: 0.5162,  Validation BCE Loss: 1.3607,  Validation DICE: 0.0014,  Validation IOU: 0.0007,  Validation Sensitivity: 0.5154\n"
     ]
    },
    {
     "name": "stderr",
     "output_type": "stream",
     "text": [
      "100%|██████████| 298/298 [04:00<00:00,  1.24it/s, loss=1.36, iou=0.000633, dice=0.00126, sensitivity=0.514]\n",
      "100%|██████████| 100/100 [00:30<00:00,  3.28it/s, val_loss=1.36, val_iou=0.000701, val_dice=0.0014, val_sensitivity=0.514]\n"
     ]
    },
    {
     "name": "stdout",
     "output_type": "stream",
     "text": [
      "Training Epoch 16/100,  Training BCE Loss: 1.3599,  Training DICE: 0.0013,  Training IOU: 0.0006,  Training Sensitivity: 0.5145,  Validation BCE Loss: 1.3590,  Validation DICE: 0.0014,  Validation IOU: 0.0007,  Validation Sensitivity: 0.5138\n"
     ]
    },
    {
     "name": "stderr",
     "output_type": "stream",
     "text": [
      "100%|██████████| 298/298 [04:00<00:00,  1.24it/s, loss=1.36, iou=0.000632, dice=0.00126, sensitivity=0.513]\n",
      "100%|██████████| 100/100 [00:30<00:00,  3.25it/s, val_loss=1.36, val_iou=0.000701, val_dice=0.0014, val_sensitivity=0.513]\n"
     ]
    },
    {
     "name": "stdout",
     "output_type": "stream",
     "text": [
      "Training Epoch 17/100,  Training BCE Loss: 1.3582,  Training DICE: 0.0013,  Training IOU: 0.0006,  Training Sensitivity: 0.5129,  Validation BCE Loss: 1.3579,  Validation DICE: 0.0014,  Validation IOU: 0.0007,  Validation Sensitivity: 0.5130\n"
     ]
    },
    {
     "name": "stderr",
     "output_type": "stream",
     "text": [
      "100%|██████████| 298/298 [04:00<00:00,  1.24it/s, loss=1.36, iou=0.000633, dice=0.00126, sensitivity=0.511]\n",
      "100%|██████████| 100/100 [00:30<00:00,  3.28it/s, val_loss=1.36, val_iou=0.000701, val_dice=0.0014, val_sensitivity=0.511]\n"
     ]
    },
    {
     "name": "stdout",
     "output_type": "stream",
     "text": [
      "Training Epoch 18/100,  Training BCE Loss: 1.3567,  Training DICE: 0.0013,  Training IOU: 0.0006,  Training Sensitivity: 0.5114,  Validation BCE Loss: 1.3558,  Validation DICE: 0.0014,  Validation IOU: 0.0007,  Validation Sensitivity: 0.5107\n"
     ]
    },
    {
     "name": "stderr",
     "output_type": "stream",
     "text": [
      "100%|██████████| 298/298 [04:00<00:00,  1.24it/s, loss=1.35, iou=0.000631, dice=0.00126, sensitivity=0.51]\n",
      "100%|██████████| 100/100 [00:30<00:00,  3.23it/s, val_loss=1.35, val_iou=0.000701, val_dice=0.0014, val_sensitivity=0.509]\n"
     ]
    },
    {
     "name": "stdout",
     "output_type": "stream",
     "text": [
      "Training Epoch 19/100,  Training BCE Loss: 1.3550,  Training DICE: 0.0013,  Training IOU: 0.0006,  Training Sensitivity: 0.5099,  Validation BCE Loss: 1.3539,  Validation DICE: 0.0014,  Validation IOU: 0.0007,  Validation Sensitivity: 0.5092\n"
     ]
    },
    {
     "name": "stderr",
     "output_type": "stream",
     "text": [
      "100%|██████████| 298/298 [04:00<00:00,  1.24it/s, loss=1.35, iou=0.00063, dice=0.00126, sensitivity=0.508] \n",
      "100%|██████████| 100/100 [00:30<00:00,  3.30it/s, val_loss=1.35, val_iou=0.000701, val_dice=0.0014, val_sensitivity=0.508]\n"
     ]
    },
    {
     "name": "stdout",
     "output_type": "stream",
     "text": [
      "Training Epoch 20/100,  Training BCE Loss: 1.3533,  Training DICE: 0.0013,  Training IOU: 0.0006,  Training Sensitivity: 0.5084,  Validation BCE Loss: 1.3525,  Validation DICE: 0.0014,  Validation IOU: 0.0007,  Validation Sensitivity: 0.5077\n"
     ]
    },
    {
     "name": "stderr",
     "output_type": "stream",
     "text": [
      "100%|██████████| 298/298 [04:00<00:00,  1.24it/s, loss=1.35, iou=0.000631, dice=0.00126, sensitivity=0.507]\n",
      "100%|██████████| 100/100 [00:30<00:00,  3.25it/s, val_loss=1.35, val_iou=0.000701, val_dice=0.0014, val_sensitivity=0.507]\n"
     ]
    },
    {
     "name": "stdout",
     "output_type": "stream",
     "text": [
      "Training Epoch 21/100,  Training BCE Loss: 1.3520,  Training DICE: 0.0013,  Training IOU: 0.0006,  Training Sensitivity: 0.5071,  Validation BCE Loss: 1.3514,  Validation DICE: 0.0014,  Validation IOU: 0.0007,  Validation Sensitivity: 0.5066\n"
     ]
    },
    {
     "name": "stderr",
     "output_type": "stream",
     "text": [
      "100%|██████████| 298/298 [04:00<00:00,  1.24it/s, loss=1.35, iou=0.000631, dice=0.00126, sensitivity=0.506]\n",
      "100%|██████████| 100/100 [00:30<00:00,  3.29it/s, val_loss=1.35, val_iou=0.000701, val_dice=0.0014, val_sensitivity=0.506]\n"
     ]
    },
    {
     "name": "stdout",
     "output_type": "stream",
     "text": [
      "Training Epoch 22/100,  Training BCE Loss: 1.3511,  Training DICE: 0.0013,  Training IOU: 0.0006,  Training Sensitivity: 0.5061,  Validation BCE Loss: 1.3506,  Validation DICE: 0.0014,  Validation IOU: 0.0007,  Validation Sensitivity: 0.5057\n"
     ]
    },
    {
     "name": "stderr",
     "output_type": "stream",
     "text": [
      "100%|██████████| 298/298 [04:00<00:00,  1.24it/s, loss=1.35, iou=0.000633, dice=0.00126, sensitivity=0.505]\n",
      "100%|██████████| 100/100 [00:30<00:00,  3.29it/s, val_loss=1.35, val_iou=0.000701, val_dice=0.0014, val_sensitivity=0.505]\n"
     ]
    },
    {
     "name": "stdout",
     "output_type": "stream",
     "text": [
      "Training Epoch 23/100,  Training BCE Loss: 1.3503,  Training DICE: 0.0013,  Training IOU: 0.0006,  Training Sensitivity: 0.5053,  Validation BCE Loss: 1.3499,  Validation DICE: 0.0014,  Validation IOU: 0.0007,  Validation Sensitivity: 0.5050\n"
     ]
    },
    {
     "name": "stderr",
     "output_type": "stream",
     "text": [
      "100%|██████████| 298/298 [04:00<00:00,  1.24it/s, loss=1.35, iou=0.000632, dice=0.00126, sensitivity=0.505]\n",
      "100%|██████████| 100/100 [00:30<00:00,  3.25it/s, val_loss=1.35, val_iou=0.000701, val_dice=0.0014, val_sensitivity=0.504]\n"
     ]
    },
    {
     "name": "stdout",
     "output_type": "stream",
     "text": [
      "Training Epoch 24/100,  Training BCE Loss: 1.3497,  Training DICE: 0.0013,  Training IOU: 0.0006,  Training Sensitivity: 0.5047,  Validation BCE Loss: 1.3493,  Validation DICE: 0.0014,  Validation IOU: 0.0007,  Validation Sensitivity: 0.5044\n"
     ]
    },
    {
     "name": "stderr",
     "output_type": "stream",
     "text": [
      "100%|██████████| 298/298 [04:00<00:00,  1.24it/s, loss=1.35, iou=0.000631, dice=0.00126, sensitivity=0.504]\n",
      "100%|██████████| 100/100 [00:30<00:00,  3.26it/s, val_loss=1.35, val_iou=0.000701, val_dice=0.0014, val_sensitivity=0.504]\n"
     ]
    },
    {
     "name": "stdout",
     "output_type": "stream",
     "text": [
      "Training Epoch 25/100,  Training BCE Loss: 1.3491,  Training DICE: 0.0013,  Training IOU: 0.0006,  Training Sensitivity: 0.5041,  Validation BCE Loss: 1.3488,  Validation DICE: 0.0014,  Validation IOU: 0.0007,  Validation Sensitivity: 0.5039\n"
     ]
    },
    {
     "name": "stderr",
     "output_type": "stream",
     "text": [
      "100%|██████████| 298/298 [04:00<00:00,  1.24it/s, loss=1.35, iou=0.000632, dice=0.00126, sensitivity=0.504]\n",
      "100%|██████████| 100/100 [00:30<00:00,  3.29it/s, val_loss=1.35, val_iou=0.000701, val_dice=0.0014, val_sensitivity=0.503]\n"
     ]
    },
    {
     "name": "stdout",
     "output_type": "stream",
     "text": [
      "Training Epoch 26/100,  Training BCE Loss: 1.3487,  Training DICE: 0.0013,  Training IOU: 0.0006,  Training Sensitivity: 0.5036,  Validation BCE Loss: 1.3484,  Validation DICE: 0.0014,  Validation IOU: 0.0007,  Validation Sensitivity: 0.5034\n"
     ]
    },
    {
     "name": "stderr",
     "output_type": "stream",
     "text": [
      "100%|██████████| 298/298 [04:00<00:00,  1.24it/s, loss=1.35, iou=0.000632, dice=0.00126, sensitivity=0.503]\n",
      "100%|██████████| 100/100 [00:30<00:00,  3.25it/s, val_loss=1.35, val_iou=0.000701, val_dice=0.0014, val_sensitivity=0.503]\n"
     ]
    },
    {
     "name": "stdout",
     "output_type": "stream",
     "text": [
      "Training Epoch 27/100,  Training BCE Loss: 1.3483,  Training DICE: 0.0013,  Training IOU: 0.0006,  Training Sensitivity: 0.5032,  Validation BCE Loss: 1.3480,  Validation DICE: 0.0014,  Validation IOU: 0.0007,  Validation Sensitivity: 0.5031\n"
     ]
    },
    {
     "name": "stderr",
     "output_type": "stream",
     "text": [
      "100%|██████████| 298/298 [04:00<00:00,  1.24it/s, loss=1.35, iou=0.000631, dice=0.00126, sensitivity=0.503]\n",
      "100%|██████████| 100/100 [00:31<00:00,  3.21it/s, val_loss=1.35, val_iou=0.000701, val_dice=0.0014, val_sensitivity=0.503]\n"
     ]
    },
    {
     "name": "stdout",
     "output_type": "stream",
     "text": [
      "Training Epoch 28/100,  Training BCE Loss: 1.3479,  Training DICE: 0.0013,  Training IOU: 0.0006,  Training Sensitivity: 0.5028,  Validation BCE Loss: 1.3477,  Validation DICE: 0.0014,  Validation IOU: 0.0007,  Validation Sensitivity: 0.5027\n"
     ]
    },
    {
     "name": "stderr",
     "output_type": "stream",
     "text": [
      "100%|██████████| 298/298 [04:00<00:00,  1.24it/s, loss=1.35, iou=0.000631, dice=0.00126, sensitivity=0.503]\n",
      "100%|██████████| 100/100 [00:30<00:00,  3.23it/s, val_loss=1.35, val_iou=0.000701, val_dice=0.0014, val_sensitivity=0.502]\n"
     ]
    },
    {
     "name": "stdout",
     "output_type": "stream",
     "text": [
      "Training Epoch 29/100,  Training BCE Loss: 1.3476,  Training DICE: 0.0013,  Training IOU: 0.0006,  Training Sensitivity: 0.5025,  Validation BCE Loss: 1.3474,  Validation DICE: 0.0014,  Validation IOU: 0.0007,  Validation Sensitivity: 0.5024\n"
     ]
    },
    {
     "name": "stderr",
     "output_type": "stream",
     "text": [
      "100%|██████████| 298/298 [04:01<00:00,  1.24it/s, loss=1.35, iou=0.000633, dice=0.00126, sensitivity=0.502]\n",
      "100%|██████████| 100/100 [00:30<00:00,  3.27it/s, val_loss=1.35, val_iou=0.000701, val_dice=0.0014, val_sensitivity=0.502]\n"
     ]
    },
    {
     "name": "stdout",
     "output_type": "stream",
     "text": [
      "Training Epoch 30/100,  Training BCE Loss: 1.3473,  Training DICE: 0.0013,  Training IOU: 0.0006,  Training Sensitivity: 0.5022,  Validation BCE Loss: 1.3472,  Validation DICE: 0.0014,  Validation IOU: 0.0007,  Validation Sensitivity: 0.5019\n"
     ]
    },
    {
     "name": "stderr",
     "output_type": "stream",
     "text": [
      "100%|██████████| 298/298 [04:00<00:00,  1.24it/s, loss=1.35, iou=0.000632, dice=0.00126, sensitivity=0.502]\n",
      "100%|██████████| 100/100 [00:30<00:00,  3.27it/s, val_loss=1.35, val_iou=0.000701, val_dice=0.0014, val_sensitivity=0.502]\n"
     ]
    },
    {
     "name": "stdout",
     "output_type": "stream",
     "text": [
      "Training Epoch 31/100,  Training BCE Loss: 1.3471,  Training DICE: 0.0013,  Training IOU: 0.0006,  Training Sensitivity: 0.5020,  Validation BCE Loss: 1.3469,  Validation DICE: 0.0014,  Validation IOU: 0.0007,  Validation Sensitivity: 0.5019\n"
     ]
    },
    {
     "name": "stderr",
     "output_type": "stream",
     "text": [
      "100%|██████████| 298/298 [04:00<00:00,  1.24it/s, loss=1.35, iou=0.000632, dice=0.00126, sensitivity=0.502]\n",
      "100%|██████████| 100/100 [00:30<00:00,  3.25it/s, val_loss=1.35, val_iou=0.000701, val_dice=0.0014, val_sensitivity=0.502]\n"
     ]
    },
    {
     "name": "stdout",
     "output_type": "stream",
     "text": [
      "Training Epoch 32/100,  Training BCE Loss: 1.3469,  Training DICE: 0.0013,  Training IOU: 0.0006,  Training Sensitivity: 0.5017,  Validation BCE Loss: 1.3467,  Validation DICE: 0.0014,  Validation IOU: 0.0007,  Validation Sensitivity: 0.5017\n"
     ]
    },
    {
     "name": "stderr",
     "output_type": "stream",
     "text": [
      "100%|██████████| 298/298 [04:00<00:00,  1.24it/s, loss=1.35, iou=0.000631, dice=0.00126, sensitivity=0.502]\n",
      "100%|██████████| 100/100 [00:30<00:00,  3.28it/s, val_loss=1.35, val_iou=0.000701, val_dice=0.0014, val_sensitivity=0.501]\n"
     ]
    },
    {
     "name": "stdout",
     "output_type": "stream",
     "text": [
      "Training Epoch 33/100,  Training BCE Loss: 1.3467,  Training DICE: 0.0013,  Training IOU: 0.0006,  Training Sensitivity: 0.5015,  Validation BCE Loss: 1.3465,  Validation DICE: 0.0014,  Validation IOU: 0.0007,  Validation Sensitivity: 0.5015\n"
     ]
    },
    {
     "name": "stderr",
     "output_type": "stream",
     "text": [
      "100%|██████████| 298/298 [04:00<00:00,  1.24it/s, loss=1.35, iou=0.000631, dice=0.00126, sensitivity=0.501]\n",
      "100%|██████████| 100/100 [00:30<00:00,  3.28it/s, val_loss=1.35, val_iou=0.000701, val_dice=0.0014, val_sensitivity=0.501]\n"
     ]
    },
    {
     "name": "stdout",
     "output_type": "stream",
     "text": [
      "Training Epoch 34/100,  Training BCE Loss: 1.3465,  Training DICE: 0.0013,  Training IOU: 0.0006,  Training Sensitivity: 0.5013,  Validation BCE Loss: 1.3464,  Validation DICE: 0.0014,  Validation IOU: 0.0007,  Validation Sensitivity: 0.5013\n"
     ]
    },
    {
     "name": "stderr",
     "output_type": "stream",
     "text": [
      "100%|██████████| 298/298 [04:00<00:00,  1.24it/s, loss=1.35, iou=0.000633, dice=0.00126, sensitivity=0.501]\n",
      "100%|██████████| 100/100 [00:30<00:00,  3.23it/s, val_loss=1.35, val_iou=0.000701, val_dice=0.0014, val_sensitivity=0.501]\n"
     ]
    },
    {
     "name": "stdout",
     "output_type": "stream",
     "text": [
      "Training Epoch 35/100,  Training BCE Loss: 1.3464,  Training DICE: 0.0013,  Training IOU: 0.0006,  Training Sensitivity: 0.5012,  Validation BCE Loss: 1.3462,  Validation DICE: 0.0014,  Validation IOU: 0.0007,  Validation Sensitivity: 0.5012\n"
     ]
    },
    {
     "name": "stderr",
     "output_type": "stream",
     "text": [
      "100%|██████████| 298/298 [04:00<00:00,  1.24it/s, loss=1.35, iou=0.000632, dice=0.00126, sensitivity=0.501]\n",
      "100%|██████████| 100/100 [00:31<00:00,  3.21it/s, val_loss=1.35, val_iou=0.000701, val_dice=0.0014, val_sensitivity=0.501]\n"
     ]
    },
    {
     "name": "stdout",
     "output_type": "stream",
     "text": [
      "Training Epoch 36/100,  Training BCE Loss: 1.3463,  Training DICE: 0.0013,  Training IOU: 0.0006,  Training Sensitivity: 0.5010,  Validation BCE Loss: 1.3461,  Validation DICE: 0.0014,  Validation IOU: 0.0007,  Validation Sensitivity: 0.5010\n"
     ]
    },
    {
     "name": "stderr",
     "output_type": "stream",
     "text": [
      "100%|██████████| 298/298 [04:00<00:00,  1.24it/s, loss=1.35, iou=0.000632, dice=0.00126, sensitivity=0.501]\n",
      "100%|██████████| 100/100 [00:30<00:00,  3.26it/s, val_loss=1.35, val_iou=0.000701, val_dice=0.0014, val_sensitivity=0.501]\n"
     ]
    },
    {
     "name": "stdout",
     "output_type": "stream",
     "text": [
      "Training Epoch 37/100,  Training BCE Loss: 1.3462,  Training DICE: 0.0013,  Training IOU: 0.0006,  Training Sensitivity: 0.5009,  Validation BCE Loss: 1.3460,  Validation DICE: 0.0014,  Validation IOU: 0.0007,  Validation Sensitivity: 0.5010\n"
     ]
    },
    {
     "name": "stderr",
     "output_type": "stream",
     "text": [
      "100%|██████████| 298/298 [04:00<00:00,  1.24it/s, loss=1.35, iou=0.000632, dice=0.00126, sensitivity=0.501]\n",
      "100%|██████████| 100/100 [00:30<00:00,  3.29it/s, val_loss=1.35, val_iou=0.000701, val_dice=0.0014, val_sensitivity=0.501]\n"
     ]
    },
    {
     "name": "stdout",
     "output_type": "stream",
     "text": [
      "Training Epoch 38/100,  Training BCE Loss: 1.3460,  Training DICE: 0.0013,  Training IOU: 0.0006,  Training Sensitivity: 0.5008,  Validation BCE Loss: 1.3460,  Validation DICE: 0.0014,  Validation IOU: 0.0007,  Validation Sensitivity: 0.5008\n"
     ]
    },
    {
     "name": "stderr",
     "output_type": "stream",
     "text": [
      "100%|██████████| 298/298 [04:00<00:00,  1.24it/s, loss=1.35, iou=0.000633, dice=0.00126, sensitivity=0.501]\n",
      "100%|██████████| 100/100 [00:30<00:00,  3.25it/s, val_loss=1.35, val_iou=0.000701, val_dice=0.0014, val_sensitivity=0.501]\n"
     ]
    },
    {
     "name": "stdout",
     "output_type": "stream",
     "text": [
      "Training Epoch 39/100,  Training BCE Loss: 1.3460,  Training DICE: 0.0013,  Training IOU: 0.0006,  Training Sensitivity: 0.5007,  Validation BCE Loss: 1.3458,  Validation DICE: 0.0014,  Validation IOU: 0.0007,  Validation Sensitivity: 0.5007\n"
     ]
    },
    {
     "name": "stderr",
     "output_type": "stream",
     "text": [
      "100%|██████████| 298/298 [04:00<00:00,  1.24it/s, loss=1.35, iou=0.000631, dice=0.00126, sensitivity=0.501]\n",
      "100%|██████████| 100/100 [00:30<00:00,  3.28it/s, val_loss=1.35, val_iou=0.000701, val_dice=0.0014, val_sensitivity=0.501]\n"
     ]
    },
    {
     "name": "stdout",
     "output_type": "stream",
     "text": [
      "Training Epoch 40/100,  Training BCE Loss: 1.3459,  Training DICE: 0.0013,  Training IOU: 0.0006,  Training Sensitivity: 0.5007,  Validation BCE Loss: 1.3458,  Validation DICE: 0.0014,  Validation IOU: 0.0007,  Validation Sensitivity: 0.5007\n"
     ]
    },
    {
     "name": "stderr",
     "output_type": "stream",
     "text": [
      "100%|██████████| 298/298 [04:00<00:00,  1.24it/s, loss=1.35, iou=0.000633, dice=0.00126, sensitivity=0.501]\n",
      "100%|██████████| 100/100 [00:30<00:00,  3.25it/s, val_loss=1.35, val_iou=0.000701, val_dice=0.0014, val_sensitivity=0.501]\n"
     ]
    },
    {
     "name": "stdout",
     "output_type": "stream",
     "text": [
      "Training Epoch 41/100,  Training BCE Loss: 1.3458,  Training DICE: 0.0013,  Training IOU: 0.0006,  Training Sensitivity: 0.5006,  Validation BCE Loss: 1.3457,  Validation DICE: 0.0014,  Validation IOU: 0.0007,  Validation Sensitivity: 0.5006\n"
     ]
    },
    {
     "name": "stderr",
     "output_type": "stream",
     "text": [
      "100%|██████████| 298/298 [04:00<00:00,  1.24it/s, loss=1.35, iou=0.000632, dice=0.00126, sensitivity=0.501]\n",
      "100%|██████████| 100/100 [00:30<00:00,  3.27it/s, val_loss=1.35, val_iou=0.000701, val_dice=0.0014, val_sensitivity=0.501]\n"
     ]
    },
    {
     "name": "stdout",
     "output_type": "stream",
     "text": [
      "Training Epoch 42/100,  Training BCE Loss: 1.3458,  Training DICE: 0.0013,  Training IOU: 0.0006,  Training Sensitivity: 0.5005,  Validation BCE Loss: 1.3456,  Validation DICE: 0.0014,  Validation IOU: 0.0007,  Validation Sensitivity: 0.5005\n"
     ]
    },
    {
     "name": "stderr",
     "output_type": "stream",
     "text": [
      "100%|██████████| 298/298 [04:00<00:00,  1.24it/s, loss=1.35, iou=0.000632, dice=0.00126, sensitivity=0.5]\n",
      "100%|██████████| 100/100 [00:30<00:00,  3.23it/s, val_loss=1.35, val_iou=0.000701, val_dice=0.0014, val_sensitivity=0.5]\n"
     ]
    },
    {
     "name": "stdout",
     "output_type": "stream",
     "text": [
      "Training Epoch 43/100,  Training BCE Loss: 1.3457,  Training DICE: 0.0013,  Training IOU: 0.0006,  Training Sensitivity: 0.5004,  Validation BCE Loss: 1.3456,  Validation DICE: 0.0014,  Validation IOU: 0.0007,  Validation Sensitivity: 0.5004\n"
     ]
    },
    {
     "name": "stderr",
     "output_type": "stream",
     "text": [
      "100%|██████████| 298/298 [04:00<00:00,  1.24it/s, loss=1.35, iou=0.000632, dice=0.00126, sensitivity=0.5]\n",
      "100%|██████████| 100/100 [00:30<00:00,  3.26it/s, val_loss=1.35, val_iou=0.000701, val_dice=0.0014, val_sensitivity=0.5]\n"
     ]
    },
    {
     "name": "stdout",
     "output_type": "stream",
     "text": [
      "Training Epoch 44/100,  Training BCE Loss: 1.3457,  Training DICE: 0.0013,  Training IOU: 0.0006,  Training Sensitivity: 0.5004,  Validation BCE Loss: 1.3455,  Validation DICE: 0.0014,  Validation IOU: 0.0007,  Validation Sensitivity: 0.5004\n"
     ]
    },
    {
     "name": "stderr",
     "output_type": "stream",
     "text": [
      "100%|██████████| 298/298 [04:00<00:00,  1.24it/s, loss=1.35, iou=0.000632, dice=0.00126, sensitivity=0.5]\n",
      "100%|██████████| 100/100 [00:30<00:00,  3.27it/s, val_loss=1.35, val_iou=0.000701, val_dice=0.0014, val_sensitivity=0.5]\n"
     ]
    },
    {
     "name": "stdout",
     "output_type": "stream",
     "text": [
      "Training Epoch 45/100,  Training BCE Loss: 1.3456,  Training DICE: 0.0013,  Training IOU: 0.0006,  Training Sensitivity: 0.5004,  Validation BCE Loss: 1.3455,  Validation DICE: 0.0014,  Validation IOU: 0.0007,  Validation Sensitivity: 0.5003\n"
     ]
    },
    {
     "name": "stderr",
     "output_type": "stream",
     "text": [
      "100%|██████████| 298/298 [04:00<00:00,  1.24it/s, loss=1.35, iou=0.000632, dice=0.00126, sensitivity=0.5]\n",
      "100%|██████████| 100/100 [00:30<00:00,  3.27it/s, val_loss=1.35, val_iou=0.000701, val_dice=0.0014, val_sensitivity=0.5]\n"
     ]
    },
    {
     "name": "stdout",
     "output_type": "stream",
     "text": [
      "Training Epoch 46/100,  Training BCE Loss: 1.3456,  Training DICE: 0.0013,  Training IOU: 0.0006,  Training Sensitivity: 0.5003,  Validation BCE Loss: 1.3455,  Validation DICE: 0.0014,  Validation IOU: 0.0007,  Validation Sensitivity: 0.5003\n"
     ]
    },
    {
     "name": "stderr",
     "output_type": "stream",
     "text": [
      "100%|██████████| 298/298 [04:00<00:00,  1.24it/s, loss=1.35, iou=0.000633, dice=0.00126, sensitivity=0.5]\n",
      "100%|██████████| 100/100 [00:30<00:00,  3.26it/s, val_loss=1.35, val_iou=0.000701, val_dice=0.0014, val_sensitivity=0.5]\n"
     ]
    },
    {
     "name": "stdout",
     "output_type": "stream",
     "text": [
      "Training Epoch 47/100,  Training BCE Loss: 1.3456,  Training DICE: 0.0013,  Training IOU: 0.0006,  Training Sensitivity: 0.5003,  Validation BCE Loss: 1.3454,  Validation DICE: 0.0014,  Validation IOU: 0.0007,  Validation Sensitivity: 0.5003\n"
     ]
    },
    {
     "name": "stderr",
     "output_type": "stream",
     "text": [
      "100%|██████████| 298/298 [04:00<00:00,  1.24it/s, loss=1.35, iou=0.000632, dice=0.00126, sensitivity=0.5]\n",
      "100%|██████████| 100/100 [00:30<00:00,  3.28it/s, val_loss=1.35, val_iou=0.000701, val_dice=0.0014, val_sensitivity=0.5]\n"
     ]
    },
    {
     "name": "stdout",
     "output_type": "stream",
     "text": [
      "Training Epoch 48/100,  Training BCE Loss: 1.3455,  Training DICE: 0.0013,  Training IOU: 0.0006,  Training Sensitivity: 0.5003,  Validation BCE Loss: 1.3454,  Validation DICE: 0.0014,  Validation IOU: 0.0007,  Validation Sensitivity: 0.5003\n"
     ]
    },
    {
     "name": "stderr",
     "output_type": "stream",
     "text": [
      "100%|██████████| 298/298 [04:00<00:00,  1.24it/s, loss=1.35, iou=0.000631, dice=0.00126, sensitivity=0.5]\n",
      "100%|██████████| 100/100 [00:30<00:00,  3.24it/s, val_loss=1.35, val_iou=0.000701, val_dice=0.0014, val_sensitivity=0.5]\n"
     ]
    },
    {
     "name": "stdout",
     "output_type": "stream",
     "text": [
      "Training Epoch 49/100,  Training BCE Loss: 1.3455,  Training DICE: 0.0013,  Training IOU: 0.0006,  Training Sensitivity: 0.5002,  Validation BCE Loss: 1.3454,  Validation DICE: 0.0014,  Validation IOU: 0.0007,  Validation Sensitivity: 0.5002\n"
     ]
    },
    {
     "name": "stderr",
     "output_type": "stream",
     "text": [
      "100%|██████████| 298/298 [04:00<00:00,  1.24it/s, loss=1.35, iou=0.000631, dice=0.00126, sensitivity=0.5]\n",
      "100%|██████████| 100/100 [00:30<00:00,  3.28it/s, val_loss=1.35, val_iou=0.000701, val_dice=0.0014, val_sensitivity=0.5]\n"
     ]
    },
    {
     "name": "stdout",
     "output_type": "stream",
     "text": [
      "Training Epoch 50/100,  Training BCE Loss: 1.3455,  Training DICE: 0.0013,  Training IOU: 0.0006,  Training Sensitivity: 0.5002,  Validation BCE Loss: 1.3454,  Validation DICE: 0.0014,  Validation IOU: 0.0007,  Validation Sensitivity: 0.5002\n"
     ]
    },
    {
     "name": "stderr",
     "output_type": "stream",
     "text": [
      "100%|██████████| 298/298 [04:00<00:00,  1.24it/s, loss=1.35, iou=0.000632, dice=0.00126, sensitivity=0.5]\n",
      "100%|██████████| 100/100 [00:30<00:00,  3.26it/s, val_loss=1.35, val_iou=0.000701, val_dice=0.0014, val_sensitivity=0.5]\n"
     ]
    },
    {
     "name": "stdout",
     "output_type": "stream",
     "text": [
      "Training Epoch 51/100,  Training BCE Loss: 1.3455,  Training DICE: 0.0013,  Training IOU: 0.0006,  Training Sensitivity: 0.5002,  Validation BCE Loss: 1.3453,  Validation DICE: 0.0014,  Validation IOU: 0.0007,  Validation Sensitivity: 0.5002\n",
      "Early stopping.\n"
     ]
    }
   ],
   "source": [
    "log = pd.DataFrame(index=[], columns=['epoch','lr','loss','iou','dice','sensitivity','val_loss','val_iou'])\n",
    "\n",
    "best_dice = 0\n",
    "trigger = 0\n",
    "\n",
    "for epoch in range(epochs):\n",
    "\n",
    "    #Model Training\n",
    "    avg_meters = {'loss': AverageMeter(), 'iou': AverageMeter(), 'dice': AverageMeter(), 'sensitivity': AverageMeter()}\n",
    "    model.train()\n",
    "    pbar = tqdm(total=len(train_loader)) #progress bar\n",
    "\n",
    "    for i, data in enumerate(train_loader):\n",
    "\n",
    "        input = data[0].cuda()\n",
    "        target = data[1].cuda()\n",
    "        output = model(input)\n",
    "\n",
    "        #Get loss and metric\n",
    "        loss = criterion(output, target)\n",
    "        iou = iou_score(output, target)\n",
    "        dice = dice_coef(output, target)\n",
    "        sensitivity = sensitivity_metric(output, target)\n",
    "\n",
    "        #Calculate the gradient and perform optimizing step\n",
    "        optimizer.zero_grad()\n",
    "        loss.backward()\n",
    "        optimizer.step()\n",
    "\n",
    "        #Update average metrics\n",
    "        avg_meters['loss'].update(loss.item(), input.size(0))\n",
    "        avg_meters['iou'].update(iou, input.size(0))\n",
    "        avg_meters['dice'].update(dice, input.size(0))\n",
    "        avg_meters['sensitivity'].update(sensitivity, input.size(0))\n",
    "\n",
    "        postfix = OrderedDict([\n",
    "            ('loss', avg_meters['loss'].avg),\n",
    "            ('iou', avg_meters['iou'].avg),\n",
    "            ('dice', avg_meters['dice'].avg),\n",
    "            ('sensitivity', avg_meters['sensitivity'].avg)\n",
    "        ])\n",
    "        pbar.set_postfix(postfix)\n",
    "        pbar.update(1)\n",
    "    pbar.close()\n",
    "\n",
    "    train_log = OrderedDict([\n",
    "        ('loss', avg_meters['loss'].avg),\n",
    "        ('iou', avg_meters['iou'].avg),\n",
    "        ('dice', avg_meters['dice'].avg),\n",
    "        ('sensitivity', avg_meters['sensitivity'].avg)\n",
    "    ])\n",
    "\n",
    "\n",
    "    #Model Validation\n",
    "    val_avg_meters = {'val_loss': AverageMeter(), 'val_iou': AverageMeter(), 'val_dice': AverageMeter(), 'val_sensitivity': AverageMeter()}\n",
    "    model.eval()\n",
    "\n",
    "    with torch.no_grad():\n",
    "        val_pbar = tqdm(total=len(val_loader))\n",
    "        for i, val_data in enumerate(val_loader):\n",
    "\n",
    "            val_input = val_data[0].cuda()\n",
    "            val_target = val_data[1].cuda()\n",
    "            val_output = model(val_input)\n",
    "\n",
    "            val_loss = criterion(val_output, val_target)\n",
    "            val_iou = iou_score(val_output, val_target)\n",
    "            val_dice = dice_coef(val_output, val_target)\n",
    "            val_sensitivity = sensitivity_metric(val_output, val_target)\n",
    "\n",
    "            val_avg_meters['val_loss'].update(val_loss.item(), val_input.size(0))\n",
    "            val_avg_meters['val_iou'].update(val_iou, val_input.size(0))\n",
    "            val_avg_meters['val_dice'].update(val_dice, val_input.size(0))\n",
    "            val_avg_meters['val_sensitivity'].update(val_sensitivity, val_input.size(0))\n",
    "\n",
    "            val_postfix = OrderedDict([\n",
    "                ('val_loss', val_avg_meters['val_loss'].avg),\n",
    "                ('val_iou', val_avg_meters['val_iou'].avg),\n",
    "                ('val_dice', val_avg_meters['val_dice'].avg),\n",
    "                ('val_sensitivity', val_avg_meters['val_sensitivity'].avg)\n",
    "            ])\n",
    "            val_pbar.set_postfix(val_postfix)\n",
    "            val_pbar.update(1)\n",
    "        val_pbar.close()\n",
    "\n",
    "    val_log = OrderedDict([\n",
    "        ('val_loss', val_avg_meters['val_loss'].avg),\n",
    "        ('val_iou', val_avg_meters['val_iou'].avg),\n",
    "        ('val_dice', val_avg_meters['val_dice'].avg),\n",
    "        ('val_sensitivity', val_avg_meters['val_sensitivity'].avg)\n",
    "    ])\n",
    "    \n",
    "\n",
    "    print('Training Epoch {}/{},  Training BCE Loss: {:.4f},  Training DICE: {:.4f},  Training IOU: {:.4f},  Training Sensitivity: {:.4f},  Validation BCE Loss: {:.4f},  Validation DICE: {:.4f},  Validation IOU: {:.4f},  Validation Sensitivity: {:.4f}'.format(\n",
    "        epoch+1, epochs, train_log['loss'], train_log['dice'], train_log['iou'], train_log['sensitivity'], val_log['val_loss'], val_log['val_dice'], val_log['val_iou'], val_log['val_sensitivity']\n",
    "    ))\n",
    "\n",
    "    #Save values to csv file\n",
    "    tmp = pd.Series([\n",
    "        epoch,\n",
    "        lr,\n",
    "        train_log['loss'],\n",
    "        train_log['iou'],\n",
    "        train_log['dice'],\n",
    "        val_log['val_loss'],\n",
    "        val_log['val_iou'],\n",
    "        val_log['val_dice'],\n",
    "        val_log['val_sensitivity']\n",
    "    ], index=['epoch', 'lr', 'loss', 'iou', 'dice', 'val_loss', 'val_iou', 'val_dice', 'val_sensitivity'])\n",
    "\n",
    "    log = log.append(tmp, ignore_index=True)\n",
    "    log.to_csv('model_outputs/{}/log.csv'.format(file_name), index=False)\n",
    "\n",
    "    trigger += 1\n",
    "\n",
    "    #If best DICE score, save the model\n",
    "    if val_log['val_dice'] > best_dice:\n",
    "        torch.save(model.state_dict(), 'model_outputs/{}/model.pth'.format(file_name))\n",
    "        best_dice = val_log['val_dice']\n",
    "        print(\"Saved new best model based on DICE metric!\")\n",
    "        trigger = 0\n",
    "    \n",
    "    if early_stopping >= 0 and trigger >= early_stopping:\n",
    "        print(\"Early stopping.\")\n",
    "        break\n",
    "\n",
    "    torch.cuda.empty_cache()"
   ]
  },
  {
   "cell_type": "code",
   "execution_count": null,
   "metadata": {},
   "outputs": [],
   "source": []
  }
 ],
 "metadata": {
  "interpreter": {
   "hash": "cb56554e22e7015c8034fdf988622508a740e712e9b2a73e8d246c741229446d"
  },
  "kernelspec": {
   "display_name": "Python 3 (ipykernel)",
   "language": "python",
   "name": "python3"
  },
  "language_info": {
   "codemirror_mode": {
    "name": "ipython",
    "version": 3
   },
   "file_extension": ".py",
   "mimetype": "text/x-python",
   "name": "python",
   "nbconvert_exporter": "python",
   "pygments_lexer": "ipython3",
   "version": "3.9.7"
  }
 },
 "nbformat": 4,
 "nbformat_minor": 2
}
