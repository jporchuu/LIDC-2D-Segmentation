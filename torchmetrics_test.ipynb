{
  "nbformat": 4,
  "nbformat_minor": 0,
  "metadata": {
    "colab": {
      "provenance": []
    },
    "kernelspec": {
      "name": "python3",
      "display_name": "Python 3"
    },
    "language_info": {
      "name": "python"
    }
  },
  "cells": [
    {
      "cell_type": "code",
      "source": [
        "!pip install torchmetrics"
      ],
      "metadata": {
        "colab": {
          "base_uri": "https://localhost:8080/"
        },
        "id": "sgwHBwDgFHLQ",
        "outputId": "b2cec1ee-8775-4c6c-d28c-6ed94e224eab"
      },
      "execution_count": null,
      "outputs": [
        {
          "output_type": "stream",
          "name": "stdout",
          "text": [
            "Looking in indexes: https://pypi.org/simple, https://us-python.pkg.dev/colab-wheels/public/simple/\n",
            "Collecting torchmetrics\n",
            "  Downloading torchmetrics-0.10.2-py3-none-any.whl (529 kB)\n",
            "\u001b[K     |████████████████████████████████| 529 kB 4.4 MB/s \n",
            "\u001b[?25hRequirement already satisfied: numpy>=1.17.2 in /usr/local/lib/python3.7/dist-packages (from torchmetrics) (1.21.6)\n",
            "Requirement already satisfied: typing-extensions in /usr/local/lib/python3.7/dist-packages (from torchmetrics) (4.1.1)\n",
            "Requirement already satisfied: torch>=1.3.1 in /usr/local/lib/python3.7/dist-packages (from torchmetrics) (1.12.1+cu113)\n",
            "Requirement already satisfied: packaging in /usr/local/lib/python3.7/dist-packages (from torchmetrics) (21.3)\n",
            "Requirement already satisfied: pyparsing!=3.0.5,>=2.0.2 in /usr/local/lib/python3.7/dist-packages (from packaging->torchmetrics) (3.0.9)\n",
            "Installing collected packages: torchmetrics\n",
            "Successfully installed torchmetrics-0.10.2\n"
          ]
        }
      ]
    },
    {
      "cell_type": "code",
      "execution_count": null,
      "metadata": {
        "id": "XjZtaNzPEKD9"
      },
      "outputs": [],
      "source": [
        "import torch\n",
        "from torchmetrics import Dice, JaccardIndex, ROC"
      ]
    },
    {
      "cell_type": "markdown",
      "source": [
        "##Dice"
      ],
      "metadata": {
        "id": "zXMaMIQ1FDJ6"
      }
    },
    {
      "cell_type": "markdown",
      "source": [
        "Documentation: https://torchmetrics.readthedocs.io/en/stable/classification/dice.html"
      ],
      "metadata": {
        "id": "D4JLrbvZ7zst"
      }
    },
    {
      "cell_type": "markdown",
      "source": [
        "![dice formula.png](data:image/png;base64,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)"
      ],
      "metadata": {
        "id": "PdmYVP8ZJKSp"
      }
    },
    {
      "cell_type": "markdown",
      "source": [
        "average = 'micro' <br>\n",
        "> [default]: Calculate the metric globally, across all samples and classes.\n",
        "\n"
      ],
      "metadata": {
        "id": "Gxev2Be_HoBX"
      }
    },
    {
      "cell_type": "code",
      "source": [
        "target = torch.tensor([1, 1, 2, 0])\n",
        "output = torch.tensor([2, 0, 2, 1])\n",
        "dice = Dice(average='micro')\n",
        "dice(output, target)"
      ],
      "metadata": {
        "colab": {
          "base_uri": "https://localhost:8080/"
        },
        "id": "dL9gJdFOFAt9",
        "outputId": "90fb4092-4157-4478-9319-00fb9d0103b0"
      },
      "execution_count": null,
      "outputs": [
        {
          "output_type": "execute_result",
          "data": {
            "text/plain": [
              "tensor(0.2500)"
            ]
          },
          "metadata": {},
          "execution_count": 3
        }
      ]
    },
    {
      "cell_type": "markdown",
      "source": [
        "average = 'macro' <br>\n",
        "> Calculate the metric for each class separately, and average the metrics across classes (with equal weights for each class)\n",
        "\n"
      ],
      "metadata": {
        "id": "IEIoHQGPIEav"
      }
    },
    {
      "cell_type": "code",
      "source": [
        "target = torch.tensor([1, 1, 2, 0])\n",
        "output = torch.tensor([2, 0, 2, 1])\n",
        "dice = Dice(average='macro', num_classes=3)\n",
        "dice(output, target)"
      ],
      "metadata": {
        "colab": {
          "base_uri": "https://localhost:8080/"
        },
        "id": "pYARluwGFaQb",
        "outputId": "1de713d8-73ab-4bf0-8b34-98c7169d47d4"
      },
      "execution_count": null,
      "outputs": [
        {
          "output_type": "execute_result",
          "data": {
            "text/plain": [
              "tensor(0.2222)"
            ]
          },
          "metadata": {},
          "execution_count": 4
        }
      ]
    },
    {
      "cell_type": "markdown",
      "source": [
        "average = 'weighted' <br>\n",
        "> Calculate the metric for each class separately, and average the metrics across classes, weighting each class by its support (tp + fn)\n",
        "\n"
      ],
      "metadata": {
        "id": "Swjq0NbLIJHh"
      }
    },
    {
      "cell_type": "code",
      "source": [
        "target = torch.tensor([1, 1, 2, 0])\n",
        "output = torch.tensor([2, 0, 2, 1])\n",
        "dice = Dice(average='weighted', num_classes=3)\n",
        "dice(output, target)"
      ],
      "metadata": {
        "colab": {
          "base_uri": "https://localhost:8080/"
        },
        "id": "cfNN_-_RFc-N",
        "outputId": "e3929a1d-0bf8-480b-ecce-af2c6f2b6995"
      },
      "execution_count": null,
      "outputs": [
        {
          "output_type": "execute_result",
          "data": {
            "text/plain": [
              "tensor(0.1667)"
            ]
          },
          "metadata": {},
          "execution_count": 5
        }
      ]
    },
    {
      "cell_type": "markdown",
      "source": [
        "average = 'none' <br>\n",
        "> Calculate the metric for each class separately, and return the metric for every class.\n",
        "\n"
      ],
      "metadata": {
        "id": "_mWNqz77ISjm"
      }
    },
    {
      "cell_type": "code",
      "source": [
        "target = torch.tensor([1, 1, 2, 0])\n",
        "output = torch.tensor([2, 0, 2, 1])\n",
        "dice = Dice(average='none', num_classes=3)\n",
        "dice(output, target)"
      ],
      "metadata": {
        "colab": {
          "base_uri": "https://localhost:8080/"
        },
        "id": "SFE_81x_F39y",
        "outputId": "5cb6fecd-34fa-4b31-c5f2-28bef8ba99b3"
      },
      "execution_count": null,
      "outputs": [
        {
          "output_type": "execute_result",
          "data": {
            "text/plain": [
              "tensor([0.0000, 0.0000, 0.6667])"
            ]
          },
          "metadata": {},
          "execution_count": 6
        }
      ]
    },
    {
      "cell_type": "markdown",
      "source": [
        "average = 'samples' <br>\n",
        "> Calculate the metric for each sample, and average the metrics across samples (with equal weights for each sample).\n",
        "\n"
      ],
      "metadata": {
        "id": "pLOHxJABIYA9"
      }
    },
    {
      "cell_type": "code",
      "source": [
        "target = torch.tensor([1, 1, 2, 0])\n",
        "output = torch.tensor([2, 0, 2, 1])\n",
        "dice = Dice(average='samples', num_classes=3)\n",
        "dice(output, target)"
      ],
      "metadata": {
        "colab": {
          "base_uri": "https://localhost:8080/"
        },
        "id": "Q5x1P7J8F-w0",
        "outputId": "d23b7309-c495-4dc1-8ccc-03a0b77cf234"
      },
      "execution_count": null,
      "outputs": [
        {
          "output_type": "execute_result",
          "data": {
            "text/plain": [
              "tensor(0.2500)"
            ]
          },
          "metadata": {},
          "execution_count": 7
        }
      ]
    },
    {
      "cell_type": "markdown",
      "source": [
        "##IOU Score"
      ],
      "metadata": {
        "id": "jMi4kMNxGSqa"
      }
    },
    {
      "cell_type": "markdown",
      "source": [
        "Documentation: https://torchmetrics.readthedocs.io/en/stable/classification/jaccard_index.html"
      ],
      "metadata": {
        "id": "edGIfdr87tOS"
      }
    },
    {
      "cell_type": "markdown",
      "source": [
        "![image.png](data:image/png;base64,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)"
      ],
      "metadata": {
        "id": "K4zTlAV8JZkY"
      }
    },
    {
      "cell_type": "markdown",
      "source": [
        "average = 'micro' <br>\n",
        ">  Calculate the metric globally, across all samples and classes."
      ],
      "metadata": {
        "id": "M-4uUcK2If1t"
      }
    },
    {
      "cell_type": "code",
      "source": [
        "target = torch.tensor([1, 1, 2, 0])\n",
        "output = torch.tensor([2, 0, 2, 1])\n",
        "iou = JaccardIndex(average='micro', num_classes=3)\n",
        "iou(output, target)"
      ],
      "metadata": {
        "colab": {
          "base_uri": "https://localhost:8080/"
        },
        "id": "7i6vXL7BGMd5",
        "outputId": "3ce4cd90-ad36-4f2c-adb7-101513078eb5"
      },
      "execution_count": null,
      "outputs": [
        {
          "output_type": "execute_result",
          "data": {
            "text/plain": [
              "tensor(0.1429)"
            ]
          },
          "metadata": {},
          "execution_count": 8
        }
      ]
    },
    {
      "cell_type": "markdown",
      "source": [
        "average = 'macro' <br>\n",
        "> [default]: Calculate the metric for each class separately, and average the metrics across classes (with equal weights for each class)."
      ],
      "metadata": {
        "id": "zGL9csvIInrx"
      }
    },
    {
      "cell_type": "code",
      "source": [
        "target = torch.tensor([1, 1, 2, 0])\n",
        "output = torch.tensor([2, 0, 2, 1])\n",
        "iou = JaccardIndex(average='macro', num_classes=3)\n",
        "iou(output, target)"
      ],
      "metadata": {
        "colab": {
          "base_uri": "https://localhost:8080/"
        },
        "id": "RJhFhbvkGn4x",
        "outputId": "d33012f9-44ad-4f7f-a6f5-43d7b3f51799"
      },
      "execution_count": null,
      "outputs": [
        {
          "output_type": "execute_result",
          "data": {
            "text/plain": [
              "tensor(0.1667)"
            ]
          },
          "metadata": {},
          "execution_count": 9
        }
      ]
    },
    {
      "cell_type": "markdown",
      "source": [
        "average = 'weighted' <br>\n",
        "> Calculate the metric for each class separately, and average the metrics across classes, weighting each class by its support (tp + fn)."
      ],
      "metadata": {
        "id": "4YXsWcfVIucs"
      }
    },
    {
      "cell_type": "code",
      "source": [
        "target = torch.tensor([1, 1, 2, 0])\n",
        "output = torch.tensor([2, 0, 2, 1])\n",
        "iou = JaccardIndex(average='weighted', num_classes=3)\n",
        "iou(output, target)"
      ],
      "metadata": {
        "colab": {
          "base_uri": "https://localhost:8080/"
        },
        "id": "W3M50zfEG5cs",
        "outputId": "2ff0c0c2-90b3-4d38-acbf-f575ccd01c25"
      },
      "execution_count": null,
      "outputs": [
        {
          "output_type": "execute_result",
          "data": {
            "text/plain": [
              "tensor(0.1250)"
            ]
          },
          "metadata": {},
          "execution_count": 10
        }
      ]
    },
    {
      "cell_type": "markdown",
      "source": [
        "average = 'none' <br>\n",
        "> Calculate the metric for each class separately, and return the metric for every class. Note that if a given class doesn’t occur in the preds or target, the value for the class will be nan."
      ],
      "metadata": {
        "id": "GBhpSk3KIzRf"
      }
    },
    {
      "cell_type": "code",
      "source": [
        "target = torch.tensor([1, 1, 2, 0])\n",
        "output = torch.tensor([2, 0, 2, 1])\n",
        "iou = JaccardIndex(average='none', num_classes=3)\n",
        "iou(output, target)"
      ],
      "metadata": {
        "colab": {
          "base_uri": "https://localhost:8080/"
        },
        "id": "WoyhUHNzHBMa",
        "outputId": "9c664666-e5ef-4a48-fddd-9752d3d711dd"
      },
      "execution_count": null,
      "outputs": [
        {
          "output_type": "execute_result",
          "data": {
            "text/plain": [
              "tensor([0.0000, 0.0000, 0.5000])"
            ]
          },
          "metadata": {},
          "execution_count": 11
        }
      ]
    },
    {
      "cell_type": "markdown",
      "source": [
        "## ROC for Sensitivity"
      ],
      "metadata": {
        "id": "iBPpW2sZHOst"
      }
    },
    {
      "cell_type": "markdown",
      "source": [
        "Documentation: https://torchmetrics.readthedocs.io/en/stable/classification/roc.html"
      ],
      "metadata": {
        "id": "9z2Onl687wGP"
      }
    },
    {
      "cell_type": "code",
      "source": [
        "target = torch.tensor([1, 1, 2, 0])\n",
        "output = torch.tensor([2, 0, 2, 1])\n",
        "roc = ROC()\n",
        "fpr, tpr, thresholds = roc(output, target)\n",
        "tpr"
      ],
      "metadata": {
        "colab": {
          "base_uri": "https://localhost:8080/"
        },
        "id": "2rzuHMF8HDq7",
        "outputId": "5f2db489-d9b6-4cf3-d117-f41ced295faf"
      },
      "execution_count": null,
      "outputs": [
        {
          "output_type": "stream",
          "name": "stderr",
          "text": [
            "/usr/local/lib/python3.7/dist-packages/torchmetrics/utilities/prints.py:36: UserWarning: Metric `ROC` will save all targets and predictions in buffer. For large datasets this may lead to large memory footprint.\n",
            "  warnings.warn(*args, **kwargs)\n"
          ]
        },
        {
          "output_type": "execute_result",
          "data": {
            "text/plain": [
              "tensor([0.0000, 0.5000, 0.5000, 1.0000])"
            ]
          },
          "metadata": {},
          "execution_count": 12
        }
      ]
    }
  ]
}