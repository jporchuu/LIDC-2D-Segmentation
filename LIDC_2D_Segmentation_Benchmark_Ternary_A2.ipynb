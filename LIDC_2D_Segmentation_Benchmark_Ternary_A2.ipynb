{
 "cells": [
  {
   "cell_type": "markdown",
   "metadata": {
    "id": "0f2BkIn0fngR"
   },
   "source": [
    "# LIDC IDRI 2D SEGMENTATION WITH TERNARY CLASSES"
   ]
  },
  {
   "cell_type": "markdown",
   "metadata": {
    "id": "_7B3yamNfngX"
   },
   "source": [
    "## Import Libraries"
   ]
  },
  {
   "cell_type": "code",
   "execution_count": 1,
   "metadata": {
    "executionInfo": {
     "elapsed": 4,
     "status": "ok",
     "timestamp": 1665857907892,
     "user": {
      "displayName": "Joseph Portugal",
      "userId": "10660391166494605576"
     },
     "user_tz": -480
    },
    "id": "2MJ-SVrLfngY",
    "scrolled": true
   },
   "outputs": [],
   "source": [
    "#!pip list"
   ]
  },
  {
   "cell_type": "code",
   "execution_count": 2,
   "metadata": {
    "executionInfo": {
     "elapsed": 1511,
     "status": "ok",
     "timestamp": 1665857909399,
     "user": {
      "displayName": "Joseph Portugal",
      "userId": "10660391166494605576"
     },
     "user_tz": -480
    },
    "id": "mfSdQhFEfnga"
   },
   "outputs": [],
   "source": [
    "import pandas as pd\n",
    "import argparse\n",
    "import os\n",
    "from collections import OrderedDict\n",
    "from glob import glob\n",
    "import yaml\n",
    "import numpy as np\n",
    "\n",
    "import torch\n",
    "import torch.backends.cudnn as cudnn\n",
    "import torch.nn as nn\n",
    "import torch.nn.functional as F\n",
    "import torch.optim as optim\n",
    "from torch.optim import lr_scheduler\n",
    "from torch.utils.data.dataset import Dataset\n",
    "from torch.utils.data import DataLoader\n",
    "import torchvision\n",
    "import torchvision.transforms.functional as TF\n",
    "from torchvision import transforms\n",
    "import torchsummary as summary\n",
    "\n",
    "import albumentations as A\n",
    "from albumentations.pytorch import ToTensorV2\n",
    "from sklearn.model_selection import train_test_split\n",
    "from sklearn.metrics import confusion_matrix\n",
    "from tqdm import tqdm\n",
    "\n",
    "import matplotlib.pyplot as plt\n",
    "\n",
    "from Unet_new.unet_model import UNet\n",
    "from UnetNested.Nested_Unet import NestedUNet"
   ]
  },
  {
   "cell_type": "markdown",
   "metadata": {
    "id": "yyaykKN2fngc"
   },
   "source": [
    "## Define Parameters"
   ]
  },
  {
   "cell_type": "code",
   "execution_count": 3,
   "metadata": {
    "executionInfo": {
     "elapsed": 14,
     "status": "ok",
     "timestamp": 1665857909400,
     "user": {
      "displayName": "Joseph Portugal",
      "userId": "10660391166494605576"
     },
     "user_tz": -480
    },
    "id": "Mue4WdgNfngc"
   },
   "outputs": [],
   "source": [
    "name = \"UNet\"           #default = \"UNet\"; can be NestedUNet\n",
    "epochs = 100            #default = 400\n",
    "batch_size = 12         #default = 12\n",
    "early_stopping = 50     #default = 50\n",
    "num_workers = 8         #default = 8\n",
    "optimizer = 'Adam'      #default = 'Adam'; can be SGD\n",
    "lr = 1e-5               #default = 1e-5\n",
    "momentum = 0.9          #default = 0.9\n",
    "weight_decay = 1e-4     #default = 1e-4\n",
    "nesterov = False        #default = False\n",
    "augmentation = True     #default = False"
   ]
  },
  {
   "cell_type": "markdown",
   "metadata": {
    "id": "x5zDl0wYfngc"
   },
   "source": [
    "## Define Functions"
   ]
  },
  {
   "cell_type": "markdown",
   "metadata": {
    "id": "JEtRbzaAfngf"
   },
   "source": [
    "### Dataset"
   ]
  },
  {
   "cell_type": "code",
   "execution_count": 4,
   "metadata": {
    "executionInfo": {
     "elapsed": 15,
     "status": "ok",
     "timestamp": 1665857909401,
     "user": {
      "displayName": "Joseph Portugal",
      "userId": "10660391166494605576"
     },
     "user_tz": -480
    },
    "id": "1r0UAim3fngf"
   },
   "outputs": [],
   "source": [
    "class LidcDataset(Dataset):\n",
    "    def __init__(self, IMAGES_PATHS, MASK_PATHS, transforms):\n",
    "        self.image_paths = IMAGES_PATHS\n",
    "        self.mask_paths = MASK_PATHS\n",
    "        \n",
    "        self.transforms = transforms\n",
    "\n",
    "    def __getitem__(self, index):\n",
    "        image = np.load(self.image_paths[index])\n",
    "        mask = np.load(self.mask_paths[index])\n",
    "\n",
    "        #Make image and mask 3 dimensional\n",
    "        image = image.reshape(512,512,1)\n",
    "        mask = mask.reshape(512,512,1)\n",
    "\n",
    "        #Convert datatype\n",
    "        mask = mask.astype('uint8')\n",
    "\n",
    "        #Apply augmentation\n",
    "        augmented = self.transforms(image=image,mask=mask)\n",
    "        image = augmented['image']\n",
    "        mask = augmented['mask']\n",
    "        \n",
    "        mask = mask.reshape([1,512,512])\n",
    "\n",
    "        image, mask = image.type(torch.FloatTensor), mask.type(torch.FloatTensor)     \n",
    "\n",
    "        return image, mask\n",
    "    \n",
    "    def __len__(self):\n",
    "        return len(self.image_paths)"
   ]
  },
  {
   "cell_type": "code",
   "execution_count": 5,
   "metadata": {
    "executionInfo": {
     "elapsed": 15,
     "status": "ok",
     "timestamp": 1665857909401,
     "user": {
      "displayName": "Joseph Portugal",
      "userId": "10660391166494605576"
     },
     "user_tz": -480
    },
    "id": "ei8vrk4Y3lek"
   },
   "outputs": [],
   "source": [
    "toTensor = A.Compose([\n",
    "            ToTensorV2()\n",
    "        ])\n",
    "\n",
    "transform1 = A.Compose([\n",
    "            A.Rotate(limit=[90, 90], interpolation=1, border_mode=4, value=None, mask_value=None, p=1),\n",
    "            A.HorizontalFlip(p=0.5),\n",
    "            A.VerticalFlip(p=0.5),\n",
    "            A.Affine(scale=None, translate_percent=None, translate_px=None, rotate=None, shear=[-45, 45], interpolation=1, mask_interpolation=0, cval=0, cval_mask=0, mode=0, fit_output=False, keep_ratio=False, always_apply=False, p=1),\n",
    "            ToTensorV2()\n",
    "        ])\n",
    "\n",
    "transform2 = A.Compose([\n",
    "            A.Rotate(limit=[180, 180], interpolation=1, border_mode=4, value=None, mask_value=None, p=1),\n",
    "            A.HorizontalFlip(p=0.5),\n",
    "            A.VerticalFlip(p=0.5),\n",
    "            A.Affine (scale=None, translate_percent=None, translate_px=None, rotate=None, shear=[-45, 45], interpolation=1, mask_interpolation=0, cval=0, cval_mask=0, mode=0, fit_output=False, keep_ratio=False, always_apply=False, p=1),\n",
    "            ToTensorV2()\n",
    "        ])\n",
    "\n",
    "transform3 = A.Compose([\n",
    "            A.Rotate (limit=[270, 270], interpolation=1, border_mode=4, value=None, mask_value=None, p=1),\n",
    "            A.HorizontalFlip(p=0.5),\n",
    "            A.VerticalFlip(p=0.5),\n",
    "            A.Affine (scale=None, translate_percent=None, translate_px=None, rotate=None, shear=[-45, 45], interpolation=1, mask_interpolation=0, cval=0, cval_mask=0, mode=0, fit_output=False, keep_ratio=False, always_apply=False, p=1),\n",
    "            ToTensorV2()\n",
    "        ])"
   ]
  },
  {
   "cell_type": "markdown",
   "metadata": {
    "id": "ZOYDGIUYfngg"
   },
   "source": [
    "### Metrics"
   ]
  },
  {
   "cell_type": "code",
   "execution_count": 6,
   "metadata": {
    "executionInfo": {
     "elapsed": 15,
     "status": "ok",
     "timestamp": 1665857909402,
     "user": {
      "displayName": "Joseph Portugal",
      "userId": "10660391166494605576"
     },
     "user_tz": -480
    },
    "id": "1mmIyJNAfngg"
   },
   "outputs": [],
   "source": [
    "def iou_score_multiclass(output, target, n_classes):\n",
    "    output = torch.nn.functional.softmax(output, dim=1)\n",
    "    output = torch.argmax(output, dim=1).squeeze(1)\n",
    "    target = torch.argmax(target, dim=1)\n",
    "    iou_list = list()\n",
    "    curr_iou_list = list()\n",
    "\n",
    "    output = output.view(-1)\n",
    "    target = target.view(-1)\n",
    "\n",
    "    for sem_class in range(n_classes):\n",
    "        output_inds = (output == sem_class)\n",
    "        target_inds = (target == sem_class)\n",
    "\n",
    "        if target_inds.long().sum().item() == 0:\n",
    "            iou_curr = float('nan')\n",
    "        else:\n",
    "            intersection_curr = (output_inds[target_inds]).long().sum().item()\n",
    "            union_curr = output_inds.long().sum().item() + target_inds.long().sum().item() - intersection_curr\n",
    "            iou_curr = float(intersection_curr) / float(union_curr)\n",
    "            curr_iou_list.append(iou_curr)\n",
    "        iou_list.append(iou_curr)\n",
    "\n",
    "    return np.mean(curr_iou_list)\n",
    "\n",
    "# def dice_coef(output, target):\n",
    "#     smooth = 1e-5\n",
    "#     target_f = target.flatten()\n",
    "#     output_f = output.flatten()\n",
    "#     intersection = np.sum(target_f * output_f)\n",
    "#     return (2. * intersection + smooth) / (np.sum(target_f) + np.sum(output_f) + smooth)\n",
    "\n",
    "def dice_coef_multiclass(output, target, n_classes):\n",
    "    smooth = 1e-5 \n",
    "    output = torch.nn.functional.softmax(output, dim=1)\n",
    "    output = torch.argmax(output, dim=1).squeeze(1)\n",
    "    target = torch.argmax(target, dim=1)\n",
    "    intersection = (output*target).sum()\n",
    "\n",
    "    dice = (2. * intersection + smooth) / \\\n",
    "        (output.sum() + target.sum() + smooth)\n",
    "    return dice.item()\n",
    "\n",
    "    # dice = 0\n",
    "    # for i in range(n_classes):\n",
    "    #     dice += dice_coef(output[:,i,:,:], target[:,:,:])\n",
    "    # return dice/n_classes\n",
    "\n",
    "def sensitivity_metric_multiclass(output, target):\n",
    "    eps = 1e-5\n",
    "    output = torch.nn.functional.softmax(output, dim=1)\n",
    "    output = torch.argmax(output, dim=1).squeeze(1)\n",
    "    target = torch.argmax(target, dim=1)\n",
    "    # elements of confusion matrix\n",
    "    tp = torch.sum(output * target) # True Positive\n",
    "    fp = torch.sum(output * (1 - target)) # False Positive\n",
    "    fn = torch.sum((1 - output) * target) # False Negative\n",
    "    tn = torch.sum((1 - output) * (1 - target)) # True Negative\n",
    "    # compute sensitivity\n",
    "    sensitivity = (tp + eps) / (tp + fn + eps)\n",
    "    \n",
    "    return sensitivity.item()\n",
    "\n",
    "\n",
    "def dice_coef2(output, target):\n",
    "    \"This metric is for validation\"\n",
    "    smooth = 1e-5\n",
    "    output = output.view(-1)\n",
    "    output = (output>0.5).float().cpu().numpy()\n",
    "    target = target.view(-1).data.cpu().numpy()\n",
    "    intersection = (output*target).sum()\n",
    "\n",
    "    return (2. * intersection + smooth) / \\\n",
    "        (output.sum() + target.sum() + smooth)"
   ]
  },
  {
   "cell_type": "code",
   "execution_count": 7,
   "metadata": {
    "executionInfo": {
     "elapsed": 15,
     "status": "ok",
     "timestamp": 1665857909402,
     "user": {
      "displayName": "Joseph Portugal",
      "userId": "10660391166494605576"
     },
     "user_tz": -480
    },
    "id": "2eWnB-CoUhRz"
   },
   "outputs": [],
   "source": [
    "# def iou_score(output, target):\n",
    "#     smooth = 1e-5\n",
    "#     if torch.is_tensor(output):\n",
    "#         output = torch.sigmoid(output).data.cpu().numpy()\n",
    "#     if torch.is_tensor(target):\n",
    "#         target = target.data.cpu().numpy()\n",
    "#     output_ = output > 0.5\n",
    "#     target_ = target > 0.5\n",
    "#     intersection = (output_ & target_).sum()\n",
    "#     union = (output_ | target_).sum()\n",
    "\n",
    "#     return (intersection + smooth) / (union + smooth)\n",
    "\n",
    "\n",
    "# def dice_coef(output, target):\n",
    "#     smooth = 1e-5\n",
    "#     target_f = target.flatten()\n",
    "#     output_f = output.flatten()\n",
    "#     intersection = np.sum(target_f * output_f)\n",
    "#     return (2. * intersection + smooth) / (np.sum(target_f) + np.sum(output_f) + smooth)\n",
    "#     #Sigmoid is used because the U-Net output is logit\n",
    "#     # output = torch.sigmoid(output).view(-1).data.cpu().numpy()\n",
    "#     # target = target.view(-1).data.cpu().numpy()\n",
    "#     # intersection = (output*target).sum()\n",
    "\n",
    "#     # return (2. * intersection + smooth) / \\\n",
    "#     #     (output.sum() + target.sum() + smooth)\n",
    "\n",
    "\n",
    "# def sensitivity_metric(output, target):\n",
    "#     eps = 1e-5\n",
    "#     output = torch.sigmoid(output).view(-1).data.cpu()\n",
    "#     target = target.view(-1).data.cpu()\n",
    "#     # elements of confusion matrix\n",
    "#     tp = torch.sum(output * target) # True Positive\n",
    "#     fp = torch.sum(output * (1 - target)) # False Positive\n",
    "#     fn = torch.sum((1 - output) * target) # False Negative\n",
    "#     tn = torch.sum((1 - output) * (1 - target)) # True Negative\n",
    "#     # compute sensitivity\n",
    "#     sensitivity = (tp + eps) / (tp + fn + eps)\n",
    "    \n",
    "#     return sensitivity.item()\n",
    "\n",
    "\n",
    "# def dice_coef2(output, target):\n",
    "#     \"This metric is for validation\"\n",
    "#     smooth = 1e-5\n",
    "#     output = output.view(-1)\n",
    "#     output = (output>0.5).float().cpu().numpy()\n",
    "#     target = target.view(-1).data.cpu().numpy()\n",
    "#     intersection = (output*target).sum()\n",
    "\n",
    "#     return (2. * intersection + smooth) / \\\n",
    "#         (output.sum() + target.sum() + smooth)"
   ]
  },
  {
   "cell_type": "markdown",
   "metadata": {
    "id": "B9KwWQWgfngh"
   },
   "source": [
    "### Utilities"
   ]
  },
  {
   "cell_type": "code",
   "execution_count": 8,
   "metadata": {
    "executionInfo": {
     "elapsed": 15,
     "status": "ok",
     "timestamp": 1665857909403,
     "user": {
      "displayName": "Joseph Portugal",
      "userId": "10660391166494605576"
     },
     "user_tz": -480
    },
    "id": "V8sg63v7fngh"
   },
   "outputs": [],
   "source": [
    "def str_to_bool(v):\n",
    "    if v.lower() in ['true', 1]:\n",
    "        return True\n",
    "    elif v.lower() in ['false', 0]:\n",
    "        return False\n",
    "    else:\n",
    "        raise argparse.ArgumentTypeError('Boolean value expected.')\n",
    "\n",
    "def count_params(model):\n",
    "    return sum(p.numel() for p in model.parameters() if p.requires_grad)\n",
    "\n",
    "class AverageMeter(object):\n",
    "    #Computes and stores the average and current value\n",
    "    def __init__(self):\n",
    "        self.reset()\n",
    "    \n",
    "    def reset(self):\n",
    "        self.val = 0\n",
    "        self.avg = 0\n",
    "        self.sum = 0\n",
    "        self.count = 0\n",
    "    \n",
    "    def update(self, val, n=1):\n",
    "        self.val = val\n",
    "        self.sum += val * n\n",
    "        self.count += n\n",
    "        self.avg = self.sum / self.count"
   ]
  },
  {
   "cell_type": "markdown",
   "metadata": {
    "id": "hn2h7c3Ffngh"
   },
   "source": [
    "## Get Configuration"
   ]
  },
  {
   "cell_type": "code",
   "execution_count": 9,
   "metadata": {
    "colab": {
     "base_uri": "https://localhost:8080/"
    },
    "executionInfo": {
     "elapsed": 16,
     "status": "ok",
     "timestamp": 1665857909404,
     "user": {
      "displayName": "Joseph Portugal",
      "userId": "10660391166494605576"
     },
     "user_tz": -480
    },
    "id": "rtuiGqoGfngh",
    "outputId": "901784ed-cff3-433c-ad3d-3aa1c5683fc9"
   },
   "outputs": [
    {
     "name": "stdout",
     "output_type": "stream",
     "text": [
      "Creating directory called  UNet_with_augmentation\n",
      "--------------------\n",
      "Configuration Setting: \n",
      "Model:  UNet\n",
      "Max Epochs:  100\n",
      "Batch Size:  12\n",
      "Number of Workers:  8\n",
      "Optimizer:  Adam\n",
      "Learning Rate:  1e-05\n",
      "Augmentation:  True\n"
     ]
    }
   ],
   "source": [
    "if augmentation == True:\n",
    "    file_name = name + '_with_augmentation'\n",
    "else:\n",
    "    file_name = name + '_base'\n",
    "os.makedirs('model_outputs/{}'.format(file_name), exist_ok=True)\n",
    "print(\"Creating directory called \", file_name)\n",
    "\n",
    "print('-' * 20)\n",
    "print(\"Configuration Setting: \")\n",
    "print(\"Model: \", name)\n",
    "print(\"Max Epochs: \", epochs)\n",
    "print(\"Batch Size: \", batch_size)\n",
    "print(\"Number of Workers: \", num_workers)\n",
    "print(\"Optimizer: \", optimizer)\n",
    "print(\"Learning Rate: \", lr)\n",
    "print(\"Augmentation: \", augmentation)"
   ]
  },
  {
   "cell_type": "markdown",
   "metadata": {
    "id": "w7n4I2d8fngi"
   },
   "source": [
    "## Create Model"
   ]
  },
  {
   "cell_type": "code",
   "execution_count": 10,
   "metadata": {
    "colab": {
     "base_uri": "https://localhost:8080/"
    },
    "executionInfo": {
     "elapsed": 8560,
     "status": "ok",
     "timestamp": 1665857917949,
     "user": {
      "displayName": "Joseph Portugal",
      "userId": "10660391166494605576"
     },
     "user_tz": -480
    },
    "id": "QuxjmCnzfngi",
    "outputId": "ff9d6a3e-acc5-43ab-dcc5-bd95c5d26245"
   },
   "outputs": [
    {
     "name": "stdout",
     "output_type": "stream",
     "text": [
      "Creating model...\n",
      "==========================================================================================\n",
      "Layer (type:depth-idx)                   Output Shape              Param #\n",
      "==========================================================================================\n",
      "├─inconv: 1-1                            [-1, 64, 512, 512]        --\n",
      "|    └─double_conv: 2-1                  [-1, 64, 512, 512]        --\n",
      "|    |    └─Sequential: 3-1              [-1, 64, 512, 512]        37,824\n",
      "├─down: 1-2                              [-1, 128, 256, 256]       --\n",
      "|    └─Sequential: 2-2                   [-1, 128, 256, 256]       --\n",
      "|    |    └─MaxPool2d: 3-2               [-1, 64, 256, 256]        --\n",
      "|    |    └─double_conv: 3-3             [-1, 128, 256, 256]       221,952\n",
      "├─down: 1-3                              [-1, 256, 128, 128]       --\n",
      "|    └─Sequential: 2-3                   [-1, 256, 128, 128]       --\n",
      "|    |    └─MaxPool2d: 3-4               [-1, 128, 128, 128]       --\n",
      "|    |    └─double_conv: 3-5             [-1, 256, 128, 128]       886,272\n",
      "├─down: 1-4                              [-1, 512, 64, 64]         --\n",
      "|    └─Sequential: 2-4                   [-1, 512, 64, 64]         --\n",
      "|    |    └─MaxPool2d: 3-6               [-1, 256, 64, 64]         --\n",
      "|    |    └─double_conv: 3-7             [-1, 512, 64, 64]         3,542,016\n",
      "├─down: 1-5                              [-1, 512, 32, 32]         --\n",
      "|    └─Sequential: 2-5                   [-1, 512, 32, 32]         --\n",
      "|    |    └─MaxPool2d: 3-8               [-1, 512, 32, 32]         --\n",
      "|    |    └─double_conv: 3-9             [-1, 512, 32, 32]         4,721,664\n",
      "├─up: 1-6                                [-1, 256, 64, 64]         --\n",
      "|    └─Upsample: 2-6                     [-1, 512, 64, 64]         --\n",
      "|    └─double_conv: 2-7                  [-1, 256, 64, 64]         --\n",
      "|    |    └─Sequential: 3-10             [-1, 256, 64, 64]         2,950,656\n",
      "├─up: 1-7                                [-1, 128, 128, 128]       --\n",
      "|    └─Upsample: 2-8                     [-1, 256, 128, 128]       --\n",
      "|    └─double_conv: 2-9                  [-1, 128, 128, 128]       --\n",
      "|    |    └─Sequential: 3-11             [-1, 128, 128, 128]       738,048\n",
      "├─up: 1-8                                [-1, 64, 256, 256]        --\n",
      "|    └─Upsample: 2-10                    [-1, 128, 256, 256]       --\n",
      "|    └─double_conv: 2-11                 [-1, 64, 256, 256]        --\n",
      "|    |    └─Sequential: 3-12             [-1, 64, 256, 256]        184,704\n",
      "├─up: 1-9                                [-1, 64, 512, 512]        --\n",
      "|    └─Upsample: 2-12                    [-1, 64, 512, 512]        --\n",
      "|    └─double_conv: 2-13                 [-1, 64, 512, 512]        --\n",
      "|    |    └─Sequential: 3-13             [-1, 64, 512, 512]        110,976\n",
      "├─outconv: 1-10                          [-1, 4, 512, 512]         --\n",
      "|    └─Conv2d: 2-14                      [-1, 4, 512, 512]         260\n",
      "==========================================================================================\n",
      "Total params: 13,394,372\n",
      "Trainable params: 13,394,372\n",
      "Non-trainable params: 0\n",
      "Total mult-adds (G): 75.16\n",
      "==========================================================================================\n",
      "Input size (MB): 1.00\n",
      "Forward/backward pass size (MB): 1256.00\n",
      "Params size (MB): 51.10\n",
      "Estimated Total Size (MB): 1308.10\n",
      "==========================================================================================\n"
     ]
    },
    {
     "name": "stderr",
     "output_type": "stream",
     "text": [
      "/home/joseph.portugal/.local/lib/python3.9/site-packages/torch/nn/functional.py:1806: UserWarning: nn.functional.sigmoid is deprecated. Use torch.sigmoid instead.\n",
      "  warnings.warn(\"nn.functional.sigmoid is deprecated. Use torch.sigmoid instead.\")\n"
     ]
    },
    {
     "data": {
      "text/plain": [
       "==========================================================================================\n",
       "Layer (type:depth-idx)                   Output Shape              Param #\n",
       "==========================================================================================\n",
       "├─inconv: 1-1                            [-1, 64, 512, 512]        --\n",
       "|    └─double_conv: 2-1                  [-1, 64, 512, 512]        --\n",
       "|    |    └─Sequential: 3-1              [-1, 64, 512, 512]        37,824\n",
       "├─down: 1-2                              [-1, 128, 256, 256]       --\n",
       "|    └─Sequential: 2-2                   [-1, 128, 256, 256]       --\n",
       "|    |    └─MaxPool2d: 3-2               [-1, 64, 256, 256]        --\n",
       "|    |    └─double_conv: 3-3             [-1, 128, 256, 256]       221,952\n",
       "├─down: 1-3                              [-1, 256, 128, 128]       --\n",
       "|    └─Sequential: 2-3                   [-1, 256, 128, 128]       --\n",
       "|    |    └─MaxPool2d: 3-4               [-1, 128, 128, 128]       --\n",
       "|    |    └─double_conv: 3-5             [-1, 256, 128, 128]       886,272\n",
       "├─down: 1-4                              [-1, 512, 64, 64]         --\n",
       "|    └─Sequential: 2-4                   [-1, 512, 64, 64]         --\n",
       "|    |    └─MaxPool2d: 3-6               [-1, 256, 64, 64]         --\n",
       "|    |    └─double_conv: 3-7             [-1, 512, 64, 64]         3,542,016\n",
       "├─down: 1-5                              [-1, 512, 32, 32]         --\n",
       "|    └─Sequential: 2-5                   [-1, 512, 32, 32]         --\n",
       "|    |    └─MaxPool2d: 3-8               [-1, 512, 32, 32]         --\n",
       "|    |    └─double_conv: 3-9             [-1, 512, 32, 32]         4,721,664\n",
       "├─up: 1-6                                [-1, 256, 64, 64]         --\n",
       "|    └─Upsample: 2-6                     [-1, 512, 64, 64]         --\n",
       "|    └─double_conv: 2-7                  [-1, 256, 64, 64]         --\n",
       "|    |    └─Sequential: 3-10             [-1, 256, 64, 64]         2,950,656\n",
       "├─up: 1-7                                [-1, 128, 128, 128]       --\n",
       "|    └─Upsample: 2-8                     [-1, 256, 128, 128]       --\n",
       "|    └─double_conv: 2-9                  [-1, 128, 128, 128]       --\n",
       "|    |    └─Sequential: 3-11             [-1, 128, 128, 128]       738,048\n",
       "├─up: 1-8                                [-1, 64, 256, 256]        --\n",
       "|    └─Upsample: 2-10                    [-1, 128, 256, 256]       --\n",
       "|    └─double_conv: 2-11                 [-1, 64, 256, 256]        --\n",
       "|    |    └─Sequential: 3-12             [-1, 64, 256, 256]        184,704\n",
       "├─up: 1-9                                [-1, 64, 512, 512]        --\n",
       "|    └─Upsample: 2-12                    [-1, 64, 512, 512]        --\n",
       "|    └─double_conv: 2-13                 [-1, 64, 512, 512]        --\n",
       "|    |    └─Sequential: 3-13             [-1, 64, 512, 512]        110,976\n",
       "├─outconv: 1-10                          [-1, 4, 512, 512]         --\n",
       "|    └─Conv2d: 2-14                      [-1, 4, 512, 512]         260\n",
       "==========================================================================================\n",
       "Total params: 13,394,372\n",
       "Trainable params: 13,394,372\n",
       "Non-trainable params: 0\n",
       "Total mult-adds (G): 75.16\n",
       "==========================================================================================\n",
       "Input size (MB): 1.00\n",
       "Forward/backward pass size (MB): 1256.00\n",
       "Params size (MB): 51.10\n",
       "Estimated Total Size (MB): 1308.10\n",
       "=========================================================================================="
      ]
     },
     "execution_count": 10,
     "metadata": {},
     "output_type": "execute_result"
    }
   ],
   "source": [
    "criterion = torch.nn.CrossEntropyLoss().cuda() if torch.cuda.is_available() else torch.nn.CrossEntropyLoss()\n",
    "cudnn.benchmark = True\n",
    "\n",
    "#Creating the model\n",
    "print(\"Creating model...\")\n",
    "if name == 'NestedUNet':\n",
    "    model = NestedUNet(num_classes=4)\n",
    "else:\n",
    "    model = UNet(n_channels=1, n_classes=4)\n",
    "model = model.cuda() if torch.cuda.is_available() else model\n",
    "\n",
    "if torch.cuda.device_count() > 1:\n",
    "    print(\"We can use \", torch.cuda.device_count(), \" GPUs.\")\n",
    "    model = nn.DataParallel(model)\n",
    "\n",
    "params = filter(lambda p: p.requires_grad, model.parameters())\n",
    "\n",
    "if optimizer == 'Adam':\n",
    "    optimizer = optim.Adam(params, lr=lr, weight_decay=weight_decay)\n",
    "elif optimizer == 'SGD':\n",
    "    optimizer = optim.SGD(params, lr=lr, momentum=momentum, nesterov=nesterov, weight_decay=weight_decay)\n",
    "else:\n",
    "    raise NotImplementedError\n",
    "    \n",
    "summary.summary(model,(1,512,512))"
   ]
  },
  {
   "cell_type": "markdown",
   "metadata": {
    "id": "WxuoE_jLfngi"
   },
   "source": [
    "## Load Dataset"
   ]
  },
  {
   "cell_type": "code",
   "execution_count": 11,
   "metadata": {
    "colab": {
     "base_uri": "https://localhost:8080/"
    },
    "executionInfo": {
     "elapsed": 14,
     "status": "ok",
     "timestamp": 1665857917950,
     "user": {
      "displayName": "Joseph Portugal",
      "userId": "10660391166494605576"
     },
     "user_tz": -480
    },
    "id": "2k5hV9l5fngj",
    "outputId": "055cb39d-ae86-4736-c2b7-e441a582ec16"
   },
   "outputs": [
    {
     "name": "stdout",
     "output_type": "stream",
     "text": [
      "**************************************************\n",
      "Original images: 980, masks: 980 for training.\n",
      "Original images: 177, masks: 177 for validation.\n",
      "Ratio between Validation and Training is 0.180612\n",
      "**************************************************\n",
      "**************************************************\n",
      "Train: 3920\n",
      "Validate: 177\n",
      "**************************************************\n"
     ]
    }
   ],
   "source": [
    "#directory of Images and Masks folders (generated from preprocessing)                                         \n",
    "IMAGE_DIR = '/scratch1/joseph.portugal/LIDC-IDRI Preprocessed Exp 3/Image/'\n",
    "MASK_DIR = '/scratch1/joseph.portugal/LIDC-IDRI Preprocessed Exp 3/Mask/'                                                                 \n",
    "\n",
    "#meta information\n",
    "meta = pd.read_csv('/scratch1/joseph.portugal/LIDC-IDRI Preprocessed Exp 3/Meta/meta.csv')\n",
    "meta = meta[meta['patient_diagnosis'] != 0]\n",
    "\n",
    "#Get train/test label from metadata file\n",
    "meta['original_image'] = meta['original_image'].apply(lambda x: IMAGE_DIR + \"LIDC-IDRI-\" + x[:4] + \"/\" + x + \".npy\")\n",
    "meta['mask_image'] = meta['mask_image'].apply(lambda x: MASK_DIR + \"LIDC-IDRI-\" + x[:4] + \"/\" + x + \".npy\")\n",
    "\n",
    "\n",
    "#Split into training and validation\n",
    "train_meta = meta[meta['data_split']=='Train']\n",
    "val_meta = meta[meta['data_split']=='Validation']\n",
    "\n",
    "#Get training images into list\n",
    "train_image_paths = list(train_meta['original_image'])\n",
    "train_mask_paths = list(train_meta['mask_image'])\n",
    "\n",
    "#Get validation images into list\n",
    "val_image_paths = list(val_meta['original_image'])\n",
    "val_mask_paths = list(val_meta['mask_image'])\n",
    "\n",
    "print(\"*\"*50)\n",
    "print(\"Original images: {}, masks: {} for training.\".format(len(train_image_paths),len(train_mask_paths)))\n",
    "print(\"Original images: {}, masks: {} for validation.\".format(len(val_image_paths),len(val_mask_paths)))\n",
    "print(\"Ratio between Validation and Training is {:2f}\".format(len(val_image_paths)/len(train_image_paths)))\n",
    "print(\"*\"*50)\n",
    "\n",
    "#Creating custom LIDC dataset\n",
    "train_dataset = LidcDataset(train_image_paths, train_mask_paths, transforms=toTensor)\n",
    "val_dataset = LidcDataset(val_image_paths, val_mask_paths, transforms=toTensor)\n",
    "\n",
    "train_dataset_A1 = LidcDataset(train_image_paths, train_mask_paths, transforms=transform1)\n",
    "train_dataset_A2 = LidcDataset(train_image_paths, train_mask_paths, transforms=transform2)\n",
    "train_dataset_A3 = LidcDataset(train_image_paths, train_mask_paths, transforms=transform3)\n",
    "\n",
    "train_sets = torch.utils.data.ConcatDataset([train_dataset, train_dataset_A1, train_dataset_A2, train_dataset_A3])\n",
    "\n",
    "print(\"*\"*50)\n",
    "print(\"Train: {}\".format(len(train_sets)))\n",
    "print(\"Validate: {}\".format(len(val_dataset)))\n",
    "print(\"*\"*50)\n",
    "\n",
    "\n",
    "#Creating Dataloader\n",
    "train_loader = DataLoader(\n",
    "  train_sets,\n",
    "  batch_size=batch_size,\n",
    "  shuffle=True,\n",
    "  pin_memory=True,\n",
    "  drop_last=True,\n",
    "  num_workers=num_workers\n",
    ")\n",
    "val_loader = DataLoader(\n",
    "  val_dataset,\n",
    "  batch_size=batch_size,\n",
    "  shuffle=False,\n",
    "  pin_memory=True,\n",
    "  drop_last=False,\n",
    "  num_workers=num_workers\n",
    ")"
   ]
  },
  {
   "cell_type": "markdown",
   "metadata": {
    "id": "nFUeTMtlfngj"
   },
   "source": [
    "## Train the Model"
   ]
  },
  {
   "cell_type": "code",
   "execution_count": 12,
   "metadata": {
    "executionInfo": {
     "elapsed": 10,
     "status": "ok",
     "timestamp": 1665857917950,
     "user": {
      "displayName": "Joseph Portugal",
      "userId": "10660391166494605576"
     },
     "user_tz": -480
    },
    "id": "FMvFNYA-f6V8"
   },
   "outputs": [],
   "source": [
    "torch.cuda.empty_cache()"
   ]
  },
  {
   "cell_type": "code",
   "execution_count": 13,
   "metadata": {
    "colab": {
     "base_uri": "https://localhost:8080/",
     "height": 390
    },
    "executionInfo": {
     "elapsed": 72957,
     "status": "error",
     "timestamp": 1665857990898,
     "user": {
      "displayName": "Joseph Portugal",
      "userId": "10660391166494605576"
     },
     "user_tz": -480
    },
    "id": "dkIDHbbffngk",
    "outputId": "f3504acb-d996-48ae-e15e-27ba13897637"
   },
   "outputs": [
    {
     "name": "stderr",
     "output_type": "stream",
     "text": [
      "100%|██████████| 326/326 [06:53<00:00,  1.27s/it, loss=1.28, iou=0.85, dice=2.43e-11, sensitivity=1]  \n",
      "100%|██████████| 15/15 [00:11<00:00,  1.31it/s, val_loss=1.23, val_iou=0.982, val_dice=1.49e-10, val_sensitivity=1]\n"
     ]
    },
    {
     "name": "stdout",
     "output_type": "stream",
     "text": [
      "Training Epoch 1/100,  Training BCE Loss: 1.2829,  Training DICE: 0.0000,  Training IOU: 0.8498,  Training Sensitivity: 1.0000,  Validation BCE Loss: 1.2262,  Validation DICE: 0.0000,  Validation IOU: 0.9825,  Validation Sensitivity: 1.0000\n",
      "Saved new best model based on DICE metric!\n"
     ]
    },
    {
     "name": "stderr",
     "output_type": "stream",
     "text": [
      "100%|██████████| 326/326 [06:44<00:00,  1.24s/it, loss=1.21, iou=0.995, dice=9.35e-10, sensitivity=1]\n",
      "100%|██████████| 15/15 [00:06<00:00,  2.35it/s, val_loss=1.2, val_iou=0.999, val_dice=0.119, val_sensitivity=1]  \n"
     ]
    },
    {
     "name": "stdout",
     "output_type": "stream",
     "text": [
      "Training Epoch 2/100,  Training BCE Loss: 1.2134,  Training DICE: 0.0000,  Training IOU: 0.9952,  Training Sensitivity: 1.0000,  Validation BCE Loss: 1.1977,  Validation DICE: 0.1186,  Validation IOU: 0.9988,  Validation Sensitivity: 1.0000\n",
      "Saved new best model based on DICE metric!\n"
     ]
    },
    {
     "name": "stderr",
     "output_type": "stream",
     "text": [
      "100%|██████████| 326/326 [06:44<00:00,  1.24s/it, loss=1.19, iou=0.999, dice=2.98e-9, sensitivity=1]\n",
      "100%|██████████| 15/15 [00:06<00:00,  2.39it/s, val_loss=1.17, val_iou=1, val_dice=0.322, val_sensitivity=1] \n"
     ]
    },
    {
     "name": "stdout",
     "output_type": "stream",
     "text": [
      "Training Epoch 3/100,  Training BCE Loss: 1.1889,  Training DICE: 0.0000,  Training IOU: 0.9989,  Training Sensitivity: 1.0000,  Validation BCE Loss: 1.1748,  Validation DICE: 0.3220,  Validation IOU: 0.9997,  Validation Sensitivity: 1.0000\n",
      "Saved new best model based on DICE metric!\n"
     ]
    },
    {
     "name": "stderr",
     "output_type": "stream",
     "text": [
      "100%|██████████| 326/326 [06:44<00:00,  1.24s/it, loss=1.17, iou=0.998, dice=3.73e-9, sensitivity=1]\n",
      "100%|██████████| 15/15 [00:06<00:00,  2.39it/s, val_loss=1.16, val_iou=0.998, val_dice=0.186, val_sensitivity=1] \n"
     ]
    },
    {
     "name": "stdout",
     "output_type": "stream",
     "text": [
      "Training Epoch 4/100,  Training BCE Loss: 1.1690,  Training DICE: 0.0000,  Training IOU: 0.9981,  Training Sensitivity: 1.0000,  Validation BCE Loss: 1.1582,  Validation DICE: 0.1864,  Validation IOU: 0.9985,  Validation Sensitivity: 1.0000\n"
     ]
    },
    {
     "name": "stderr",
     "output_type": "stream",
     "text": [
      "100%|██████████| 326/326 [06:44<00:00,  1.24s/it, loss=1.15, iou=0.999, dice=2.83e-9, sensitivity=1]\n",
      "100%|██████████| 15/15 [00:06<00:00,  2.37it/s, val_loss=1.14, val_iou=0.995, val_dice=0.119, val_sensitivity=1]   \n"
     ]
    },
    {
     "name": "stdout",
     "output_type": "stream",
     "text": [
      "Training Epoch 5/100,  Training BCE Loss: 1.1491,  Training DICE: 0.0000,  Training IOU: 0.9988,  Training Sensitivity: 1.0000,  Validation BCE Loss: 1.1416,  Validation DICE: 0.1186,  Validation IOU: 0.9953,  Validation Sensitivity: 1.0000\n"
     ]
    },
    {
     "name": "stderr",
     "output_type": "stream",
     "text": [
      "100%|██████████| 326/326 [06:44<00:00,  1.24s/it, loss=1.13, iou=0.999, dice=4.94e-9, sensitivity=1]\n",
      "100%|██████████| 15/15 [00:06<00:00,  2.36it/s, val_loss=1.12, val_iou=1, val_dice=0.39, val_sensitivity=1]  \n"
     ]
    },
    {
     "name": "stdout",
     "output_type": "stream",
     "text": [
      "Training Epoch 6/100,  Training BCE Loss: 1.1287,  Training DICE: 0.0000,  Training IOU: 0.9994,  Training Sensitivity: 1.0000,  Validation BCE Loss: 1.1173,  Validation DICE: 0.3898,  Validation IOU: 0.9997,  Validation Sensitivity: 1.0000\n",
      "Saved new best model based on DICE metric!\n"
     ]
    },
    {
     "name": "stderr",
     "output_type": "stream",
     "text": [
      "100%|██████████| 326/326 [06:44<00:00,  1.24s/it, loss=1.11, iou=0.999, dice=6.36e-9, sensitivity=1]\n",
      "100%|██████████| 15/15 [00:06<00:00,  2.39it/s, val_loss=1.1, val_iou=1, val_dice=0.322, val_sensitivity=1]     \n"
     ]
    },
    {
     "name": "stdout",
     "output_type": "stream",
     "text": [
      "Training Epoch 7/100,  Training BCE Loss: 1.1099,  Training DICE: 0.0000,  Training IOU: 0.9995,  Training Sensitivity: 1.0000,  Validation BCE Loss: 1.0978,  Validation DICE: 0.3220,  Validation IOU: 0.9996,  Validation Sensitivity: 1.0000\n"
     ]
    },
    {
     "name": "stderr",
     "output_type": "stream",
     "text": [
      "100%|██████████| 326/326 [06:44<00:00,  1.24s/it, loss=1.09, iou=0.999, dice=5.44e-9, sensitivity=1]\n",
      "100%|██████████| 15/15 [00:06<00:00,  2.36it/s, val_loss=1.08, val_iou=0.999, val_dice=0.254, val_sensitivity=1] \n"
     ]
    },
    {
     "name": "stdout",
     "output_type": "stream",
     "text": [
      "Training Epoch 8/100,  Training BCE Loss: 1.0909,  Training DICE: 0.0000,  Training IOU: 0.9993,  Training Sensitivity: 1.0000,  Validation BCE Loss: 1.0809,  Validation DICE: 0.2542,  Validation IOU: 0.9995,  Validation Sensitivity: 1.0000\n"
     ]
    },
    {
     "name": "stderr",
     "output_type": "stream",
     "text": [
      "100%|██████████| 326/326 [06:44<00:00,  1.24s/it, loss=1.07, iou=1, dice=8.33e-9, sensitivity=1]\n",
      "100%|██████████| 15/15 [00:06<00:00,  2.38it/s, val_loss=1.06, val_iou=0.999, val_dice=0.254, val_sensitivity=1] \n"
     ]
    },
    {
     "name": "stdout",
     "output_type": "stream",
     "text": [
      "Training Epoch 9/100,  Training BCE Loss: 1.0706,  Training DICE: 0.0000,  Training IOU: 0.9996,  Training Sensitivity: 1.0000,  Validation BCE Loss: 1.0618,  Validation DICE: 0.2542,  Validation IOU: 0.9993,  Validation Sensitivity: 1.0000\n"
     ]
    },
    {
     "name": "stderr",
     "output_type": "stream",
     "text": [
      "100%|██████████| 326/326 [06:44<00:00,  1.24s/it, loss=1.05, iou=1, dice=9.92e-9, sensitivity=1]\n",
      "100%|██████████| 15/15 [00:06<00:00,  2.35it/s, val_loss=1.05, val_iou=1, val_dice=0.458, val_sensitivity=1]\n"
     ]
    },
    {
     "name": "stdout",
     "output_type": "stream",
     "text": [
      "Training Epoch 10/100,  Training BCE Loss: 1.0524,  Training DICE: 0.0000,  Training IOU: 0.9997,  Training Sensitivity: 1.0000,  Validation BCE Loss: 1.0453,  Validation DICE: 0.4576,  Validation IOU: 0.9997,  Validation Sensitivity: 1.0000\n",
      "Saved new best model based on DICE metric!\n"
     ]
    },
    {
     "name": "stderr",
     "output_type": "stream",
     "text": [
      "100%|██████████| 326/326 [06:44<00:00,  1.24s/it, loss=1.04, iou=1, dice=1.04e-8, sensitivity=1]\n",
      "100%|██████████| 15/15 [00:06<00:00,  2.40it/s, val_loss=1.03, val_iou=1, val_dice=0.254, val_sensitivity=1]     \n"
     ]
    },
    {
     "name": "stdout",
     "output_type": "stream",
     "text": [
      "Training Epoch 11/100,  Training BCE Loss: 1.0355,  Training DICE: 0.0000,  Training IOU: 0.9996,  Training Sensitivity: 1.0000,  Validation BCE Loss: 1.0294,  Validation DICE: 0.2542,  Validation IOU: 0.9996,  Validation Sensitivity: 1.0000\n"
     ]
    },
    {
     "name": "stderr",
     "output_type": "stream",
     "text": [
      "100%|██████████| 326/326 [06:44<00:00,  1.24s/it, loss=1.02, iou=1, dice=8.34e-9, sensitivity=1]    \n",
      "100%|██████████| 15/15 [00:06<00:00,  2.39it/s, val_loss=1.01, val_iou=1, val_dice=0.254, val_sensitivity=1]     \n"
     ]
    },
    {
     "name": "stdout",
     "output_type": "stream",
     "text": [
      "Training Epoch 12/100,  Training BCE Loss: 1.0185,  Training DICE: 0.0000,  Training IOU: 0.9996,  Training Sensitivity: 1.0000,  Validation BCE Loss: 1.0092,  Validation DICE: 0.2542,  Validation IOU: 0.9997,  Validation Sensitivity: 1.0000\n"
     ]
    },
    {
     "name": "stderr",
     "output_type": "stream",
     "text": [
      "100%|██████████| 326/326 [06:44<00:00,  1.24s/it, loss=1, iou=1, dice=1.32e-8, sensitivity=1]   \n",
      "100%|██████████| 15/15 [00:06<00:00,  2.37it/s, val_loss=0.992, val_iou=1, val_dice=0.322, val_sensitivity=1] \n"
     ]
    },
    {
     "name": "stdout",
     "output_type": "stream",
     "text": [
      "Training Epoch 13/100,  Training BCE Loss: 1.0019,  Training DICE: 0.0000,  Training IOU: 0.9997,  Training Sensitivity: 1.0000,  Validation BCE Loss: 0.9922,  Validation DICE: 0.3220,  Validation IOU: 0.9998,  Validation Sensitivity: 1.0000\n"
     ]
    },
    {
     "name": "stderr",
     "output_type": "stream",
     "text": [
      "100%|██████████| 326/326 [06:44<00:00,  1.24s/it, loss=0.987, iou=1, dice=1.54e-8, sensitivity=1]\n",
      "100%|██████████| 15/15 [00:06<00:00,  2.38it/s, val_loss=0.98, val_iou=1, val_dice=0.39, val_sensitivity=1]   \n"
     ]
    },
    {
     "name": "stdout",
     "output_type": "stream",
     "text": [
      "Training Epoch 14/100,  Training BCE Loss: 0.9867,  Training DICE: 0.0000,  Training IOU: 0.9998,  Training Sensitivity: 1.0000,  Validation BCE Loss: 0.9805,  Validation DICE: 0.3898,  Validation IOU: 0.9998,  Validation Sensitivity: 1.0000\n"
     ]
    },
    {
     "name": "stderr",
     "output_type": "stream",
     "text": [
      "100%|██████████| 326/326 [06:44<00:00,  1.24s/it, loss=0.972, iou=1, dice=1.71e-8, sensitivity=1]\n",
      "100%|██████████| 15/15 [00:06<00:00,  2.36it/s, val_loss=0.964, val_iou=0.999, val_dice=0.254, val_sensitivity=1] \n"
     ]
    },
    {
     "name": "stdout",
     "output_type": "stream",
     "text": [
      "Training Epoch 15/100,  Training BCE Loss: 0.9722,  Training DICE: 0.0000,  Training IOU: 0.9998,  Training Sensitivity: 1.0000,  Validation BCE Loss: 0.9636,  Validation DICE: 0.2542,  Validation IOU: 0.9994,  Validation Sensitivity: 1.0000\n"
     ]
    },
    {
     "name": "stderr",
     "output_type": "stream",
     "text": [
      "100%|██████████| 326/326 [06:45<00:00,  1.24s/it, loss=0.958, iou=1, dice=1.88e-8, sensitivity=1]\n",
      "100%|██████████| 15/15 [00:06<00:00,  2.39it/s, val_loss=0.949, val_iou=1, val_dice=0.322, val_sensitivity=1] \n"
     ]
    },
    {
     "name": "stdout",
     "output_type": "stream",
     "text": [
      "Training Epoch 16/100,  Training BCE Loss: 0.9577,  Training DICE: 0.0000,  Training IOU: 0.9998,  Training Sensitivity: 1.0000,  Validation BCE Loss: 0.9487,  Validation DICE: 0.3220,  Validation IOU: 0.9997,  Validation Sensitivity: 1.0000\n"
     ]
    },
    {
     "name": "stderr",
     "output_type": "stream",
     "text": [
      "100%|██████████| 326/326 [06:45<00:00,  1.24s/it, loss=0.944, iou=1, dice=1.89e-8, sensitivity=1]\n",
      "100%|██████████| 15/15 [00:06<00:00,  2.37it/s, val_loss=0.936, val_iou=1, val_dice=0.458, val_sensitivity=1]\n"
     ]
    },
    {
     "name": "stdout",
     "output_type": "stream",
     "text": [
      "Training Epoch 17/100,  Training BCE Loss: 0.9442,  Training DICE: 0.0000,  Training IOU: 0.9998,  Training Sensitivity: 1.0000,  Validation BCE Loss: 0.9358,  Validation DICE: 0.4576,  Validation IOU: 0.9998,  Validation Sensitivity: 1.0000\n",
      "Saved new best model based on DICE metric!\n"
     ]
    },
    {
     "name": "stderr",
     "output_type": "stream",
     "text": [
      "100%|██████████| 326/326 [06:44<00:00,  1.24s/it, loss=0.931, iou=1, dice=2.03e-8, sensitivity=1]\n",
      "100%|██████████| 15/15 [00:06<00:00,  2.37it/s, val_loss=0.921, val_iou=1, val_dice=0.254, val_sensitivity=1]     \n"
     ]
    },
    {
     "name": "stdout",
     "output_type": "stream",
     "text": [
      "Training Epoch 18/100,  Training BCE Loss: 0.9306,  Training DICE: 0.0000,  Training IOU: 0.9998,  Training Sensitivity: 1.0000,  Validation BCE Loss: 0.9208,  Validation DICE: 0.2542,  Validation IOU: 0.9996,  Validation Sensitivity: 1.0000\n"
     ]
    },
    {
     "name": "stderr",
     "output_type": "stream",
     "text": [
      "100%|██████████| 326/326 [06:44<00:00,  1.24s/it, loss=0.918, iou=1, dice=1.64e-8, sensitivity=1]\n",
      "100%|██████████| 15/15 [00:06<00:00,  2.39it/s, val_loss=0.914, val_iou=1, val_dice=0.458, val_sensitivity=1]\n"
     ]
    },
    {
     "name": "stdout",
     "output_type": "stream",
     "text": [
      "Training Epoch 19/100,  Training BCE Loss: 0.9178,  Training DICE: 0.0000,  Training IOU: 0.9997,  Training Sensitivity: 1.0000,  Validation BCE Loss: 0.9140,  Validation DICE: 0.4576,  Validation IOU: 0.9999,  Validation Sensitivity: 1.0000\n",
      "Saved new best model based on DICE metric!\n"
     ]
    },
    {
     "name": "stderr",
     "output_type": "stream",
     "text": [
      "100%|██████████| 326/326 [06:44<00:00,  1.24s/it, loss=0.906, iou=1, dice=2.15e-8, sensitivity=1]\n",
      "100%|██████████| 15/15 [00:06<00:00,  2.35it/s, val_loss=0.9, val_iou=1, val_dice=0.458, val_sensitivity=1]  \n"
     ]
    },
    {
     "name": "stdout",
     "output_type": "stream",
     "text": [
      "Training Epoch 20/100,  Training BCE Loss: 0.9059,  Training DICE: 0.0000,  Training IOU: 0.9998,  Training Sensitivity: 1.0000,  Validation BCE Loss: 0.9002,  Validation DICE: 0.4576,  Validation IOU: 0.9998,  Validation Sensitivity: 1.0000\n"
     ]
    },
    {
     "name": "stderr",
     "output_type": "stream",
     "text": [
      "100%|██████████| 326/326 [06:45<00:00,  1.24s/it, loss=0.895, iou=1, dice=2.41e-8, sensitivity=1]\n",
      "100%|██████████| 15/15 [00:06<00:00,  2.35it/s, val_loss=0.89, val_iou=1, val_dice=0.39, val_sensitivity=1]   \n"
     ]
    },
    {
     "name": "stdout",
     "output_type": "stream",
     "text": [
      "Training Epoch 21/100,  Training BCE Loss: 0.8950,  Training DICE: 0.0000,  Training IOU: 0.9998,  Training Sensitivity: 1.0000,  Validation BCE Loss: 0.8897,  Validation DICE: 0.3898,  Validation IOU: 0.9997,  Validation Sensitivity: 1.0000\n"
     ]
    },
    {
     "name": "stderr",
     "output_type": "stream",
     "text": [
      "100%|██████████| 326/326 [06:45<00:00,  1.24s/it, loss=0.885, iou=1, dice=2.04e-8, sensitivity=1]\n",
      "100%|██████████| 15/15 [00:06<00:00,  2.37it/s, val_loss=0.878, val_iou=1, val_dice=0.593, val_sensitivity=1]\n"
     ]
    },
    {
     "name": "stdout",
     "output_type": "stream",
     "text": [
      "Training Epoch 22/100,  Training BCE Loss: 0.8849,  Training DICE: 0.0000,  Training IOU: 0.9998,  Training Sensitivity: 1.0000,  Validation BCE Loss: 0.8784,  Validation DICE: 0.5932,  Validation IOU: 0.9999,  Validation Sensitivity: 1.0000\n",
      "Saved new best model based on DICE metric!\n"
     ]
    },
    {
     "name": "stderr",
     "output_type": "stream",
     "text": [
      "100%|██████████| 326/326 [06:45<00:00,  1.24s/it, loss=0.875, iou=1, dice=2.88e-8, sensitivity=1]\n",
      "100%|██████████| 15/15 [00:06<00:00,  2.35it/s, val_loss=0.87, val_iou=1, val_dice=0.458, val_sensitivity=1] \n"
     ]
    },
    {
     "name": "stdout",
     "output_type": "stream",
     "text": [
      "Training Epoch 23/100,  Training BCE Loss: 0.8753,  Training DICE: 0.0000,  Training IOU: 0.9999,  Training Sensitivity: 1.0000,  Validation BCE Loss: 0.8701,  Validation DICE: 0.4576,  Validation IOU: 0.9998,  Validation Sensitivity: 1.0000\n"
     ]
    },
    {
     "name": "stderr",
     "output_type": "stream",
     "text": [
      "100%|██████████| 326/326 [06:45<00:00,  1.24s/it, loss=0.866, iou=1, dice=3.08e-8, sensitivity=1]\n",
      "100%|██████████| 15/15 [00:06<00:00,  2.39it/s, val_loss=0.862, val_iou=1, val_dice=0.39, val_sensitivity=1]  \n"
     ]
    },
    {
     "name": "stdout",
     "output_type": "stream",
     "text": [
      "Training Epoch 24/100,  Training BCE Loss: 0.8664,  Training DICE: 0.0000,  Training IOU: 0.9999,  Training Sensitivity: 1.0000,  Validation BCE Loss: 0.8616,  Validation DICE: 0.3898,  Validation IOU: 0.9998,  Validation Sensitivity: 1.0000\n"
     ]
    },
    {
     "name": "stderr",
     "output_type": "stream",
     "text": [
      "100%|██████████| 326/326 [06:44<00:00,  1.24s/it, loss=0.858, iou=1, dice=3.46e-8, sensitivity=1]\n",
      "100%|██████████| 15/15 [00:06<00:00,  2.37it/s, val_loss=0.853, val_iou=1, val_dice=0.593, val_sensitivity=1]\n"
     ]
    },
    {
     "name": "stdout",
     "output_type": "stream",
     "text": [
      "Training Epoch 25/100,  Training BCE Loss: 0.8580,  Training DICE: 0.0000,  Training IOU: 0.9999,  Training Sensitivity: 1.0000,  Validation BCE Loss: 0.8533,  Validation DICE: 0.5932,  Validation IOU: 0.9999,  Validation Sensitivity: 1.0000\n"
     ]
    },
    {
     "name": "stderr",
     "output_type": "stream",
     "text": [
      "100%|██████████| 326/326 [06:45<00:00,  1.24s/it, loss=0.85, iou=1, dice=3.78e-8, sensitivity=1] \n",
      "100%|██████████| 15/15 [00:06<00:00,  2.38it/s, val_loss=0.846, val_iou=1, val_dice=0.458, val_sensitivity=1] \n"
     ]
    },
    {
     "name": "stdout",
     "output_type": "stream",
     "text": [
      "Training Epoch 26/100,  Training BCE Loss: 0.8502,  Training DICE: 0.0000,  Training IOU: 0.9999,  Training Sensitivity: 1.0000,  Validation BCE Loss: 0.8456,  Validation DICE: 0.4576,  Validation IOU: 0.9998,  Validation Sensitivity: 1.0000\n"
     ]
    },
    {
     "name": "stderr",
     "output_type": "stream",
     "text": [
      "100%|██████████| 326/326 [06:45<00:00,  1.24s/it, loss=0.843, iou=1, dice=3.24e-8, sensitivity=1]\n",
      "100%|██████████| 15/15 [00:06<00:00,  2.35it/s, val_loss=0.839, val_iou=1, val_dice=0.458, val_sensitivity=1] \n"
     ]
    },
    {
     "name": "stdout",
     "output_type": "stream",
     "text": [
      "Training Epoch 27/100,  Training BCE Loss: 0.8429,  Training DICE: 0.0000,  Training IOU: 0.9999,  Training Sensitivity: 1.0000,  Validation BCE Loss: 0.8392,  Validation DICE: 0.4576,  Validation IOU: 0.9999,  Validation Sensitivity: 1.0000\n"
     ]
    },
    {
     "name": "stderr",
     "output_type": "stream",
     "text": [
      "100%|██████████| 326/326 [06:45<00:00,  1.24s/it, loss=0.836, iou=1, dice=2.93e-8, sensitivity=1]\n",
      "100%|██████████| 15/15 [00:06<00:00,  2.39it/s, val_loss=0.833, val_iou=1, val_dice=0.525, val_sensitivity=1] \n"
     ]
    },
    {
     "name": "stdout",
     "output_type": "stream",
     "text": [
      "Training Epoch 28/100,  Training BCE Loss: 0.8361,  Training DICE: 0.0000,  Training IOU: 0.9999,  Training Sensitivity: 1.0000,  Validation BCE Loss: 0.8328,  Validation DICE: 0.5254,  Validation IOU: 0.9999,  Validation Sensitivity: 1.0000\n"
     ]
    },
    {
     "name": "stderr",
     "output_type": "stream",
     "text": [
      "100%|██████████| 326/326 [06:44<00:00,  1.24s/it, loss=0.83, iou=1, dice=3.64e-8, sensitivity=1] \n",
      "100%|██████████| 15/15 [00:06<00:00,  2.34it/s, val_loss=0.826, val_iou=1, val_dice=0.458, val_sensitivity=1] \n"
     ]
    },
    {
     "name": "stdout",
     "output_type": "stream",
     "text": [
      "Training Epoch 29/100,  Training BCE Loss: 0.8295,  Training DICE: 0.0000,  Training IOU: 0.9999,  Training Sensitivity: 1.0000,  Validation BCE Loss: 0.8260,  Validation DICE: 0.4576,  Validation IOU: 0.9998,  Validation Sensitivity: 1.0000\n"
     ]
    },
    {
     "name": "stderr",
     "output_type": "stream",
     "text": [
      "100%|██████████| 326/326 [06:44<00:00,  1.24s/it, loss=0.824, iou=1, dice=4.15e-8, sensitivity=1]\n",
      "100%|██████████| 15/15 [00:06<00:00,  2.33it/s, val_loss=0.821, val_iou=1, val_dice=0.458, val_sensitivity=1] \n"
     ]
    },
    {
     "name": "stdout",
     "output_type": "stream",
     "text": [
      "Training Epoch 30/100,  Training BCE Loss: 0.8235,  Training DICE: 0.0000,  Training IOU: 0.9999,  Training Sensitivity: 1.0000,  Validation BCE Loss: 0.8210,  Validation DICE: 0.4576,  Validation IOU: 0.9999,  Validation Sensitivity: 1.0000\n"
     ]
    },
    {
     "name": "stderr",
     "output_type": "stream",
     "text": [
      "100%|██████████| 326/326 [06:45<00:00,  1.24s/it, loss=0.818, iou=1, dice=4.8e-8, sensitivity=1] \n",
      "100%|██████████| 15/15 [00:06<00:00,  2.38it/s, val_loss=0.815, val_iou=1, val_dice=0.458, val_sensitivity=1] \n"
     ]
    },
    {
     "name": "stdout",
     "output_type": "stream",
     "text": [
      "Training Epoch 31/100,  Training BCE Loss: 0.8177,  Training DICE: 0.0000,  Training IOU: 0.9999,  Training Sensitivity: 1.0000,  Validation BCE Loss: 0.8153,  Validation DICE: 0.4576,  Validation IOU: 0.9999,  Validation Sensitivity: 1.0000\n"
     ]
    },
    {
     "name": "stderr",
     "output_type": "stream",
     "text": [
      "100%|██████████| 326/326 [06:45<00:00,  1.24s/it, loss=0.812, iou=1, dice=3.76e-8, sensitivity=1]\n",
      "100%|██████████| 15/15 [00:06<00:00,  2.35it/s, val_loss=0.81, val_iou=1, val_dice=0.593, val_sensitivity=1]  \n"
     ]
    },
    {
     "name": "stdout",
     "output_type": "stream",
     "text": [
      "Training Epoch 32/100,  Training BCE Loss: 0.8123,  Training DICE: 0.0000,  Training IOU: 0.9999,  Training Sensitivity: 1.0000,  Validation BCE Loss: 0.8099,  Validation DICE: 0.5932,  Validation IOU: 1.0000,  Validation Sensitivity: 1.0000\n",
      "Saved new best model based on DICE metric!\n"
     ]
    },
    {
     "name": "stderr",
     "output_type": "stream",
     "text": [
      "100%|██████████| 326/326 [06:45<00:00,  1.24s/it, loss=0.807, iou=1, dice=3.62e-8, sensitivity=1]\n",
      "100%|██████████| 15/15 [00:06<00:00,  2.39it/s, val_loss=0.805, val_iou=1, val_dice=0.458, val_sensitivity=1] \n"
     ]
    },
    {
     "name": "stdout",
     "output_type": "stream",
     "text": [
      "Training Epoch 33/100,  Training BCE Loss: 0.8073,  Training DICE: 0.0000,  Training IOU: 0.9999,  Training Sensitivity: 1.0000,  Validation BCE Loss: 0.8054,  Validation DICE: 0.4576,  Validation IOU: 0.9999,  Validation Sensitivity: 1.0000\n"
     ]
    },
    {
     "name": "stderr",
     "output_type": "stream",
     "text": [
      "100%|██████████| 326/326 [06:45<00:00,  1.24s/it, loss=0.803, iou=1, dice=4.34e-8, sensitivity=1]\n",
      "100%|██████████| 15/15 [00:06<00:00,  2.38it/s, val_loss=0.8, val_iou=1, val_dice=0.39, val_sensitivity=1]    \n"
     ]
    },
    {
     "name": "stdout",
     "output_type": "stream",
     "text": [
      "Training Epoch 34/100,  Training BCE Loss: 0.8026,  Training DICE: 0.0000,  Training IOU: 0.9999,  Training Sensitivity: 1.0000,  Validation BCE Loss: 0.8003,  Validation DICE: 0.3898,  Validation IOU: 0.9999,  Validation Sensitivity: 1.0000\n"
     ]
    },
    {
     "name": "stderr",
     "output_type": "stream",
     "text": [
      "100%|██████████| 326/326 [06:45<00:00,  1.24s/it, loss=0.798, iou=1, dice=5.03e-8, sensitivity=1]\n",
      "100%|██████████| 15/15 [00:06<00:00,  2.37it/s, val_loss=0.797, val_iou=1, val_dice=0.797, val_sensitivity=1]\n"
     ]
    },
    {
     "name": "stdout",
     "output_type": "stream",
     "text": [
      "Training Epoch 35/100,  Training BCE Loss: 0.7982,  Training DICE: 0.0000,  Training IOU: 0.9999,  Training Sensitivity: 1.0000,  Validation BCE Loss: 0.7969,  Validation DICE: 0.7966,  Validation IOU: 1.0000,  Validation Sensitivity: 1.0000\n",
      "Saved new best model based on DICE metric!\n"
     ]
    },
    {
     "name": "stderr",
     "output_type": "stream",
     "text": [
      "100%|██████████| 326/326 [06:45<00:00,  1.24s/it, loss=0.794, iou=1, dice=3.96e-8, sensitivity=1]\n",
      "100%|██████████| 15/15 [00:06<00:00,  2.38it/s, val_loss=0.791, val_iou=1, val_dice=0.39, val_sensitivity=1]  \n"
     ]
    },
    {
     "name": "stdout",
     "output_type": "stream",
     "text": [
      "Training Epoch 36/100,  Training BCE Loss: 0.7941,  Training DICE: 0.0000,  Training IOU: 0.9999,  Training Sensitivity: 1.0000,  Validation BCE Loss: 0.7914,  Validation DICE: 0.3898,  Validation IOU: 0.9999,  Validation Sensitivity: 1.0000\n"
     ]
    },
    {
     "name": "stderr",
     "output_type": "stream",
     "text": [
      "100%|██████████| 326/326 [06:45<00:00,  1.24s/it, loss=0.79, iou=1, dice=4.66e-8, sensitivity=1] \n",
      "100%|██████████| 15/15 [00:06<00:00,  2.35it/s, val_loss=0.788, val_iou=1, val_dice=0.458, val_sensitivity=1] \n"
     ]
    },
    {
     "name": "stdout",
     "output_type": "stream",
     "text": [
      "Training Epoch 37/100,  Training BCE Loss: 0.7902,  Training DICE: 0.0000,  Training IOU: 0.9999,  Training Sensitivity: 1.0000,  Validation BCE Loss: 0.7884,  Validation DICE: 0.4576,  Validation IOU: 0.9999,  Validation Sensitivity: 1.0000\n"
     ]
    },
    {
     "name": "stderr",
     "output_type": "stream",
     "text": [
      "100%|██████████| 326/326 [06:45<00:00,  1.24s/it, loss=0.787, iou=1, dice=4.81e-8, sensitivity=1]\n",
      "100%|██████████| 15/15 [00:06<00:00,  2.39it/s, val_loss=0.785, val_iou=1, val_dice=0.458, val_sensitivity=1] \n"
     ]
    },
    {
     "name": "stdout",
     "output_type": "stream",
     "text": [
      "Training Epoch 38/100,  Training BCE Loss: 0.7866,  Training DICE: 0.0000,  Training IOU: 0.9999,  Training Sensitivity: 1.0000,  Validation BCE Loss: 0.7850,  Validation DICE: 0.4576,  Validation IOU: 0.9999,  Validation Sensitivity: 1.0000\n"
     ]
    },
    {
     "name": "stderr",
     "output_type": "stream",
     "text": [
      "100%|██████████| 326/326 [06:45<00:00,  1.24s/it, loss=0.783, iou=1, dice=4.8e-8, sensitivity=1] \n",
      "100%|██████████| 15/15 [00:06<00:00,  2.35it/s, val_loss=0.782, val_iou=1, val_dice=0.39, val_sensitivity=1]  \n"
     ]
    },
    {
     "name": "stdout",
     "output_type": "stream",
     "text": [
      "Training Epoch 39/100,  Training BCE Loss: 0.7834,  Training DICE: 0.0000,  Training IOU: 0.9999,  Training Sensitivity: 1.0000,  Validation BCE Loss: 0.7821,  Validation DICE: 0.3898,  Validation IOU: 0.9999,  Validation Sensitivity: 1.0000\n"
     ]
    },
    {
     "name": "stderr",
     "output_type": "stream",
     "text": [
      "100%|██████████| 326/326 [06:45<00:00,  1.24s/it, loss=0.78, iou=1, dice=5.45e-8, sensitivity=1] \n",
      "100%|██████████| 15/15 [00:06<00:00,  2.37it/s, val_loss=0.779, val_iou=1, val_dice=0.458, val_sensitivity=1] \n"
     ]
    },
    {
     "name": "stdout",
     "output_type": "stream",
     "text": [
      "Training Epoch 40/100,  Training BCE Loss: 0.7803,  Training DICE: 0.0000,  Training IOU: 1.0000,  Training Sensitivity: 1.0000,  Validation BCE Loss: 0.7788,  Validation DICE: 0.4576,  Validation IOU: 1.0000,  Validation Sensitivity: 1.0000\n"
     ]
    },
    {
     "name": "stderr",
     "output_type": "stream",
     "text": [
      "100%|██████████| 326/326 [06:45<00:00,  1.24s/it, loss=0.777, iou=1, dice=5.3e-8, sensitivity=1] \n",
      "100%|██████████| 15/15 [00:06<00:00,  2.35it/s, val_loss=0.776, val_iou=1, val_dice=0.661, val_sensitivity=1] \n"
     ]
    },
    {
     "name": "stdout",
     "output_type": "stream",
     "text": [
      "Training Epoch 41/100,  Training BCE Loss: 0.7775,  Training DICE: 0.0000,  Training IOU: 0.9999,  Training Sensitivity: 1.0000,  Validation BCE Loss: 0.7762,  Validation DICE: 0.6610,  Validation IOU: 1.0000,  Validation Sensitivity: 1.0000\n"
     ]
    },
    {
     "name": "stderr",
     "output_type": "stream",
     "text": [
      "100%|██████████| 326/326 [06:45<00:00,  1.24s/it, loss=0.775, iou=1, dice=2.12e-8, sensitivity=1]\n",
      "100%|██████████| 15/15 [00:06<00:00,  2.34it/s, val_loss=0.773, val_iou=1, val_dice=0.322, val_sensitivity=1] \n"
     ]
    },
    {
     "name": "stdout",
     "output_type": "stream",
     "text": [
      "Training Epoch 42/100,  Training BCE Loss: 0.7748,  Training DICE: 0.0000,  Training IOU: 0.9999,  Training Sensitivity: 1.0000,  Validation BCE Loss: 0.7730,  Validation DICE: 0.3220,  Validation IOU: 0.9998,  Validation Sensitivity: 1.0000\n"
     ]
    },
    {
     "name": "stderr",
     "output_type": "stream",
     "text": [
      "100%|██████████| 326/326 [06:45<00:00,  1.24s/it, loss=0.772, iou=1, dice=1.83e-8, sensitivity=1]\n",
      "100%|██████████| 15/15 [00:06<00:00,  2.35it/s, val_loss=0.771, val_iou=1, val_dice=0.525, val_sensitivity=1] \n"
     ]
    },
    {
     "name": "stdout",
     "output_type": "stream",
     "text": [
      "Training Epoch 43/100,  Training BCE Loss: 0.7719,  Training DICE: 0.0000,  Training IOU: 0.9999,  Training Sensitivity: 1.0000,  Validation BCE Loss: 0.7710,  Validation DICE: 0.5254,  Validation IOU: 1.0000,  Validation Sensitivity: 1.0000\n"
     ]
    },
    {
     "name": "stderr",
     "output_type": "stream",
     "text": [
      "100%|██████████| 326/326 [06:45<00:00,  1.24s/it, loss=0.77, iou=1, dice=5.19e-8, sensitivity=1]\n",
      "100%|██████████| 15/15 [00:06<00:00,  2.35it/s, val_loss=0.768, val_iou=1, val_dice=0.186, val_sensitivity=1] \n"
     ]
    },
    {
     "name": "stdout",
     "output_type": "stream",
     "text": [
      "Training Epoch 44/100,  Training BCE Loss: 0.7695,  Training DICE: 0.0000,  Training IOU: 1.0000,  Training Sensitivity: 1.0000,  Validation BCE Loss: 0.7685,  Validation DICE: 0.1864,  Validation IOU: 0.9997,  Validation Sensitivity: 1.0000\n"
     ]
    },
    {
     "name": "stderr",
     "output_type": "stream",
     "text": [
      "100%|██████████| 326/326 [06:45<00:00,  1.24s/it, loss=0.767, iou=1, dice=5.01e-8, sensitivity=1]\n",
      "100%|██████████| 15/15 [00:06<00:00,  2.35it/s, val_loss=0.767, val_iou=1, val_dice=0.39, val_sensitivity=1]  \n"
     ]
    },
    {
     "name": "stdout",
     "output_type": "stream",
     "text": [
      "Training Epoch 45/100,  Training BCE Loss: 0.7674,  Training DICE: 0.0000,  Training IOU: 0.9999,  Training Sensitivity: 1.0000,  Validation BCE Loss: 0.7665,  Validation DICE: 0.3898,  Validation IOU: 1.0000,  Validation Sensitivity: 1.0000\n"
     ]
    },
    {
     "name": "stderr",
     "output_type": "stream",
     "text": [
      "100%|██████████| 326/326 [06:45<00:00,  1.24s/it, loss=0.765, iou=1, dice=4.74e-8, sensitivity=1]\n",
      "100%|██████████| 15/15 [00:06<00:00,  2.33it/s, val_loss=0.765, val_iou=1, val_dice=0.39, val_sensitivity=1]  \n"
     ]
    },
    {
     "name": "stdout",
     "output_type": "stream",
     "text": [
      "Training Epoch 46/100,  Training BCE Loss: 0.7654,  Training DICE: 0.0000,  Training IOU: 1.0000,  Training Sensitivity: 1.0000,  Validation BCE Loss: 0.7645,  Validation DICE: 0.3898,  Validation IOU: 1.0000,  Validation Sensitivity: 1.0000\n"
     ]
    },
    {
     "name": "stderr",
     "output_type": "stream",
     "text": [
      "100%|██████████| 326/326 [06:45<00:00,  1.24s/it, loss=0.764, iou=1, dice=5.94e-8, sensitivity=1]\n",
      "100%|██████████| 15/15 [00:06<00:00,  2.33it/s, val_loss=0.763, val_iou=1, val_dice=0.797, val_sensitivity=1]\n"
     ]
    },
    {
     "name": "stdout",
     "output_type": "stream",
     "text": [
      "Training Epoch 47/100,  Training BCE Loss: 0.7636,  Training DICE: 0.0000,  Training IOU: 1.0000,  Training Sensitivity: 1.0000,  Validation BCE Loss: 0.7628,  Validation DICE: 0.7966,  Validation IOU: 1.0000,  Validation Sensitivity: 1.0000\n",
      "Saved new best model based on DICE metric!\n"
     ]
    },
    {
     "name": "stderr",
     "output_type": "stream",
     "text": [
      "100%|██████████| 326/326 [06:45<00:00,  1.24s/it, loss=0.762, iou=1, dice=5.85e-8, sensitivity=1]\n",
      "100%|██████████| 15/15 [00:06<00:00,  2.37it/s, val_loss=0.761, val_iou=1, val_dice=0.458, val_sensitivity=1] \n"
     ]
    },
    {
     "name": "stdout",
     "output_type": "stream",
     "text": [
      "Training Epoch 48/100,  Training BCE Loss: 0.7619,  Training DICE: 0.0000,  Training IOU: 1.0000,  Training Sensitivity: 1.0000,  Validation BCE Loss: 0.7612,  Validation DICE: 0.4576,  Validation IOU: 1.0000,  Validation Sensitivity: 1.0000\n"
     ]
    },
    {
     "name": "stderr",
     "output_type": "stream",
     "text": [
      "100%|██████████| 326/326 [06:45<00:00,  1.24s/it, loss=0.76, iou=1, dice=7.88e-8, sensitivity=1] \n",
      "100%|██████████| 15/15 [00:06<00:00,  2.35it/s, val_loss=0.76, val_iou=1, val_dice=0.458, val_sensitivity=1] \n"
     ]
    },
    {
     "name": "stdout",
     "output_type": "stream",
     "text": [
      "Training Epoch 49/100,  Training BCE Loss: 0.7603,  Training DICE: 0.0000,  Training IOU: 1.0000,  Training Sensitivity: 1.0000,  Validation BCE Loss: 0.7596,  Validation DICE: 0.4576,  Validation IOU: 1.0000,  Validation Sensitivity: 1.0000\n"
     ]
    },
    {
     "name": "stderr",
     "output_type": "stream",
     "text": [
      "100%|██████████| 326/326 [06:45<00:00,  1.24s/it, loss=0.759, iou=1, dice=8.96e-8, sensitivity=1]\n",
      "100%|██████████| 15/15 [00:06<00:00,  2.37it/s, val_loss=0.758, val_iou=1, val_dice=0.458, val_sensitivity=1] \n"
     ]
    },
    {
     "name": "stdout",
     "output_type": "stream",
     "text": [
      "Training Epoch 50/100,  Training BCE Loss: 0.7589,  Training DICE: 0.0000,  Training IOU: 1.0000,  Training Sensitivity: 1.0000,  Validation BCE Loss: 0.7581,  Validation DICE: 0.4576,  Validation IOU: 1.0000,  Validation Sensitivity: 1.0000\n"
     ]
    },
    {
     "name": "stderr",
     "output_type": "stream",
     "text": [
      "100%|██████████| 326/326 [06:45<00:00,  1.24s/it, loss=0.758, iou=1, dice=1.1e-7, sensitivity=1] \n",
      "100%|██████████| 15/15 [00:06<00:00,  2.35it/s, val_loss=0.757, val_iou=1, val_dice=0.797, val_sensitivity=1]\n"
     ]
    },
    {
     "name": "stdout",
     "output_type": "stream",
     "text": [
      "Training Epoch 51/100,  Training BCE Loss: 0.7576,  Training DICE: 0.0000,  Training IOU: 1.0000,  Training Sensitivity: 1.0000,  Validation BCE Loss: 0.7569,  Validation DICE: 0.7966,  Validation IOU: 1.0000,  Validation Sensitivity: 1.0000\n",
      "Saved new best model based on DICE metric!\n"
     ]
    },
    {
     "name": "stderr",
     "output_type": "stream",
     "text": [
      "100%|██████████| 326/326 [06:45<00:00,  1.24s/it, loss=0.756, iou=1, dice=0.383, sensitivity=1]  \n",
      "100%|██████████| 15/15 [00:06<00:00,  2.36it/s, val_loss=0.756, val_iou=1, val_dice=1, val_sensitivity=1]\n"
     ]
    },
    {
     "name": "stdout",
     "output_type": "stream",
     "text": [
      "Training Epoch 52/100,  Training BCE Loss: 0.7565,  Training DICE: 0.3834,  Training IOU: 1.0000,  Training Sensitivity: 1.0000,  Validation BCE Loss: 0.7561,  Validation DICE: 1.0000,  Validation IOU: 1.0000,  Validation Sensitivity: 1.0000\n",
      "Saved new best model based on DICE metric!\n"
     ]
    },
    {
     "name": "stderr",
     "output_type": "stream",
     "text": [
      "100%|██████████| 326/326 [06:45<00:00,  1.24s/it, loss=0.755, iou=1, dice=1, sensitivity=1]\n",
      "100%|██████████| 15/15 [00:06<00:00,  2.37it/s, val_loss=0.755, val_iou=1, val_dice=1, val_sensitivity=1]\n"
     ]
    },
    {
     "name": "stdout",
     "output_type": "stream",
     "text": [
      "Training Epoch 53/100,  Training BCE Loss: 0.7554,  Training DICE: 1.0000,  Training IOU: 1.0000,  Training Sensitivity: 1.0000,  Validation BCE Loss: 0.7547,  Validation DICE: 1.0000,  Validation IOU: 1.0000,  Validation Sensitivity: 1.0000\n"
     ]
    },
    {
     "name": "stderr",
     "output_type": "stream",
     "text": [
      "100%|██████████| 326/326 [06:45<00:00,  1.24s/it, loss=0.754, iou=1, dice=1, sensitivity=1]\n",
      "100%|██████████| 15/15 [00:06<00:00,  2.37it/s, val_loss=0.754, val_iou=1, val_dice=1, val_sensitivity=1]\n"
     ]
    },
    {
     "name": "stdout",
     "output_type": "stream",
     "text": [
      "Training Epoch 54/100,  Training BCE Loss: 0.7543,  Training DICE: 1.0000,  Training IOU: 1.0000,  Training Sensitivity: 1.0000,  Validation BCE Loss: 0.7538,  Validation DICE: 1.0000,  Validation IOU: 1.0000,  Validation Sensitivity: 1.0000\n"
     ]
    },
    {
     "name": "stderr",
     "output_type": "stream",
     "text": [
      "100%|██████████| 326/326 [06:45<00:00,  1.24s/it, loss=0.753, iou=1, dice=1, sensitivity=1]\n",
      "100%|██████████| 15/15 [00:06<00:00,  2.35it/s, val_loss=0.753, val_iou=1, val_dice=1, val_sensitivity=1]\n"
     ]
    },
    {
     "name": "stdout",
     "output_type": "stream",
     "text": [
      "Training Epoch 55/100,  Training BCE Loss: 0.7533,  Training DICE: 1.0000,  Training IOU: 1.0000,  Training Sensitivity: 1.0000,  Validation BCE Loss: 0.7530,  Validation DICE: 1.0000,  Validation IOU: 1.0000,  Validation Sensitivity: 1.0000\n"
     ]
    },
    {
     "name": "stderr",
     "output_type": "stream",
     "text": [
      "100%|██████████| 326/326 [06:45<00:00,  1.24s/it, loss=0.752, iou=1, dice=1, sensitivity=1]\n",
      "100%|██████████| 15/15 [00:06<00:00,  2.37it/s, val_loss=0.752, val_iou=1, val_dice=1, val_sensitivity=1]\n"
     ]
    },
    {
     "name": "stdout",
     "output_type": "stream",
     "text": [
      "Training Epoch 56/100,  Training BCE Loss: 0.7524,  Training DICE: 1.0000,  Training IOU: 1.0000,  Training Sensitivity: 1.0000,  Validation BCE Loss: 0.7521,  Validation DICE: 1.0000,  Validation IOU: 1.0000,  Validation Sensitivity: 1.0000\n"
     ]
    },
    {
     "name": "stderr",
     "output_type": "stream",
     "text": [
      "100%|██████████| 326/326 [06:45<00:00,  1.24s/it, loss=0.752, iou=1, dice=1, sensitivity=1]\n",
      "100%|██████████| 15/15 [00:06<00:00,  2.35it/s, val_loss=0.751, val_iou=1, val_dice=1, val_sensitivity=1]\n"
     ]
    },
    {
     "name": "stdout",
     "output_type": "stream",
     "text": [
      "Training Epoch 57/100,  Training BCE Loss: 0.7516,  Training DICE: 1.0000,  Training IOU: 1.0000,  Training Sensitivity: 1.0000,  Validation BCE Loss: 0.7512,  Validation DICE: 1.0000,  Validation IOU: 1.0000,  Validation Sensitivity: 1.0000\n"
     ]
    },
    {
     "name": "stderr",
     "output_type": "stream",
     "text": [
      "100%|██████████| 326/326 [06:45<00:00,  1.24s/it, loss=0.751, iou=1, dice=1, sensitivity=1]\n",
      "100%|██████████| 15/15 [00:06<00:00,  2.35it/s, val_loss=0.75, val_iou=1, val_dice=1, val_sensitivity=1] \n"
     ]
    },
    {
     "name": "stdout",
     "output_type": "stream",
     "text": [
      "Training Epoch 58/100,  Training BCE Loss: 0.7509,  Training DICE: 1.0000,  Training IOU: 1.0000,  Training Sensitivity: 1.0000,  Validation BCE Loss: 0.7505,  Validation DICE: 1.0000,  Validation IOU: 1.0000,  Validation Sensitivity: 1.0000\n"
     ]
    },
    {
     "name": "stderr",
     "output_type": "stream",
     "text": [
      "100%|██████████| 326/326 [06:45<00:00,  1.24s/it, loss=0.75, iou=1, dice=1, sensitivity=1]\n",
      "100%|██████████| 15/15 [00:06<00:00,  2.36it/s, val_loss=0.75, val_iou=1, val_dice=1, val_sensitivity=1]\n"
     ]
    },
    {
     "name": "stdout",
     "output_type": "stream",
     "text": [
      "Training Epoch 59/100,  Training BCE Loss: 0.7502,  Training DICE: 1.0000,  Training IOU: 1.0000,  Training Sensitivity: 1.0000,  Validation BCE Loss: 0.7499,  Validation DICE: 1.0000,  Validation IOU: 1.0000,  Validation Sensitivity: 1.0000\n"
     ]
    },
    {
     "name": "stderr",
     "output_type": "stream",
     "text": [
      "100%|██████████| 326/326 [06:45<00:00,  1.24s/it, loss=0.75, iou=1, dice=1, sensitivity=1]\n",
      "100%|██████████| 15/15 [00:06<00:00,  2.37it/s, val_loss=0.749, val_iou=1, val_dice=1, val_sensitivity=1]\n"
     ]
    },
    {
     "name": "stdout",
     "output_type": "stream",
     "text": [
      "Training Epoch 60/100,  Training BCE Loss: 0.7496,  Training DICE: 1.0000,  Training IOU: 1.0000,  Training Sensitivity: 1.0000,  Validation BCE Loss: 0.7493,  Validation DICE: 1.0000,  Validation IOU: 1.0000,  Validation Sensitivity: 1.0000\n"
     ]
    },
    {
     "name": "stderr",
     "output_type": "stream",
     "text": [
      "100%|██████████| 326/326 [06:45<00:00,  1.24s/it, loss=0.749, iou=1, dice=1, sensitivity=1]\n",
      "100%|██████████| 15/15 [00:06<00:00,  2.36it/s, val_loss=0.749, val_iou=1, val_dice=1, val_sensitivity=1]\n"
     ]
    },
    {
     "name": "stdout",
     "output_type": "stream",
     "text": [
      "Training Epoch 61/100,  Training BCE Loss: 0.7491,  Training DICE: 1.0000,  Training IOU: 1.0000,  Training Sensitivity: 1.0000,  Validation BCE Loss: 0.7488,  Validation DICE: 1.0000,  Validation IOU: 1.0000,  Validation Sensitivity: 1.0000\n"
     ]
    },
    {
     "name": "stderr",
     "output_type": "stream",
     "text": [
      "100%|██████████| 326/326 [06:45<00:00,  1.24s/it, loss=0.749, iou=1, dice=1, sensitivity=1]\n",
      "100%|██████████| 15/15 [00:06<00:00,  2.37it/s, val_loss=0.749, val_iou=1, val_dice=1, val_sensitivity=1]\n"
     ]
    },
    {
     "name": "stdout",
     "output_type": "stream",
     "text": [
      "Training Epoch 62/100,  Training BCE Loss: 0.7486,  Training DICE: 1.0000,  Training IOU: 1.0000,  Training Sensitivity: 1.0000,  Validation BCE Loss: 0.7486,  Validation DICE: 1.0000,  Validation IOU: 1.0000,  Validation Sensitivity: 1.0000\n"
     ]
    },
    {
     "name": "stderr",
     "output_type": "stream",
     "text": [
      "100%|██████████| 326/326 [06:45<00:00,  1.24s/it, loss=0.748, iou=1, dice=1, sensitivity=1]\n",
      "100%|██████████| 15/15 [00:06<00:00,  2.37it/s, val_loss=0.748, val_iou=1, val_dice=1, val_sensitivity=1]\n"
     ]
    },
    {
     "name": "stdout",
     "output_type": "stream",
     "text": [
      "Training Epoch 63/100,  Training BCE Loss: 0.7482,  Training DICE: 1.0000,  Training IOU: 1.0000,  Training Sensitivity: 1.0000,  Validation BCE Loss: 0.7480,  Validation DICE: 1.0000,  Validation IOU: 1.0000,  Validation Sensitivity: 1.0000\n"
     ]
    },
    {
     "name": "stderr",
     "output_type": "stream",
     "text": [
      "100%|██████████| 326/326 [06:45<00:00,  1.24s/it, loss=0.748, iou=1, dice=1, sensitivity=1]\n",
      "100%|██████████| 15/15 [00:06<00:00,  2.34it/s, val_loss=0.748, val_iou=1, val_dice=1, val_sensitivity=1]\n"
     ]
    },
    {
     "name": "stdout",
     "output_type": "stream",
     "text": [
      "Training Epoch 64/100,  Training BCE Loss: 0.7478,  Training DICE: 1.0000,  Training IOU: 1.0000,  Training Sensitivity: 1.0000,  Validation BCE Loss: 0.7476,  Validation DICE: 1.0000,  Validation IOU: 1.0000,  Validation Sensitivity: 1.0000\n"
     ]
    },
    {
     "name": "stderr",
     "output_type": "stream",
     "text": [
      "100%|██████████| 326/326 [06:45<00:00,  1.24s/it, loss=0.747, iou=1, dice=1, sensitivity=1]\n",
      "100%|██████████| 15/15 [00:06<00:00,  2.39it/s, val_loss=0.747, val_iou=1, val_dice=1, val_sensitivity=1]\n"
     ]
    },
    {
     "name": "stdout",
     "output_type": "stream",
     "text": [
      "Training Epoch 65/100,  Training BCE Loss: 0.7474,  Training DICE: 1.0000,  Training IOU: 1.0000,  Training Sensitivity: 1.0000,  Validation BCE Loss: 0.7472,  Validation DICE: 1.0000,  Validation IOU: 1.0000,  Validation Sensitivity: 1.0000\n"
     ]
    },
    {
     "name": "stderr",
     "output_type": "stream",
     "text": [
      "100%|██████████| 326/326 [06:45<00:00,  1.25s/it, loss=0.747, iou=1, dice=1, sensitivity=1]\n",
      "100%|██████████| 15/15 [00:06<00:00,  2.38it/s, val_loss=0.747, val_iou=1, val_dice=1, val_sensitivity=1]\n"
     ]
    },
    {
     "name": "stdout",
     "output_type": "stream",
     "text": [
      "Training Epoch 66/100,  Training BCE Loss: 0.7471,  Training DICE: 1.0000,  Training IOU: 1.0000,  Training Sensitivity: 1.0000,  Validation BCE Loss: 0.7469,  Validation DICE: 1.0000,  Validation IOU: 1.0000,  Validation Sensitivity: 1.0000\n"
     ]
    },
    {
     "name": "stderr",
     "output_type": "stream",
     "text": [
      "100%|██████████| 326/326 [06:45<00:00,  1.24s/it, loss=0.747, iou=1, dice=1, sensitivity=1]\n",
      "100%|██████████| 15/15 [00:06<00:00,  2.34it/s, val_loss=0.747, val_iou=1, val_dice=1, val_sensitivity=1]\n"
     ]
    },
    {
     "name": "stdout",
     "output_type": "stream",
     "text": [
      "Training Epoch 67/100,  Training BCE Loss: 0.7467,  Training DICE: 1.0000,  Training IOU: 1.0000,  Training Sensitivity: 1.0000,  Validation BCE Loss: 0.7466,  Validation DICE: 1.0000,  Validation IOU: 1.0000,  Validation Sensitivity: 1.0000\n"
     ]
    },
    {
     "name": "stderr",
     "output_type": "stream",
     "text": [
      "100%|██████████| 326/326 [06:45<00:00,  1.24s/it, loss=0.746, iou=1, dice=1, sensitivity=1]\n",
      "100%|██████████| 15/15 [00:06<00:00,  2.36it/s, val_loss=0.746, val_iou=1, val_dice=1, val_sensitivity=1]\n"
     ]
    },
    {
     "name": "stdout",
     "output_type": "stream",
     "text": [
      "Training Epoch 68/100,  Training BCE Loss: 0.7464,  Training DICE: 1.0000,  Training IOU: 1.0000,  Training Sensitivity: 1.0000,  Validation BCE Loss: 0.7464,  Validation DICE: 1.0000,  Validation IOU: 1.0000,  Validation Sensitivity: 1.0000\n"
     ]
    },
    {
     "name": "stderr",
     "output_type": "stream",
     "text": [
      "100%|██████████| 326/326 [06:46<00:00,  1.25s/it, loss=0.746, iou=1, dice=1, sensitivity=1]\n",
      "100%|██████████| 15/15 [00:06<00:00,  2.38it/s, val_loss=0.746, val_iou=1, val_dice=1, val_sensitivity=1]\n"
     ]
    },
    {
     "name": "stdout",
     "output_type": "stream",
     "text": [
      "Training Epoch 69/100,  Training BCE Loss: 0.7462,  Training DICE: 1.0000,  Training IOU: 1.0000,  Training Sensitivity: 1.0000,  Validation BCE Loss: 0.7461,  Validation DICE: 1.0000,  Validation IOU: 1.0000,  Validation Sensitivity: 1.0000\n"
     ]
    },
    {
     "name": "stderr",
     "output_type": "stream",
     "text": [
      "100%|██████████| 326/326 [06:46<00:00,  1.25s/it, loss=0.746, iou=1, dice=1, sensitivity=1]\n",
      "100%|██████████| 15/15 [00:06<00:00,  2.36it/s, val_loss=0.746, val_iou=1, val_dice=1, val_sensitivity=1]\n"
     ]
    },
    {
     "name": "stdout",
     "output_type": "stream",
     "text": [
      "Training Epoch 70/100,  Training BCE Loss: 0.7460,  Training DICE: 1.0000,  Training IOU: 1.0000,  Training Sensitivity: 1.0000,  Validation BCE Loss: 0.7459,  Validation DICE: 1.0000,  Validation IOU: 1.0000,  Validation Sensitivity: 1.0000\n"
     ]
    },
    {
     "name": "stderr",
     "output_type": "stream",
     "text": [
      "100%|██████████| 326/326 [06:45<00:00,  1.24s/it, loss=0.746, iou=1, dice=1, sensitivity=1]\n",
      "100%|██████████| 15/15 [00:06<00:00,  2.35it/s, val_loss=0.746, val_iou=1, val_dice=1, val_sensitivity=1]\n"
     ]
    },
    {
     "name": "stdout",
     "output_type": "stream",
     "text": [
      "Training Epoch 71/100,  Training BCE Loss: 0.7458,  Training DICE: 1.0000,  Training IOU: 1.0000,  Training Sensitivity: 1.0000,  Validation BCE Loss: 0.7457,  Validation DICE: 1.0000,  Validation IOU: 1.0000,  Validation Sensitivity: 1.0000\n"
     ]
    },
    {
     "name": "stderr",
     "output_type": "stream",
     "text": [
      "100%|██████████| 326/326 [06:45<00:00,  1.24s/it, loss=0.746, iou=1, dice=1, sensitivity=1]\n",
      "100%|██████████| 15/15 [00:06<00:00,  2.36it/s, val_loss=0.746, val_iou=1, val_dice=1, val_sensitivity=1]\n"
     ]
    },
    {
     "name": "stdout",
     "output_type": "stream",
     "text": [
      "Training Epoch 72/100,  Training BCE Loss: 0.7456,  Training DICE: 1.0000,  Training IOU: 1.0000,  Training Sensitivity: 1.0000,  Validation BCE Loss: 0.7456,  Validation DICE: 1.0000,  Validation IOU: 1.0000,  Validation Sensitivity: 1.0000\n"
     ]
    },
    {
     "name": "stderr",
     "output_type": "stream",
     "text": [
      "100%|██████████| 326/326 [06:46<00:00,  1.25s/it, loss=0.745, iou=1, dice=1, sensitivity=1]\n",
      "100%|██████████| 15/15 [00:06<00:00,  2.35it/s, val_loss=0.745, val_iou=1, val_dice=1, val_sensitivity=1]\n"
     ]
    },
    {
     "name": "stdout",
     "output_type": "stream",
     "text": [
      "Training Epoch 73/100,  Training BCE Loss: 0.7454,  Training DICE: 1.0000,  Training IOU: 1.0000,  Training Sensitivity: 1.0000,  Validation BCE Loss: 0.7454,  Validation DICE: 1.0000,  Validation IOU: 1.0000,  Validation Sensitivity: 1.0000\n"
     ]
    },
    {
     "name": "stderr",
     "output_type": "stream",
     "text": [
      "100%|██████████| 326/326 [06:45<00:00,  1.24s/it, loss=0.745, iou=1, dice=1, sensitivity=1]\n",
      "100%|██████████| 15/15 [00:06<00:00,  2.37it/s, val_loss=0.745, val_iou=1, val_dice=1, val_sensitivity=1]\n"
     ]
    },
    {
     "name": "stdout",
     "output_type": "stream",
     "text": [
      "Training Epoch 74/100,  Training BCE Loss: 0.7452,  Training DICE: 1.0000,  Training IOU: 1.0000,  Training Sensitivity: 1.0000,  Validation BCE Loss: 0.7452,  Validation DICE: 1.0000,  Validation IOU: 1.0000,  Validation Sensitivity: 1.0000\n"
     ]
    },
    {
     "name": "stderr",
     "output_type": "stream",
     "text": [
      "100%|██████████| 326/326 [06:45<00:00,  1.24s/it, loss=0.745, iou=1, dice=1, sensitivity=1]\n",
      "100%|██████████| 15/15 [00:06<00:00,  2.37it/s, val_loss=0.745, val_iou=1, val_dice=1, val_sensitivity=1]\n"
     ]
    },
    {
     "name": "stdout",
     "output_type": "stream",
     "text": [
      "Training Epoch 75/100,  Training BCE Loss: 0.7451,  Training DICE: 1.0000,  Training IOU: 1.0000,  Training Sensitivity: 1.0000,  Validation BCE Loss: 0.7451,  Validation DICE: 1.0000,  Validation IOU: 1.0000,  Validation Sensitivity: 1.0000\n"
     ]
    },
    {
     "name": "stderr",
     "output_type": "stream",
     "text": [
      "100%|██████████| 326/326 [06:45<00:00,  1.25s/it, loss=0.745, iou=1, dice=1, sensitivity=1]\n",
      "100%|██████████| 15/15 [00:06<00:00,  2.37it/s, val_loss=0.745, val_iou=1, val_dice=1, val_sensitivity=1]\n"
     ]
    },
    {
     "name": "stdout",
     "output_type": "stream",
     "text": [
      "Training Epoch 76/100,  Training BCE Loss: 0.7450,  Training DICE: 1.0000,  Training IOU: 1.0000,  Training Sensitivity: 1.0000,  Validation BCE Loss: 0.7449,  Validation DICE: 1.0000,  Validation IOU: 1.0000,  Validation Sensitivity: 1.0000\n"
     ]
    },
    {
     "name": "stderr",
     "output_type": "stream",
     "text": [
      "100%|██████████| 326/326 [06:45<00:00,  1.24s/it, loss=0.745, iou=1, dice=1, sensitivity=1]\n",
      "100%|██████████| 15/15 [00:06<00:00,  2.37it/s, val_loss=0.745, val_iou=1, val_dice=1, val_sensitivity=1]\n"
     ]
    },
    {
     "name": "stdout",
     "output_type": "stream",
     "text": [
      "Training Epoch 77/100,  Training BCE Loss: 0.7448,  Training DICE: 1.0000,  Training IOU: 1.0000,  Training Sensitivity: 1.0000,  Validation BCE Loss: 0.7448,  Validation DICE: 1.0000,  Validation IOU: 1.0000,  Validation Sensitivity: 1.0000\n"
     ]
    },
    {
     "name": "stderr",
     "output_type": "stream",
     "text": [
      "100%|██████████| 326/326 [06:45<00:00,  1.24s/it, loss=0.745, iou=1, dice=1, sensitivity=1]\n",
      "100%|██████████| 15/15 [00:06<00:00,  2.34it/s, val_loss=0.745, val_iou=1, val_dice=1, val_sensitivity=1]\n"
     ]
    },
    {
     "name": "stdout",
     "output_type": "stream",
     "text": [
      "Training Epoch 78/100,  Training BCE Loss: 0.7447,  Training DICE: 1.0000,  Training IOU: 1.0000,  Training Sensitivity: 1.0000,  Validation BCE Loss: 0.7447,  Validation DICE: 1.0000,  Validation IOU: 1.0000,  Validation Sensitivity: 1.0000\n"
     ]
    },
    {
     "name": "stderr",
     "output_type": "stream",
     "text": [
      "100%|██████████| 326/326 [06:45<00:00,  1.24s/it, loss=0.745, iou=1, dice=1, sensitivity=1]\n",
      "100%|██████████| 15/15 [00:06<00:00,  2.34it/s, val_loss=0.745, val_iou=1, val_dice=1, val_sensitivity=1]\n"
     ]
    },
    {
     "name": "stdout",
     "output_type": "stream",
     "text": [
      "Training Epoch 79/100,  Training BCE Loss: 0.7446,  Training DICE: 1.0000,  Training IOU: 1.0000,  Training Sensitivity: 1.0000,  Validation BCE Loss: 0.7446,  Validation DICE: 1.0000,  Validation IOU: 1.0000,  Validation Sensitivity: 1.0000\n"
     ]
    },
    {
     "name": "stderr",
     "output_type": "stream",
     "text": [
      "100%|██████████| 326/326 [06:45<00:00,  1.24s/it, loss=0.745, iou=1, dice=1, sensitivity=1]\n",
      "100%|██████████| 15/15 [00:06<00:00,  2.36it/s, val_loss=0.745, val_iou=1, val_dice=1, val_sensitivity=1]\n"
     ]
    },
    {
     "name": "stdout",
     "output_type": "stream",
     "text": [
      "Training Epoch 80/100,  Training BCE Loss: 0.7446,  Training DICE: 1.0000,  Training IOU: 1.0000,  Training Sensitivity: 1.0000,  Validation BCE Loss: 0.7445,  Validation DICE: 1.0000,  Validation IOU: 1.0000,  Validation Sensitivity: 1.0000\n"
     ]
    },
    {
     "name": "stderr",
     "output_type": "stream",
     "text": [
      "100%|██████████| 326/326 [06:45<00:00,  1.24s/it, loss=0.745, iou=1, dice=1, sensitivity=1]\n",
      "100%|██████████| 15/15 [00:06<00:00,  2.34it/s, val_loss=0.744, val_iou=1, val_dice=1, val_sensitivity=1]\n"
     ]
    },
    {
     "name": "stdout",
     "output_type": "stream",
     "text": [
      "Training Epoch 81/100,  Training BCE Loss: 0.7445,  Training DICE: 1.0000,  Training IOU: 1.0000,  Training Sensitivity: 1.0000,  Validation BCE Loss: 0.7445,  Validation DICE: 1.0000,  Validation IOU: 1.0000,  Validation Sensitivity: 1.0000\n"
     ]
    },
    {
     "name": "stderr",
     "output_type": "stream",
     "text": [
      "100%|██████████| 326/326 [06:45<00:00,  1.24s/it, loss=0.744, iou=1, dice=1, sensitivity=1]\n",
      "100%|██████████| 15/15 [00:06<00:00,  2.37it/s, val_loss=0.744, val_iou=1, val_dice=1, val_sensitivity=1]\n"
     ]
    },
    {
     "name": "stdout",
     "output_type": "stream",
     "text": [
      "Training Epoch 82/100,  Training BCE Loss: 0.7444,  Training DICE: 1.0000,  Training IOU: 1.0000,  Training Sensitivity: 1.0000,  Validation BCE Loss: 0.7444,  Validation DICE: 1.0000,  Validation IOU: 1.0000,  Validation Sensitivity: 1.0000\n"
     ]
    },
    {
     "name": "stderr",
     "output_type": "stream",
     "text": [
      "100%|██████████| 326/326 [06:45<00:00,  1.24s/it, loss=0.744, iou=1, dice=1, sensitivity=1]\n",
      "100%|██████████| 15/15 [00:06<00:00,  2.34it/s, val_loss=0.744, val_iou=1, val_dice=1, val_sensitivity=1]\n"
     ]
    },
    {
     "name": "stdout",
     "output_type": "stream",
     "text": [
      "Training Epoch 83/100,  Training BCE Loss: 0.7444,  Training DICE: 1.0000,  Training IOU: 1.0000,  Training Sensitivity: 1.0000,  Validation BCE Loss: 0.7443,  Validation DICE: 1.0000,  Validation IOU: 1.0000,  Validation Sensitivity: 1.0000\n"
     ]
    },
    {
     "name": "stderr",
     "output_type": "stream",
     "text": [
      "100%|██████████| 326/326 [06:45<00:00,  1.24s/it, loss=0.744, iou=1, dice=1, sensitivity=1]\n",
      "100%|██████████| 15/15 [00:06<00:00,  2.37it/s, val_loss=0.744, val_iou=1, val_dice=1, val_sensitivity=1]\n"
     ]
    },
    {
     "name": "stdout",
     "output_type": "stream",
     "text": [
      "Training Epoch 84/100,  Training BCE Loss: 0.7443,  Training DICE: 1.0000,  Training IOU: 1.0000,  Training Sensitivity: 1.0000,  Validation BCE Loss: 0.7443,  Validation DICE: 1.0000,  Validation IOU: 1.0000,  Validation Sensitivity: 1.0000\n"
     ]
    },
    {
     "name": "stderr",
     "output_type": "stream",
     "text": [
      "100%|██████████| 326/326 [06:45<00:00,  1.24s/it, loss=0.744, iou=1, dice=1, sensitivity=1]\n",
      "100%|██████████| 15/15 [00:06<00:00,  2.34it/s, val_loss=0.744, val_iou=1, val_dice=1, val_sensitivity=1]\n"
     ]
    },
    {
     "name": "stdout",
     "output_type": "stream",
     "text": [
      "Training Epoch 85/100,  Training BCE Loss: 0.7443,  Training DICE: 1.0000,  Training IOU: 1.0000,  Training Sensitivity: 1.0000,  Validation BCE Loss: 0.7443,  Validation DICE: 1.0000,  Validation IOU: 1.0000,  Validation Sensitivity: 1.0000\n"
     ]
    },
    {
     "name": "stderr",
     "output_type": "stream",
     "text": [
      "100%|██████████| 326/326 [06:45<00:00,  1.24s/it, loss=0.744, iou=1, dice=1, sensitivity=1]\n",
      "100%|██████████| 15/15 [00:06<00:00,  2.35it/s, val_loss=0.744, val_iou=1, val_dice=1, val_sensitivity=1]\n"
     ]
    },
    {
     "name": "stdout",
     "output_type": "stream",
     "text": [
      "Training Epoch 86/100,  Training BCE Loss: 0.7442,  Training DICE: 1.0000,  Training IOU: 1.0000,  Training Sensitivity: 1.0000,  Validation BCE Loss: 0.7442,  Validation DICE: 1.0000,  Validation IOU: 1.0000,  Validation Sensitivity: 1.0000\n"
     ]
    },
    {
     "name": "stderr",
     "output_type": "stream",
     "text": [
      "100%|██████████| 326/326 [06:45<00:00,  1.24s/it, loss=0.744, iou=1, dice=1, sensitivity=1]\n",
      "100%|██████████| 15/15 [00:06<00:00,  2.35it/s, val_loss=0.744, val_iou=1, val_dice=1, val_sensitivity=1]\n"
     ]
    },
    {
     "name": "stdout",
     "output_type": "stream",
     "text": [
      "Training Epoch 87/100,  Training BCE Loss: 0.7442,  Training DICE: 1.0000,  Training IOU: 1.0000,  Training Sensitivity: 1.0000,  Validation BCE Loss: 0.7442,  Validation DICE: 1.0000,  Validation IOU: 1.0000,  Validation Sensitivity: 1.0000\n"
     ]
    },
    {
     "name": "stderr",
     "output_type": "stream",
     "text": [
      "100%|██████████| 326/326 [06:45<00:00,  1.24s/it, loss=0.744, iou=1, dice=1, sensitivity=1]\n",
      "100%|██████████| 15/15 [00:06<00:00,  2.33it/s, val_loss=0.744, val_iou=1, val_dice=1, val_sensitivity=1]\n"
     ]
    },
    {
     "name": "stdout",
     "output_type": "stream",
     "text": [
      "Training Epoch 88/100,  Training BCE Loss: 0.7441,  Training DICE: 1.0000,  Training IOU: 1.0000,  Training Sensitivity: 1.0000,  Validation BCE Loss: 0.7441,  Validation DICE: 1.0000,  Validation IOU: 1.0000,  Validation Sensitivity: 1.0000\n"
     ]
    },
    {
     "name": "stderr",
     "output_type": "stream",
     "text": [
      "100%|██████████| 326/326 [06:45<00:00,  1.24s/it, loss=0.744, iou=1, dice=1, sensitivity=1]\n",
      "100%|██████████| 15/15 [00:06<00:00,  2.34it/s, val_loss=0.744, val_iou=1, val_dice=1, val_sensitivity=1]\n"
     ]
    },
    {
     "name": "stdout",
     "output_type": "stream",
     "text": [
      "Training Epoch 89/100,  Training BCE Loss: 0.7441,  Training DICE: 1.0000,  Training IOU: 1.0000,  Training Sensitivity: 1.0000,  Validation BCE Loss: 0.7441,  Validation DICE: 1.0000,  Validation IOU: 1.0000,  Validation Sensitivity: 1.0000\n"
     ]
    },
    {
     "name": "stderr",
     "output_type": "stream",
     "text": [
      "100%|██████████| 326/326 [06:45<00:00,  1.24s/it, loss=0.744, iou=1, dice=1, sensitivity=1]\n",
      "100%|██████████| 15/15 [00:06<00:00,  2.37it/s, val_loss=0.744, val_iou=1, val_dice=1, val_sensitivity=1]\n"
     ]
    },
    {
     "name": "stdout",
     "output_type": "stream",
     "text": [
      "Training Epoch 90/100,  Training BCE Loss: 0.7441,  Training DICE: 1.0000,  Training IOU: 1.0000,  Training Sensitivity: 1.0000,  Validation BCE Loss: 0.7440,  Validation DICE: 1.0000,  Validation IOU: 1.0000,  Validation Sensitivity: 1.0000\n"
     ]
    },
    {
     "name": "stderr",
     "output_type": "stream",
     "text": [
      "100%|██████████| 326/326 [06:45<00:00,  1.24s/it, loss=0.744, iou=1, dice=1, sensitivity=1]\n",
      "100%|██████████| 15/15 [00:06<00:00,  2.33it/s, val_loss=0.744, val_iou=1, val_dice=1, val_sensitivity=1]\n"
     ]
    },
    {
     "name": "stdout",
     "output_type": "stream",
     "text": [
      "Training Epoch 91/100,  Training BCE Loss: 0.7440,  Training DICE: 1.0000,  Training IOU: 1.0000,  Training Sensitivity: 1.0000,  Validation BCE Loss: 0.7441,  Validation DICE: 1.0000,  Validation IOU: 1.0000,  Validation Sensitivity: 1.0000\n"
     ]
    },
    {
     "name": "stderr",
     "output_type": "stream",
     "text": [
      "100%|██████████| 326/326 [06:45<00:00,  1.24s/it, loss=0.744, iou=1, dice=1, sensitivity=1]\n",
      "100%|██████████| 15/15 [00:06<00:00,  2.34it/s, val_loss=0.744, val_iou=1, val_dice=1, val_sensitivity=1]\n"
     ]
    },
    {
     "name": "stdout",
     "output_type": "stream",
     "text": [
      "Training Epoch 92/100,  Training BCE Loss: 0.7440,  Training DICE: 1.0000,  Training IOU: 1.0000,  Training Sensitivity: 1.0000,  Validation BCE Loss: 0.7440,  Validation DICE: 1.0000,  Validation IOU: 1.0000,  Validation Sensitivity: 1.0000\n"
     ]
    },
    {
     "name": "stderr",
     "output_type": "stream",
     "text": [
      "100%|██████████| 326/326 [06:45<00:00,  1.24s/it, loss=0.744, iou=1, dice=1, sensitivity=1]\n",
      "100%|██████████| 15/15 [00:06<00:00,  2.35it/s, val_loss=0.744, val_iou=1, val_dice=1, val_sensitivity=1]\n"
     ]
    },
    {
     "name": "stdout",
     "output_type": "stream",
     "text": [
      "Training Epoch 93/100,  Training BCE Loss: 0.7440,  Training DICE: 1.0000,  Training IOU: 1.0000,  Training Sensitivity: 1.0000,  Validation BCE Loss: 0.7440,  Validation DICE: 1.0000,  Validation IOU: 1.0000,  Validation Sensitivity: 1.0000\n"
     ]
    },
    {
     "name": "stderr",
     "output_type": "stream",
     "text": [
      "100%|██████████| 326/326 [06:45<00:00,  1.24s/it, loss=0.744, iou=1, dice=1, sensitivity=1]\n",
      "100%|██████████| 15/15 [00:06<00:00,  2.35it/s, val_loss=0.744, val_iou=1, val_dice=1, val_sensitivity=1]\n"
     ]
    },
    {
     "name": "stdout",
     "output_type": "stream",
     "text": [
      "Training Epoch 94/100,  Training BCE Loss: 0.7440,  Training DICE: 1.0000,  Training IOU: 1.0000,  Training Sensitivity: 1.0000,  Validation BCE Loss: 0.7440,  Validation DICE: 1.0000,  Validation IOU: 1.0000,  Validation Sensitivity: 1.0000\n"
     ]
    },
    {
     "name": "stderr",
     "output_type": "stream",
     "text": [
      "100%|██████████| 326/326 [06:45<00:00,  1.24s/it, loss=0.744, iou=1, dice=1, sensitivity=1]\n",
      "100%|██████████| 15/15 [00:06<00:00,  2.34it/s, val_loss=0.744, val_iou=1, val_dice=1, val_sensitivity=1]\n"
     ]
    },
    {
     "name": "stdout",
     "output_type": "stream",
     "text": [
      "Training Epoch 95/100,  Training BCE Loss: 0.7440,  Training DICE: 1.0000,  Training IOU: 1.0000,  Training Sensitivity: 1.0000,  Validation BCE Loss: 0.7439,  Validation DICE: 1.0000,  Validation IOU: 1.0000,  Validation Sensitivity: 1.0000\n"
     ]
    },
    {
     "name": "stderr",
     "output_type": "stream",
     "text": [
      "100%|██████████| 326/326 [06:45<00:00,  1.24s/it, loss=0.744, iou=1, dice=1, sensitivity=1]\n",
      "100%|██████████| 15/15 [00:06<00:00,  2.37it/s, val_loss=0.744, val_iou=1, val_dice=1, val_sensitivity=1]\n"
     ]
    },
    {
     "name": "stdout",
     "output_type": "stream",
     "text": [
      "Training Epoch 96/100,  Training BCE Loss: 0.7439,  Training DICE: 1.0000,  Training IOU: 1.0000,  Training Sensitivity: 1.0000,  Validation BCE Loss: 0.7439,  Validation DICE: 1.0000,  Validation IOU: 1.0000,  Validation Sensitivity: 1.0000\n"
     ]
    },
    {
     "name": "stderr",
     "output_type": "stream",
     "text": [
      "100%|██████████| 326/326 [06:45<00:00,  1.24s/it, loss=0.744, iou=1, dice=1, sensitivity=1]\n",
      "100%|██████████| 15/15 [00:06<00:00,  2.38it/s, val_loss=0.744, val_iou=1, val_dice=1, val_sensitivity=1]\n"
     ]
    },
    {
     "name": "stdout",
     "output_type": "stream",
     "text": [
      "Training Epoch 97/100,  Training BCE Loss: 0.7439,  Training DICE: 1.0000,  Training IOU: 1.0000,  Training Sensitivity: 1.0000,  Validation BCE Loss: 0.7439,  Validation DICE: 1.0000,  Validation IOU: 1.0000,  Validation Sensitivity: 1.0000\n"
     ]
    },
    {
     "name": "stderr",
     "output_type": "stream",
     "text": [
      "100%|██████████| 326/326 [06:45<00:00,  1.24s/it, loss=0.744, iou=1, dice=1, sensitivity=1]\n",
      "100%|██████████| 15/15 [00:06<00:00,  2.37it/s, val_loss=0.744, val_iou=1, val_dice=1, val_sensitivity=1]\n"
     ]
    },
    {
     "name": "stdout",
     "output_type": "stream",
     "text": [
      "Training Epoch 98/100,  Training BCE Loss: 0.7439,  Training DICE: 1.0000,  Training IOU: 1.0000,  Training Sensitivity: 1.0000,  Validation BCE Loss: 0.7439,  Validation DICE: 1.0000,  Validation IOU: 1.0000,  Validation Sensitivity: 1.0000\n"
     ]
    },
    {
     "name": "stderr",
     "output_type": "stream",
     "text": [
      "100%|██████████| 326/326 [06:45<00:00,  1.24s/it, loss=0.744, iou=1, dice=1, sensitivity=1]\n",
      "100%|██████████| 15/15 [00:06<00:00,  2.34it/s, val_loss=0.744, val_iou=1, val_dice=1, val_sensitivity=1]\n"
     ]
    },
    {
     "name": "stdout",
     "output_type": "stream",
     "text": [
      "Training Epoch 99/100,  Training BCE Loss: 0.7439,  Training DICE: 1.0000,  Training IOU: 1.0000,  Training Sensitivity: 1.0000,  Validation BCE Loss: 0.7439,  Validation DICE: 1.0000,  Validation IOU: 1.0000,  Validation Sensitivity: 1.0000\n"
     ]
    },
    {
     "name": "stderr",
     "output_type": "stream",
     "text": [
      "100%|██████████| 326/326 [06:45<00:00,  1.24s/it, loss=0.744, iou=1, dice=1, sensitivity=1]\n",
      "100%|██████████| 15/15 [00:06<00:00,  2.34it/s, val_loss=0.744, val_iou=1, val_dice=1, val_sensitivity=1]"
     ]
    },
    {
     "name": "stdout",
     "output_type": "stream",
     "text": [
      "Training Epoch 100/100,  Training BCE Loss: 0.7439,  Training DICE: 1.0000,  Training IOU: 1.0000,  Training Sensitivity: 1.0000,  Validation BCE Loss: 0.7439,  Validation DICE: 1.0000,  Validation IOU: 1.0000,  Validation Sensitivity: 1.0000\n"
     ]
    },
    {
     "name": "stderr",
     "output_type": "stream",
     "text": [
      "\n"
     ]
    }
   ],
   "source": [
    "log = pd.DataFrame(index=[], columns=['epoch','lr','loss','iou','dice','sensitivity','val_loss','val_iou'])\n",
    "\n",
    "best_dice = 0\n",
    "trigger = 0\n",
    "\n",
    "for epoch in range(epochs):\n",
    "\n",
    "    #Model Training\n",
    "    avg_meters = {'loss': AverageMeter(), 'iou': AverageMeter(), 'dice': AverageMeter(), 'sensitivity': AverageMeter()}\n",
    "    model.train()\n",
    "    pbar = tqdm(total=len(train_loader)) #progress bar\n",
    "\n",
    "    for i, data in enumerate(train_loader):\n",
    "\n",
    "        input = data[0].cuda()\n",
    "        target = data[1].cuda()\n",
    "        output = model(input)\n",
    "\n",
    "        #Get loss and metric\n",
    "        loss = criterion(output, torch.argmax(target, dim=1))\n",
    "        iou = iou_score_multiclass(output, target, n_classes=4)\n",
    "        dice = dice_coef_multiclass(output, target, n_classes=4)\n",
    "        sensitivity = sensitivity_metric_multiclass(output, target)\n",
    "\n",
    "        #Calculate the gradient and perform optimizing step\n",
    "        optimizer.zero_grad()\n",
    "        loss.backward()\n",
    "        optimizer.step()\n",
    "\n",
    "        #Update average metrics\n",
    "        avg_meters['loss'].update(loss.item(), input.size(0))\n",
    "        avg_meters['iou'].update(iou, input.size(0))\n",
    "        avg_meters['dice'].update(dice, input.size(0))\n",
    "        avg_meters['sensitivity'].update(sensitivity, input.size(0))\n",
    "\n",
    "        postfix = OrderedDict([\n",
    "            ('loss', avg_meters['loss'].avg),\n",
    "            ('iou', avg_meters['iou'].avg),\n",
    "            ('dice', avg_meters['dice'].avg),\n",
    "            ('sensitivity', avg_meters['sensitivity'].avg)\n",
    "        ])\n",
    "        pbar.set_postfix(postfix)\n",
    "        pbar.update(1)\n",
    "    pbar.close()\n",
    "\n",
    "    train_log = OrderedDict([\n",
    "        ('loss', avg_meters['loss'].avg),\n",
    "        ('iou', avg_meters['iou'].avg),\n",
    "        ('dice', avg_meters['dice'].avg),\n",
    "        ('sensitivity', avg_meters['sensitivity'].avg)\n",
    "    ])\n",
    "\n",
    "\n",
    "    #Model Validation\n",
    "    val_avg_meters = {'val_loss': AverageMeter(), 'val_iou': AverageMeter(), 'val_dice': AverageMeter(), 'val_sensitivity': AverageMeter()}\n",
    "    model.eval()\n",
    "\n",
    "    with torch.no_grad():\n",
    "        val_pbar = tqdm(total=len(val_loader))\n",
    "        for i, val_data in enumerate(val_loader):\n",
    "\n",
    "            val_input = val_data[0].cuda()\n",
    "            val_target = val_data[1].cuda()\n",
    "            val_output = model(val_input)\n",
    "\n",
    "            val_loss = criterion(val_output, torch.argmax(val_target, dim=1))\n",
    "            val_iou = iou_score_multiclass(val_output, val_target, n_classes=4)\n",
    "            val_dice = dice_coef_multiclass(val_output, val_target, n_classes=4)\n",
    "            val_sensitivity = sensitivity_metric_multiclass(val_output, val_target)\n",
    "\n",
    "            val_avg_meters['val_loss'].update(val_loss.item(), val_input.size(0))\n",
    "            val_avg_meters['val_iou'].update(val_iou, val_input.size(0))\n",
    "            val_avg_meters['val_dice'].update(val_dice, val_input.size(0))\n",
    "            val_avg_meters['val_sensitivity'].update(val_sensitivity, val_input.size(0))\n",
    "\n",
    "            val_postfix = OrderedDict([\n",
    "                ('val_loss', val_avg_meters['val_loss'].avg),\n",
    "                ('val_iou', val_avg_meters['val_iou'].avg),\n",
    "                ('val_dice', val_avg_meters['val_dice'].avg),\n",
    "                ('val_sensitivity', val_avg_meters['val_sensitivity'].avg)\n",
    "            ])\n",
    "            val_pbar.set_postfix(val_postfix)\n",
    "            val_pbar.update(1)\n",
    "        val_pbar.close()\n",
    "\n",
    "    val_log = OrderedDict([\n",
    "        ('val_loss', val_avg_meters['val_loss'].avg),\n",
    "        ('val_iou', val_avg_meters['val_iou'].avg),\n",
    "        ('val_dice', val_avg_meters['val_dice'].avg),\n",
    "        ('val_sensitivity', val_avg_meters['val_sensitivity'].avg)\n",
    "    ])\n",
    "    \n",
    "\n",
    "    print('Training Epoch {}/{},  Training BCE Loss: {:.4f},  Training DICE: {:.4f},  Training IOU: {:.4f},  Training Sensitivity: {:.4f},  Validation BCE Loss: {:.4f},  Validation DICE: {:.4f},  Validation IOU: {:.4f},  Validation Sensitivity: {:.4f}'.format(\n",
    "        epoch+1, epochs, train_log['loss'], train_log['dice'], train_log['iou'], train_log['sensitivity'], val_log['val_loss'], val_log['val_dice'], val_log['val_iou'], val_log['val_sensitivity']\n",
    "    ))\n",
    "\n",
    "    #Save values to csv file\n",
    "    tmp = pd.Series([\n",
    "        epoch,\n",
    "        lr,\n",
    "        train_log['loss'],\n",
    "        train_log['iou'],\n",
    "        train_log['dice'],\n",
    "        val_log['val_loss'],\n",
    "        val_log['val_iou'],\n",
    "        val_log['val_dice'],\n",
    "        val_log['val_sensitivity']\n",
    "    ], index=['epoch', 'lr', 'loss', 'iou', 'dice', 'val_loss', 'val_iou', 'val_dice', 'val_sensitivity'])\n",
    "\n",
    "    log = log.append(tmp, ignore_index=True)\n",
    "    log.to_csv('model_outputs/{}/log_A2.csv'.format(file_name), index=False)\n",
    "\n",
    "    trigger += 1\n",
    "\n",
    "    #If best DICE score, save the model\n",
    "    if val_log['val_dice'] > best_dice:\n",
    "        torch.save(model.state_dict(), 'model_outputs/{}/model_A2.pth'.format(file_name))\n",
    "        best_dice = val_log['val_dice']\n",
    "        print(\"Saved new best model based on DICE metric!\")\n",
    "        trigger = 0\n",
    "    \n",
    "    if early_stopping >= 0 and trigger >= early_stopping:\n",
    "        print(\"Early stopping.\")\n",
    "        break\n",
    "\n",
    "    torch.cuda.empty_cache()"
   ]
  },
  {
   "cell_type": "code",
   "execution_count": null,
   "metadata": {
    "executionInfo": {
     "elapsed": 12,
     "status": "aborted",
     "timestamp": 1665857990900,
     "user": {
      "displayName": "Joseph Portugal",
      "userId": "10660391166494605576"
     },
     "user_tz": -480
    },
    "id": "fPuk2P8ixSn1"
   },
   "outputs": [],
   "source": []
  }
 ],
 "metadata": {
  "accelerator": "GPU",
  "colab": {
   "collapsed_sections": [],
   "provenance": [
    {
     "file_id": "1NMVPx_UbhEFBqr9_1Q43e1ttX-lUq_Q1",
     "timestamp": 1665470126399
    }
   ]
  },
  "interpreter": {
   "hash": "cb56554e22e7015c8034fdf988622508a740e712e9b2a73e8d246c741229446d"
  },
  "kernelspec": {
   "display_name": "Python 3 (ipykernel)",
   "language": "python",
   "name": "python3"
  },
  "language_info": {
   "codemirror_mode": {
    "name": "ipython",
    "version": 3
   },
   "file_extension": ".py",
   "mimetype": "text/x-python",
   "name": "python",
   "nbconvert_exporter": "python",
   "pygments_lexer": "ipython3",
   "version": "3.9.7"
  }
 },
 "nbformat": 4,
 "nbformat_minor": 1
}
