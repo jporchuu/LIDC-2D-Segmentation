{
 "cells": [
  {
   "cell_type": "markdown",
   "metadata": {
    "id": "0f2BkIn0fngR"
   },
   "source": [
    "# LIDC IDRI 2D SEGMENTATION WITH TERNARY CLASSES"
   ]
  },
  {
   "cell_type": "markdown",
   "metadata": {
    "id": "_7B3yamNfngX"
   },
   "source": [
    "## Import Libraries"
   ]
  },
  {
   "cell_type": "code",
   "execution_count": 1,
   "metadata": {
    "executionInfo": {
     "elapsed": 4,
     "status": "ok",
     "timestamp": 1665857907892,
     "user": {
      "displayName": "Joseph Portugal",
      "userId": "10660391166494605576"
     },
     "user_tz": -480
    },
    "id": "2MJ-SVrLfngY",
    "scrolled": true
   },
   "outputs": [],
   "source": [
    "#!pip list"
   ]
  },
  {
   "cell_type": "code",
   "execution_count": 2,
   "metadata": {
    "executionInfo": {
     "elapsed": 1511,
     "status": "ok",
     "timestamp": 1665857909399,
     "user": {
      "displayName": "Joseph Portugal",
      "userId": "10660391166494605576"
     },
     "user_tz": -480
    },
    "id": "mfSdQhFEfnga"
   },
   "outputs": [],
   "source": [
    "import pandas as pd\n",
    "import argparse\n",
    "import os\n",
    "from collections import OrderedDict\n",
    "from glob import glob\n",
    "import yaml\n",
    "import numpy as np\n",
    "\n",
    "import torch\n",
    "import torch.backends.cudnn as cudnn\n",
    "import torch.nn as nn\n",
    "import torch.nn.functional as F\n",
    "import torch.optim as optim\n",
    "from torch.optim import lr_scheduler\n",
    "from torch.utils.data.dataset import Dataset\n",
    "from torch.utils.data import DataLoader\n",
    "import torchvision\n",
    "import torchvision.transforms.functional as TF\n",
    "from torchvision import transforms\n",
    "import torchsummary as summary\n",
    "\n",
    "import albumentations as A\n",
    "from albumentations.pytorch import ToTensorV2\n",
    "from sklearn.model_selection import train_test_split\n",
    "from sklearn.metrics import confusion_matrix\n",
    "from tqdm import tqdm\n",
    "\n",
    "import matplotlib.pyplot as plt\n",
    "\n",
    "from Unet_new.unet_model import UNet\n",
    "from UnetNested.Nested_Unet import NestedUNet"
   ]
  },
  {
   "cell_type": "markdown",
   "metadata": {
    "id": "yyaykKN2fngc"
   },
   "source": [
    "## Define Parameters"
   ]
  },
  {
   "cell_type": "code",
   "execution_count": 3,
   "metadata": {
    "executionInfo": {
     "elapsed": 14,
     "status": "ok",
     "timestamp": 1665857909400,
     "user": {
      "displayName": "Joseph Portugal",
      "userId": "10660391166494605576"
     },
     "user_tz": -480
    },
    "id": "Mue4WdgNfngc"
   },
   "outputs": [],
   "source": [
    "name = \"UNet\"           #default = \"UNet\"; can be NestedUNet\n",
    "epochs = 100            #default = 400\n",
    "batch_size = 12         #default = 12\n",
    "early_stopping = 50     #default = 50\n",
    "num_workers = 8         #default = 8\n",
    "optimizer = 'Adam'      #default = 'Adam'; can be SGD\n",
    "lr = 1e-5               #default = 1e-5\n",
    "momentum = 0.9          #default = 0.9\n",
    "weight_decay = 1e-4     #default = 1e-4\n",
    "nesterov = False        #default = False\n",
    "augmentation = True     #default = False"
   ]
  },
  {
   "cell_type": "markdown",
   "metadata": {
    "id": "x5zDl0wYfngc"
   },
   "source": [
    "## Define Functions"
   ]
  },
  {
   "cell_type": "markdown",
   "metadata": {
    "id": "JEtRbzaAfngf"
   },
   "source": [
    "### Dataset"
   ]
  },
  {
   "cell_type": "code",
   "execution_count": 4,
   "metadata": {
    "executionInfo": {
     "elapsed": 15,
     "status": "ok",
     "timestamp": 1665857909401,
     "user": {
      "displayName": "Joseph Portugal",
      "userId": "10660391166494605576"
     },
     "user_tz": -480
    },
    "id": "1r0UAim3fngf"
   },
   "outputs": [],
   "source": [
    "class LidcDataset(Dataset):\n",
    "    def __init__(self, IMAGES_PATHS, MASK_PATHS, transforms):\n",
    "        self.image_paths = IMAGES_PATHS\n",
    "        self.mask_paths = MASK_PATHS\n",
    "        \n",
    "        self.transforms = transforms\n",
    "\n",
    "    def __getitem__(self, index):\n",
    "        image = np.load(self.image_paths[index])\n",
    "        mask = np.load(self.mask_paths[index])\n",
    "\n",
    "        #Make image and mask 3 dimensional\n",
    "        image = image.reshape(512,512,1)\n",
    "        mask = mask.reshape(512,512,1)\n",
    "\n",
    "        #Convert datatype\n",
    "        mask = mask.astype('uint8')\n",
    "\n",
    "        #Apply augmentation\n",
    "        augmented = self.transforms(image=image,mask=mask)\n",
    "        image = augmented['image']\n",
    "        mask = augmented['mask']\n",
    "        \n",
    "        mask = mask.reshape([1,512,512])\n",
    "\n",
    "        image, mask = image.type(torch.FloatTensor), mask.type(torch.FloatTensor)     \n",
    "\n",
    "        return image, mask\n",
    "    \n",
    "    def __len__(self):\n",
    "        return len(self.image_paths)"
   ]
  },
  {
   "cell_type": "code",
   "execution_count": 5,
   "metadata": {
    "executionInfo": {
     "elapsed": 15,
     "status": "ok",
     "timestamp": 1665857909401,
     "user": {
      "displayName": "Joseph Portugal",
      "userId": "10660391166494605576"
     },
     "user_tz": -480
    },
    "id": "ei8vrk4Y3lek"
   },
   "outputs": [],
   "source": [
    "toTensor = A.Compose([\n",
    "            ToTensorV2()\n",
    "        ])\n",
    "\n",
    "transform1 = A.Compose([\n",
    "            A.Rotate(limit=[90, 90], interpolation=1, border_mode=4, value=None, mask_value=None, p=1),\n",
    "            A.HorizontalFlip(p=0.5),\n",
    "            A.VerticalFlip(p=0.5),\n",
    "            A.Affine(scale=None, translate_percent=None, translate_px=None, rotate=None, shear=[-45, 45], interpolation=1, mask_interpolation=0, cval=0, cval_mask=0, mode=0, fit_output=False, keep_ratio=False, always_apply=False, p=1),\n",
    "            ToTensorV2()\n",
    "        ])\n",
    "\n",
    "transform2 = A.Compose([\n",
    "            A.Rotate(limit=[180, 180], interpolation=1, border_mode=4, value=None, mask_value=None, p=1),\n",
    "            A.HorizontalFlip(p=0.5),\n",
    "            A.VerticalFlip(p=0.5),\n",
    "            A.Affine (scale=None, translate_percent=None, translate_px=None, rotate=None, shear=[-45, 45], interpolation=1, mask_interpolation=0, cval=0, cval_mask=0, mode=0, fit_output=False, keep_ratio=False, always_apply=False, p=1),\n",
    "            ToTensorV2()\n",
    "        ])\n",
    "\n",
    "transform3 = A.Compose([\n",
    "            A.Rotate (limit=[270, 270], interpolation=1, border_mode=4, value=None, mask_value=None, p=1),\n",
    "            A.HorizontalFlip(p=0.5),\n",
    "            A.VerticalFlip(p=0.5),\n",
    "            A.Affine (scale=None, translate_percent=None, translate_px=None, rotate=None, shear=[-45, 45], interpolation=1, mask_interpolation=0, cval=0, cval_mask=0, mode=0, fit_output=False, keep_ratio=False, always_apply=False, p=1),\n",
    "            ToTensorV2()\n",
    "        ])"
   ]
  },
  {
   "cell_type": "markdown",
   "metadata": {
    "id": "ZOYDGIUYfngg"
   },
   "source": [
    "### Metrics"
   ]
  },
  {
   "cell_type": "code",
   "execution_count": 6,
   "metadata": {
    "executionInfo": {
     "elapsed": 15,
     "status": "ok",
     "timestamp": 1665857909402,
     "user": {
      "displayName": "Joseph Portugal",
      "userId": "10660391166494605576"
     },
     "user_tz": -480
    },
    "id": "1mmIyJNAfngg"
   },
   "outputs": [],
   "source": [
    "def iou_score_multiclass(output, target, n_classes):\n",
    "    output = torch.nn.functional.softmax(output, dim=1)\n",
    "    output = torch.argmax(output, dim=1).squeeze(1)\n",
    "    target = torch.argmax(target, dim=1)\n",
    "    iou_list = list()\n",
    "    curr_iou_list = list()\n",
    "\n",
    "    output = output.view(-1)\n",
    "    target = target.view(-1)\n",
    "\n",
    "    for sem_class in range(n_classes):\n",
    "        output_inds = (output == sem_class)\n",
    "        target_inds = (target == sem_class)\n",
    "\n",
    "        if target_inds.long().sum().item() == 0:\n",
    "            iou_curr = float('nan')\n",
    "        else:\n",
    "            intersection_curr = (output_inds[target_inds]).long().sum().item()\n",
    "            union_curr = output_inds.long().sum().item() + target_inds.long().sum().item() - intersection_curr\n",
    "            iou_curr = float(intersection_curr) / float(union_curr)\n",
    "            curr_iou_list.append(iou_curr)\n",
    "        iou_list.append(iou_curr)\n",
    "\n",
    "    return np.mean(curr_iou_list)\n",
    "\n",
    "# def dice_coef(output, target):\n",
    "#     smooth = 1e-5\n",
    "#     target_f = target.flatten()\n",
    "#     output_f = output.flatten()\n",
    "#     intersection = np.sum(target_f * output_f)\n",
    "#     return (2. * intersection + smooth) / (np.sum(target_f) + np.sum(output_f) + smooth)\n",
    "\n",
    "def dice_coef_multiclass(output, target, n_classes):\n",
    "    smooth = 1e-5 \n",
    "    output = torch.nn.functional.softmax(output, dim=1)\n",
    "    output = torch.argmax(output, dim=1).squeeze(1)\n",
    "    target = torch.argmax(target, dim=1)\n",
    "    intersection = (output*target).sum()\n",
    "\n",
    "    dice = (2. * intersection + smooth) / \\\n",
    "        (output.sum() + target.sum() + smooth)\n",
    "    return dice.item()\n",
    "\n",
    "    # dice = 0\n",
    "    # for i in range(n_classes):\n",
    "    #     dice += dice_coef(output[:,i,:,:], target[:,:,:])\n",
    "    # return dice/n_classes\n",
    "\n",
    "def sensitivity_metric_multiclass(output, target):\n",
    "    eps = 1e-5\n",
    "    output = torch.nn.functional.softmax(output, dim=1)\n",
    "    output = torch.argmax(output, dim=1).squeeze(1)\n",
    "    target = torch.argmax(target, dim=1)\n",
    "    # elements of confusion matrix\n",
    "    tp = torch.sum(output * target) # True Positive\n",
    "    fp = torch.sum(output * (1 - target)) # False Positive\n",
    "    fn = torch.sum((1 - output) * target) # False Negative\n",
    "    tn = torch.sum((1 - output) * (1 - target)) # True Negative\n",
    "    # compute sensitivity\n",
    "    sensitivity = (tp + eps) / (tp + fn + eps)\n",
    "    \n",
    "    return sensitivity.item()\n",
    "\n",
    "\n",
    "def dice_coef2(output, target):\n",
    "    \"This metric is for validation\"\n",
    "    smooth = 1e-5\n",
    "    output = output.view(-1)\n",
    "    output = (output>0.5).float().cpu().numpy()\n",
    "    target = target.view(-1).data.cpu().numpy()\n",
    "    intersection = (output*target).sum()\n",
    "\n",
    "    return (2. * intersection + smooth) / \\\n",
    "        (output.sum() + target.sum() + smooth)"
   ]
  },
  {
   "cell_type": "code",
   "execution_count": 7,
   "metadata": {
    "executionInfo": {
     "elapsed": 15,
     "status": "ok",
     "timestamp": 1665857909402,
     "user": {
      "displayName": "Joseph Portugal",
      "userId": "10660391166494605576"
     },
     "user_tz": -480
    },
    "id": "2eWnB-CoUhRz"
   },
   "outputs": [],
   "source": [
    "# def iou_score(output, target):\n",
    "#     smooth = 1e-5\n",
    "#     if torch.is_tensor(output):\n",
    "#         output = torch.sigmoid(output).data.cpu().numpy()\n",
    "#     if torch.is_tensor(target):\n",
    "#         target = target.data.cpu().numpy()\n",
    "#     output_ = output > 0.5\n",
    "#     target_ = target > 0.5\n",
    "#     intersection = (output_ & target_).sum()\n",
    "#     union = (output_ | target_).sum()\n",
    "\n",
    "#     return (intersection + smooth) / (union + smooth)\n",
    "\n",
    "\n",
    "# def dice_coef(output, target):\n",
    "#     smooth = 1e-5\n",
    "#     target_f = target.flatten()\n",
    "#     output_f = output.flatten()\n",
    "#     intersection = np.sum(target_f * output_f)\n",
    "#     return (2. * intersection + smooth) / (np.sum(target_f) + np.sum(output_f) + smooth)\n",
    "#     #Sigmoid is used because the U-Net output is logit\n",
    "#     # output = torch.sigmoid(output).view(-1).data.cpu().numpy()\n",
    "#     # target = target.view(-1).data.cpu().numpy()\n",
    "#     # intersection = (output*target).sum()\n",
    "\n",
    "#     # return (2. * intersection + smooth) / \\\n",
    "#     #     (output.sum() + target.sum() + smooth)\n",
    "\n",
    "\n",
    "# def sensitivity_metric(output, target):\n",
    "#     eps = 1e-5\n",
    "#     output = torch.sigmoid(output).view(-1).data.cpu()\n",
    "#     target = target.view(-1).data.cpu()\n",
    "#     # elements of confusion matrix\n",
    "#     tp = torch.sum(output * target) # True Positive\n",
    "#     fp = torch.sum(output * (1 - target)) # False Positive\n",
    "#     fn = torch.sum((1 - output) * target) # False Negative\n",
    "#     tn = torch.sum((1 - output) * (1 - target)) # True Negative\n",
    "#     # compute sensitivity\n",
    "#     sensitivity = (tp + eps) / (tp + fn + eps)\n",
    "    \n",
    "#     return sensitivity.item()\n",
    "\n",
    "\n",
    "# def dice_coef2(output, target):\n",
    "#     \"This metric is for validation\"\n",
    "#     smooth = 1e-5\n",
    "#     output = output.view(-1)\n",
    "#     output = (output>0.5).float().cpu().numpy()\n",
    "#     target = target.view(-1).data.cpu().numpy()\n",
    "#     intersection = (output*target).sum()\n",
    "\n",
    "#     return (2. * intersection + smooth) / \\\n",
    "#         (output.sum() + target.sum() + smooth)"
   ]
  },
  {
   "cell_type": "markdown",
   "metadata": {
    "id": "B9KwWQWgfngh"
   },
   "source": [
    "### Utilities"
   ]
  },
  {
   "cell_type": "code",
   "execution_count": 8,
   "metadata": {
    "executionInfo": {
     "elapsed": 15,
     "status": "ok",
     "timestamp": 1665857909403,
     "user": {
      "displayName": "Joseph Portugal",
      "userId": "10660391166494605576"
     },
     "user_tz": -480
    },
    "id": "V8sg63v7fngh"
   },
   "outputs": [],
   "source": [
    "def str_to_bool(v):\n",
    "    if v.lower() in ['true', 1]:\n",
    "        return True\n",
    "    elif v.lower() in ['false', 0]:\n",
    "        return False\n",
    "    else:\n",
    "        raise argparse.ArgumentTypeError('Boolean value expected.')\n",
    "\n",
    "def count_params(model):\n",
    "    return sum(p.numel() for p in model.parameters() if p.requires_grad)\n",
    "\n",
    "class AverageMeter(object):\n",
    "    #Computes and stores the average and current value\n",
    "    def __init__(self):\n",
    "        self.reset()\n",
    "    \n",
    "    def reset(self):\n",
    "        self.val = 0\n",
    "        self.avg = 0\n",
    "        self.sum = 0\n",
    "        self.count = 0\n",
    "    \n",
    "    def update(self, val, n=1):\n",
    "        self.val = val\n",
    "        self.sum += val * n\n",
    "        self.count += n\n",
    "        self.avg = self.sum / self.count"
   ]
  },
  {
   "cell_type": "markdown",
   "metadata": {
    "id": "hn2h7c3Ffngh"
   },
   "source": [
    "## Get Configuration"
   ]
  },
  {
   "cell_type": "code",
   "execution_count": 9,
   "metadata": {
    "colab": {
     "base_uri": "https://localhost:8080/"
    },
    "executionInfo": {
     "elapsed": 16,
     "status": "ok",
     "timestamp": 1665857909404,
     "user": {
      "displayName": "Joseph Portugal",
      "userId": "10660391166494605576"
     },
     "user_tz": -480
    },
    "id": "rtuiGqoGfngh",
    "outputId": "901784ed-cff3-433c-ad3d-3aa1c5683fc9"
   },
   "outputs": [
    {
     "name": "stdout",
     "output_type": "stream",
     "text": [
      "Creating directory called  UNet_with_augmentation\n",
      "--------------------\n",
      "Configuration Setting: \n",
      "Model:  UNet\n",
      "Max Epochs:  100\n",
      "Batch Size:  12\n",
      "Number of Workers:  8\n",
      "Optimizer:  Adam\n",
      "Learning Rate:  1e-05\n",
      "Augmentation:  True\n"
     ]
    }
   ],
   "source": [
    "if augmentation == True:\n",
    "    file_name = name + '_with_augmentation'\n",
    "else:\n",
    "    file_name = name + '_base'\n",
    "os.makedirs('model_outputs/{}'.format(file_name), exist_ok=True)\n",
    "print(\"Creating directory called \", file_name)\n",
    "\n",
    "print('-' * 20)\n",
    "print(\"Configuration Setting: \")\n",
    "print(\"Model: \", name)\n",
    "print(\"Max Epochs: \", epochs)\n",
    "print(\"Batch Size: \", batch_size)\n",
    "print(\"Number of Workers: \", num_workers)\n",
    "print(\"Optimizer: \", optimizer)\n",
    "print(\"Learning Rate: \", lr)\n",
    "print(\"Augmentation: \", augmentation)"
   ]
  },
  {
   "cell_type": "markdown",
   "metadata": {
    "id": "w7n4I2d8fngi"
   },
   "source": [
    "## Create Model"
   ]
  },
  {
   "cell_type": "code",
   "execution_count": 10,
   "metadata": {
    "colab": {
     "base_uri": "https://localhost:8080/"
    },
    "executionInfo": {
     "elapsed": 8560,
     "status": "ok",
     "timestamp": 1665857917949,
     "user": {
      "displayName": "Joseph Portugal",
      "userId": "10660391166494605576"
     },
     "user_tz": -480
    },
    "id": "QuxjmCnzfngi",
    "outputId": "ff9d6a3e-acc5-43ab-dcc5-bd95c5d26245"
   },
   "outputs": [
    {
     "name": "stdout",
     "output_type": "stream",
     "text": [
      "Creating model...\n",
      "==========================================================================================\n",
      "Layer (type:depth-idx)                   Output Shape              Param #\n",
      "==========================================================================================\n",
      "├─inconv: 1-1                            [-1, 64, 512, 512]        --\n",
      "|    └─double_conv: 2-1                  [-1, 64, 512, 512]        --\n",
      "|    |    └─Sequential: 3-1              [-1, 64, 512, 512]        37,824\n",
      "├─down: 1-2                              [-1, 128, 256, 256]       --\n",
      "|    └─Sequential: 2-2                   [-1, 128, 256, 256]       --\n",
      "|    |    └─MaxPool2d: 3-2               [-1, 64, 256, 256]        --\n",
      "|    |    └─double_conv: 3-3             [-1, 128, 256, 256]       221,952\n",
      "├─down: 1-3                              [-1, 256, 128, 128]       --\n",
      "|    └─Sequential: 2-3                   [-1, 256, 128, 128]       --\n",
      "|    |    └─MaxPool2d: 3-4               [-1, 128, 128, 128]       --\n",
      "|    |    └─double_conv: 3-5             [-1, 256, 128, 128]       886,272\n",
      "├─down: 1-4                              [-1, 512, 64, 64]         --\n",
      "|    └─Sequential: 2-4                   [-1, 512, 64, 64]         --\n",
      "|    |    └─MaxPool2d: 3-6               [-1, 256, 64, 64]         --\n",
      "|    |    └─double_conv: 3-7             [-1, 512, 64, 64]         3,542,016\n",
      "├─down: 1-5                              [-1, 512, 32, 32]         --\n",
      "|    └─Sequential: 2-5                   [-1, 512, 32, 32]         --\n",
      "|    |    └─MaxPool2d: 3-8               [-1, 512, 32, 32]         --\n",
      "|    |    └─double_conv: 3-9             [-1, 512, 32, 32]         4,721,664\n",
      "├─up: 1-6                                [-1, 256, 64, 64]         --\n",
      "|    └─Upsample: 2-6                     [-1, 512, 64, 64]         --\n",
      "|    └─double_conv: 2-7                  [-1, 256, 64, 64]         --\n",
      "|    |    └─Sequential: 3-10             [-1, 256, 64, 64]         2,950,656\n",
      "├─up: 1-7                                [-1, 128, 128, 128]       --\n",
      "|    └─Upsample: 2-8                     [-1, 256, 128, 128]       --\n",
      "|    └─double_conv: 2-9                  [-1, 128, 128, 128]       --\n",
      "|    |    └─Sequential: 3-11             [-1, 128, 128, 128]       738,048\n",
      "├─up: 1-8                                [-1, 64, 256, 256]        --\n",
      "|    └─Upsample: 2-10                    [-1, 128, 256, 256]       --\n",
      "|    └─double_conv: 2-11                 [-1, 64, 256, 256]        --\n",
      "|    |    └─Sequential: 3-12             [-1, 64, 256, 256]        184,704\n",
      "├─up: 1-9                                [-1, 64, 512, 512]        --\n",
      "|    └─Upsample: 2-12                    [-1, 64, 512, 512]        --\n",
      "|    └─double_conv: 2-13                 [-1, 64, 512, 512]        --\n",
      "|    |    └─Sequential: 3-13             [-1, 64, 512, 512]        110,976\n",
      "├─outconv: 1-10                          [-1, 4, 512, 512]         --\n",
      "|    └─Conv2d: 2-14                      [-1, 4, 512, 512]         260\n",
      "==========================================================================================\n",
      "Total params: 13,394,372\n",
      "Trainable params: 13,394,372\n",
      "Non-trainable params: 0\n",
      "Total mult-adds (G): 75.16\n",
      "==========================================================================================\n",
      "Input size (MB): 1.00\n",
      "Forward/backward pass size (MB): 1256.00\n",
      "Params size (MB): 51.10\n",
      "Estimated Total Size (MB): 1308.10\n",
      "==========================================================================================\n"
     ]
    },
    {
     "name": "stderr",
     "output_type": "stream",
     "text": [
      "/home/joseph.portugal/.local/lib/python3.9/site-packages/torch/nn/functional.py:1806: UserWarning: nn.functional.sigmoid is deprecated. Use torch.sigmoid instead.\n",
      "  warnings.warn(\"nn.functional.sigmoid is deprecated. Use torch.sigmoid instead.\")\n"
     ]
    },
    {
     "data": {
      "text/plain": [
       "==========================================================================================\n",
       "Layer (type:depth-idx)                   Output Shape              Param #\n",
       "==========================================================================================\n",
       "├─inconv: 1-1                            [-1, 64, 512, 512]        --\n",
       "|    └─double_conv: 2-1                  [-1, 64, 512, 512]        --\n",
       "|    |    └─Sequential: 3-1              [-1, 64, 512, 512]        37,824\n",
       "├─down: 1-2                              [-1, 128, 256, 256]       --\n",
       "|    └─Sequential: 2-2                   [-1, 128, 256, 256]       --\n",
       "|    |    └─MaxPool2d: 3-2               [-1, 64, 256, 256]        --\n",
       "|    |    └─double_conv: 3-3             [-1, 128, 256, 256]       221,952\n",
       "├─down: 1-3                              [-1, 256, 128, 128]       --\n",
       "|    └─Sequential: 2-3                   [-1, 256, 128, 128]       --\n",
       "|    |    └─MaxPool2d: 3-4               [-1, 128, 128, 128]       --\n",
       "|    |    └─double_conv: 3-5             [-1, 256, 128, 128]       886,272\n",
       "├─down: 1-4                              [-1, 512, 64, 64]         --\n",
       "|    └─Sequential: 2-4                   [-1, 512, 64, 64]         --\n",
       "|    |    └─MaxPool2d: 3-6               [-1, 256, 64, 64]         --\n",
       "|    |    └─double_conv: 3-7             [-1, 512, 64, 64]         3,542,016\n",
       "├─down: 1-5                              [-1, 512, 32, 32]         --\n",
       "|    └─Sequential: 2-5                   [-1, 512, 32, 32]         --\n",
       "|    |    └─MaxPool2d: 3-8               [-1, 512, 32, 32]         --\n",
       "|    |    └─double_conv: 3-9             [-1, 512, 32, 32]         4,721,664\n",
       "├─up: 1-6                                [-1, 256, 64, 64]         --\n",
       "|    └─Upsample: 2-6                     [-1, 512, 64, 64]         --\n",
       "|    └─double_conv: 2-7                  [-1, 256, 64, 64]         --\n",
       "|    |    └─Sequential: 3-10             [-1, 256, 64, 64]         2,950,656\n",
       "├─up: 1-7                                [-1, 128, 128, 128]       --\n",
       "|    └─Upsample: 2-8                     [-1, 256, 128, 128]       --\n",
       "|    └─double_conv: 2-9                  [-1, 128, 128, 128]       --\n",
       "|    |    └─Sequential: 3-11             [-1, 128, 128, 128]       738,048\n",
       "├─up: 1-8                                [-1, 64, 256, 256]        --\n",
       "|    └─Upsample: 2-10                    [-1, 128, 256, 256]       --\n",
       "|    └─double_conv: 2-11                 [-1, 64, 256, 256]        --\n",
       "|    |    └─Sequential: 3-12             [-1, 64, 256, 256]        184,704\n",
       "├─up: 1-9                                [-1, 64, 512, 512]        --\n",
       "|    └─Upsample: 2-12                    [-1, 64, 512, 512]        --\n",
       "|    └─double_conv: 2-13                 [-1, 64, 512, 512]        --\n",
       "|    |    └─Sequential: 3-13             [-1, 64, 512, 512]        110,976\n",
       "├─outconv: 1-10                          [-1, 4, 512, 512]         --\n",
       "|    └─Conv2d: 2-14                      [-1, 4, 512, 512]         260\n",
       "==========================================================================================\n",
       "Total params: 13,394,372\n",
       "Trainable params: 13,394,372\n",
       "Non-trainable params: 0\n",
       "Total mult-adds (G): 75.16\n",
       "==========================================================================================\n",
       "Input size (MB): 1.00\n",
       "Forward/backward pass size (MB): 1256.00\n",
       "Params size (MB): 51.10\n",
       "Estimated Total Size (MB): 1308.10\n",
       "=========================================================================================="
      ]
     },
     "execution_count": 10,
     "metadata": {},
     "output_type": "execute_result"
    }
   ],
   "source": [
    "criterion = torch.nn.CrossEntropyLoss().cuda() if torch.cuda.is_available() else torch.nn.CrossEntropyLoss()\n",
    "cudnn.benchmark = True\n",
    "\n",
    "#Creating the model\n",
    "print(\"Creating model...\")\n",
    "if name == 'NestedUNet':\n",
    "    model = NestedUNet(num_classes=4)\n",
    "else:\n",
    "    model = UNet(n_channels=1, n_classes=4)\n",
    "model = model.cuda() if torch.cuda.is_available() else model\n",
    "\n",
    "if torch.cuda.device_count() > 1:\n",
    "    print(\"We can use \", torch.cuda.device_count(), \" GPUs.\")\n",
    "    model = nn.DataParallel(model)\n",
    "\n",
    "params = filter(lambda p: p.requires_grad, model.parameters())\n",
    "\n",
    "if optimizer == 'Adam':\n",
    "    optimizer = optim.Adam(params, lr=lr, weight_decay=weight_decay)\n",
    "elif optimizer == 'SGD':\n",
    "    optimizer = optim.SGD(params, lr=lr, momentum=momentum, nesterov=nesterov, weight_decay=weight_decay)\n",
    "else:\n",
    "    raise NotImplementedError\n",
    "    \n",
    "summary.summary(model,(1,512,512))"
   ]
  },
  {
   "cell_type": "markdown",
   "metadata": {
    "id": "WxuoE_jLfngi"
   },
   "source": [
    "## Load Dataset"
   ]
  },
  {
   "cell_type": "code",
   "execution_count": 11,
   "metadata": {
    "colab": {
     "base_uri": "https://localhost:8080/"
    },
    "executionInfo": {
     "elapsed": 14,
     "status": "ok",
     "timestamp": 1665857917950,
     "user": {
      "displayName": "Joseph Portugal",
      "userId": "10660391166494605576"
     },
     "user_tz": -480
    },
    "id": "2k5hV9l5fngj",
    "outputId": "055cb39d-ae86-4736-c2b7-e441a582ec16"
   },
   "outputs": [
    {
     "name": "stdout",
     "output_type": "stream",
     "text": [
      "**************************************************\n",
      "Original images: 980, masks: 980 for training.\n",
      "Original images: 177, masks: 177 for validation.\n",
      "Ratio between Validation and Training is 0.180612\n",
      "**************************************************\n",
      "**************************************************\n",
      "Train: 3920\n",
      "Validate: 177\n",
      "**************************************************\n"
     ]
    }
   ],
   "source": [
    "#directory of Images and Masks folders (generated from preprocessing)                                         \n",
    "IMAGE_DIR = '/scratch1/joseph.portugal/LIDC-IDRI Preprocessed Exp 3/Image/'\n",
    "MASK_DIR = '/scratch1/joseph.portugal/LIDC-IDRI Preprocessed Exp 3/Mask/'                                                                 \n",
    "\n",
    "#meta information\n",
    "meta = pd.read_csv('/scratch1/joseph.portugal/LIDC-IDRI Preprocessed Exp 3/Meta/meta.csv')\n",
    "meta = meta[meta['patient_diagnosis'] != 0]\n",
    "\n",
    "#Get train/test label from metadata file\n",
    "meta['original_image'] = meta['original_image'].apply(lambda x: IMAGE_DIR + \"LIDC-IDRI-\" + x[:4] + \"/\" + x + \".npy\")\n",
    "meta['mask_image'] = meta['mask_image'].apply(lambda x: MASK_DIR + \"LIDC-IDRI-\" + x[:4] + \"/\" + x + \".npy\")\n",
    "\n",
    "\n",
    "#Split into training and validation\n",
    "train_meta = meta[meta['data_split']=='Train']\n",
    "val_meta = meta[meta['data_split']=='Validation']\n",
    "\n",
    "#Get training images into list\n",
    "train_image_paths = list(train_meta['original_image'])\n",
    "train_mask_paths = list(train_meta['mask_image'])\n",
    "\n",
    "#Get validation images into list\n",
    "val_image_paths = list(val_meta['original_image'])\n",
    "val_mask_paths = list(val_meta['mask_image'])\n",
    "\n",
    "print(\"*\"*50)\n",
    "print(\"Original images: {}, masks: {} for training.\".format(len(train_image_paths),len(train_mask_paths)))\n",
    "print(\"Original images: {}, masks: {} for validation.\".format(len(val_image_paths),len(val_mask_paths)))\n",
    "print(\"Ratio between Validation and Training is {:2f}\".format(len(val_image_paths)/len(train_image_paths)))\n",
    "print(\"*\"*50)\n",
    "\n",
    "#Creating custom LIDC dataset\n",
    "train_dataset = LidcDataset(train_image_paths, train_mask_paths, transforms=toTensor)\n",
    "val_dataset = LidcDataset(val_image_paths, val_mask_paths, transforms=toTensor)\n",
    "\n",
    "train_dataset_A1 = LidcDataset(train_image_paths, train_mask_paths, transforms=transform1)\n",
    "train_dataset_A2 = LidcDataset(train_image_paths, train_mask_paths, transforms=transform2)\n",
    "train_dataset_A3 = LidcDataset(train_image_paths, train_mask_paths, transforms=transform3)\n",
    "\n",
    "train_sets = torch.utils.data.ConcatDataset([train_dataset, train_dataset_A1, train_dataset_A2, train_dataset_A3])\n",
    "\n",
    "print(\"*\"*50)\n",
    "print(\"Train: {}\".format(len(train_sets)))\n",
    "print(\"Validate: {}\".format(len(val_dataset)))\n",
    "print(\"*\"*50)\n",
    "\n",
    "\n",
    "#Creating Dataloader\n",
    "train_loader = DataLoader(\n",
    "  train_sets,\n",
    "  batch_size=batch_size,\n",
    "  shuffle=True,\n",
    "  pin_memory=True,\n",
    "  drop_last=True,\n",
    "  num_workers=num_workers\n",
    ")\n",
    "val_loader = DataLoader(\n",
    "  val_dataset,\n",
    "  batch_size=batch_size,\n",
    "  shuffle=False,\n",
    "  pin_memory=True,\n",
    "  drop_last=False,\n",
    "  num_workers=num_workers\n",
    ")"
   ]
  },
  {
   "cell_type": "markdown",
   "metadata": {
    "id": "nFUeTMtlfngj"
   },
   "source": [
    "## Train the Model"
   ]
  },
  {
   "cell_type": "code",
   "execution_count": 12,
   "metadata": {
    "executionInfo": {
     "elapsed": 10,
     "status": "ok",
     "timestamp": 1665857917950,
     "user": {
      "displayName": "Joseph Portugal",
      "userId": "10660391166494605576"
     },
     "user_tz": -480
    },
    "id": "FMvFNYA-f6V8"
   },
   "outputs": [],
   "source": [
    "torch.cuda.empty_cache()"
   ]
  },
  {
   "cell_type": "code",
   "execution_count": null,
   "metadata": {
    "colab": {
     "base_uri": "https://localhost:8080/",
     "height": 390
    },
    "executionInfo": {
     "elapsed": 72957,
     "status": "error",
     "timestamp": 1665857990898,
     "user": {
      "displayName": "Joseph Portugal",
      "userId": "10660391166494605576"
     },
     "user_tz": -480
    },
    "id": "dkIDHbbffngk",
    "outputId": "f3504acb-d996-48ae-e15e-27ba13897637"
   },
   "outputs": [
    {
     "name": "stderr",
     "output_type": "stream",
     "text": [
      "100%|██████████| 326/326 [06:53<00:00,  1.27s/it, loss=1.26, iou=0.92, dice=5.59e-11, sensitivity=1] \n",
      "100%|██████████| 15/15 [00:10<00:00,  1.46it/s, val_loss=1.22, val_iou=0.982, val_dice=5.41e-10, val_sensitivity=1]\n"
     ]
    },
    {
     "name": "stdout",
     "output_type": "stream",
     "text": [
      "Training Epoch 1/100,  Training BCE Loss: 1.2620,  Training DICE: 0.0000,  Training IOU: 0.9203,  Training Sensitivity: 1.0000,  Validation BCE Loss: 1.2239,  Validation DICE: 0.0000,  Validation IOU: 0.9822,  Validation Sensitivity: 1.0000\n",
      "Saved new best model based on DICE metric!\n"
     ]
    },
    {
     "name": "stderr",
     "output_type": "stream",
     "text": [
      "100%|██████████| 326/326 [06:45<00:00,  1.24s/it, loss=1.2, iou=0.996, dice=3.6e-10, sensitivity=1]  \n",
      "100%|██████████| 15/15 [00:06<00:00,  2.34it/s, val_loss=1.2, val_iou=0.991, val_dice=2.1e-8, val_sensitivity=1]  \n"
     ]
    },
    {
     "name": "stdout",
     "output_type": "stream",
     "text": [
      "Training Epoch 2/100,  Training BCE Loss: 1.2004,  Training DICE: 0.0000,  Training IOU: 0.9962,  Training Sensitivity: 1.0000,  Validation BCE Loss: 1.1970,  Validation DICE: 0.0000,  Validation IOU: 0.9907,  Validation Sensitivity: 1.0000\n",
      "Saved new best model based on DICE metric!\n"
     ]
    },
    {
     "name": "stderr",
     "output_type": "stream",
     "text": [
      "100%|██████████| 326/326 [06:45<00:00,  1.24s/it, loss=1.18, iou=0.998, dice=6.48e-10, sensitivity=1]\n",
      "100%|██████████| 15/15 [00:06<00:00,  2.36it/s, val_loss=1.18, val_iou=0.991, val_dice=0.458, val_sensitivity=1]\n"
     ]
    },
    {
     "name": "stdout",
     "output_type": "stream",
     "text": [
      "Training Epoch 3/100,  Training BCE Loss: 1.1781,  Training DICE: 0.0000,  Training IOU: 0.9981,  Training Sensitivity: 1.0000,  Validation BCE Loss: 1.1752,  Validation DICE: 0.4576,  Validation IOU: 0.9913,  Validation Sensitivity: 1.0000\n",
      "Saved new best model based on DICE metric!\n"
     ]
    },
    {
     "name": "stderr",
     "output_type": "stream",
     "text": [
      "100%|██████████| 326/326 [06:45<00:00,  1.24s/it, loss=1.16, iou=0.998, dice=7.12e-10, sensitivity=1]\n",
      "100%|██████████| 15/15 [00:06<00:00,  2.34it/s, val_loss=1.15, val_iou=0.995, val_dice=0.39, val_sensitivity=1] \n"
     ]
    },
    {
     "name": "stdout",
     "output_type": "stream",
     "text": [
      "Training Epoch 4/100,  Training BCE Loss: 1.1585,  Training DICE: 0.0000,  Training IOU: 0.9976,  Training Sensitivity: 1.0000,  Validation BCE Loss: 1.1537,  Validation DICE: 0.3898,  Validation IOU: 0.9949,  Validation Sensitivity: 1.0000\n"
     ]
    },
    {
     "name": "stderr",
     "output_type": "stream",
     "text": [
      "100%|██████████| 326/326 [06:46<00:00,  1.25s/it, loss=1.14, iou=0.999, dice=9.19e-10, sensitivity=1]\n",
      "100%|██████████| 15/15 [00:06<00:00,  2.36it/s, val_loss=1.13, val_iou=0.997, val_dice=0.661, val_sensitivity=1]\n"
     ]
    },
    {
     "name": "stdout",
     "output_type": "stream",
     "text": [
      "Training Epoch 5/100,  Training BCE Loss: 1.1389,  Training DICE: 0.0000,  Training IOU: 0.9986,  Training Sensitivity: 1.0000,  Validation BCE Loss: 1.1332,  Validation DICE: 0.6610,  Validation IOU: 0.9974,  Validation Sensitivity: 1.0000\n",
      "Saved new best model based on DICE metric!\n"
     ]
    },
    {
     "name": "stderr",
     "output_type": "stream",
     "text": [
      "100%|██████████| 326/326 [06:46<00:00,  1.25s/it, loss=1.12, iou=0.999, dice=1.11e-9, sensitivity=1]\n",
      "100%|██████████| 15/15 [00:06<00:00,  2.38it/s, val_loss=1.12, val_iou=0.995, val_dice=0.458, val_sensitivity=1]\n"
     ]
    },
    {
     "name": "stdout",
     "output_type": "stream",
     "text": [
      "Training Epoch 6/100,  Training BCE Loss: 1.1207,  Training DICE: 0.0000,  Training IOU: 0.9987,  Training Sensitivity: 1.0000,  Validation BCE Loss: 1.1170,  Validation DICE: 0.4576,  Validation IOU: 0.9948,  Validation Sensitivity: 1.0000\n"
     ]
    },
    {
     "name": "stderr",
     "output_type": "stream",
     "text": [
      "100%|██████████| 326/326 [06:46<00:00,  1.25s/it, loss=1.1, iou=0.999, dice=1.68e-9, sensitivity=1] \n",
      "100%|██████████| 15/15 [00:06<00:00,  2.36it/s, val_loss=1.1, val_iou=0.995, val_dice=0.458, val_sensitivity=1]\n"
     ]
    },
    {
     "name": "stdout",
     "output_type": "stream",
     "text": [
      "Training Epoch 7/100,  Training BCE Loss: 1.1011,  Training DICE: 0.0000,  Training IOU: 0.9992,  Training Sensitivity: 1.0000,  Validation BCE Loss: 1.0974,  Validation DICE: 0.4576,  Validation IOU: 0.9945,  Validation Sensitivity: 1.0000\n"
     ]
    },
    {
     "name": "stderr",
     "output_type": "stream",
     "text": [
      "100%|██████████| 326/326 [06:46<00:00,  1.25s/it, loss=1.08, iou=0.999, dice=2.07e-9, sensitivity=1]\n",
      "100%|██████████| 15/15 [00:06<00:00,  2.34it/s, val_loss=1.08, val_iou=0.998, val_dice=0.661, val_sensitivity=1]\n"
     ]
    },
    {
     "name": "stdout",
     "output_type": "stream",
     "text": [
      "Training Epoch 8/100,  Training BCE Loss: 1.0826,  Training DICE: 0.0000,  Training IOU: 0.9994,  Training Sensitivity: 1.0000,  Validation BCE Loss: 1.0768,  Validation DICE: 0.6610,  Validation IOU: 0.9978,  Validation Sensitivity: 1.0000\n"
     ]
    },
    {
     "name": "stderr",
     "output_type": "stream",
     "text": [
      "100%|██████████| 326/326 [06:46<00:00,  1.25s/it, loss=1.06, iou=0.999, dice=2.4e-9, sensitivity=1] \n",
      "100%|██████████| 15/15 [00:06<00:00,  2.36it/s, val_loss=1.06, val_iou=0.998, val_dice=0.661, val_sensitivity=1]\n"
     ]
    },
    {
     "name": "stdout",
     "output_type": "stream",
     "text": [
      "Training Epoch 9/100,  Training BCE Loss: 1.0646,  Training DICE: 0.0000,  Training IOU: 0.9995,  Training Sensitivity: 1.0000,  Validation BCE Loss: 1.0591,  Validation DICE: 0.6610,  Validation IOU: 0.9985,  Validation Sensitivity: 1.0000\n"
     ]
    },
    {
     "name": "stderr",
     "output_type": "stream",
     "text": [
      "100%|██████████| 326/326 [06:46<00:00,  1.25s/it, loss=1.05, iou=1, dice=2.94e-9, sensitivity=1]\n",
      "100%|██████████| 15/15 [00:06<00:00,  2.37it/s, val_loss=1.04, val_iou=0.998, val_dice=0.593, val_sensitivity=1]\n"
     ]
    },
    {
     "name": "stdout",
     "output_type": "stream",
     "text": [
      "Training Epoch 10/100,  Training BCE Loss: 1.0472,  Training DICE: 0.0000,  Training IOU: 0.9996,  Training Sensitivity: 1.0000,  Validation BCE Loss: 1.0431,  Validation DICE: 0.5932,  Validation IOU: 0.9981,  Validation Sensitivity: 1.0000\n"
     ]
    },
    {
     "name": "stderr",
     "output_type": "stream",
     "text": [
      "100%|██████████| 326/326 [06:46<00:00,  1.25s/it, loss=1.03, iou=1, dice=3.05e-9, sensitivity=1]  \n",
      "100%|██████████| 15/15 [00:06<00:00,  2.33it/s, val_loss=1.03, val_iou=0.997, val_dice=0.458, val_sensitivity=1]\n"
     ]
    },
    {
     "name": "stdout",
     "output_type": "stream",
     "text": [
      "Training Epoch 11/100,  Training BCE Loss: 1.0307,  Training DICE: 0.0000,  Training IOU: 0.9996,  Training Sensitivity: 1.0000,  Validation BCE Loss: 1.0268,  Validation DICE: 0.4576,  Validation IOU: 0.9967,  Validation Sensitivity: 1.0000\n"
     ]
    },
    {
     "name": "stderr",
     "output_type": "stream",
     "text": [
      "100%|██████████| 326/326 [06:46<00:00,  1.25s/it, loss=1.01, iou=1, dice=3.87e-9, sensitivity=1]\n",
      "100%|██████████| 15/15 [00:06<00:00,  2.35it/s, val_loss=1.01, val_iou=0.998, val_dice=0.661, val_sensitivity=1]\n"
     ]
    },
    {
     "name": "stdout",
     "output_type": "stream",
     "text": [
      "Training Epoch 12/100,  Training BCE Loss: 1.0139,  Training DICE: 0.0000,  Training IOU: 0.9997,  Training Sensitivity: 1.0000,  Validation BCE Loss: 1.0109,  Validation DICE: 0.6610,  Validation IOU: 0.9978,  Validation Sensitivity: 1.0000\n"
     ]
    },
    {
     "name": "stderr",
     "output_type": "stream",
     "text": [
      "100%|██████████| 326/326 [06:46<00:00,  1.25s/it, loss=0.998, iou=1, dice=4.5e-9, sensitivity=1] \n",
      "100%|██████████| 15/15 [00:06<00:00,  2.34it/s, val_loss=0.997, val_iou=0.995, val_dice=0.458, val_sensitivity=1]\n"
     ]
    },
    {
     "name": "stdout",
     "output_type": "stream",
     "text": [
      "Training Epoch 13/100,  Training BCE Loss: 0.9980,  Training DICE: 0.0000,  Training IOU: 0.9997,  Training Sensitivity: 1.0000,  Validation BCE Loss: 0.9973,  Validation DICE: 0.4576,  Validation IOU: 0.9949,  Validation Sensitivity: 1.0000\n"
     ]
    },
    {
     "name": "stderr",
     "output_type": "stream",
     "text": [
      "100%|██████████| 326/326 [06:46<00:00,  1.25s/it, loss=0.983, iou=1, dice=3.56e-9, sensitivity=1]\n",
      "100%|██████████| 15/15 [00:06<00:00,  2.35it/s, val_loss=0.98, val_iou=0.999, val_dice=0.661, val_sensitivity=1] \n"
     ]
    },
    {
     "name": "stdout",
     "output_type": "stream",
     "text": [
      "Training Epoch 14/100,  Training BCE Loss: 0.9828,  Training DICE: 0.0000,  Training IOU: 0.9996,  Training Sensitivity: 1.0000,  Validation BCE Loss: 0.9797,  Validation DICE: 0.6610,  Validation IOU: 0.9991,  Validation Sensitivity: 1.0000\n"
     ]
    },
    {
     "name": "stderr",
     "output_type": "stream",
     "text": [
      "100%|██████████| 326/326 [06:46<00:00,  1.25s/it, loss=0.969, iou=0.999, dice=3.13e-9, sensitivity=1]\n",
      "100%|██████████| 15/15 [00:06<00:00,  2.34it/s, val_loss=0.966, val_iou=0.998, val_dice=0.525, val_sensitivity=1]\n"
     ]
    },
    {
     "name": "stdout",
     "output_type": "stream",
     "text": [
      "Training Epoch 15/100,  Training BCE Loss: 0.9688,  Training DICE: 0.0000,  Training IOU: 0.9995,  Training Sensitivity: 1.0000,  Validation BCE Loss: 0.9661,  Validation DICE: 0.5254,  Validation IOU: 0.9980,  Validation Sensitivity: 1.0000\n"
     ]
    },
    {
     "name": "stderr",
     "output_type": "stream",
     "text": [
      "100%|██████████| 326/326 [06:46<00:00,  1.25s/it, loss=0.955, iou=1, dice=3.57e-9, sensitivity=1]\n",
      "100%|██████████| 15/15 [00:06<00:00,  2.35it/s, val_loss=0.952, val_iou=0.999, val_dice=0.661, val_sensitivity=1]\n"
     ]
    },
    {
     "name": "stdout",
     "output_type": "stream",
     "text": [
      "Training Epoch 16/100,  Training BCE Loss: 0.9552,  Training DICE: 0.0000,  Training IOU: 0.9996,  Training Sensitivity: 1.0000,  Validation BCE Loss: 0.9520,  Validation DICE: 0.6610,  Validation IOU: 0.9991,  Validation Sensitivity: 1.0000\n"
     ]
    },
    {
     "name": "stderr",
     "output_type": "stream",
     "text": [
      "100%|██████████| 326/326 [06:46<00:00,  1.25s/it, loss=0.942, iou=1, dice=4.93e-9, sensitivity=1]  \n",
      "100%|██████████| 15/15 [00:06<00:00,  2.32it/s, val_loss=0.941, val_iou=0.998, val_dice=0.661, val_sensitivity=1]\n"
     ]
    },
    {
     "name": "stdout",
     "output_type": "stream",
     "text": [
      "Training Epoch 17/100,  Training BCE Loss: 0.9425,  Training DICE: 0.0000,  Training IOU: 0.9998,  Training Sensitivity: 1.0000,  Validation BCE Loss: 0.9411,  Validation DICE: 0.6610,  Validation IOU: 0.9984,  Validation Sensitivity: 1.0000\n"
     ]
    },
    {
     "name": "stderr",
     "output_type": "stream",
     "text": [
      "100%|██████████| 326/326 [06:46<00:00,  1.25s/it, loss=0.93, iou=1, dice=6.13e-9, sensitivity=1] \n",
      "100%|██████████| 15/15 [00:06<00:00,  2.36it/s, val_loss=0.929, val_iou=1, val_dice=0.729, val_sensitivity=1]    \n"
     ]
    },
    {
     "name": "stdout",
     "output_type": "stream",
     "text": [
      "Training Epoch 18/100,  Training BCE Loss: 0.9304,  Training DICE: 0.0000,  Training IOU: 0.9998,  Training Sensitivity: 1.0000,  Validation BCE Loss: 0.9288,  Validation DICE: 0.7288,  Validation IOU: 0.9995,  Validation Sensitivity: 1.0000\n",
      "Saved new best model based on DICE metric!\n"
     ]
    },
    {
     "name": "stderr",
     "output_type": "stream",
     "text": [
      "100%|██████████| 326/326 [06:46<00:00,  1.25s/it, loss=0.919, iou=1, dice=6.2e-9, sensitivity=1] \n",
      "100%|██████████| 15/15 [00:06<00:00,  2.35it/s, val_loss=0.927, val_iou=0.994, val_dice=0.322, val_sensitivity=1]  \n"
     ]
    },
    {
     "name": "stdout",
     "output_type": "stream",
     "text": [
      "Training Epoch 19/100,  Training BCE Loss: 0.9192,  Training DICE: 0.0000,  Training IOU: 0.9997,  Training Sensitivity: 1.0000,  Validation BCE Loss: 0.9272,  Validation DICE: 0.3220,  Validation IOU: 0.9937,  Validation Sensitivity: 1.0000\n"
     ]
    },
    {
     "name": "stderr",
     "output_type": "stream",
     "text": [
      "100%|██████████| 326/326 [06:46<00:00,  1.25s/it, loss=0.909, iou=1, dice=3.89e-9, sensitivity=1]    \n",
      "100%|██████████| 15/15 [00:06<00:00,  2.34it/s, val_loss=0.904, val_iou=0.999, val_dice=0.661, val_sensitivity=1]\n"
     ]
    },
    {
     "name": "stdout",
     "output_type": "stream",
     "text": [
      "Training Epoch 20/100,  Training BCE Loss: 0.9086,  Training DICE: 0.0000,  Training IOU: 0.9996,  Training Sensitivity: 1.0000,  Validation BCE Loss: 0.9042,  Validation DICE: 0.6610,  Validation IOU: 0.9994,  Validation Sensitivity: 1.0000\n"
     ]
    },
    {
     "name": "stderr",
     "output_type": "stream",
     "text": [
      "100%|██████████| 326/326 [06:46<00:00,  1.25s/it, loss=0.897, iou=1, dice=5.53e-9, sensitivity=1]\n",
      "100%|██████████| 15/15 [00:06<00:00,  2.37it/s, val_loss=0.896, val_iou=0.999, val_dice=0.661, val_sensitivity=1]\n"
     ]
    },
    {
     "name": "stdout",
     "output_type": "stream",
     "text": [
      "Training Epoch 21/100,  Training BCE Loss: 0.8974,  Training DICE: 0.0000,  Training IOU: 0.9998,  Training Sensitivity: 1.0000,  Validation BCE Loss: 0.8965,  Validation DICE: 0.6610,  Validation IOU: 0.9986,  Validation Sensitivity: 1.0000\n"
     ]
    },
    {
     "name": "stderr",
     "output_type": "stream",
     "text": [
      "100%|██████████| 326/326 [06:46<00:00,  1.25s/it, loss=0.887, iou=1, dice=7.62e-9, sensitivity=1]\n",
      "100%|██████████| 15/15 [00:06<00:00,  2.35it/s, val_loss=0.884, val_iou=0.999, val_dice=0.661, val_sensitivity=1]\n"
     ]
    },
    {
     "name": "stdout",
     "output_type": "stream",
     "text": [
      "Training Epoch 22/100,  Training BCE Loss: 0.8868,  Training DICE: 0.0000,  Training IOU: 0.9998,  Training Sensitivity: 1.0000,  Validation BCE Loss: 0.8838,  Validation DICE: 0.6610,  Validation IOU: 0.9993,  Validation Sensitivity: 1.0000\n"
     ]
    },
    {
     "name": "stderr",
     "output_type": "stream",
     "text": [
      "100%|██████████| 326/326 [06:46<00:00,  1.25s/it, loss=0.877, iou=1, dice=7.73e-9, sensitivity=1]\n",
      "100%|██████████| 15/15 [00:06<00:00,  2.37it/s, val_loss=0.873, val_iou=0.999, val_dice=0.661, val_sensitivity=1]\n"
     ]
    },
    {
     "name": "stdout",
     "output_type": "stream",
     "text": [
      "Training Epoch 23/100,  Training BCE Loss: 0.8771,  Training DICE: 0.0000,  Training IOU: 0.9998,  Training Sensitivity: 1.0000,  Validation BCE Loss: 0.8729,  Validation DICE: 0.6610,  Validation IOU: 0.9993,  Validation Sensitivity: 1.0000\n"
     ]
    },
    {
     "name": "stderr",
     "output_type": "stream",
     "text": [
      "100%|██████████| 326/326 [06:46<00:00,  1.25s/it, loss=0.868, iou=1, dice=7.7e-9, sensitivity=1] \n",
      "100%|██████████| 15/15 [00:06<00:00,  2.37it/s, val_loss=0.866, val_iou=1, val_dice=0.797, val_sensitivity=1]\n"
     ]
    },
    {
     "name": "stdout",
     "output_type": "stream",
     "text": [
      "Training Epoch 24/100,  Training BCE Loss: 0.8682,  Training DICE: 0.0000,  Training IOU: 0.9998,  Training Sensitivity: 1.0000,  Validation BCE Loss: 0.8657,  Validation DICE: 0.7966,  Validation IOU: 0.9997,  Validation Sensitivity: 1.0000\n",
      "Saved new best model based on DICE metric!\n"
     ]
    },
    {
     "name": "stderr",
     "output_type": "stream",
     "text": [
      "100%|██████████| 326/326 [06:46<00:00,  1.25s/it, loss=0.86, iou=1, dice=1e-8, sensitivity=1]    \n",
      "100%|██████████| 15/15 [00:06<00:00,  2.35it/s, val_loss=0.857, val_iou=1, val_dice=0.729, val_sensitivity=1]\n"
     ]
    },
    {
     "name": "stdout",
     "output_type": "stream",
     "text": [
      "Training Epoch 25/100,  Training BCE Loss: 0.8598,  Training DICE: 0.0000,  Training IOU: 0.9999,  Training Sensitivity: 1.0000,  Validation BCE Loss: 0.8566,  Validation DICE: 0.7288,  Validation IOU: 0.9997,  Validation Sensitivity: 1.0000\n"
     ]
    },
    {
     "name": "stderr",
     "output_type": "stream",
     "text": [
      "100%|██████████| 326/326 [06:46<00:00,  1.25s/it, loss=0.852, iou=1, dice=1.02e-8, sensitivity=1]\n",
      "100%|██████████| 15/15 [00:06<00:00,  2.35it/s, val_loss=0.85, val_iou=1, val_dice=0.797, val_sensitivity=1] \n"
     ]
    },
    {
     "name": "stdout",
     "output_type": "stream",
     "text": [
      "Training Epoch 26/100,  Training BCE Loss: 0.8520,  Training DICE: 0.0000,  Training IOU: 0.9999,  Training Sensitivity: 1.0000,  Validation BCE Loss: 0.8496,  Validation DICE: 0.7966,  Validation IOU: 0.9998,  Validation Sensitivity: 1.0000\n",
      "Saved new best model based on DICE metric!\n"
     ]
    },
    {
     "name": "stderr",
     "output_type": "stream",
     "text": [
      "100%|██████████| 326/326 [06:46<00:00,  1.25s/it, loss=0.844, iou=1, dice=1.15e-8, sensitivity=1]\n",
      "100%|██████████| 15/15 [00:06<00:00,  2.35it/s, val_loss=0.842, val_iou=1, val_dice=0.729, val_sensitivity=1]\n"
     ]
    },
    {
     "name": "stdout",
     "output_type": "stream",
     "text": [
      "Training Epoch 27/100,  Training BCE Loss: 0.8443,  Training DICE: 0.0000,  Training IOU: 0.9999,  Training Sensitivity: 1.0000,  Validation BCE Loss: 0.8425,  Validation DICE: 0.7288,  Validation IOU: 0.9997,  Validation Sensitivity: 1.0000\n"
     ]
    },
    {
     "name": "stderr",
     "output_type": "stream",
     "text": [
      "100%|██████████| 326/326 [06:46<00:00,  1.25s/it, loss=0.837, iou=1, dice=1.24e-8, sensitivity=1]\n",
      "100%|██████████| 15/15 [00:06<00:00,  2.35it/s, val_loss=0.844, val_iou=0.999, val_dice=0.661, val_sensitivity=1]\n"
     ]
    },
    {
     "name": "stdout",
     "output_type": "stream",
     "text": [
      "Training Epoch 28/100,  Training BCE Loss: 0.8369,  Training DICE: 0.0000,  Training IOU: 0.9999,  Training Sensitivity: 1.0000,  Validation BCE Loss: 0.8441,  Validation DICE: 0.6610,  Validation IOU: 0.9987,  Validation Sensitivity: 1.0000\n"
     ]
    },
    {
     "name": "stderr",
     "output_type": "stream",
     "text": [
      "100%|██████████| 326/326 [06:47<00:00,  1.25s/it, loss=0.83, iou=1, dice=1.26e-8, sensitivity=1] \n",
      "100%|██████████| 15/15 [00:06<00:00,  2.35it/s, val_loss=0.829, val_iou=1, val_dice=0.661, val_sensitivity=1]    \n"
     ]
    },
    {
     "name": "stdout",
     "output_type": "stream",
     "text": [
      "Training Epoch 29/100,  Training BCE Loss: 0.8301,  Training DICE: 0.0000,  Training IOU: 0.9999,  Training Sensitivity: 1.0000,  Validation BCE Loss: 0.8287,  Validation DICE: 0.6610,  Validation IOU: 0.9995,  Validation Sensitivity: 1.0000\n"
     ]
    },
    {
     "name": "stderr",
     "output_type": "stream",
     "text": [
      "100%|██████████| 326/326 [06:46<00:00,  1.25s/it, loss=0.823, iou=1, dice=1.37e-8, sensitivity=1]\n",
      "100%|██████████| 15/15 [00:06<00:00,  2.35it/s, val_loss=0.822, val_iou=0.999, val_dice=0.458, val_sensitivity=1]\n"
     ]
    },
    {
     "name": "stdout",
     "output_type": "stream",
     "text": [
      "Training Epoch 30/100,  Training BCE Loss: 0.8233,  Training DICE: 0.0000,  Training IOU: 0.9999,  Training Sensitivity: 1.0000,  Validation BCE Loss: 0.8221,  Validation DICE: 0.4576,  Validation IOU: 0.9990,  Validation Sensitivity: 1.0000\n"
     ]
    },
    {
     "name": "stderr",
     "output_type": "stream",
     "text": [
      "100%|██████████| 326/326 [06:46<00:00,  1.25s/it, loss=0.817, iou=1, dice=1.07e-8, sensitivity=1]\n",
      "100%|██████████| 15/15 [00:06<00:00,  2.37it/s, val_loss=0.817, val_iou=1, val_dice=0.458, val_sensitivity=1]\n"
     ]
    },
    {
     "name": "stdout",
     "output_type": "stream",
     "text": [
      "Training Epoch 31/100,  Training BCE Loss: 0.8173,  Training DICE: 0.0000,  Training IOU: 0.9998,  Training Sensitivity: 1.0000,  Validation BCE Loss: 0.8167,  Validation DICE: 0.4576,  Validation IOU: 0.9997,  Validation Sensitivity: 1.0000\n"
     ]
    },
    {
     "name": "stderr",
     "output_type": "stream",
     "text": [
      "100%|██████████| 326/326 [06:47<00:00,  1.25s/it, loss=0.812, iou=1, dice=1.2e-8, sensitivity=1] \n",
      "100%|██████████| 15/15 [00:06<00:00,  2.34it/s, val_loss=0.809, val_iou=1, val_dice=0.593, val_sensitivity=1]    \n"
     ]
    },
    {
     "name": "stdout",
     "output_type": "stream",
     "text": [
      "Training Epoch 32/100,  Training BCE Loss: 0.8117,  Training DICE: 0.0000,  Training IOU: 0.9999,  Training Sensitivity: 1.0000,  Validation BCE Loss: 0.8092,  Validation DICE: 0.5932,  Validation IOU: 0.9995,  Validation Sensitivity: 1.0000\n"
     ]
    },
    {
     "name": "stderr",
     "output_type": "stream",
     "text": [
      "100%|██████████| 326/326 [06:46<00:00,  1.25s/it, loss=0.807, iou=1, dice=1.43e-8, sensitivity=1]\n",
      "100%|██████████| 15/15 [00:06<00:00,  2.36it/s, val_loss=0.806, val_iou=1, val_dice=0.797, val_sensitivity=1]\n"
     ]
    },
    {
     "name": "stdout",
     "output_type": "stream",
     "text": [
      "Training Epoch 33/100,  Training BCE Loss: 0.8066,  Training DICE: 0.0000,  Training IOU: 0.9999,  Training Sensitivity: 1.0000,  Validation BCE Loss: 0.8059,  Validation DICE: 0.7966,  Validation IOU: 1.0000,  Validation Sensitivity: 1.0000\n",
      "Saved new best model based on DICE metric!\n"
     ]
    },
    {
     "name": "stderr",
     "output_type": "stream",
     "text": [
      "100%|██████████| 326/326 [06:47<00:00,  1.25s/it, loss=0.802, iou=1, dice=1.59e-8, sensitivity=1]\n",
      "100%|██████████| 15/15 [00:06<00:00,  2.35it/s, val_loss=0.799, val_iou=1, val_dice=0.729, val_sensitivity=1]\n"
     ]
    },
    {
     "name": "stdout",
     "output_type": "stream",
     "text": [
      "Training Epoch 34/100,  Training BCE Loss: 0.8020,  Training DICE: 0.0000,  Training IOU: 0.9999,  Training Sensitivity: 1.0000,  Validation BCE Loss: 0.7992,  Validation DICE: 0.7288,  Validation IOU: 0.9998,  Validation Sensitivity: 1.0000\n"
     ]
    },
    {
     "name": "stderr",
     "output_type": "stream",
     "text": [
      "100%|██████████| 326/326 [06:47<00:00,  1.25s/it, loss=0.798, iou=1, dice=1.38e-8, sensitivity=1]\n",
      "100%|██████████| 15/15 [00:06<00:00,  2.34it/s, val_loss=0.796, val_iou=1, val_dice=0.661, val_sensitivity=1]\n"
     ]
    },
    {
     "name": "stdout",
     "output_type": "stream",
     "text": [
      "Training Epoch 35/100,  Training BCE Loss: 0.7976,  Training DICE: 0.0000,  Training IOU: 0.9999,  Training Sensitivity: 1.0000,  Validation BCE Loss: 0.7960,  Validation DICE: 0.6610,  Validation IOU: 0.9997,  Validation Sensitivity: 1.0000\n"
     ]
    },
    {
     "name": "stderr",
     "output_type": "stream",
     "text": [
      "100%|██████████| 326/326 [06:46<00:00,  1.25s/it, loss=0.794, iou=1, dice=1.54e-8, sensitivity=1]\n",
      "100%|██████████| 15/15 [00:06<00:00,  2.36it/s, val_loss=0.792, val_iou=1, val_dice=0.661, val_sensitivity=1]\n"
     ]
    },
    {
     "name": "stdout",
     "output_type": "stream",
     "text": [
      "Training Epoch 36/100,  Training BCE Loss: 0.7936,  Training DICE: 0.0000,  Training IOU: 0.9999,  Training Sensitivity: 1.0000,  Validation BCE Loss: 0.7924,  Validation DICE: 0.6610,  Validation IOU: 0.9999,  Validation Sensitivity: 1.0000\n"
     ]
    },
    {
     "name": "stderr",
     "output_type": "stream",
     "text": [
      "100%|██████████| 326/326 [06:46<00:00,  1.25s/it, loss=0.79, iou=1, dice=1.54e-8, sensitivity=1] \n",
      "100%|██████████| 15/15 [00:06<00:00,  2.35it/s, val_loss=0.787, val_iou=1, val_dice=0.593, val_sensitivity=1]\n"
     ]
    },
    {
     "name": "stdout",
     "output_type": "stream",
     "text": [
      "Training Epoch 37/100,  Training BCE Loss: 0.7896,  Training DICE: 0.0000,  Training IOU: 0.9999,  Training Sensitivity: 1.0000,  Validation BCE Loss: 0.7875,  Validation DICE: 0.5932,  Validation IOU: 0.9998,  Validation Sensitivity: 1.0000\n"
     ]
    },
    {
     "name": "stderr",
     "output_type": "stream",
     "text": [
      "100%|██████████| 326/326 [06:47<00:00,  1.25s/it, loss=0.786, iou=1, dice=1.59e-8, sensitivity=1]\n",
      "100%|██████████| 15/15 [00:06<00:00,  2.35it/s, val_loss=0.784, val_iou=1, val_dice=0.661, val_sensitivity=1]\n"
     ]
    },
    {
     "name": "stdout",
     "output_type": "stream",
     "text": [
      "Training Epoch 38/100,  Training BCE Loss: 0.7858,  Training DICE: 0.0000,  Training IOU: 0.9999,  Training Sensitivity: 1.0000,  Validation BCE Loss: 0.7843,  Validation DICE: 0.6610,  Validation IOU: 0.9999,  Validation Sensitivity: 1.0000\n"
     ]
    },
    {
     "name": "stderr",
     "output_type": "stream",
     "text": [
      "100%|██████████| 326/326 [06:47<00:00,  1.25s/it, loss=0.782, iou=1, dice=1.81e-8, sensitivity=1]\n",
      "100%|██████████| 15/15 [00:06<00:00,  2.37it/s, val_loss=0.781, val_iou=1, val_dice=0.661, val_sensitivity=1]\n"
     ]
    },
    {
     "name": "stdout",
     "output_type": "stream",
     "text": [
      "Training Epoch 39/100,  Training BCE Loss: 0.7821,  Training DICE: 0.0000,  Training IOU: 0.9999,  Training Sensitivity: 1.0000,  Validation BCE Loss: 0.7810,  Validation DICE: 0.6610,  Validation IOU: 1.0000,  Validation Sensitivity: 1.0000\n"
     ]
    },
    {
     "name": "stderr",
     "output_type": "stream",
     "text": [
      "100%|██████████| 326/326 [06:47<00:00,  1.25s/it, loss=0.779, iou=1, dice=2.28e-8, sensitivity=1]\n",
      "100%|██████████| 15/15 [00:06<00:00,  2.35it/s, val_loss=0.778, val_iou=1, val_dice=0.797, val_sensitivity=1]\n"
     ]
    },
    {
     "name": "stdout",
     "output_type": "stream",
     "text": [
      "Training Epoch 40/100,  Training BCE Loss: 0.7787,  Training DICE: 0.0000,  Training IOU: 0.9999,  Training Sensitivity: 1.0000,  Validation BCE Loss: 0.7781,  Validation DICE: 0.7966,  Validation IOU: 1.0000,  Validation Sensitivity: 1.0000\n",
      "Saved new best model based on DICE metric!\n"
     ]
    },
    {
     "name": "stderr",
     "output_type": "stream",
     "text": [
      "100%|██████████| 326/326 [06:47<00:00,  1.25s/it, loss=0.776, iou=1, dice=2.99e-8, sensitivity=1]\n",
      "100%|██████████| 15/15 [00:06<00:00,  2.36it/s, val_loss=0.774, val_iou=1, val_dice=0.661, val_sensitivity=1]\n"
     ]
    },
    {
     "name": "stdout",
     "output_type": "stream",
     "text": [
      "Training Epoch 41/100,  Training BCE Loss: 0.7755,  Training DICE: 0.0000,  Training IOU: 1.0000,  Training Sensitivity: 1.0000,  Validation BCE Loss: 0.7744,  Validation DICE: 0.6610,  Validation IOU: 0.9999,  Validation Sensitivity: 1.0000\n"
     ]
    },
    {
     "name": "stderr",
     "output_type": "stream",
     "text": [
      "100%|██████████| 326/326 [06:46<00:00,  1.25s/it, loss=0.773, iou=1, dice=2.98e-8, sensitivity=1]\n",
      "100%|██████████| 15/15 [00:06<00:00,  2.33it/s, val_loss=0.772, val_iou=1, val_dice=0.797, val_sensitivity=1]\n"
     ]
    },
    {
     "name": "stdout",
     "output_type": "stream",
     "text": [
      "Training Epoch 42/100,  Training BCE Loss: 0.7728,  Training DICE: 0.0000,  Training IOU: 1.0000,  Training Sensitivity: 1.0000,  Validation BCE Loss: 0.7718,  Validation DICE: 0.7966,  Validation IOU: 1.0000,  Validation Sensitivity: 1.0000\n"
     ]
    },
    {
     "name": "stderr",
     "output_type": "stream",
     "text": [
      "100%|██████████| 326/326 [06:47<00:00,  1.25s/it, loss=0.77, iou=1, dice=2.86e-8, sensitivity=1] \n",
      "100%|██████████| 15/15 [00:06<00:00,  2.35it/s, val_loss=0.769, val_iou=1, val_dice=0.661, val_sensitivity=1]\n"
     ]
    },
    {
     "name": "stdout",
     "output_type": "stream",
     "text": [
      "Training Epoch 43/100,  Training BCE Loss: 0.7703,  Training DICE: 0.0000,  Training IOU: 1.0000,  Training Sensitivity: 1.0000,  Validation BCE Loss: 0.7691,  Validation DICE: 0.6610,  Validation IOU: 0.9999,  Validation Sensitivity: 1.0000\n"
     ]
    },
    {
     "name": "stderr",
     "output_type": "stream",
     "text": [
      "100%|██████████| 326/326 [06:47<00:00,  1.25s/it, loss=0.768, iou=1, dice=3.46e-8, sensitivity=1]\n",
      "100%|██████████| 15/15 [00:06<00:00,  2.37it/s, val_loss=0.767, val_iou=1, val_dice=0.797, val_sensitivity=1]\n"
     ]
    },
    {
     "name": "stdout",
     "output_type": "stream",
     "text": [
      "Training Epoch 44/100,  Training BCE Loss: 0.7679,  Training DICE: 0.0000,  Training IOU: 1.0000,  Training Sensitivity: 1.0000,  Validation BCE Loss: 0.7670,  Validation DICE: 0.7966,  Validation IOU: 1.0000,  Validation Sensitivity: 1.0000\n"
     ]
    },
    {
     "name": "stderr",
     "output_type": "stream",
     "text": [
      "100%|██████████| 326/326 [06:46<00:00,  1.25s/it, loss=0.766, iou=1, dice=3.23e-8, sensitivity=1]\n",
      "100%|██████████| 15/15 [00:06<00:00,  2.32it/s, val_loss=0.764, val_iou=1, val_dice=0.525, val_sensitivity=1]\n"
     ]
    },
    {
     "name": "stdout",
     "output_type": "stream",
     "text": [
      "Training Epoch 45/100,  Training BCE Loss: 0.7659,  Training DICE: 0.0000,  Training IOU: 0.9999,  Training Sensitivity: 1.0000,  Validation BCE Loss: 0.7642,  Validation DICE: 0.5254,  Validation IOU: 0.9999,  Validation Sensitivity: 1.0000\n"
     ]
    },
    {
     "name": "stderr",
     "output_type": "stream",
     "text": [
      "100%|██████████| 326/326 [06:47<00:00,  1.25s/it, loss=0.764, iou=1, dice=3.09e-8, sensitivity=1]\n",
      "100%|██████████| 15/15 [00:06<00:00,  2.34it/s, val_loss=0.763, val_iou=1, val_dice=0.729, val_sensitivity=1]\n"
     ]
    },
    {
     "name": "stdout",
     "output_type": "stream",
     "text": [
      "Training Epoch 46/100,  Training BCE Loss: 0.7639,  Training DICE: 0.0000,  Training IOU: 1.0000,  Training Sensitivity: 1.0000,  Validation BCE Loss: 0.7632,  Validation DICE: 0.7288,  Validation IOU: 0.9999,  Validation Sensitivity: 1.0000\n"
     ]
    },
    {
     "name": "stderr",
     "output_type": "stream",
     "text": [
      "100%|██████████| 326/326 [06:47<00:00,  1.25s/it, loss=0.762, iou=1, dice=2.9e-8, sensitivity=1] \n",
      "100%|██████████| 15/15 [00:06<00:00,  2.34it/s, val_loss=0.761, val_iou=1, val_dice=0.729, val_sensitivity=1]\n"
     ]
    },
    {
     "name": "stdout",
     "output_type": "stream",
     "text": [
      "Training Epoch 47/100,  Training BCE Loss: 0.7621,  Training DICE: 0.0000,  Training IOU: 0.9999,  Training Sensitivity: 1.0000,  Validation BCE Loss: 0.7613,  Validation DICE: 0.7288,  Validation IOU: 1.0000,  Validation Sensitivity: 1.0000\n"
     ]
    },
    {
     "name": "stderr",
     "output_type": "stream",
     "text": [
      "100%|██████████| 326/326 [06:46<00:00,  1.25s/it, loss=0.76, iou=1, dice=5.83e-8, sensitivity=1] \n",
      "100%|██████████| 15/15 [00:06<00:00,  2.38it/s, val_loss=0.761, val_iou=1, val_dice=0.797, val_sensitivity=1]\n"
     ]
    },
    {
     "name": "stdout",
     "output_type": "stream",
     "text": [
      "Training Epoch 48/100,  Training BCE Loss: 0.7604,  Training DICE: 0.0000,  Training IOU: 1.0000,  Training Sensitivity: 1.0000,  Validation BCE Loss: 0.7609,  Validation DICE: 0.7966,  Validation IOU: 1.0000,  Validation Sensitivity: 1.0000\n"
     ]
    },
    {
     "name": "stderr",
     "output_type": "stream",
     "text": [
      "100%|██████████| 326/326 [06:47<00:00,  1.25s/it, loss=0.759, iou=1, dice=5.19e-8, sensitivity=1]\n",
      "100%|██████████| 15/15 [00:06<00:00,  2.34it/s, val_loss=0.758, val_iou=1, val_dice=0.525, val_sensitivity=1]\n"
     ]
    },
    {
     "name": "stdout",
     "output_type": "stream",
     "text": [
      "Training Epoch 49/100,  Training BCE Loss: 0.7589,  Training DICE: 0.0000,  Training IOU: 1.0000,  Training Sensitivity: 1.0000,  Validation BCE Loss: 0.7583,  Validation DICE: 0.5254,  Validation IOU: 0.9997,  Validation Sensitivity: 1.0000\n"
     ]
    },
    {
     "name": "stderr",
     "output_type": "stream",
     "text": [
      "100%|██████████| 326/326 [06:47<00:00,  1.25s/it, loss=0.757, iou=1, dice=6.79e-8, sensitivity=1]\n",
      "100%|██████████| 15/15 [00:06<00:00,  2.37it/s, val_loss=0.757, val_iou=1, val_dice=0.661, val_sensitivity=1]\n"
     ]
    },
    {
     "name": "stdout",
     "output_type": "stream",
     "text": [
      "Training Epoch 50/100,  Training BCE Loss: 0.7574,  Training DICE: 0.0000,  Training IOU: 1.0000,  Training Sensitivity: 1.0000,  Validation BCE Loss: 0.7569,  Validation DICE: 0.6610,  Validation IOU: 0.9999,  Validation Sensitivity: 1.0000\n"
     ]
    },
    {
     "name": "stderr",
     "output_type": "stream",
     "text": [
      "100%|██████████| 326/326 [06:46<00:00,  1.25s/it, loss=0.756, iou=1, dice=6.18e-8, sensitivity=1]\n",
      "100%|██████████| 15/15 [00:06<00:00,  2.33it/s, val_loss=0.756, val_iou=1, val_dice=0.797, val_sensitivity=1]\n"
     ]
    },
    {
     "name": "stdout",
     "output_type": "stream",
     "text": [
      "Training Epoch 51/100,  Training BCE Loss: 0.7562,  Training DICE: 0.0000,  Training IOU: 1.0000,  Training Sensitivity: 1.0000,  Validation BCE Loss: 0.7556,  Validation DICE: 0.7966,  Validation IOU: 1.0000,  Validation Sensitivity: 1.0000\n"
     ]
    },
    {
     "name": "stderr",
     "output_type": "stream",
     "text": [
      "100%|██████████| 326/326 [06:47<00:00,  1.25s/it, loss=0.755, iou=1, dice=5e-8, sensitivity=1]   \n",
      "100%|██████████| 15/15 [00:06<00:00,  2.33it/s, val_loss=0.755, val_iou=1, val_dice=0.458, val_sensitivity=1]\n"
     ]
    },
    {
     "name": "stdout",
     "output_type": "stream",
     "text": [
      "Training Epoch 52/100,  Training BCE Loss: 0.7550,  Training DICE: 0.0000,  Training IOU: 1.0000,  Training Sensitivity: 1.0000,  Validation BCE Loss: 0.7546,  Validation DICE: 0.4576,  Validation IOU: 0.9999,  Validation Sensitivity: 1.0000\n"
     ]
    },
    {
     "name": "stderr",
     "output_type": "stream",
     "text": [
      "100%|██████████| 326/326 [06:47<00:00,  1.25s/it, loss=0.754, iou=1, dice=5.94e-8, sensitivity=1]\n",
      "100%|██████████| 15/15 [00:06<00:00,  2.36it/s, val_loss=0.754, val_iou=1, val_dice=0.797, val_sensitivity=1]\n"
     ]
    },
    {
     "name": "stdout",
     "output_type": "stream",
     "text": [
      "Training Epoch 53/100,  Training BCE Loss: 0.7540,  Training DICE: 0.0000,  Training IOU: 1.0000,  Training Sensitivity: 1.0000,  Validation BCE Loss: 0.7537,  Validation DICE: 0.7966,  Validation IOU: 1.0000,  Validation Sensitivity: 1.0000\n"
     ]
    },
    {
     "name": "stderr",
     "output_type": "stream",
     "text": [
      "100%|██████████| 326/326 [06:46<00:00,  1.25s/it, loss=0.753, iou=1, dice=7.14e-8, sensitivity=1]\n",
      "100%|██████████| 15/15 [00:06<00:00,  2.33it/s, val_loss=0.753, val_iou=1, val_dice=0.797, val_sensitivity=1]\n"
     ]
    },
    {
     "name": "stdout",
     "output_type": "stream",
     "text": [
      "Training Epoch 54/100,  Training BCE Loss: 0.7531,  Training DICE: 0.0000,  Training IOU: 1.0000,  Training Sensitivity: 1.0000,  Validation BCE Loss: 0.7528,  Validation DICE: 0.7966,  Validation IOU: 1.0000,  Validation Sensitivity: 1.0000\n"
     ]
    },
    {
     "name": "stderr",
     "output_type": "stream",
     "text": [
      "100%|██████████| 326/326 [06:47<00:00,  1.25s/it, loss=0.752, iou=1, dice=9.46e-8, sensitivity=1]\n",
      "100%|██████████| 15/15 [00:06<00:00,  2.35it/s, val_loss=0.752, val_iou=1, val_dice=0.661, val_sensitivity=1]\n"
     ]
    },
    {
     "name": "stdout",
     "output_type": "stream",
     "text": [
      "Training Epoch 55/100,  Training BCE Loss: 0.7522,  Training DICE: 0.0000,  Training IOU: 1.0000,  Training Sensitivity: 1.0000,  Validation BCE Loss: 0.7518,  Validation DICE: 0.6610,  Validation IOU: 0.9999,  Validation Sensitivity: 1.0000\n"
     ]
    },
    {
     "name": "stderr",
     "output_type": "stream",
     "text": [
      "100%|██████████| 326/326 [06:47<00:00,  1.25s/it, loss=0.751, iou=1, dice=1.53e-7, sensitivity=1]\n",
      "100%|██████████| 15/15 [00:06<00:00,  2.36it/s, val_loss=0.751, val_iou=1, val_dice=0.661, val_sensitivity=1]\n"
     ]
    },
    {
     "name": "stdout",
     "output_type": "stream",
     "text": [
      "Training Epoch 56/100,  Training BCE Loss: 0.7514,  Training DICE: 0.0000,  Training IOU: 1.0000,  Training Sensitivity: 1.0000,  Validation BCE Loss: 0.7509,  Validation DICE: 0.6610,  Validation IOU: 1.0000,  Validation Sensitivity: 1.0000\n"
     ]
    },
    {
     "name": "stderr",
     "output_type": "stream",
     "text": [
      "100%|██████████| 326/326 [06:47<00:00,  1.25s/it, loss=0.751, iou=1, dice=0.046, sensitivity=1]  \n",
      "100%|██████████| 15/15 [00:06<00:00,  2.32it/s, val_loss=0.75, val_iou=1, val_dice=0.797, val_sensitivity=1]\n"
     ]
    },
    {
     "name": "stdout",
     "output_type": "stream",
     "text": [
      "Training Epoch 57/100,  Training BCE Loss: 0.7507,  Training DICE: 0.0460,  Training IOU: 1.0000,  Training Sensitivity: 1.0000,  Validation BCE Loss: 0.7505,  Validation DICE: 0.7966,  Validation IOU: 1.0000,  Validation Sensitivity: 1.0000\n"
     ]
    },
    {
     "name": "stderr",
     "output_type": "stream",
     "text": [
      "100%|██████████| 326/326 [06:47<00:00,  1.25s/it, loss=0.75, iou=1, dice=0.104, sensitivity=1] \n",
      "100%|██████████| 15/15 [00:06<00:00,  2.37it/s, val_loss=0.75, val_iou=1, val_dice=0.661, val_sensitivity=1]\n"
     ]
    },
    {
     "name": "stdout",
     "output_type": "stream",
     "text": [
      "Training Epoch 58/100,  Training BCE Loss: 0.7500,  Training DICE: 0.1043,  Training IOU: 1.0000,  Training Sensitivity: 1.0000,  Validation BCE Loss: 0.7498,  Validation DICE: 0.6610,  Validation IOU: 1.0000,  Validation Sensitivity: 1.0000\n"
     ]
    },
    {
     "name": "stderr",
     "output_type": "stream",
     "text": [
      "100%|██████████| 326/326 [06:47<00:00,  1.25s/it, loss=0.749, iou=1, dice=0.819, sensitivity=1]\n",
      "100%|██████████| 15/15 [00:06<00:00,  2.33it/s, val_loss=0.749, val_iou=1, val_dice=1, val_sensitivity=1]\n"
     ]
    },
    {
     "name": "stdout",
     "output_type": "stream",
     "text": [
      "Training Epoch 59/100,  Training BCE Loss: 0.7494,  Training DICE: 0.8190,  Training IOU: 1.0000,  Training Sensitivity: 1.0000,  Validation BCE Loss: 0.7490,  Validation DICE: 1.0000,  Validation IOU: 1.0000,  Validation Sensitivity: 1.0000\n",
      "Saved new best model based on DICE metric!\n"
     ]
    },
    {
     "name": "stderr",
     "output_type": "stream",
     "text": [
      "100%|██████████| 326/326 [06:47<00:00,  1.25s/it, loss=0.749, iou=1, dice=0.985, sensitivity=1]\n",
      "100%|██████████| 15/15 [00:06<00:00,  2.33it/s, val_loss=0.748, val_iou=1, val_dice=1, val_sensitivity=1]\n"
     ]
    },
    {
     "name": "stdout",
     "output_type": "stream",
     "text": [
      "Training Epoch 60/100,  Training BCE Loss: 0.7488,  Training DICE: 0.9847,  Training IOU: 1.0000,  Training Sensitivity: 1.0000,  Validation BCE Loss: 0.7484,  Validation DICE: 1.0000,  Validation IOU: 1.0000,  Validation Sensitivity: 1.0000\n"
     ]
    },
    {
     "name": "stderr",
     "output_type": "stream",
     "text": [
      "100%|██████████| 326/326 [06:47<00:00,  1.25s/it, loss=0.748, iou=1, dice=0.994, sensitivity=1]\n",
      "100%|██████████| 15/15 [00:06<00:00,  2.35it/s, val_loss=0.748, val_iou=1, val_dice=1, val_sensitivity=1]\n"
     ]
    },
    {
     "name": "stdout",
     "output_type": "stream",
     "text": [
      "Training Epoch 61/100,  Training BCE Loss: 0.7483,  Training DICE: 0.9939,  Training IOU: 1.0000,  Training Sensitivity: 1.0000,  Validation BCE Loss: 0.7480,  Validation DICE: 1.0000,  Validation IOU: 1.0000,  Validation Sensitivity: 1.0000\n"
     ]
    },
    {
     "name": "stderr",
     "output_type": "stream",
     "text": [
      "100%|██████████| 326/326 [06:47<00:00,  1.25s/it, loss=0.748, iou=1, dice=0.988, sensitivity=1]\n",
      "100%|██████████| 15/15 [00:06<00:00,  2.36it/s, val_loss=0.748, val_iou=1, val_dice=1, val_sensitivity=1]\n"
     ]
    },
    {
     "name": "stdout",
     "output_type": "stream",
     "text": [
      "Training Epoch 62/100,  Training BCE Loss: 0.7479,  Training DICE: 0.9877,  Training IOU: 1.0000,  Training Sensitivity: 1.0000,  Validation BCE Loss: 0.7476,  Validation DICE: 1.0000,  Validation IOU: 1.0000,  Validation Sensitivity: 1.0000\n"
     ]
    },
    {
     "name": "stderr",
     "output_type": "stream",
     "text": [
      "100%|██████████| 326/326 [06:47<00:00,  1.25s/it, loss=0.747, iou=1, dice=1, sensitivity=1]\n",
      "100%|██████████| 15/15 [00:06<00:00,  2.34it/s, val_loss=0.748, val_iou=1, val_dice=1, val_sensitivity=1]\n"
     ]
    },
    {
     "name": "stdout",
     "output_type": "stream",
     "text": [
      "Training Epoch 63/100,  Training BCE Loss: 0.7475,  Training DICE: 1.0000,  Training IOU: 1.0000,  Training Sensitivity: 1.0000,  Validation BCE Loss: 0.7484,  Validation DICE: 1.0000,  Validation IOU: 1.0000,  Validation Sensitivity: 1.0000\n"
     ]
    },
    {
     "name": "stderr",
     "output_type": "stream",
     "text": [
      "100%|██████████| 326/326 [06:47<00:00,  1.25s/it, loss=0.747, iou=1, dice=1, sensitivity=1]\n",
      "100%|██████████| 15/15 [00:06<00:00,  2.37it/s, val_loss=0.747, val_iou=1, val_dice=1, val_sensitivity=1]\n"
     ]
    },
    {
     "name": "stdout",
     "output_type": "stream",
     "text": [
      "Training Epoch 64/100,  Training BCE Loss: 0.7471,  Training DICE: 1.0000,  Training IOU: 1.0000,  Training Sensitivity: 1.0000,  Validation BCE Loss: 0.7470,  Validation DICE: 1.0000,  Validation IOU: 1.0000,  Validation Sensitivity: 1.0000\n"
     ]
    },
    {
     "name": "stderr",
     "output_type": "stream",
     "text": [
      "100%|██████████| 326/326 [06:47<00:00,  1.25s/it, loss=0.747, iou=1, dice=1, sensitivity=1]\n",
      "100%|██████████| 15/15 [00:06<00:00,  2.33it/s, val_loss=0.747, val_iou=1, val_dice=1, val_sensitivity=1]\n"
     ]
    },
    {
     "name": "stdout",
     "output_type": "stream",
     "text": [
      "Training Epoch 65/100,  Training BCE Loss: 0.7468,  Training DICE: 1.0000,  Training IOU: 1.0000,  Training Sensitivity: 1.0000,  Validation BCE Loss: 0.7468,  Validation DICE: 1.0000,  Validation IOU: 1.0000,  Validation Sensitivity: 1.0000\n"
     ]
    },
    {
     "name": "stderr",
     "output_type": "stream",
     "text": [
      "100%|██████████| 326/326 [06:47<00:00,  1.25s/it, loss=0.747, iou=1, dice=1, sensitivity=1]\n",
      "100%|██████████| 15/15 [00:06<00:00,  2.34it/s, val_loss=0.746, val_iou=1, val_dice=1, val_sensitivity=1]\n"
     ]
    },
    {
     "name": "stdout",
     "output_type": "stream",
     "text": [
      "Training Epoch 66/100,  Training BCE Loss: 0.7465,  Training DICE: 1.0000,  Training IOU: 1.0000,  Training Sensitivity: 1.0000,  Validation BCE Loss: 0.7463,  Validation DICE: 1.0000,  Validation IOU: 1.0000,  Validation Sensitivity: 1.0000\n"
     ]
    },
    {
     "name": "stderr",
     "output_type": "stream",
     "text": [
      "100%|██████████| 326/326 [06:47<00:00,  1.25s/it, loss=0.746, iou=1, dice=1, sensitivity=1]\n",
      "100%|██████████| 15/15 [00:06<00:00,  2.35it/s, val_loss=0.746, val_iou=1, val_dice=1, val_sensitivity=1]\n"
     ]
    },
    {
     "name": "stdout",
     "output_type": "stream",
     "text": [
      "Training Epoch 67/100,  Training BCE Loss: 0.7463,  Training DICE: 1.0000,  Training IOU: 1.0000,  Training Sensitivity: 1.0000,  Validation BCE Loss: 0.7460,  Validation DICE: 1.0000,  Validation IOU: 1.0000,  Validation Sensitivity: 1.0000\n"
     ]
    },
    {
     "name": "stderr",
     "output_type": "stream",
     "text": [
      "100%|██████████| 326/326 [06:47<00:00,  1.25s/it, loss=0.746, iou=1, dice=1, sensitivity=1]\n",
      "100%|██████████| 15/15 [00:06<00:00,  2.32it/s, val_loss=0.746, val_iou=1, val_dice=1, val_sensitivity=1]\n"
     ]
    },
    {
     "name": "stdout",
     "output_type": "stream",
     "text": [
      "Training Epoch 68/100,  Training BCE Loss: 0.7460,  Training DICE: 1.0000,  Training IOU: 1.0000,  Training Sensitivity: 1.0000,  Validation BCE Loss: 0.7460,  Validation DICE: 1.0000,  Validation IOU: 1.0000,  Validation Sensitivity: 1.0000\n"
     ]
    },
    {
     "name": "stderr",
     "output_type": "stream",
     "text": [
      " 76%|███████▋  | 249/326 [05:11<01:35,  1.25s/it, loss=0.746, iou=1, dice=1, sensitivity=1]"
     ]
    }
   ],
   "source": [
    "log = pd.DataFrame(index=[], columns=['epoch','lr','loss','iou','dice','sensitivity','val_loss','val_iou'])\n",
    "\n",
    "best_dice = 0\n",
    "trigger = 0\n",
    "\n",
    "for epoch in range(epochs):\n",
    "\n",
    "    #Model Training\n",
    "    avg_meters = {'loss': AverageMeter(), 'iou': AverageMeter(), 'dice': AverageMeter(), 'sensitivity': AverageMeter()}\n",
    "    model.train()\n",
    "    pbar = tqdm(total=len(train_loader)) #progress bar\n",
    "\n",
    "    for i, data in enumerate(train_loader):\n",
    "\n",
    "        input = data[0].cuda()\n",
    "        target = data[1].cuda()\n",
    "        output = model(input)\n",
    "\n",
    "        #Get loss and metric\n",
    "        loss = criterion(output, torch.argmax(target, dim=1))\n",
    "        iou = iou_score_multiclass(output, target, n_classes=4)\n",
    "        dice = dice_coef_multiclass(output, target, n_classes=4)\n",
    "        sensitivity = sensitivity_metric_multiclass(output, target)\n",
    "\n",
    "        #Calculate the gradient and perform optimizing step\n",
    "        optimizer.zero_grad()\n",
    "        loss.backward()\n",
    "        optimizer.step()\n",
    "\n",
    "        #Update average metrics\n",
    "        avg_meters['loss'].update(loss.item(), input.size(0))\n",
    "        avg_meters['iou'].update(iou, input.size(0))\n",
    "        avg_meters['dice'].update(dice, input.size(0))\n",
    "        avg_meters['sensitivity'].update(sensitivity, input.size(0))\n",
    "\n",
    "        postfix = OrderedDict([\n",
    "            ('loss', avg_meters['loss'].avg),\n",
    "            ('iou', avg_meters['iou'].avg),\n",
    "            ('dice', avg_meters['dice'].avg),\n",
    "            ('sensitivity', avg_meters['sensitivity'].avg)\n",
    "        ])\n",
    "        pbar.set_postfix(postfix)\n",
    "        pbar.update(1)\n",
    "    pbar.close()\n",
    "\n",
    "    train_log = OrderedDict([\n",
    "        ('loss', avg_meters['loss'].avg),\n",
    "        ('iou', avg_meters['iou'].avg),\n",
    "        ('dice', avg_meters['dice'].avg),\n",
    "        ('sensitivity', avg_meters['sensitivity'].avg)\n",
    "    ])\n",
    "\n",
    "\n",
    "    #Model Validation\n",
    "    val_avg_meters = {'val_loss': AverageMeter(), 'val_iou': AverageMeter(), 'val_dice': AverageMeter(), 'val_sensitivity': AverageMeter()}\n",
    "    model.eval()\n",
    "\n",
    "    with torch.no_grad():\n",
    "        val_pbar = tqdm(total=len(val_loader))\n",
    "        for i, val_data in enumerate(val_loader):\n",
    "\n",
    "            val_input = val_data[0].cuda()\n",
    "            val_target = val_data[1].cuda()\n",
    "            val_output = model(val_input)\n",
    "\n",
    "            val_loss = criterion(val_output, torch.argmax(val_target, dim=1))\n",
    "            val_iou = iou_score_multiclass(val_output, val_target, n_classes=4)\n",
    "            val_dice = dice_coef_multiclass(val_output, val_target, n_classes=4)\n",
    "            val_sensitivity = sensitivity_metric_multiclass(val_output, val_target)\n",
    "\n",
    "            val_avg_meters['val_loss'].update(val_loss.item(), val_input.size(0))\n",
    "            val_avg_meters['val_iou'].update(val_iou, val_input.size(0))\n",
    "            val_avg_meters['val_dice'].update(val_dice, val_input.size(0))\n",
    "            val_avg_meters['val_sensitivity'].update(val_sensitivity, val_input.size(0))\n",
    "\n",
    "            val_postfix = OrderedDict([\n",
    "                ('val_loss', val_avg_meters['val_loss'].avg),\n",
    "                ('val_iou', val_avg_meters['val_iou'].avg),\n",
    "                ('val_dice', val_avg_meters['val_dice'].avg),\n",
    "                ('val_sensitivity', val_avg_meters['val_sensitivity'].avg)\n",
    "            ])\n",
    "            val_pbar.set_postfix(val_postfix)\n",
    "            val_pbar.update(1)\n",
    "        val_pbar.close()\n",
    "\n",
    "    val_log = OrderedDict([\n",
    "        ('val_loss', val_avg_meters['val_loss'].avg),\n",
    "        ('val_iou', val_avg_meters['val_iou'].avg),\n",
    "        ('val_dice', val_avg_meters['val_dice'].avg),\n",
    "        ('val_sensitivity', val_avg_meters['val_sensitivity'].avg)\n",
    "    ])\n",
    "    \n",
    "\n",
    "    print('Training Epoch {}/{},  Training BCE Loss: {:.4f},  Training DICE: {:.4f},  Training IOU: {:.4f},  Training Sensitivity: {:.4f},  Validation BCE Loss: {:.4f},  Validation DICE: {:.4f},  Validation IOU: {:.4f},  Validation Sensitivity: {:.4f}'.format(\n",
    "        epoch+1, epochs, train_log['loss'], train_log['dice'], train_log['iou'], train_log['sensitivity'], val_log['val_loss'], val_log['val_dice'], val_log['val_iou'], val_log['val_sensitivity']\n",
    "    ))\n",
    "\n",
    "    #Save values to csv file\n",
    "    tmp = pd.Series([\n",
    "        epoch,\n",
    "        lr,\n",
    "        train_log['loss'],\n",
    "        train_log['iou'],\n",
    "        train_log['dice'],\n",
    "        val_log['val_loss'],\n",
    "        val_log['val_iou'],\n",
    "        val_log['val_dice'],\n",
    "        val_log['val_sensitivity']\n",
    "    ], index=['epoch', 'lr', 'loss', 'iou', 'dice', 'val_loss', 'val_iou', 'val_dice', 'val_sensitivity'])\n",
    "\n",
    "    log = log.append(tmp, ignore_index=True)\n",
    "    log.to_csv('model_outputs/{}/log_A2.csv'.format(file_name), index=False)\n",
    "\n",
    "    trigger += 1\n",
    "\n",
    "    #If best DICE score, save the model\n",
    "    if val_log['val_dice'] > best_dice:\n",
    "        torch.save(model.state_dict(), 'model_outputs/{}/model_A2.pth'.format(file_name))\n",
    "        best_dice = val_log['val_dice']\n",
    "        print(\"Saved new best model based on DICE metric!\")\n",
    "        trigger = 0\n",
    "    \n",
    "    if early_stopping >= 0 and trigger >= early_stopping:\n",
    "        print(\"Early stopping.\")\n",
    "        break\n",
    "\n",
    "    torch.cuda.empty_cache()"
   ]
  },
  {
   "cell_type": "code",
   "execution_count": null,
   "metadata": {
    "executionInfo": {
     "elapsed": 12,
     "status": "aborted",
     "timestamp": 1665857990900,
     "user": {
      "displayName": "Joseph Portugal",
      "userId": "10660391166494605576"
     },
     "user_tz": -480
    },
    "id": "fPuk2P8ixSn1"
   },
   "outputs": [],
   "source": []
  }
 ],
 "metadata": {
  "accelerator": "GPU",
  "colab": {
   "collapsed_sections": [],
   "provenance": [
    {
     "file_id": "1NMVPx_UbhEFBqr9_1Q43e1ttX-lUq_Q1",
     "timestamp": 1665470126399
    }
   ]
  },
  "interpreter": {
   "hash": "cb56554e22e7015c8034fdf988622508a740e712e9b2a73e8d246c741229446d"
  },
  "kernelspec": {
   "display_name": "Python 3 (ipykernel)",
   "language": "python",
   "name": "python3"
  },
  "language_info": {
   "codemirror_mode": {
    "name": "ipython",
    "version": 3
   },
   "file_extension": ".py",
   "mimetype": "text/x-python",
   "name": "python",
   "nbconvert_exporter": "python",
   "pygments_lexer": "ipython3",
   "version": "3.9.7"
  }
 },
 "nbformat": 4,
 "nbformat_minor": 1
}
